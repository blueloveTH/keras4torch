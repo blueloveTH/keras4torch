{
 "metadata": {
  "language_info": {
   "codemirror_mode": {
    "name": "ipython",
    "version": 3
   },
   "file_extension": ".py",
   "mimetype": "text/x-python",
   "name": "python",
   "nbconvert_exporter": "python",
   "pygments_lexer": "ipython3",
   "version": "3.7.8-final"
  },
  "orig_nbformat": 2,
  "kernelspec": {
   "name": "python37864bittfmainvenve0df5363eb3245e9a6259470975b9896",
   "display_name": "Python 3.7.8 64-bit ('tf_main': venv)"
  }
 },
 "nbformat": 4,
 "nbformat_minor": 2,
 "cells": [
  {
   "cell_type": "code",
   "execution_count": null,
   "metadata": {},
   "outputs": [],
   "source": [
    "import tensorflow as tf\n",
    "from tensorflow import keras"
   ]
  },
  {
   "cell_type": "code",
   "execution_count": 7,
   "metadata": {},
   "outputs": [
    {
     "output_type": "execute_result",
     "data": {
      "text/plain": [
       "\"Saves all layer weights.\\n\\n    Either saves in HDF5 or in TensorFlow format based on the `save_format`\\n    argument.\\n\\n    When saving in HDF5 format, the weight file has:\\n      - `layer_names` (attribute), a list of strings\\n          (ordered names of model layers).\\n      - For every layer, a `group` named `layer.name`\\n          - For every such layer group, a group attribute `weight_names`,\\n              a list of strings\\n              (ordered names of weights tensor of the layer).\\n          - For every weight in the layer, a dataset\\n              storing the weight value, named after the weight tensor.\\n\\n    When saving in TensorFlow format, all objects referenced by the network are\\n    saved in the same format as `tf.train.Checkpoint`, including any `Layer`\\n    instances or `Optimizer` instances assigned to object attributes. For\\n    networks constructed from inputs and outputs using `tf.keras.Model(inputs,\\n    outputs)`, `Layer` instances used by the network are tracked/saved\\n    automatically. For user-defined classes which inherit from `tf.keras.Model`,\\n    `Layer` instances must be assigned to object attributes, typically in the\\n    constructor. See the documentation of `tf.train.Checkpoint` and\\n    `tf.keras.Model` for details.\\n\\n    While the formats are the same, do not mix `save_weights` and\\n    `tf.train.Checkpoint`. Checkpoints saved by `Model.save_weights` should be\\n    loaded using `Model.load_weights`. Checkpoints saved using\\n    `tf.train.Checkpoint.save` should be restored using the corresponding\\n    `tf.train.Checkpoint.restore`. Prefer `tf.train.Checkpoint` over\\n    `save_weights` for training checkpoints.\\n\\n    The TensorFlow format matches objects and variables by starting at a root\\n    object, `self` for `save_weights`, and greedily matching attribute\\n    names. For `Model.save` this is the `Model`, and for `Checkpoint.save` this\\n    is the `Checkpoint` even if the `Checkpoint` has a model attached. This\\n    means saving a `tf.keras.Model` using `save_weights` and loading into a\\n    `tf.train.Checkpoint` with a `Model` attached (or vice versa) will not match\\n    the `Model`'s variables. See the [guide to training\\n    checkpoints](https://www.tensorflow.org/guide/checkpoint) for details\\n    on the TensorFlow format.\\n\\n    Arguments:\\n        filepath: String, path to the file to save the weights to. When saving\\n            in TensorFlow format, this is the prefix used for checkpoint files\\n            (multiple files are generated). Note that the '.h5' suffix causes\\n            weights to be saved in HDF5 format.\\n        overwrite: Whether to silently overwrite any existing file at the\\n            target location, or provide the user with a manual prompt.\\n        save_format: Either 'tf' or 'h5'. A `filepath` ending in '.h5' or\\n            '.keras' will default to HDF5 if `save_format` is `None`. Otherwise\\n            `None` defaults to 'tf'.\\n\\n    Raises:\\n        ImportError: If h5py is not available when attempting to save in HDF5\\n            format.\\n        ValueError: For invalid/unknown format arguments.\\n    \""
      ]
     },
     "metadata": {},
     "execution_count": 7
    }
   ],
   "source": [
    "model = keras.Sequential()\n",
    "\n",
    "model.save"
   ]
  },
  {
   "cell_type": "code",
   "execution_count": null,
   "metadata": {},
   "outputs": [],
   "source": []
  }
 ]
}