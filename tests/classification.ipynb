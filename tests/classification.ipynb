{
 "metadata": {
  "language_info": {
   "codemirror_mode": {
    "name": "ipython",
    "version": 3
   },
   "file_extension": ".py",
   "mimetype": "text/x-python",
   "name": "python",
   "nbconvert_exporter": "python",
   "pygments_lexer": "ipython3",
   "version": "3.7.8-final"
  },
  "orig_nbformat": 2,
  "kernelspec": {
   "name": "Python 3.7.8 64-bit ('kesci_compete')",
   "display_name": "Python 3.7.8 64-bit ('kesci_compete')",
   "metadata": {
    "interpreter": {
     "hash": "8dc6728e8885f5cf3d484bdac908677760b39a28192ba674e6f789c8dc6420a9"
    }
   }
  }
 },
 "nbformat": 4,
 "nbformat_minor": 2,
 "cells": [
  {
   "cell_type": "code",
   "execution_count": 1,
   "metadata": {},
   "outputs": [],
   "source": [
    "import sys\n",
    "\n",
    "sys.path.append('../')\n",
    "\n",
    "import keras4torch as k4t\n",
    "import torch\n",
    "from torch import nn\n",
    "from sklearn.datasets import load_iris\n",
    "import numpy as np\n",
    "from keras4torch.metrics import accuracy"
   ]
  },
  {
   "cell_type": "code",
   "execution_count": 2,
   "metadata": {},
   "outputs": [],
   "source": [
    "X, y = load_iris(return_X_y=True)\n",
    "X = X.astype(np.float32)\n",
    "y = y.astype(np.int64)"
   ]
  },
  {
   "cell_type": "code",
   "execution_count": 3,
   "metadata": {},
   "outputs": [],
   "source": [
    "model = nn.Sequential(\n",
    "    nn.Linear(4, 128), nn.ReLU(),\n",
    "    nn.Sequential(\n",
    "        nn.Linear(128, 64), nn.ReLU()\n",
    "    ),\n",
    "    nn.Linear(64, 3)\n",
    ")\n",
    "\n",
    "model = k4t.Model(model)"
   ]
  },
  {
   "cell_type": "code",
   "execution_count": 4,
   "metadata": {},
   "outputs": [],
   "source": [
    "model.compile(optimizer=torch.optim.Adam(model.parameters(), lr=3e-4),\n",
    "                loss=nn.CrossEntropyLoss(),\n",
    "                metrics={'acc': accuracy},\n",
    "                )"
   ]
  },
  {
   "cell_type": "code",
   "execution_count": 5,
   "metadata": {},
   "outputs": [
    {
     "output_type": "stream",
     "name": "stdout",
     "text": [
      "==========================================================================================\nLayer (type:depth-idx)                   Output Shape              Param #\n==========================================================================================\n├─Linear: 1-1                            [-1, 128]                 640\n├─ReLU: 1-2                              [-1, 128]                 --\n├─Sequential: 1-3                        [-1, 64]                  --\n|    └─Linear: 2-1                       [-1, 64]                  8,256\n|    └─ReLU: 2-2                         [-1, 64]                  --\n├─Linear: 1-4                            [-1, 3]                   195\n==========================================================================================\nTotal params: 9,091\nTrainable params: 9,091\nNon-trainable params: 0\nTotal mult-adds (M): 0.02\n==========================================================================================\nInput size (MB): 0.00\nForward/backward pass size (MB): 0.00\nParams size (MB): 0.03\nEstimated Total Size (MB): 0.04\n==========================================================================================\n"
     ]
    }
   ],
   "source": [
    "model.summary(input_shape=[4])"
   ]
  },
  {
   "cell_type": "code",
   "execution_count": 6,
   "metadata": {},
   "outputs": [
    {
     "output_type": "stream",
     "name": "stdout",
     "text": [
      "Train on 120 samples, validate on 30 samples:\n",
      "1\n",
      "Epoch 1/15 - 0.0s - loss: 1.1091 - acc: 0.3281 - val_loss: 1.1187 - val_acc: 0.3333 - lr: 3e-04\n",
      "2\n",
      "Epoch 2/15 - 0.0s - loss: 1.0629 - acc: 0.3411 - val_loss: 1.0783 - val_acc: 0.3333 - lr: 3e-04\n",
      "3\n",
      "Epoch 3/15 - 0.0s - loss: 1.0337 - acc: 0.3411 - val_loss: 1.0498 - val_acc: 0.3333 - lr: 3e-04\n",
      "4\n",
      "Epoch 4/15 - 0.0s - loss: 1.0132 - acc: 0.3359 - val_loss: 1.0264 - val_acc: 0.3333 - lr: 3e-04\n",
      "5\n",
      "Epoch 5/15 - 0.0s - loss: 0.9926 - acc: 0.3255 - val_loss: 1.0026 - val_acc: 0.3333 - lr: 3e-04\n",
      "6\n",
      "Epoch 6/15 - 0.0s - loss: 0.9678 - acc: 0.3438 - val_loss: 0.9824 - val_acc: 0.3333 - lr: 3e-04\n",
      "7\n",
      "Epoch 7/15 - 0.0s - loss: 0.9489 - acc: 0.4818 - val_loss: 0.9605 - val_acc: 0.4333 - lr: 3e-04\n",
      "8\n",
      "Epoch 8/15 - 0.0s - loss: 0.9273 - acc: 0.6328 - val_loss: 0.9391 - val_acc: 0.6000 - lr: 3e-04\n",
      "9\n",
      "Epoch 9/15 - 0.0s - loss: 0.9090 - acc: 0.6562 - val_loss: 0.9205 - val_acc: 0.7000 - lr: 3e-04\n",
      "10\n",
      "Epoch 10/15 - 0.0s - loss: 0.8905 - acc: 0.6615 - val_loss: 0.8980 - val_acc: 0.7000 - lr: 3e-04\n",
      "11\n",
      "Epoch 11/15 - 0.0s - loss: 0.8683 - acc: 0.6693 - val_loss: 0.8777 - val_acc: 0.7000 - lr: 3e-04\n",
      "12\n",
      "Epoch 12/15 - 0.0s - loss: 0.8518 - acc: 0.6562 - val_loss: 0.8569 - val_acc: 0.7000 - lr: 3e-04\n",
      "13\n",
      "Epoch 13/15 - 0.0s - loss: 0.8320 - acc: 0.6589 - val_loss: 0.8366 - val_acc: 0.7000 - lr: 3e-04\n",
      "14\n",
      "Epoch 14/15 - 0.0s - loss: 0.8113 - acc: 0.6667 - val_loss: 0.8169 - val_acc: 0.7000 - lr: 3e-04\n",
      "15\n",
      "Epoch 15/15 - 0.0s - loss: 0.7928 - acc: 0.6589 - val_loss: 0.7967 - val_acc: 0.7000 - lr: 3e-04\n"
     ]
    }
   ],
   "source": [
    "def f(trainer):\n",
    "    print(trainer.epoch)\n",
    "\n",
    "history = model.fit(X, y,\n",
    "            epochs=15,\n",
    "            validation_split=0.2,\n",
    "            shuffle_val_split=True,\n",
    "            callbacks={'on_epoch_start': f}\n",
    "            )"
   ]
  },
  {
   "cell_type": "code",
   "execution_count": 7,
   "metadata": {},
   "outputs": [
    {
     "output_type": "execute_result",
     "data": {
      "text/plain": [
       "<AxesSubplot:>"
      ]
     },
     "metadata": {},
     "execution_count": 7
    },
    {
     "output_type": "display_data",
     "data": {
      "text/plain": "<Figure size 432x288 with 1 Axes>",
      "image/svg+xml": "<?xml version=\"1.0\" encoding=\"utf-8\" standalone=\"no\"?>\r\n<!DOCTYPE svg PUBLIC \"-//W3C//DTD SVG 1.1//EN\"\r\n  \"http://www.w3.org/Graphics/SVG/1.1/DTD/svg11.dtd\">\r\n<!-- Created with matplotlib (https://matplotlib.org/) -->\r\n<svg height=\"248.518125pt\" version=\"1.1\" viewBox=\"0 0 378.465625 248.518125\" width=\"378.465625pt\" xmlns=\"http://www.w3.org/2000/svg\" xmlns:xlink=\"http://www.w3.org/1999/xlink\">\r\n <metadata>\r\n  <rdf:RDF xmlns:cc=\"http://creativecommons.org/ns#\" xmlns:dc=\"http://purl.org/dc/elements/1.1/\" xmlns:rdf=\"http://www.w3.org/1999/02/22-rdf-syntax-ns#\">\r\n   <cc:Work>\r\n    <dc:type rdf:resource=\"http://purl.org/dc/dcmitype/StillImage\"/>\r\n    <dc:date>2020-10-11T17:43:58.479573</dc:date>\r\n    <dc:format>image/svg+xml</dc:format>\r\n    <dc:creator>\r\n     <cc:Agent>\r\n      <dc:title>Matplotlib v3.3.1, https://matplotlib.org/</dc:title>\r\n     </cc:Agent>\r\n    </dc:creator>\r\n   </cc:Work>\r\n  </rdf:RDF>\r\n </metadata>\r\n <defs>\r\n  <style type=\"text/css\">*{stroke-linecap:butt;stroke-linejoin:round;}</style>\r\n </defs>\r\n <g id=\"figure_1\">\r\n  <g id=\"patch_1\">\r\n   <path d=\"M 0 248.518125 \r\nL 378.465625 248.518125 \r\nL 378.465625 0 \r\nL 0 0 \r\nz\r\n\" style=\"fill:none;\"/>\r\n  </g>\r\n  <g id=\"axes_1\">\r\n   <g id=\"patch_2\">\r\n    <path d=\"M 36.465625 224.64 \r\nL 371.265625 224.64 \r\nL 371.265625 7.2 \r\nL 36.465625 7.2 \r\nz\r\n\" style=\"fill:#ffffff;\"/>\r\n   </g>\r\n   <g id=\"matplotlib.axis_1\">\r\n    <g id=\"xtick_1\">\r\n     <g id=\"line2d_1\">\r\n      <defs>\r\n       <path d=\"M 0 0 \r\nL 0 3.5 \r\n\" id=\"m5c1a481ac5\" style=\"stroke:#000000;stroke-width:0.8;\"/>\r\n      </defs>\r\n      <g>\r\n       <use style=\"stroke:#000000;stroke-width:0.8;\" x=\"73.424067\" xlink:href=\"#m5c1a481ac5\" y=\"224.64\"/>\r\n      </g>\r\n     </g>\r\n     <g id=\"text_1\">\r\n      <!-- 2 -->\r\n      <g transform=\"translate(70.242817 239.238437)scale(0.1 -0.1)\">\r\n       <defs>\r\n        <path d=\"M 19.1875 8.296875 \r\nL 53.609375 8.296875 \r\nL 53.609375 0 \r\nL 7.328125 0 \r\nL 7.328125 8.296875 \r\nQ 12.9375 14.109375 22.625 23.890625 \r\nQ 32.328125 33.6875 34.8125 36.53125 \r\nQ 39.546875 41.84375 41.421875 45.53125 \r\nQ 43.3125 49.21875 43.3125 52.78125 \r\nQ 43.3125 58.59375 39.234375 62.25 \r\nQ 35.15625 65.921875 28.609375 65.921875 \r\nQ 23.96875 65.921875 18.8125 64.3125 \r\nQ 13.671875 62.703125 7.8125 59.421875 \r\nL 7.8125 69.390625 \r\nQ 13.765625 71.78125 18.9375 73 \r\nQ 24.125 74.21875 28.421875 74.21875 \r\nQ 39.75 74.21875 46.484375 68.546875 \r\nQ 53.21875 62.890625 53.21875 53.421875 \r\nQ 53.21875 48.921875 51.53125 44.890625 \r\nQ 49.859375 40.875 45.40625 35.40625 \r\nQ 44.1875 33.984375 37.640625 27.21875 \r\nQ 31.109375 20.453125 19.1875 8.296875 \r\nz\r\n\" id=\"DejaVuSans-50\"/>\r\n       </defs>\r\n       <use xlink:href=\"#DejaVuSans-50\"/>\r\n      </g>\r\n     </g>\r\n    </g>\r\n    <g id=\"xtick_2\">\r\n     <g id=\"line2d_2\">\r\n      <g>\r\n       <use style=\"stroke:#000000;stroke-width:0.8;\" x=\"116.904586\" xlink:href=\"#m5c1a481ac5\" y=\"224.64\"/>\r\n      </g>\r\n     </g>\r\n     <g id=\"text_2\">\r\n      <!-- 4 -->\r\n      <g transform=\"translate(113.723336 239.238437)scale(0.1 -0.1)\">\r\n       <defs>\r\n        <path d=\"M 37.796875 64.3125 \r\nL 12.890625 25.390625 \r\nL 37.796875 25.390625 \r\nz\r\nM 35.203125 72.90625 \r\nL 47.609375 72.90625 \r\nL 47.609375 25.390625 \r\nL 58.015625 25.390625 \r\nL 58.015625 17.1875 \r\nL 47.609375 17.1875 \r\nL 47.609375 0 \r\nL 37.796875 0 \r\nL 37.796875 17.1875 \r\nL 4.890625 17.1875 \r\nL 4.890625 26.703125 \r\nz\r\n\" id=\"DejaVuSans-52\"/>\r\n       </defs>\r\n       <use xlink:href=\"#DejaVuSans-52\"/>\r\n      </g>\r\n     </g>\r\n    </g>\r\n    <g id=\"xtick_3\">\r\n     <g id=\"line2d_3\">\r\n      <g>\r\n       <use style=\"stroke:#000000;stroke-width:0.8;\" x=\"160.385106\" xlink:href=\"#m5c1a481ac5\" y=\"224.64\"/>\r\n      </g>\r\n     </g>\r\n     <g id=\"text_3\">\r\n      <!-- 6 -->\r\n      <g transform=\"translate(157.203856 239.238437)scale(0.1 -0.1)\">\r\n       <defs>\r\n        <path d=\"M 33.015625 40.375 \r\nQ 26.375 40.375 22.484375 35.828125 \r\nQ 18.609375 31.296875 18.609375 23.390625 \r\nQ 18.609375 15.53125 22.484375 10.953125 \r\nQ 26.375 6.390625 33.015625 6.390625 \r\nQ 39.65625 6.390625 43.53125 10.953125 \r\nQ 47.40625 15.53125 47.40625 23.390625 \r\nQ 47.40625 31.296875 43.53125 35.828125 \r\nQ 39.65625 40.375 33.015625 40.375 \r\nz\r\nM 52.59375 71.296875 \r\nL 52.59375 62.3125 \r\nQ 48.875 64.0625 45.09375 64.984375 \r\nQ 41.3125 65.921875 37.59375 65.921875 \r\nQ 27.828125 65.921875 22.671875 59.328125 \r\nQ 17.53125 52.734375 16.796875 39.40625 \r\nQ 19.671875 43.65625 24.015625 45.921875 \r\nQ 28.375 48.1875 33.59375 48.1875 \r\nQ 44.578125 48.1875 50.953125 41.515625 \r\nQ 57.328125 34.859375 57.328125 23.390625 \r\nQ 57.328125 12.15625 50.6875 5.359375 \r\nQ 44.046875 -1.421875 33.015625 -1.421875 \r\nQ 20.359375 -1.421875 13.671875 8.265625 \r\nQ 6.984375 17.96875 6.984375 36.375 \r\nQ 6.984375 53.65625 15.1875 63.9375 \r\nQ 23.390625 74.21875 37.203125 74.21875 \r\nQ 40.921875 74.21875 44.703125 73.484375 \r\nQ 48.484375 72.75 52.59375 71.296875 \r\nz\r\n\" id=\"DejaVuSans-54\"/>\r\n       </defs>\r\n       <use xlink:href=\"#DejaVuSans-54\"/>\r\n      </g>\r\n     </g>\r\n    </g>\r\n    <g id=\"xtick_4\">\r\n     <g id=\"line2d_4\">\r\n      <g>\r\n       <use style=\"stroke:#000000;stroke-width:0.8;\" x=\"203.865625\" xlink:href=\"#m5c1a481ac5\" y=\"224.64\"/>\r\n      </g>\r\n     </g>\r\n     <g id=\"text_4\">\r\n      <!-- 8 -->\r\n      <g transform=\"translate(200.684375 239.238437)scale(0.1 -0.1)\">\r\n       <defs>\r\n        <path d=\"M 31.78125 34.625 \r\nQ 24.75 34.625 20.71875 30.859375 \r\nQ 16.703125 27.09375 16.703125 20.515625 \r\nQ 16.703125 13.921875 20.71875 10.15625 \r\nQ 24.75 6.390625 31.78125 6.390625 \r\nQ 38.8125 6.390625 42.859375 10.171875 \r\nQ 46.921875 13.96875 46.921875 20.515625 \r\nQ 46.921875 27.09375 42.890625 30.859375 \r\nQ 38.875 34.625 31.78125 34.625 \r\nz\r\nM 21.921875 38.8125 \r\nQ 15.578125 40.375 12.03125 44.71875 \r\nQ 8.5 49.078125 8.5 55.328125 \r\nQ 8.5 64.0625 14.71875 69.140625 \r\nQ 20.953125 74.21875 31.78125 74.21875 \r\nQ 42.671875 74.21875 48.875 69.140625 \r\nQ 55.078125 64.0625 55.078125 55.328125 \r\nQ 55.078125 49.078125 51.53125 44.71875 \r\nQ 48 40.375 41.703125 38.8125 \r\nQ 48.828125 37.15625 52.796875 32.3125 \r\nQ 56.78125 27.484375 56.78125 20.515625 \r\nQ 56.78125 9.90625 50.3125 4.234375 \r\nQ 43.84375 -1.421875 31.78125 -1.421875 \r\nQ 19.734375 -1.421875 13.25 4.234375 \r\nQ 6.78125 9.90625 6.78125 20.515625 \r\nQ 6.78125 27.484375 10.78125 32.3125 \r\nQ 14.796875 37.15625 21.921875 38.8125 \r\nz\r\nM 18.3125 54.390625 \r\nQ 18.3125 48.734375 21.84375 45.5625 \r\nQ 25.390625 42.390625 31.78125 42.390625 \r\nQ 38.140625 42.390625 41.71875 45.5625 \r\nQ 45.3125 48.734375 45.3125 54.390625 \r\nQ 45.3125 60.0625 41.71875 63.234375 \r\nQ 38.140625 66.40625 31.78125 66.40625 \r\nQ 25.390625 66.40625 21.84375 63.234375 \r\nQ 18.3125 60.0625 18.3125 54.390625 \r\nz\r\n\" id=\"DejaVuSans-56\"/>\r\n       </defs>\r\n       <use xlink:href=\"#DejaVuSans-56\"/>\r\n      </g>\r\n     </g>\r\n    </g>\r\n    <g id=\"xtick_5\">\r\n     <g id=\"line2d_5\">\r\n      <g>\r\n       <use style=\"stroke:#000000;stroke-width:0.8;\" x=\"247.346144\" xlink:href=\"#m5c1a481ac5\" y=\"224.64\"/>\r\n      </g>\r\n     </g>\r\n     <g id=\"text_5\">\r\n      <!-- 10 -->\r\n      <g transform=\"translate(240.983644 239.238437)scale(0.1 -0.1)\">\r\n       <defs>\r\n        <path d=\"M 12.40625 8.296875 \r\nL 28.515625 8.296875 \r\nL 28.515625 63.921875 \r\nL 10.984375 60.40625 \r\nL 10.984375 69.390625 \r\nL 28.421875 72.90625 \r\nL 38.28125 72.90625 \r\nL 38.28125 8.296875 \r\nL 54.390625 8.296875 \r\nL 54.390625 0 \r\nL 12.40625 0 \r\nz\r\n\" id=\"DejaVuSans-49\"/>\r\n        <path d=\"M 31.78125 66.40625 \r\nQ 24.171875 66.40625 20.328125 58.90625 \r\nQ 16.5 51.421875 16.5 36.375 \r\nQ 16.5 21.390625 20.328125 13.890625 \r\nQ 24.171875 6.390625 31.78125 6.390625 \r\nQ 39.453125 6.390625 43.28125 13.890625 \r\nQ 47.125 21.390625 47.125 36.375 \r\nQ 47.125 51.421875 43.28125 58.90625 \r\nQ 39.453125 66.40625 31.78125 66.40625 \r\nz\r\nM 31.78125 74.21875 \r\nQ 44.046875 74.21875 50.515625 64.515625 \r\nQ 56.984375 54.828125 56.984375 36.375 \r\nQ 56.984375 17.96875 50.515625 8.265625 \r\nQ 44.046875 -1.421875 31.78125 -1.421875 \r\nQ 19.53125 -1.421875 13.0625 8.265625 \r\nQ 6.59375 17.96875 6.59375 36.375 \r\nQ 6.59375 54.828125 13.0625 64.515625 \r\nQ 19.53125 74.21875 31.78125 74.21875 \r\nz\r\n\" id=\"DejaVuSans-48\"/>\r\n       </defs>\r\n       <use xlink:href=\"#DejaVuSans-49\"/>\r\n       <use x=\"63.623047\" xlink:href=\"#DejaVuSans-48\"/>\r\n      </g>\r\n     </g>\r\n    </g>\r\n    <g id=\"xtick_6\">\r\n     <g id=\"line2d_6\">\r\n      <g>\r\n       <use style=\"stroke:#000000;stroke-width:0.8;\" x=\"290.826664\" xlink:href=\"#m5c1a481ac5\" y=\"224.64\"/>\r\n      </g>\r\n     </g>\r\n     <g id=\"text_6\">\r\n      <!-- 12 -->\r\n      <g transform=\"translate(284.464164 239.238437)scale(0.1 -0.1)\">\r\n       <use xlink:href=\"#DejaVuSans-49\"/>\r\n       <use x=\"63.623047\" xlink:href=\"#DejaVuSans-50\"/>\r\n      </g>\r\n     </g>\r\n    </g>\r\n    <g id=\"xtick_7\">\r\n     <g id=\"line2d_7\">\r\n      <g>\r\n       <use style=\"stroke:#000000;stroke-width:0.8;\" x=\"334.307183\" xlink:href=\"#m5c1a481ac5\" y=\"224.64\"/>\r\n      </g>\r\n     </g>\r\n     <g id=\"text_7\">\r\n      <!-- 14 -->\r\n      <g transform=\"translate(327.944683 239.238437)scale(0.1 -0.1)\">\r\n       <use xlink:href=\"#DejaVuSans-49\"/>\r\n       <use x=\"63.623047\" xlink:href=\"#DejaVuSans-52\"/>\r\n      </g>\r\n     </g>\r\n    </g>\r\n   </g>\r\n   <g id=\"matplotlib.axis_2\">\r\n    <g id=\"ytick_1\">\r\n     <g id=\"line2d_8\">\r\n      <defs>\r\n       <path d=\"M 0 0 \r\nL -3.5 0 \r\n\" id=\"m61b3024ee4\" style=\"stroke:#000000;stroke-width:0.8;\"/>\r\n      </defs>\r\n      <g>\r\n       <use style=\"stroke:#000000;stroke-width:0.8;\" x=\"36.465625\" xlink:href=\"#m61b3024ee4\" y=\"210.393475\"/>\r\n      </g>\r\n     </g>\r\n     <g id=\"text_8\">\r\n      <!-- 0.80 -->\r\n      <g transform=\"translate(7.2 214.192694)scale(0.1 -0.1)\">\r\n       <defs>\r\n        <path d=\"M 10.6875 12.40625 \r\nL 21 12.40625 \r\nL 21 0 \r\nL 10.6875 0 \r\nz\r\n\" id=\"DejaVuSans-46\"/>\r\n       </defs>\r\n       <use xlink:href=\"#DejaVuSans-48\"/>\r\n       <use x=\"63.623047\" xlink:href=\"#DejaVuSans-46\"/>\r\n       <use x=\"95.410156\" xlink:href=\"#DejaVuSans-56\"/>\r\n       <use x=\"159.033203\" xlink:href=\"#DejaVuSans-48\"/>\r\n      </g>\r\n     </g>\r\n    </g>\r\n    <g id=\"ytick_2\">\r\n     <g id=\"line2d_9\">\r\n      <g>\r\n       <use style=\"stroke:#000000;stroke-width:0.8;\" x=\"36.465625\" xlink:href=\"#m61b3024ee4\" y=\"180.065722\"/>\r\n      </g>\r\n     </g>\r\n     <g id=\"text_9\">\r\n      <!-- 0.85 -->\r\n      <g transform=\"translate(7.2 183.864941)scale(0.1 -0.1)\">\r\n       <defs>\r\n        <path d=\"M 10.796875 72.90625 \r\nL 49.515625 72.90625 \r\nL 49.515625 64.59375 \r\nL 19.828125 64.59375 \r\nL 19.828125 46.734375 \r\nQ 21.96875 47.46875 24.109375 47.828125 \r\nQ 26.265625 48.1875 28.421875 48.1875 \r\nQ 40.625 48.1875 47.75 41.5 \r\nQ 54.890625 34.8125 54.890625 23.390625 \r\nQ 54.890625 11.625 47.5625 5.09375 \r\nQ 40.234375 -1.421875 26.90625 -1.421875 \r\nQ 22.3125 -1.421875 17.546875 -0.640625 \r\nQ 12.796875 0.140625 7.71875 1.703125 \r\nL 7.71875 11.625 \r\nQ 12.109375 9.234375 16.796875 8.0625 \r\nQ 21.484375 6.890625 26.703125 6.890625 \r\nQ 35.15625 6.890625 40.078125 11.328125 \r\nQ 45.015625 15.765625 45.015625 23.390625 \r\nQ 45.015625 31 40.078125 35.4375 \r\nQ 35.15625 39.890625 26.703125 39.890625 \r\nQ 22.75 39.890625 18.8125 39.015625 \r\nQ 14.890625 38.140625 10.796875 36.28125 \r\nz\r\n\" id=\"DejaVuSans-53\"/>\r\n       </defs>\r\n       <use xlink:href=\"#DejaVuSans-48\"/>\r\n       <use x=\"63.623047\" xlink:href=\"#DejaVuSans-46\"/>\r\n       <use x=\"95.410156\" xlink:href=\"#DejaVuSans-56\"/>\r\n       <use x=\"159.033203\" xlink:href=\"#DejaVuSans-53\"/>\r\n      </g>\r\n     </g>\r\n    </g>\r\n    <g id=\"ytick_3\">\r\n     <g id=\"line2d_10\">\r\n      <g>\r\n       <use style=\"stroke:#000000;stroke-width:0.8;\" x=\"36.465625\" xlink:href=\"#m61b3024ee4\" y=\"149.737969\"/>\r\n      </g>\r\n     </g>\r\n     <g id=\"text_10\">\r\n      <!-- 0.90 -->\r\n      <g transform=\"translate(7.2 153.537187)scale(0.1 -0.1)\">\r\n       <defs>\r\n        <path d=\"M 10.984375 1.515625 \r\nL 10.984375 10.5 \r\nQ 14.703125 8.734375 18.5 7.8125 \r\nQ 22.3125 6.890625 25.984375 6.890625 \r\nQ 35.75 6.890625 40.890625 13.453125 \r\nQ 46.046875 20.015625 46.78125 33.40625 \r\nQ 43.953125 29.203125 39.59375 26.953125 \r\nQ 35.25 24.703125 29.984375 24.703125 \r\nQ 19.046875 24.703125 12.671875 31.3125 \r\nQ 6.296875 37.9375 6.296875 49.421875 \r\nQ 6.296875 60.640625 12.9375 67.421875 \r\nQ 19.578125 74.21875 30.609375 74.21875 \r\nQ 43.265625 74.21875 49.921875 64.515625 \r\nQ 56.59375 54.828125 56.59375 36.375 \r\nQ 56.59375 19.140625 48.40625 8.859375 \r\nQ 40.234375 -1.421875 26.421875 -1.421875 \r\nQ 22.703125 -1.421875 18.890625 -0.6875 \r\nQ 15.09375 0.046875 10.984375 1.515625 \r\nz\r\nM 30.609375 32.421875 \r\nQ 37.25 32.421875 41.125 36.953125 \r\nQ 45.015625 41.5 45.015625 49.421875 \r\nQ 45.015625 57.28125 41.125 61.84375 \r\nQ 37.25 66.40625 30.609375 66.40625 \r\nQ 23.96875 66.40625 20.09375 61.84375 \r\nQ 16.21875 57.28125 16.21875 49.421875 \r\nQ 16.21875 41.5 20.09375 36.953125 \r\nQ 23.96875 32.421875 30.609375 32.421875 \r\nz\r\n\" id=\"DejaVuSans-57\"/>\r\n       </defs>\r\n       <use xlink:href=\"#DejaVuSans-48\"/>\r\n       <use x=\"63.623047\" xlink:href=\"#DejaVuSans-46\"/>\r\n       <use x=\"95.410156\" xlink:href=\"#DejaVuSans-57\"/>\r\n       <use x=\"159.033203\" xlink:href=\"#DejaVuSans-48\"/>\r\n      </g>\r\n     </g>\r\n    </g>\r\n    <g id=\"ytick_4\">\r\n     <g id=\"line2d_11\">\r\n      <g>\r\n       <use style=\"stroke:#000000;stroke-width:0.8;\" x=\"36.465625\" xlink:href=\"#m61b3024ee4\" y=\"119.410215\"/>\r\n      </g>\r\n     </g>\r\n     <g id=\"text_11\">\r\n      <!-- 0.95 -->\r\n      <g transform=\"translate(7.2 123.209434)scale(0.1 -0.1)\">\r\n       <use xlink:href=\"#DejaVuSans-48\"/>\r\n       <use x=\"63.623047\" xlink:href=\"#DejaVuSans-46\"/>\r\n       <use x=\"95.410156\" xlink:href=\"#DejaVuSans-57\"/>\r\n       <use x=\"159.033203\" xlink:href=\"#DejaVuSans-53\"/>\r\n      </g>\r\n     </g>\r\n    </g>\r\n    <g id=\"ytick_5\">\r\n     <g id=\"line2d_12\">\r\n      <g>\r\n       <use style=\"stroke:#000000;stroke-width:0.8;\" x=\"36.465625\" xlink:href=\"#m61b3024ee4\" y=\"89.082462\"/>\r\n      </g>\r\n     </g>\r\n     <g id=\"text_12\">\r\n      <!-- 1.00 -->\r\n      <g transform=\"translate(7.2 92.881681)scale(0.1 -0.1)\">\r\n       <use xlink:href=\"#DejaVuSans-49\"/>\r\n       <use x=\"63.623047\" xlink:href=\"#DejaVuSans-46\"/>\r\n       <use x=\"95.410156\" xlink:href=\"#DejaVuSans-48\"/>\r\n       <use x=\"159.033203\" xlink:href=\"#DejaVuSans-48\"/>\r\n      </g>\r\n     </g>\r\n    </g>\r\n    <g id=\"ytick_6\">\r\n     <g id=\"line2d_13\">\r\n      <g>\r\n       <use style=\"stroke:#000000;stroke-width:0.8;\" x=\"36.465625\" xlink:href=\"#m61b3024ee4\" y=\"58.754709\"/>\r\n      </g>\r\n     </g>\r\n     <g id=\"text_13\">\r\n      <!-- 1.05 -->\r\n      <g transform=\"translate(7.2 62.553928)scale(0.1 -0.1)\">\r\n       <use xlink:href=\"#DejaVuSans-49\"/>\r\n       <use x=\"63.623047\" xlink:href=\"#DejaVuSans-46\"/>\r\n       <use x=\"95.410156\" xlink:href=\"#DejaVuSans-48\"/>\r\n       <use x=\"159.033203\" xlink:href=\"#DejaVuSans-53\"/>\r\n      </g>\r\n     </g>\r\n    </g>\r\n    <g id=\"ytick_7\">\r\n     <g id=\"line2d_14\">\r\n      <g>\r\n       <use style=\"stroke:#000000;stroke-width:0.8;\" x=\"36.465625\" xlink:href=\"#m61b3024ee4\" y=\"28.426956\"/>\r\n      </g>\r\n     </g>\r\n     <g id=\"text_14\">\r\n      <!-- 1.10 -->\r\n      <g transform=\"translate(7.2 32.226175)scale(0.1 -0.1)\">\r\n       <use xlink:href=\"#DejaVuSans-49\"/>\r\n       <use x=\"63.623047\" xlink:href=\"#DejaVuSans-46\"/>\r\n       <use x=\"95.410156\" xlink:href=\"#DejaVuSans-49\"/>\r\n       <use x=\"159.033203\" xlink:href=\"#DejaVuSans-48\"/>\r\n      </g>\r\n     </g>\r\n    </g>\r\n   </g>\r\n   <g id=\"line2d_15\">\r\n    <path clip-path=\"url(#p3bd8d25704)\" d=\"M 51.683807 22.919534 \r\nL 73.424067 50.909718 \r\nL 95.164326 68.634115 \r\nL 116.904586 81.099697 \r\nL 138.644846 93.543081 \r\nL 160.385106 108.621295 \r\nL 182.125365 120.07993 \r\nL 203.865625 133.192985 \r\nL 225.605885 144.292543 \r\nL 247.346144 155.529774 \r\nL 269.086404 168.991963 \r\nL 290.826664 178.971594 \r\nL 312.566924 190.990138 \r\nL 334.307183 203.56212 \r\nL 356.047443 214.756364 \r\n\" style=\"fill:none;stroke:#1f77b4;stroke-linecap:square;stroke-width:1.5;\"/>\r\n   </g>\r\n   <g id=\"line2d_16\">\r\n    <path clip-path=\"url(#p3bd8d25704)\" d=\"M 51.683807 17.083636 \r\nL 73.424067 41.61299 \r\nL 95.164326 58.866958 \r\nL 116.904586 73.043324 \r\nL 138.644846 87.475584 \r\nL 160.385106 99.745503 \r\nL 182.125365 113.014813 \r\nL 203.865625 126.013479 \r\nL 225.605885 137.330355 \r\nL 247.346144 150.932639 \r\nL 269.086404 163.268069 \r\nL 290.826664 175.8753 \r\nL 312.566924 188.204547 \r\nL 334.307183 200.158123 \r\nL 356.047443 212.37439 \r\n\" style=\"fill:none;stroke:#ff7f0e;stroke-linecap:square;stroke-width:1.5;\"/>\r\n   </g>\r\n   <g id=\"patch_3\">\r\n    <path d=\"M 36.465625 224.64 \r\nL 36.465625 7.2 \r\n\" style=\"fill:none;stroke:#000000;stroke-linecap:square;stroke-linejoin:miter;stroke-width:0.8;\"/>\r\n   </g>\r\n   <g id=\"patch_4\">\r\n    <path d=\"M 371.265625 224.64 \r\nL 371.265625 7.2 \r\n\" style=\"fill:none;stroke:#000000;stroke-linecap:square;stroke-linejoin:miter;stroke-width:0.8;\"/>\r\n   </g>\r\n   <g id=\"patch_5\">\r\n    <path d=\"M 36.465625 224.64 \r\nL 371.265625 224.64 \r\n\" style=\"fill:none;stroke:#000000;stroke-linecap:square;stroke-linejoin:miter;stroke-width:0.8;\"/>\r\n   </g>\r\n   <g id=\"patch_6\">\r\n    <path d=\"M 36.465625 7.2 \r\nL 371.265625 7.2 \r\n\" style=\"fill:none;stroke:#000000;stroke-linecap:square;stroke-linejoin:miter;stroke-width:0.8;\"/>\r\n   </g>\r\n   <g id=\"legend_1\">\r\n    <g id=\"patch_7\">\r\n     <path d=\"M 293.125 44.834375 \r\nL 364.265625 44.834375 \r\nQ 366.265625 44.834375 366.265625 42.834375 \r\nL 366.265625 14.2 \r\nQ 366.265625 12.2 364.265625 12.2 \r\nL 293.125 12.2 \r\nQ 291.125 12.2 291.125 14.2 \r\nL 291.125 42.834375 \r\nQ 291.125 44.834375 293.125 44.834375 \r\nz\r\n\" style=\"fill:#ffffff;opacity:0.8;stroke:#cccccc;stroke-linejoin:miter;\"/>\r\n    </g>\r\n    <g id=\"line2d_17\">\r\n     <path d=\"M 295.125 20.298437 \r\nL 315.125 20.298437 \r\n\" style=\"fill:none;stroke:#1f77b4;stroke-linecap:square;stroke-width:1.5;\"/>\r\n    </g>\r\n    <g id=\"line2d_18\"/>\r\n    <g id=\"text_15\">\r\n     <!-- loss -->\r\n     <g transform=\"translate(323.125 23.798437)scale(0.1 -0.1)\">\r\n      <defs>\r\n       <path d=\"M 9.421875 75.984375 \r\nL 18.40625 75.984375 \r\nL 18.40625 0 \r\nL 9.421875 0 \r\nz\r\n\" id=\"DejaVuSans-108\"/>\r\n       <path d=\"M 30.609375 48.390625 \r\nQ 23.390625 48.390625 19.1875 42.75 \r\nQ 14.984375 37.109375 14.984375 27.296875 \r\nQ 14.984375 17.484375 19.15625 11.84375 \r\nQ 23.34375 6.203125 30.609375 6.203125 \r\nQ 37.796875 6.203125 41.984375 11.859375 \r\nQ 46.1875 17.53125 46.1875 27.296875 \r\nQ 46.1875 37.015625 41.984375 42.703125 \r\nQ 37.796875 48.390625 30.609375 48.390625 \r\nz\r\nM 30.609375 56 \r\nQ 42.328125 56 49.015625 48.375 \r\nQ 55.71875 40.765625 55.71875 27.296875 \r\nQ 55.71875 13.875 49.015625 6.21875 \r\nQ 42.328125 -1.421875 30.609375 -1.421875 \r\nQ 18.84375 -1.421875 12.171875 6.21875 \r\nQ 5.515625 13.875 5.515625 27.296875 \r\nQ 5.515625 40.765625 12.171875 48.375 \r\nQ 18.84375 56 30.609375 56 \r\nz\r\n\" id=\"DejaVuSans-111\"/>\r\n       <path d=\"M 44.28125 53.078125 \r\nL 44.28125 44.578125 \r\nQ 40.484375 46.53125 36.375 47.5 \r\nQ 32.28125 48.484375 27.875 48.484375 \r\nQ 21.1875 48.484375 17.84375 46.4375 \r\nQ 14.5 44.390625 14.5 40.28125 \r\nQ 14.5 37.15625 16.890625 35.375 \r\nQ 19.28125 33.59375 26.515625 31.984375 \r\nL 29.59375 31.296875 \r\nQ 39.15625 29.25 43.1875 25.515625 \r\nQ 47.21875 21.78125 47.21875 15.09375 \r\nQ 47.21875 7.46875 41.1875 3.015625 \r\nQ 35.15625 -1.421875 24.609375 -1.421875 \r\nQ 20.21875 -1.421875 15.453125 -0.5625 \r\nQ 10.6875 0.296875 5.421875 2 \r\nL 5.421875 11.28125 \r\nQ 10.40625 8.6875 15.234375 7.390625 \r\nQ 20.0625 6.109375 24.8125 6.109375 \r\nQ 31.15625 6.109375 34.5625 8.28125 \r\nQ 37.984375 10.453125 37.984375 14.40625 \r\nQ 37.984375 18.0625 35.515625 20.015625 \r\nQ 33.0625 21.96875 24.703125 23.78125 \r\nL 21.578125 24.515625 \r\nQ 13.234375 26.265625 9.515625 29.90625 \r\nQ 5.8125 33.546875 5.8125 39.890625 \r\nQ 5.8125 47.609375 11.28125 51.796875 \r\nQ 16.75 56 26.8125 56 \r\nQ 31.78125 56 36.171875 55.265625 \r\nQ 40.578125 54.546875 44.28125 53.078125 \r\nz\r\n\" id=\"DejaVuSans-115\"/>\r\n      </defs>\r\n      <use xlink:href=\"#DejaVuSans-108\"/>\r\n      <use x=\"27.783203\" xlink:href=\"#DejaVuSans-111\"/>\r\n      <use x=\"88.964844\" xlink:href=\"#DejaVuSans-115\"/>\r\n      <use x=\"141.064453\" xlink:href=\"#DejaVuSans-115\"/>\r\n     </g>\r\n    </g>\r\n    <g id=\"line2d_19\">\r\n     <path d=\"M 295.125 34.976562 \r\nL 315.125 34.976562 \r\n\" style=\"fill:none;stroke:#ff7f0e;stroke-linecap:square;stroke-width:1.5;\"/>\r\n    </g>\r\n    <g id=\"line2d_20\"/>\r\n    <g id=\"text_16\">\r\n     <!-- val_loss -->\r\n     <g transform=\"translate(323.125 38.476562)scale(0.1 -0.1)\">\r\n      <defs>\r\n       <path d=\"M 2.984375 54.6875 \r\nL 12.5 54.6875 \r\nL 29.59375 8.796875 \r\nL 46.6875 54.6875 \r\nL 56.203125 54.6875 \r\nL 35.6875 0 \r\nL 23.484375 0 \r\nz\r\n\" id=\"DejaVuSans-118\"/>\r\n       <path d=\"M 34.28125 27.484375 \r\nQ 23.390625 27.484375 19.1875 25 \r\nQ 14.984375 22.515625 14.984375 16.5 \r\nQ 14.984375 11.71875 18.140625 8.90625 \r\nQ 21.296875 6.109375 26.703125 6.109375 \r\nQ 34.1875 6.109375 38.703125 11.40625 \r\nQ 43.21875 16.703125 43.21875 25.484375 \r\nL 43.21875 27.484375 \r\nz\r\nM 52.203125 31.203125 \r\nL 52.203125 0 \r\nL 43.21875 0 \r\nL 43.21875 8.296875 \r\nQ 40.140625 3.328125 35.546875 0.953125 \r\nQ 30.953125 -1.421875 24.3125 -1.421875 \r\nQ 15.921875 -1.421875 10.953125 3.296875 \r\nQ 6 8.015625 6 15.921875 \r\nQ 6 25.140625 12.171875 29.828125 \r\nQ 18.359375 34.515625 30.609375 34.515625 \r\nL 43.21875 34.515625 \r\nL 43.21875 35.40625 \r\nQ 43.21875 41.609375 39.140625 45 \r\nQ 35.0625 48.390625 27.6875 48.390625 \r\nQ 23 48.390625 18.546875 47.265625 \r\nQ 14.109375 46.140625 10.015625 43.890625 \r\nL 10.015625 52.203125 \r\nQ 14.9375 54.109375 19.578125 55.046875 \r\nQ 24.21875 56 28.609375 56 \r\nQ 40.484375 56 46.34375 49.84375 \r\nQ 52.203125 43.703125 52.203125 31.203125 \r\nz\r\n\" id=\"DejaVuSans-97\"/>\r\n       <path d=\"M 50.984375 -16.609375 \r\nL 50.984375 -23.578125 \r\nL -0.984375 -23.578125 \r\nL -0.984375 -16.609375 \r\nz\r\n\" id=\"DejaVuSans-95\"/>\r\n      </defs>\r\n      <use xlink:href=\"#DejaVuSans-118\"/>\r\n      <use x=\"59.179688\" xlink:href=\"#DejaVuSans-97\"/>\r\n      <use x=\"120.458984\" xlink:href=\"#DejaVuSans-108\"/>\r\n      <use x=\"148.242188\" xlink:href=\"#DejaVuSans-95\"/>\r\n      <use x=\"198.242188\" xlink:href=\"#DejaVuSans-108\"/>\r\n      <use x=\"226.025391\" xlink:href=\"#DejaVuSans-111\"/>\r\n      <use x=\"287.207031\" xlink:href=\"#DejaVuSans-115\"/>\r\n      <use x=\"339.306641\" xlink:href=\"#DejaVuSans-115\"/>\r\n     </g>\r\n    </g>\r\n   </g>\r\n  </g>\r\n </g>\r\n <defs>\r\n  <clipPath id=\"p3bd8d25704\">\r\n   <rect height=\"217.44\" width=\"334.8\" x=\"36.465625\" y=\"7.2\"/>\r\n  </clipPath>\r\n </defs>\r\n</svg>\r\n",
      "image/png": "[encoded data removed]"
     },
     "metadata": {
      "needs_background": "light"
     }
    }
   ],
   "source": [
    "history.plot(kind='line', y=['loss', 'val_loss'])"
   ]
  },
  {
   "cell_type": "code",
   "execution_count": 8,
   "metadata": {},
   "outputs": [
    {
     "output_type": "execute_result",
     "data": {
      "text/plain": [
       "OrderedDict([('loss', 0.78543985), ('acc', 0.6875)])"
      ]
     },
     "metadata": {},
     "execution_count": 8
    }
   ],
   "source": [
    "model.evaluate(X, y)"
   ]
  },
  {
   "cell_type": "code",
   "execution_count": 9,
   "metadata": {},
   "outputs": [
    {
     "output_type": "execute_result",
     "data": {
      "text/plain": [
       "array([[ 3.71902883e-01, -2.76607305e-01, -2.34585196e-01],\n",
       "       [ 2.71633446e-01, -2.03298137e-01, -1.81708753e-01],\n",
       "       [ 3.43581617e-01, -2.53481060e-01, -2.14813828e-01],\n",
       "       [ 2.60743022e-01, -2.12340578e-01, -1.88564837e-01],\n",
       "       [ 3.84693265e-01, -2.92338759e-01, -2.40236193e-01],\n",
       "       [ 3.55770588e-01, -2.96628922e-01, -2.52523065e-01],\n",
       "       [ 3.40946138e-01, -2.73701042e-01, -2.24360853e-01],\n",
       "       [ 3.21989417e-01, -2.49005929e-01, -2.18633175e-01],\n",
       "       [ 2.52995342e-01, -2.00239122e-01, -1.75993681e-01],\n",
       "       [ 2.61728287e-01, -1.99734047e-01, -1.81727022e-01],\n",
       "       [ 3.78993332e-01, -2.85344869e-01, -2.43825823e-01],\n",
       "       [ 2.84673065e-01, -2.38493830e-01, -2.09702224e-01],\n",
       "       [ 2.72959650e-01, -2.00511917e-01, -1.79598331e-01],\n",
       "       [ 3.46784234e-01, -2.51673490e-01, -2.00070709e-01],\n",
       "       [ 4.99664545e-01, -3.44384313e-01, -2.63751566e-01],\n",
       "       [ 4.79129374e-01, -3.71281773e-01, -2.78339475e-01],\n",
       "       [ 4.52624857e-01, -3.37098986e-01, -2.56522715e-01],\n",
       "       [ 3.70963991e-01, -2.81664640e-01, -2.37044245e-01],\n",
       "       [ 3.37374270e-01, -2.69798756e-01, -2.40453809e-01],\n",
       "       [ 3.90768230e-01, -3.10324818e-01, -2.52375573e-01],\n",
       "       [ 2.56891072e-01, -2.10710660e-01, -1.95840061e-01],\n",
       "       [ 3.74619961e-01, -3.01429957e-01, -2.48277634e-01],\n",
       "       [ 4.44576859e-01, -3.16764504e-01, -2.19287992e-01],\n",
       "       [ 2.33492166e-01, -2.18214184e-01, -1.96255296e-01],\n",
       "       [ 1.76545277e-01, -1.98535323e-01, -1.80954099e-01],\n",
       "       [ 2.06989035e-01, -1.72028139e-01, -1.60320431e-01],\n",
       "       [ 2.89669514e-01, -2.44577602e-01, -2.15708166e-01],\n",
       "       [ 3.41374457e-01, -2.59261549e-01, -2.26652771e-01],\n",
       "       [ 3.53348553e-01, -2.58166790e-01, -2.23981768e-01],\n",
       "       [ 2.45716810e-01, -2.11358801e-01, -1.89500004e-01],\n",
       "       [ 2.28803605e-01, -1.93189085e-01, -1.76610023e-01],\n",
       "       [ 3.17697883e-01, -2.48898491e-01, -2.21462727e-01],\n",
       "       [ 4.24967825e-01, -3.30379695e-01, -2.57357031e-01],\n",
       "       [ 4.74490523e-01, -3.53904456e-01, -2.66275346e-01],\n",
       "       [ 2.62477636e-01, -2.05102071e-01, -1.85238004e-01],\n",
       "       [ 3.66354227e-01, -2.59704232e-01, -2.18050152e-01],\n",
       "       [ 3.89988899e-01, -2.77777016e-01, -2.34560758e-01],\n",
       "       [ 3.79095197e-01, -2.87651092e-01, -2.34703422e-01],\n",
       "       [ 3.03944945e-01, -2.28296295e-01, -1.94972008e-01],\n",
       "       [ 3.21992993e-01, -2.46577546e-01, -2.17396885e-01],\n",
       "       [ 3.93058777e-01, -2.94319332e-01, -2.38130897e-01],\n",
       "       [ 1.49211153e-01, -1.20937824e-01, -1.01181410e-01],\n",
       "       [ 3.31323624e-01, -2.56768018e-01, -2.09767163e-01],\n",
       "       [ 3.04489553e-01, -2.69506305e-01, -2.28194475e-01],\n",
       "       [ 2.66237974e-01, -2.60847211e-01, -2.25911260e-01],\n",
       "       [ 2.72354186e-01, -2.11455539e-01, -1.87230021e-01],\n",
       "       [ 3.63890588e-01, -2.90203005e-01, -2.43079782e-01],\n",
       "       [ 3.12983871e-01, -2.40320370e-01, -2.07133412e-01],\n",
       "       [ 3.79296303e-01, -2.87792712e-01, -2.44367242e-01],\n",
       "       [ 3.34445417e-01, -2.47712418e-01, -2.15679526e-01],\n",
       "       [-7.81239331e-01,  1.26474246e-01,  2.40222663e-01],\n",
       "       [-7.41010904e-01,  7.84160048e-02,  2.15411246e-01],\n",
       "       [-8.56362522e-01,  1.30537346e-01,  2.90937632e-01],\n",
       "       [-7.11389184e-01,  9.48329866e-02,  2.82751918e-01],\n",
       "       [-8.12522650e-01,  1.17441073e-01,  2.96918362e-01],\n",
       "       [-8.05182636e-01,  1.01544067e-01,  2.80532748e-01],\n",
       "       [-7.95532942e-01,  6.86737001e-02,  2.37073481e-01],\n",
       "       [-5.04581392e-01,  4.79200967e-02,  1.51962131e-01],\n",
       "       [-7.93824792e-01,  1.32460862e-01,  2.70956129e-01],\n",
       "       [-6.53634489e-01,  3.91701795e-02,  2.07933724e-01],\n",
       "       [-5.99924266e-01,  9.12344158e-02,  2.45185792e-01],\n",
       "       [-6.89632118e-01,  5.39957322e-02,  2.04686612e-01],\n",
       "       [-6.83558822e-01,  1.38141170e-01,  2.85804242e-01],\n",
       "       [-8.42333198e-01,  1.12098604e-01,  2.96589762e-01],\n",
       "       [-5.08181632e-01,  1.54197402e-02,  1.21192597e-01],\n",
       "       [-7.11405993e-01,  1.02900326e-01,  2.11150557e-01],\n",
       "       [-7.89481103e-01,  6.17807396e-02,  2.58391351e-01],\n",
       "       [-6.84144914e-01,  1.11380115e-01,  2.20211416e-01],\n",
       "       [-8.31261694e-01,  1.18127868e-01,  3.77175391e-01],\n",
       "       [-6.57058716e-01,  9.92874354e-02,  2.25130677e-01],\n",
       "       [-8.52998376e-01,  4.88322712e-02,  2.84288198e-01],\n",
       "       [-6.43191397e-01,  8.71364325e-02,  1.96996927e-01],\n",
       "       [-9.20265615e-01,  1.25624254e-01,  3.85779887e-01],\n",
       "       [-8.46225083e-01,  1.34548083e-01,  3.00451130e-01],\n",
       "       [-7.13032126e-01,  1.09904721e-01,  2.26564348e-01],\n",
       "       [-7.26349294e-01,  1.07239962e-01,  2.28695333e-01],\n",
       "       [-8.51726770e-01,  1.45000666e-01,  3.22391719e-01],\n",
       "       [-9.05758739e-01,  1.14273950e-01,  3.35458010e-01],\n",
       "       [-7.89710224e-01,  8.73952657e-02,  2.70155072e-01],\n",
       "       [-5.16145706e-01,  7.46768266e-02,  1.50297582e-01],\n",
       "       [-6.39966786e-01,  9.61995870e-02,  2.26949781e-01],\n",
       "       [-6.04990959e-01,  9.79509205e-02,  2.09208935e-01],\n",
       "       [-6.32818282e-01,  8.57257843e-02,  1.95101798e-01],\n",
       "       [-9.71627355e-01,  9.79741365e-02,  3.93422514e-01],\n",
       "       [-7.91188776e-01,  4.95644249e-02,  2.61012077e-01],\n",
       "       [-7.22188473e-01,  2.43974440e-02,  1.90791517e-01],\n",
       "       [-8.04135084e-01,  1.12605825e-01,  2.62176931e-01],\n",
       "       [-7.88306952e-01,  1.38860032e-01,  3.42448562e-01],\n",
       "       [-6.60847545e-01,  4.79195304e-02,  1.85685366e-01],\n",
       "       [-6.97285414e-01,  8.49048644e-02,  2.50949919e-01],\n",
       "       [-7.98808217e-01,  1.08231857e-01,  2.93221414e-01],\n",
       "       [-8.03601801e-01,  1.00583643e-01,  2.64443785e-01],\n",
       "       [-6.72988594e-01,  9.82138962e-02,  2.27513969e-01],\n",
       "       [-5.14212072e-01,  6.33087307e-02,  1.67914629e-01],\n",
       "       [-7.31827140e-01,  8.73893946e-02,  2.49596238e-01],\n",
       "       [-6.85826302e-01,  6.96443915e-02,  1.97590292e-01],\n",
       "       [-7.04009593e-01,  7.22377002e-02,  2.15231657e-01],\n",
       "       [-7.19832897e-01,  1.02771029e-01,  2.26042986e-01],\n",
       "       [-3.85868430e-01,  6.67283311e-03,  9.41615179e-02],\n",
       "       [-6.87102139e-01,  7.60348290e-02,  2.14603662e-01],\n",
       "       [-1.15931714e+00,  6.48904592e-04,  4.70530987e-01],\n",
       "       [-9.79783535e-01,  5.36937602e-02,  4.09419090e-01],\n",
       "       [-1.14942813e+00,  1.07513651e-01,  4.77706939e-01],\n",
       "       [-1.08064389e+00,  8.94333869e-02,  4.42821681e-01],\n",
       "       [-1.13060451e+00,  5.82679994e-02,  4.74205434e-01],\n",
       "       [-1.31423616e+00,  1.31954119e-01,  5.72308064e-01],\n",
       "       [-8.46679509e-01,  2.02264152e-02,  3.49422485e-01],\n",
       "       [-1.23790550e+00,  1.43791884e-01,  5.33823013e-01],\n",
       "       [-1.14194119e+00,  1.14019111e-01,  5.23261786e-01],\n",
       "       [-1.15562928e+00,  5.42160980e-02,  4.33344960e-01],\n",
       "       [-9.24932718e-01,  6.56581819e-02,  3.32440704e-01],\n",
       "       [-1.02591205e+00,  9.22382325e-02,  4.32192564e-01],\n",
       "       [-1.04937136e+00,  8.70675147e-02,  4.23544645e-01],\n",
       "       [-9.74501729e-01,  4.10614721e-02,  4.29034352e-01],\n",
       "       [-9.80712891e-01, -6.09616190e-03,  4.11554277e-01],\n",
       "       [-9.87939954e-01,  3.12531330e-02,  3.73208404e-01],\n",
       "       [-1.04771101e+00,  1.01863548e-01,  4.12645459e-01],\n",
       "       [-1.28012896e+00,  1.16164580e-01,  4.77518976e-01],\n",
       "       [-1.38460588e+00,  1.11574709e-01,  6.72290444e-01],\n",
       "       [-9.67397928e-01,  1.10202000e-01,  4.45007116e-01],\n",
       "       [-1.08653378e+00,  6.65042102e-02,  4.29362625e-01],\n",
       "       [-9.24220443e-01,  2.61212550e-02,  3.69081795e-01],\n",
       "       [-1.33055758e+00,  1.44233897e-01,  6.09380245e-01],\n",
       "       [-9.18014169e-01,  9.14863795e-02,  3.71874630e-01],\n",
       "       [-1.07762504e+00,  7.51076043e-02,  4.08811152e-01],\n",
       "       [-1.14997292e+00,  1.40075609e-01,  4.48497415e-01],\n",
       "       [-8.84151101e-01,  8.12686533e-02,  3.43256056e-01],\n",
       "       [-8.96421969e-01,  7.23415762e-02,  3.28709126e-01],\n",
       "       [-1.09593260e+00,  6.72522336e-02,  4.70392913e-01],\n",
       "       [-1.10516119e+00,  1.61832854e-01,  4.38878238e-01],\n",
       "       [-1.19839251e+00,  1.46629766e-01,  5.21872997e-01],\n",
       "       [-1.19383574e+00,  1.45257249e-01,  4.23834383e-01],\n",
       "       [-1.09863746e+00,  5.71602099e-02,  4.75217611e-01],\n",
       "       [-9.59109187e-01,  1.25038683e-01,  3.71934831e-01],\n",
       "       [-1.08413279e+00,  1.11216590e-01,  4.71833378e-01],\n",
       "       [-1.18791580e+00,  1.14178315e-01,  5.09988546e-01],\n",
       "       [-1.05104458e+00,  1.10378340e-02,  3.91677648e-01],\n",
       "       [-1.03969729e+00,  9.31052566e-02,  3.99631590e-01],\n",
       "       [-8.71067405e-01,  6.47569448e-02,  3.14469934e-01],\n",
       "       [-1.00867391e+00,  8.43841732e-02,  3.93097997e-01],\n",
       "       [-1.07448900e+00,  4.54978310e-02,  4.34475899e-01],\n",
       "       [-9.25766170e-01,  4.94929664e-02,  3.56030017e-01],\n",
       "       [-9.79783535e-01,  5.36937602e-02,  4.09419090e-01],\n",
       "       [-1.13966680e+00,  6.23922832e-02,  4.60025638e-01],\n",
       "       [-1.08523488e+00,  2.96477042e-02,  4.22523499e-01],\n",
       "       [-9.69561338e-01,  4.77920063e-02,  3.86982650e-01],\n",
       "       [-9.62836385e-01,  8.62269104e-02,  4.18842763e-01],\n",
       "       [-9.72076416e-01,  7.61361420e-02,  3.77454132e-01],\n",
       "       [-9.98529196e-01,  1.50030069e-02,  3.58998299e-01],\n",
       "       [-9.51198876e-01,  6.28875047e-02,  3.59830797e-01]], dtype=float32)"
      ]
     },
     "metadata": {},
     "execution_count": 9
    }
   ],
   "source": [
    "model.predict(X)"
   ]
  },
  {
   "cell_type": "code",
   "execution_count": null,
   "metadata": {},
   "outputs": [],
   "source": []
  }
 ]
}