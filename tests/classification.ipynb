{
 "metadata": {
  "language_info": {
   "codemirror_mode": {
    "name": "ipython",
    "version": 3
   },
   "file_extension": ".py",
   "mimetype": "text/x-python",
   "name": "python",
   "nbconvert_exporter": "python",
   "pygments_lexer": "ipython3",
   "version": "3.7.8-final"
  },
  "orig_nbformat": 2,
  "kernelspec": {
   "name": "Python 3.7.8 64-bit ('kesci_compete')",
   "display_name": "Python 3.7.8 64-bit ('kesci_compete')",
   "metadata": {
    "interpreter": {
     "hash": "8dc6728e8885f5cf3d484bdac908677760b39a28192ba674e6f789c8dc6420a9"
    }
   }
  }
 },
 "nbformat": 4,
 "nbformat_minor": 2,
 "cells": [
  {
   "cell_type": "code",
   "execution_count": 1,
   "metadata": {},
   "outputs": [],
   "source": [
    "import sys\n",
    "\n",
    "sys.path.append('../')\n",
    "\n",
    "import keras4torch as k4t\n",
    "import torch\n",
    "from torch import nn\n",
    "from sklearn.datasets import load_iris\n",
    "import numpy as np\n",
    "from keras4torch.metrics import *"
   ]
  },
  {
   "cell_type": "code",
   "execution_count": 2,
   "metadata": {},
   "outputs": [],
   "source": [
    "X, y = load_iris(return_X_y=True)\n",
    "X = X.astype(np.float32)\n",
    "y = y.astype(np.int64)"
   ]
  },
  {
   "cell_type": "code",
   "execution_count": 3,
   "metadata": {},
   "outputs": [],
   "source": [
    "model = nn.Sequential(\n",
    "    nn.Linear(4, 128), nn.ReLU(),\n",
    "    nn.Sequential(\n",
    "        nn.Linear(128, 64), nn.ReLU()\n",
    "    ),\n",
    "    nn.Linear(64, 3)\n",
    ")\n",
    "\n",
    "model = k4t.Model(model)"
   ]
  },
  {
   "cell_type": "code",
   "execution_count": 4,
   "metadata": {},
   "outputs": [],
   "source": [
    "model.compile(optimizer=torch.optim.Adam(model.parameters(), lr=3e-4),\n",
    "                loss=nn.CrossEntropyLoss(),\n",
    "                metrics={'acc': Accuracy()},\n",
    "                )"
   ]
  },
  {
   "cell_type": "code",
   "execution_count": 5,
   "metadata": {},
   "outputs": [
    {
     "output_type": "stream",
     "name": "stdout",
     "text": [
      "==========================================================================================\nLayer (type:depth-idx)                   Output Shape              Param #\n==========================================================================================\n├─Linear: 1-1                            [-1, 128]                 640\n├─ReLU: 1-2                              [-1, 128]                 --\n├─Sequential: 1-3                        [-1, 64]                  --\n|    └─Linear: 2-1                       [-1, 64]                  8,256\n|    └─ReLU: 2-2                         [-1, 64]                  --\n├─Linear: 1-4                            [-1, 3]                   195\n==========================================================================================\nTotal params: 9,091\nTrainable params: 9,091\nNon-trainable params: 0\nTotal mult-adds (M): 0.02\n==========================================================================================\nInput size (MB): 0.00\nForward/backward pass size (MB): 0.00\nParams size (MB): 0.03\nEstimated Total Size (MB): 0.04\n==========================================================================================\n"
     ]
    }
   ],
   "source": [
    "model.summary(input_shape=[4])"
   ]
  },
  {
   "cell_type": "code",
   "execution_count": 6,
   "metadata": {},
   "outputs": [
    {
     "output_type": "stream",
     "name": "stdout",
     "text": [
      "Train on 120 samples, validate on 30 samples:\n",
      "Epoch 1/15 - 0.0s - loss: 1.1248 - acc: 0.3568 - val_loss: 1.1553 - val_acc: 0.2667 - lr: 3e-04\n",
      "Epoch 2/15 - 0.0s - loss: 1.0815 - acc: 0.3542 - val_loss: 1.0905 - val_acc: 0.2667 - lr: 3e-04\n",
      "Epoch 3/15 - 0.0s - loss: 1.0506 - acc: 0.3464 - val_loss: 1.0438 - val_acc: 0.2667 - lr: 3e-04\n",
      "Epoch 4/15 - 0.0s - loss: 1.0253 - acc: 0.3568 - val_loss: 1.0106 - val_acc: 0.2667 - lr: 3e-04\n",
      "Epoch 5/15 - 0.0s - loss: 1.0114 - acc: 0.2995 - val_loss: 0.9818 - val_acc: 0.4333 - lr: 3e-04\n",
      "Epoch 6/15 - 0.0s - loss: 0.9890 - acc: 0.4375 - val_loss: 0.9626 - val_acc: 0.6000 - lr: 3e-04\n",
      "Epoch 7/15 - 0.0s - loss: 0.9741 - acc: 0.5938 - val_loss: 0.9443 - val_acc: 0.6667 - lr: 3e-04\n",
      "Epoch 8/15 - 0.0s - loss: 0.9570 - acc: 0.6432 - val_loss: 0.9283 - val_acc: 0.7000 - lr: 3e-04\n",
      "Epoch 9/15 - 0.0s - loss: 0.9397 - acc: 0.6484 - val_loss: 0.9124 - val_acc: 0.7333 - lr: 3e-04\n",
      "Epoch 10/15 - 0.0s - loss: 0.9210 - acc: 0.6510 - val_loss: 0.8969 - val_acc: 0.7333 - lr: 3e-04\n",
      "Epoch 11/15 - 0.0s - loss: 0.9022 - acc: 0.6693 - val_loss: 0.8828 - val_acc: 0.8667 - lr: 3e-04\n",
      "Epoch 12/15 - 0.0s - loss: 0.8828 - acc: 0.8177 - val_loss: 0.8662 - val_acc: 0.9000 - lr: 3e-04\n",
      "Epoch 13/15 - 0.0s - loss: 0.8646 - acc: 0.8490 - val_loss: 0.8488 - val_acc: 0.8000 - lr: 3e-04\n",
      "Epoch 14/15 - 0.0s - loss: 0.8450 - acc: 0.8906 - val_loss: 0.8285 - val_acc: 0.9667 - lr: 3e-04\n",
      "Epoch 15/15 - 0.0s - loss: 0.8238 - acc: 0.9245 - val_loss: 0.8090 - val_acc: 1.0000 - lr: 3e-04\n"
     ]
    }
   ],
   "source": [
    "history = model.fit(X, y,\n",
    "            epochs=15,\n",
    "            validation_split=0.2,\n",
    "            )"
   ]
  },
  {
   "cell_type": "code",
   "execution_count": 7,
   "metadata": {},
   "outputs": [
    {
     "output_type": "execute_result",
     "data": {
      "text/plain": [
       "<AxesSubplot:>"
      ]
     },
     "metadata": {},
     "execution_count": 7
    },
    {
     "output_type": "display_data",
     "data": {
      "text/plain": "<Figure size 432x288 with 1 Axes>",
      "image/svg+xml": "<?xml version=\"1.0\" encoding=\"utf-8\" standalone=\"no\"?>\r\n<!DOCTYPE svg PUBLIC \"-//W3C//DTD SVG 1.1//EN\"\r\n  \"http://www.w3.org/Graphics/SVG/1.1/DTD/svg11.dtd\">\r\n<!-- Created with matplotlib (https://matplotlib.org/) -->\r\n<svg height=\"248.518125pt\" version=\"1.1\" viewBox=\"0 0 378.465625 248.518125\" width=\"378.465625pt\" xmlns=\"http://www.w3.org/2000/svg\" xmlns:xlink=\"http://www.w3.org/1999/xlink\">\r\n <metadata>\r\n  <rdf:RDF xmlns:cc=\"http://creativecommons.org/ns#\" xmlns:dc=\"http://purl.org/dc/elements/1.1/\" xmlns:rdf=\"http://www.w3.org/1999/02/22-rdf-syntax-ns#\">\r\n   <cc:Work>\r\n    <dc:type rdf:resource=\"http://purl.org/dc/dcmitype/StillImage\"/>\r\n    <dc:date>2020-10-12T19:06:58.582855</dc:date>\r\n    <dc:format>image/svg+xml</dc:format>\r\n    <dc:creator>\r\n     <cc:Agent>\r\n      <dc:title>Matplotlib v3.3.1, https://matplotlib.org/</dc:title>\r\n     </cc:Agent>\r\n    </dc:creator>\r\n   </cc:Work>\r\n  </rdf:RDF>\r\n </metadata>\r\n <defs>\r\n  <style type=\"text/css\">*{stroke-linecap:butt;stroke-linejoin:round;}</style>\r\n </defs>\r\n <g id=\"figure_1\">\r\n  <g id=\"patch_1\">\r\n   <path d=\"M 0 248.518125 \r\nL 378.465625 248.518125 \r\nL 378.465625 0 \r\nL 0 0 \r\nz\r\n\" style=\"fill:none;\"/>\r\n  </g>\r\n  <g id=\"axes_1\">\r\n   <g id=\"patch_2\">\r\n    <path d=\"M 36.465625 224.64 \r\nL 371.265625 224.64 \r\nL 371.265625 7.2 \r\nL 36.465625 7.2 \r\nz\r\n\" style=\"fill:#ffffff;\"/>\r\n   </g>\r\n   <g id=\"matplotlib.axis_1\">\r\n    <g id=\"xtick_1\">\r\n     <g id=\"line2d_1\">\r\n      <defs>\r\n       <path d=\"M 0 0 \r\nL 0 3.5 \r\n\" id=\"m5a350c1390\" style=\"stroke:#000000;stroke-width:0.8;\"/>\r\n      </defs>\r\n      <g>\r\n       <use style=\"stroke:#000000;stroke-width:0.8;\" x=\"73.424067\" xlink:href=\"#m5a350c1390\" y=\"224.64\"/>\r\n      </g>\r\n     </g>\r\n     <g id=\"text_1\">\r\n      <!-- 2 -->\r\n      <g transform=\"translate(70.242817 239.238438)scale(0.1 -0.1)\">\r\n       <defs>\r\n        <path d=\"M 19.1875 8.296875 \r\nL 53.609375 8.296875 \r\nL 53.609375 0 \r\nL 7.328125 0 \r\nL 7.328125 8.296875 \r\nQ 12.9375 14.109375 22.625 23.890625 \r\nQ 32.328125 33.6875 34.8125 36.53125 \r\nQ 39.546875 41.84375 41.421875 45.53125 \r\nQ 43.3125 49.21875 43.3125 52.78125 \r\nQ 43.3125 58.59375 39.234375 62.25 \r\nQ 35.15625 65.921875 28.609375 65.921875 \r\nQ 23.96875 65.921875 18.8125 64.3125 \r\nQ 13.671875 62.703125 7.8125 59.421875 \r\nL 7.8125 69.390625 \r\nQ 13.765625 71.78125 18.9375 73 \r\nQ 24.125 74.21875 28.421875 74.21875 \r\nQ 39.75 74.21875 46.484375 68.546875 \r\nQ 53.21875 62.890625 53.21875 53.421875 \r\nQ 53.21875 48.921875 51.53125 44.890625 \r\nQ 49.859375 40.875 45.40625 35.40625 \r\nQ 44.1875 33.984375 37.640625 27.21875 \r\nQ 31.109375 20.453125 19.1875 8.296875 \r\nz\r\n\" id=\"DejaVuSans-50\"/>\r\n       </defs>\r\n       <use xlink:href=\"#DejaVuSans-50\"/>\r\n      </g>\r\n     </g>\r\n    </g>\r\n    <g id=\"xtick_2\">\r\n     <g id=\"line2d_2\">\r\n      <g>\r\n       <use style=\"stroke:#000000;stroke-width:0.8;\" x=\"116.904586\" xlink:href=\"#m5a350c1390\" y=\"224.64\"/>\r\n      </g>\r\n     </g>\r\n     <g id=\"text_2\">\r\n      <!-- 4 -->\r\n      <g transform=\"translate(113.723336 239.238438)scale(0.1 -0.1)\">\r\n       <defs>\r\n        <path d=\"M 37.796875 64.3125 \r\nL 12.890625 25.390625 \r\nL 37.796875 25.390625 \r\nz\r\nM 35.203125 72.90625 \r\nL 47.609375 72.90625 \r\nL 47.609375 25.390625 \r\nL 58.015625 25.390625 \r\nL 58.015625 17.1875 \r\nL 47.609375 17.1875 \r\nL 47.609375 0 \r\nL 37.796875 0 \r\nL 37.796875 17.1875 \r\nL 4.890625 17.1875 \r\nL 4.890625 26.703125 \r\nz\r\n\" id=\"DejaVuSans-52\"/>\r\n       </defs>\r\n       <use xlink:href=\"#DejaVuSans-52\"/>\r\n      </g>\r\n     </g>\r\n    </g>\r\n    <g id=\"xtick_3\">\r\n     <g id=\"line2d_3\">\r\n      <g>\r\n       <use style=\"stroke:#000000;stroke-width:0.8;\" x=\"160.385106\" xlink:href=\"#m5a350c1390\" y=\"224.64\"/>\r\n      </g>\r\n     </g>\r\n     <g id=\"text_3\">\r\n      <!-- 6 -->\r\n      <g transform=\"translate(157.203856 239.238438)scale(0.1 -0.1)\">\r\n       <defs>\r\n        <path d=\"M 33.015625 40.375 \r\nQ 26.375 40.375 22.484375 35.828125 \r\nQ 18.609375 31.296875 18.609375 23.390625 \r\nQ 18.609375 15.53125 22.484375 10.953125 \r\nQ 26.375 6.390625 33.015625 6.390625 \r\nQ 39.65625 6.390625 43.53125 10.953125 \r\nQ 47.40625 15.53125 47.40625 23.390625 \r\nQ 47.40625 31.296875 43.53125 35.828125 \r\nQ 39.65625 40.375 33.015625 40.375 \r\nz\r\nM 52.59375 71.296875 \r\nL 52.59375 62.3125 \r\nQ 48.875 64.0625 45.09375 64.984375 \r\nQ 41.3125 65.921875 37.59375 65.921875 \r\nQ 27.828125 65.921875 22.671875 59.328125 \r\nQ 17.53125 52.734375 16.796875 39.40625 \r\nQ 19.671875 43.65625 24.015625 45.921875 \r\nQ 28.375 48.1875 33.59375 48.1875 \r\nQ 44.578125 48.1875 50.953125 41.515625 \r\nQ 57.328125 34.859375 57.328125 23.390625 \r\nQ 57.328125 12.15625 50.6875 5.359375 \r\nQ 44.046875 -1.421875 33.015625 -1.421875 \r\nQ 20.359375 -1.421875 13.671875 8.265625 \r\nQ 6.984375 17.96875 6.984375 36.375 \r\nQ 6.984375 53.65625 15.1875 63.9375 \r\nQ 23.390625 74.21875 37.203125 74.21875 \r\nQ 40.921875 74.21875 44.703125 73.484375 \r\nQ 48.484375 72.75 52.59375 71.296875 \r\nz\r\n\" id=\"DejaVuSans-54\"/>\r\n       </defs>\r\n       <use xlink:href=\"#DejaVuSans-54\"/>\r\n      </g>\r\n     </g>\r\n    </g>\r\n    <g id=\"xtick_4\">\r\n     <g id=\"line2d_4\">\r\n      <g>\r\n       <use style=\"stroke:#000000;stroke-width:0.8;\" x=\"203.865625\" xlink:href=\"#m5a350c1390\" y=\"224.64\"/>\r\n      </g>\r\n     </g>\r\n     <g id=\"text_4\">\r\n      <!-- 8 -->\r\n      <g transform=\"translate(200.684375 239.238438)scale(0.1 -0.1)\">\r\n       <defs>\r\n        <path d=\"M 31.78125 34.625 \r\nQ 24.75 34.625 20.71875 30.859375 \r\nQ 16.703125 27.09375 16.703125 20.515625 \r\nQ 16.703125 13.921875 20.71875 10.15625 \r\nQ 24.75 6.390625 31.78125 6.390625 \r\nQ 38.8125 6.390625 42.859375 10.171875 \r\nQ 46.921875 13.96875 46.921875 20.515625 \r\nQ 46.921875 27.09375 42.890625 30.859375 \r\nQ 38.875 34.625 31.78125 34.625 \r\nz\r\nM 21.921875 38.8125 \r\nQ 15.578125 40.375 12.03125 44.71875 \r\nQ 8.5 49.078125 8.5 55.328125 \r\nQ 8.5 64.0625 14.71875 69.140625 \r\nQ 20.953125 74.21875 31.78125 74.21875 \r\nQ 42.671875 74.21875 48.875 69.140625 \r\nQ 55.078125 64.0625 55.078125 55.328125 \r\nQ 55.078125 49.078125 51.53125 44.71875 \r\nQ 48 40.375 41.703125 38.8125 \r\nQ 48.828125 37.15625 52.796875 32.3125 \r\nQ 56.78125 27.484375 56.78125 20.515625 \r\nQ 56.78125 9.90625 50.3125 4.234375 \r\nQ 43.84375 -1.421875 31.78125 -1.421875 \r\nQ 19.734375 -1.421875 13.25 4.234375 \r\nQ 6.78125 9.90625 6.78125 20.515625 \r\nQ 6.78125 27.484375 10.78125 32.3125 \r\nQ 14.796875 37.15625 21.921875 38.8125 \r\nz\r\nM 18.3125 54.390625 \r\nQ 18.3125 48.734375 21.84375 45.5625 \r\nQ 25.390625 42.390625 31.78125 42.390625 \r\nQ 38.140625 42.390625 41.71875 45.5625 \r\nQ 45.3125 48.734375 45.3125 54.390625 \r\nQ 45.3125 60.0625 41.71875 63.234375 \r\nQ 38.140625 66.40625 31.78125 66.40625 \r\nQ 25.390625 66.40625 21.84375 63.234375 \r\nQ 18.3125 60.0625 18.3125 54.390625 \r\nz\r\n\" id=\"DejaVuSans-56\"/>\r\n       </defs>\r\n       <use xlink:href=\"#DejaVuSans-56\"/>\r\n      </g>\r\n     </g>\r\n    </g>\r\n    <g id=\"xtick_5\">\r\n     <g id=\"line2d_5\">\r\n      <g>\r\n       <use style=\"stroke:#000000;stroke-width:0.8;\" x=\"247.346144\" xlink:href=\"#m5a350c1390\" y=\"224.64\"/>\r\n      </g>\r\n     </g>\r\n     <g id=\"text_5\">\r\n      <!-- 10 -->\r\n      <g transform=\"translate(240.983644 239.238438)scale(0.1 -0.1)\">\r\n       <defs>\r\n        <path d=\"M 12.40625 8.296875 \r\nL 28.515625 8.296875 \r\nL 28.515625 63.921875 \r\nL 10.984375 60.40625 \r\nL 10.984375 69.390625 \r\nL 28.421875 72.90625 \r\nL 38.28125 72.90625 \r\nL 38.28125 8.296875 \r\nL 54.390625 8.296875 \r\nL 54.390625 0 \r\nL 12.40625 0 \r\nz\r\n\" id=\"DejaVuSans-49\"/>\r\n        <path d=\"M 31.78125 66.40625 \r\nQ 24.171875 66.40625 20.328125 58.90625 \r\nQ 16.5 51.421875 16.5 36.375 \r\nQ 16.5 21.390625 20.328125 13.890625 \r\nQ 24.171875 6.390625 31.78125 6.390625 \r\nQ 39.453125 6.390625 43.28125 13.890625 \r\nQ 47.125 21.390625 47.125 36.375 \r\nQ 47.125 51.421875 43.28125 58.90625 \r\nQ 39.453125 66.40625 31.78125 66.40625 \r\nz\r\nM 31.78125 74.21875 \r\nQ 44.046875 74.21875 50.515625 64.515625 \r\nQ 56.984375 54.828125 56.984375 36.375 \r\nQ 56.984375 17.96875 50.515625 8.265625 \r\nQ 44.046875 -1.421875 31.78125 -1.421875 \r\nQ 19.53125 -1.421875 13.0625 8.265625 \r\nQ 6.59375 17.96875 6.59375 36.375 \r\nQ 6.59375 54.828125 13.0625 64.515625 \r\nQ 19.53125 74.21875 31.78125 74.21875 \r\nz\r\n\" id=\"DejaVuSans-48\"/>\r\n       </defs>\r\n       <use xlink:href=\"#DejaVuSans-49\"/>\r\n       <use x=\"63.623047\" xlink:href=\"#DejaVuSans-48\"/>\r\n      </g>\r\n     </g>\r\n    </g>\r\n    <g id=\"xtick_6\">\r\n     <g id=\"line2d_6\">\r\n      <g>\r\n       <use style=\"stroke:#000000;stroke-width:0.8;\" x=\"290.826664\" xlink:href=\"#m5a350c1390\" y=\"224.64\"/>\r\n      </g>\r\n     </g>\r\n     <g id=\"text_6\">\r\n      <!-- 12 -->\r\n      <g transform=\"translate(284.464164 239.238438)scale(0.1 -0.1)\">\r\n       <use xlink:href=\"#DejaVuSans-49\"/>\r\n       <use x=\"63.623047\" xlink:href=\"#DejaVuSans-50\"/>\r\n      </g>\r\n     </g>\r\n    </g>\r\n    <g id=\"xtick_7\">\r\n     <g id=\"line2d_7\">\r\n      <g>\r\n       <use style=\"stroke:#000000;stroke-width:0.8;\" x=\"334.307183\" xlink:href=\"#m5a350c1390\" y=\"224.64\"/>\r\n      </g>\r\n     </g>\r\n     <g id=\"text_7\">\r\n      <!-- 14 -->\r\n      <g transform=\"translate(327.944683 239.238438)scale(0.1 -0.1)\">\r\n       <use xlink:href=\"#DejaVuSans-49\"/>\r\n       <use x=\"63.623047\" xlink:href=\"#DejaVuSans-52\"/>\r\n      </g>\r\n     </g>\r\n    </g>\r\n   </g>\r\n   <g id=\"matplotlib.axis_2\">\r\n    <g id=\"ytick_1\">\r\n     <g id=\"line2d_8\">\r\n      <defs>\r\n       <path d=\"M 0 0 \r\nL -3.5 0 \r\n\" id=\"m52996b06d1\" style=\"stroke:#000000;stroke-width:0.8;\"/>\r\n      </defs>\r\n      <g>\r\n       <use style=\"stroke:#000000;stroke-width:0.8;\" x=\"36.465625\" xlink:href=\"#m52996b06d1\" y=\"219.890771\"/>\r\n      </g>\r\n     </g>\r\n     <g id=\"text_8\">\r\n      <!-- 0.80 -->\r\n      <g transform=\"translate(7.2 223.68999)scale(0.1 -0.1)\">\r\n       <defs>\r\n        <path d=\"M 10.6875 12.40625 \r\nL 21 12.40625 \r\nL 21 0 \r\nL 10.6875 0 \r\nz\r\n\" id=\"DejaVuSans-46\"/>\r\n       </defs>\r\n       <use xlink:href=\"#DejaVuSans-48\"/>\r\n       <use x=\"63.623047\" xlink:href=\"#DejaVuSans-46\"/>\r\n       <use x=\"95.410156\" xlink:href=\"#DejaVuSans-56\"/>\r\n       <use x=\"159.033203\" xlink:href=\"#DejaVuSans-48\"/>\r\n      </g>\r\n     </g>\r\n    </g>\r\n    <g id=\"ytick_2\">\r\n     <g id=\"line2d_9\">\r\n      <g>\r\n       <use style=\"stroke:#000000;stroke-width:0.8;\" x=\"36.465625\" xlink:href=\"#m52996b06d1\" y=\"191.34951\"/>\r\n      </g>\r\n     </g>\r\n     <g id=\"text_9\">\r\n      <!-- 0.85 -->\r\n      <g transform=\"translate(7.2 195.148729)scale(0.1 -0.1)\">\r\n       <defs>\r\n        <path d=\"M 10.796875 72.90625 \r\nL 49.515625 72.90625 \r\nL 49.515625 64.59375 \r\nL 19.828125 64.59375 \r\nL 19.828125 46.734375 \r\nQ 21.96875 47.46875 24.109375 47.828125 \r\nQ 26.265625 48.1875 28.421875 48.1875 \r\nQ 40.625 48.1875 47.75 41.5 \r\nQ 54.890625 34.8125 54.890625 23.390625 \r\nQ 54.890625 11.625 47.5625 5.09375 \r\nQ 40.234375 -1.421875 26.90625 -1.421875 \r\nQ 22.3125 -1.421875 17.546875 -0.640625 \r\nQ 12.796875 0.140625 7.71875 1.703125 \r\nL 7.71875 11.625 \r\nQ 12.109375 9.234375 16.796875 8.0625 \r\nQ 21.484375 6.890625 26.703125 6.890625 \r\nQ 35.15625 6.890625 40.078125 11.328125 \r\nQ 45.015625 15.765625 45.015625 23.390625 \r\nQ 45.015625 31 40.078125 35.4375 \r\nQ 35.15625 39.890625 26.703125 39.890625 \r\nQ 22.75 39.890625 18.8125 39.015625 \r\nQ 14.890625 38.140625 10.796875 36.28125 \r\nz\r\n\" id=\"DejaVuSans-53\"/>\r\n       </defs>\r\n       <use xlink:href=\"#DejaVuSans-48\"/>\r\n       <use x=\"63.623047\" xlink:href=\"#DejaVuSans-46\"/>\r\n       <use x=\"95.410156\" xlink:href=\"#DejaVuSans-56\"/>\r\n       <use x=\"159.033203\" xlink:href=\"#DejaVuSans-53\"/>\r\n      </g>\r\n     </g>\r\n    </g>\r\n    <g id=\"ytick_3\">\r\n     <g id=\"line2d_10\">\r\n      <g>\r\n       <use style=\"stroke:#000000;stroke-width:0.8;\" x=\"36.465625\" xlink:href=\"#m52996b06d1\" y=\"162.808249\"/>\r\n      </g>\r\n     </g>\r\n     <g id=\"text_10\">\r\n      <!-- 0.90 -->\r\n      <g transform=\"translate(7.2 166.607468)scale(0.1 -0.1)\">\r\n       <defs>\r\n        <path d=\"M 10.984375 1.515625 \r\nL 10.984375 10.5 \r\nQ 14.703125 8.734375 18.5 7.8125 \r\nQ 22.3125 6.890625 25.984375 6.890625 \r\nQ 35.75 6.890625 40.890625 13.453125 \r\nQ 46.046875 20.015625 46.78125 33.40625 \r\nQ 43.953125 29.203125 39.59375 26.953125 \r\nQ 35.25 24.703125 29.984375 24.703125 \r\nQ 19.046875 24.703125 12.671875 31.3125 \r\nQ 6.296875 37.9375 6.296875 49.421875 \r\nQ 6.296875 60.640625 12.9375 67.421875 \r\nQ 19.578125 74.21875 30.609375 74.21875 \r\nQ 43.265625 74.21875 49.921875 64.515625 \r\nQ 56.59375 54.828125 56.59375 36.375 \r\nQ 56.59375 19.140625 48.40625 8.859375 \r\nQ 40.234375 -1.421875 26.421875 -1.421875 \r\nQ 22.703125 -1.421875 18.890625 -0.6875 \r\nQ 15.09375 0.046875 10.984375 1.515625 \r\nz\r\nM 30.609375 32.421875 \r\nQ 37.25 32.421875 41.125 36.953125 \r\nQ 45.015625 41.5 45.015625 49.421875 \r\nQ 45.015625 57.28125 41.125 61.84375 \r\nQ 37.25 66.40625 30.609375 66.40625 \r\nQ 23.96875 66.40625 20.09375 61.84375 \r\nQ 16.21875 57.28125 16.21875 49.421875 \r\nQ 16.21875 41.5 20.09375 36.953125 \r\nQ 23.96875 32.421875 30.609375 32.421875 \r\nz\r\n\" id=\"DejaVuSans-57\"/>\r\n       </defs>\r\n       <use xlink:href=\"#DejaVuSans-48\"/>\r\n       <use x=\"63.623047\" xlink:href=\"#DejaVuSans-46\"/>\r\n       <use x=\"95.410156\" xlink:href=\"#DejaVuSans-57\"/>\r\n       <use x=\"159.033203\" xlink:href=\"#DejaVuSans-48\"/>\r\n      </g>\r\n     </g>\r\n    </g>\r\n    <g id=\"ytick_4\">\r\n     <g id=\"line2d_11\">\r\n      <g>\r\n       <use style=\"stroke:#000000;stroke-width:0.8;\" x=\"36.465625\" xlink:href=\"#m52996b06d1\" y=\"134.266989\"/>\r\n      </g>\r\n     </g>\r\n     <g id=\"text_11\">\r\n      <!-- 0.95 -->\r\n      <g transform=\"translate(7.2 138.066207)scale(0.1 -0.1)\">\r\n       <use xlink:href=\"#DejaVuSans-48\"/>\r\n       <use x=\"63.623047\" xlink:href=\"#DejaVuSans-46\"/>\r\n       <use x=\"95.410156\" xlink:href=\"#DejaVuSans-57\"/>\r\n       <use x=\"159.033203\" xlink:href=\"#DejaVuSans-53\"/>\r\n      </g>\r\n     </g>\r\n    </g>\r\n    <g id=\"ytick_5\">\r\n     <g id=\"line2d_12\">\r\n      <g>\r\n       <use style=\"stroke:#000000;stroke-width:0.8;\" x=\"36.465625\" xlink:href=\"#m52996b06d1\" y=\"105.725728\"/>\r\n      </g>\r\n     </g>\r\n     <g id=\"text_12\">\r\n      <!-- 1.00 -->\r\n      <g transform=\"translate(7.2 109.524946)scale(0.1 -0.1)\">\r\n       <use xlink:href=\"#DejaVuSans-49\"/>\r\n       <use x=\"63.623047\" xlink:href=\"#DejaVuSans-46\"/>\r\n       <use x=\"95.410156\" xlink:href=\"#DejaVuSans-48\"/>\r\n       <use x=\"159.033203\" xlink:href=\"#DejaVuSans-48\"/>\r\n      </g>\r\n     </g>\r\n    </g>\r\n    <g id=\"ytick_6\">\r\n     <g id=\"line2d_13\">\r\n      <g>\r\n       <use style=\"stroke:#000000;stroke-width:0.8;\" x=\"36.465625\" xlink:href=\"#m52996b06d1\" y=\"77.184467\"/>\r\n      </g>\r\n     </g>\r\n     <g id=\"text_13\">\r\n      <!-- 1.05 -->\r\n      <g transform=\"translate(7.2 80.983686)scale(0.1 -0.1)\">\r\n       <use xlink:href=\"#DejaVuSans-49\"/>\r\n       <use x=\"63.623047\" xlink:href=\"#DejaVuSans-46\"/>\r\n       <use x=\"95.410156\" xlink:href=\"#DejaVuSans-48\"/>\r\n       <use x=\"159.033203\" xlink:href=\"#DejaVuSans-53\"/>\r\n      </g>\r\n     </g>\r\n    </g>\r\n    <g id=\"ytick_7\">\r\n     <g id=\"line2d_14\">\r\n      <g>\r\n       <use style=\"stroke:#000000;stroke-width:0.8;\" x=\"36.465625\" xlink:href=\"#m52996b06d1\" y=\"48.643206\"/>\r\n      </g>\r\n     </g>\r\n     <g id=\"text_14\">\r\n      <!-- 1.10 -->\r\n      <g transform=\"translate(7.2 52.442425)scale(0.1 -0.1)\">\r\n       <use xlink:href=\"#DejaVuSans-49\"/>\r\n       <use x=\"63.623047\" xlink:href=\"#DejaVuSans-46\"/>\r\n       <use x=\"95.410156\" xlink:href=\"#DejaVuSans-49\"/>\r\n       <use x=\"159.033203\" xlink:href=\"#DejaVuSans-48\"/>\r\n      </g>\r\n     </g>\r\n    </g>\r\n    <g id=\"ytick_8\">\r\n     <g id=\"line2d_15\">\r\n      <g>\r\n       <use style=\"stroke:#000000;stroke-width:0.8;\" x=\"36.465625\" xlink:href=\"#m52996b06d1\" y=\"20.101945\"/>\r\n      </g>\r\n     </g>\r\n     <g id=\"text_15\">\r\n      <!-- 1.15 -->\r\n      <g transform=\"translate(7.2 23.901164)scale(0.1 -0.1)\">\r\n       <use xlink:href=\"#DejaVuSans-49\"/>\r\n       <use x=\"63.623047\" xlink:href=\"#DejaVuSans-46\"/>\r\n       <use x=\"95.410156\" xlink:href=\"#DejaVuSans-49\"/>\r\n       <use x=\"159.033203\" xlink:href=\"#DejaVuSans-53\"/>\r\n      </g>\r\n     </g>\r\n    </g>\r\n   </g>\r\n   <g id=\"line2d_16\">\r\n    <path clip-path=\"url(#paabdf52382)\" d=\"M 51.683807 34.464168 \r\nL 73.424067 59.183708 \r\nL 95.164326 76.868004 \r\nL 116.904586 91.310237 \r\nL 138.644846 99.204652 \r\nL 160.385106 112.022383 \r\nL 182.125365 120.515786 \r\nL 203.865625 130.25664 \r\nL 225.605885 140.160944 \r\nL 247.346144 150.834085 \r\nL 269.086404 161.575477 \r\nL 290.826664 172.602058 \r\nL 312.566924 183.021075 \r\nL 334.307183 194.178953 \r\nL 356.047443 206.307701 \r\n\" style=\"fill:none;stroke:#1f77b4;stroke-linecap:square;stroke-width:1.5;\"/>\r\n   </g>\r\n   <g id=\"line2d_17\">\r\n    <path clip-path=\"url(#paabdf52382)\" d=\"M 51.683807 17.083636 \r\nL 73.424067 54.088571 \r\nL 95.164326 80.696638 \r\nL 116.904586 99.678127 \r\nL 138.644846 116.119771 \r\nL 160.385106 127.088579 \r\nL 182.125365 137.511678 \r\nL 203.865625 146.678992 \r\nL 225.605885 155.743928 \r\nL 247.346144 164.575665 \r\nL 269.086404 172.641083 \r\nL 290.826664 182.116279 \r\nL 312.566924 192.018269 \r\nL 334.307183 203.62516 \r\nL 356.047443 214.756364 \r\n\" style=\"fill:none;stroke:#ff7f0e;stroke-linecap:square;stroke-width:1.5;\"/>\r\n   </g>\r\n   <g id=\"patch_3\">\r\n    <path d=\"M 36.465625 224.64 \r\nL 36.465625 7.2 \r\n\" style=\"fill:none;stroke:#000000;stroke-linecap:square;stroke-linejoin:miter;stroke-width:0.8;\"/>\r\n   </g>\r\n   <g id=\"patch_4\">\r\n    <path d=\"M 371.265625 224.64 \r\nL 371.265625 7.2 \r\n\" style=\"fill:none;stroke:#000000;stroke-linecap:square;stroke-linejoin:miter;stroke-width:0.8;\"/>\r\n   </g>\r\n   <g id=\"patch_5\">\r\n    <path d=\"M 36.465625 224.64 \r\nL 371.265625 224.64 \r\n\" style=\"fill:none;stroke:#000000;stroke-linecap:square;stroke-linejoin:miter;stroke-width:0.8;\"/>\r\n   </g>\r\n   <g id=\"patch_6\">\r\n    <path d=\"M 36.465625 7.2 \r\nL 371.265625 7.2 \r\n\" style=\"fill:none;stroke:#000000;stroke-linecap:square;stroke-linejoin:miter;stroke-width:0.8;\"/>\r\n   </g>\r\n   <g id=\"legend_1\">\r\n    <g id=\"patch_7\">\r\n     <path d=\"M 293.125 44.834375 \r\nL 364.265625 44.834375 \r\nQ 366.265625 44.834375 366.265625 42.834375 \r\nL 366.265625 14.2 \r\nQ 366.265625 12.2 364.265625 12.2 \r\nL 293.125 12.2 \r\nQ 291.125 12.2 291.125 14.2 \r\nL 291.125 42.834375 \r\nQ 291.125 44.834375 293.125 44.834375 \r\nz\r\n\" style=\"fill:#ffffff;opacity:0.8;stroke:#cccccc;stroke-linejoin:miter;\"/>\r\n    </g>\r\n    <g id=\"line2d_18\">\r\n     <path d=\"M 295.125 20.298438 \r\nL 315.125 20.298438 \r\n\" style=\"fill:none;stroke:#1f77b4;stroke-linecap:square;stroke-width:1.5;\"/>\r\n    </g>\r\n    <g id=\"line2d_19\"/>\r\n    <g id=\"text_16\">\r\n     <!-- loss -->\r\n     <g transform=\"translate(323.125 23.798438)scale(0.1 -0.1)\">\r\n      <defs>\r\n       <path d=\"M 9.421875 75.984375 \r\nL 18.40625 75.984375 \r\nL 18.40625 0 \r\nL 9.421875 0 \r\nz\r\n\" id=\"DejaVuSans-108\"/>\r\n       <path d=\"M 30.609375 48.390625 \r\nQ 23.390625 48.390625 19.1875 42.75 \r\nQ 14.984375 37.109375 14.984375 27.296875 \r\nQ 14.984375 17.484375 19.15625 11.84375 \r\nQ 23.34375 6.203125 30.609375 6.203125 \r\nQ 37.796875 6.203125 41.984375 11.859375 \r\nQ 46.1875 17.53125 46.1875 27.296875 \r\nQ 46.1875 37.015625 41.984375 42.703125 \r\nQ 37.796875 48.390625 30.609375 48.390625 \r\nz\r\nM 30.609375 56 \r\nQ 42.328125 56 49.015625 48.375 \r\nQ 55.71875 40.765625 55.71875 27.296875 \r\nQ 55.71875 13.875 49.015625 6.21875 \r\nQ 42.328125 -1.421875 30.609375 -1.421875 \r\nQ 18.84375 -1.421875 12.171875 6.21875 \r\nQ 5.515625 13.875 5.515625 27.296875 \r\nQ 5.515625 40.765625 12.171875 48.375 \r\nQ 18.84375 56 30.609375 56 \r\nz\r\n\" id=\"DejaVuSans-111\"/>\r\n       <path d=\"M 44.28125 53.078125 \r\nL 44.28125 44.578125 \r\nQ 40.484375 46.53125 36.375 47.5 \r\nQ 32.28125 48.484375 27.875 48.484375 \r\nQ 21.1875 48.484375 17.84375 46.4375 \r\nQ 14.5 44.390625 14.5 40.28125 \r\nQ 14.5 37.15625 16.890625 35.375 \r\nQ 19.28125 33.59375 26.515625 31.984375 \r\nL 29.59375 31.296875 \r\nQ 39.15625 29.25 43.1875 25.515625 \r\nQ 47.21875 21.78125 47.21875 15.09375 \r\nQ 47.21875 7.46875 41.1875 3.015625 \r\nQ 35.15625 -1.421875 24.609375 -1.421875 \r\nQ 20.21875 -1.421875 15.453125 -0.5625 \r\nQ 10.6875 0.296875 5.421875 2 \r\nL 5.421875 11.28125 \r\nQ 10.40625 8.6875 15.234375 7.390625 \r\nQ 20.0625 6.109375 24.8125 6.109375 \r\nQ 31.15625 6.109375 34.5625 8.28125 \r\nQ 37.984375 10.453125 37.984375 14.40625 \r\nQ 37.984375 18.0625 35.515625 20.015625 \r\nQ 33.0625 21.96875 24.703125 23.78125 \r\nL 21.578125 24.515625 \r\nQ 13.234375 26.265625 9.515625 29.90625 \r\nQ 5.8125 33.546875 5.8125 39.890625 \r\nQ 5.8125 47.609375 11.28125 51.796875 \r\nQ 16.75 56 26.8125 56 \r\nQ 31.78125 56 36.171875 55.265625 \r\nQ 40.578125 54.546875 44.28125 53.078125 \r\nz\r\n\" id=\"DejaVuSans-115\"/>\r\n      </defs>\r\n      <use xlink:href=\"#DejaVuSans-108\"/>\r\n      <use x=\"27.783203\" xlink:href=\"#DejaVuSans-111\"/>\r\n      <use x=\"88.964844\" xlink:href=\"#DejaVuSans-115\"/>\r\n      <use x=\"141.064453\" xlink:href=\"#DejaVuSans-115\"/>\r\n     </g>\r\n    </g>\r\n    <g id=\"line2d_20\">\r\n     <path d=\"M 295.125 34.976562 \r\nL 315.125 34.976562 \r\n\" style=\"fill:none;stroke:#ff7f0e;stroke-linecap:square;stroke-width:1.5;\"/>\r\n    </g>\r\n    <g id=\"line2d_21\"/>\r\n    <g id=\"text_17\">\r\n     <!-- val_loss -->\r\n     <g transform=\"translate(323.125 38.476562)scale(0.1 -0.1)\">\r\n      <defs>\r\n       <path d=\"M 2.984375 54.6875 \r\nL 12.5 54.6875 \r\nL 29.59375 8.796875 \r\nL 46.6875 54.6875 \r\nL 56.203125 54.6875 \r\nL 35.6875 0 \r\nL 23.484375 0 \r\nz\r\n\" id=\"DejaVuSans-118\"/>\r\n       <path d=\"M 34.28125 27.484375 \r\nQ 23.390625 27.484375 19.1875 25 \r\nQ 14.984375 22.515625 14.984375 16.5 \r\nQ 14.984375 11.71875 18.140625 8.90625 \r\nQ 21.296875 6.109375 26.703125 6.109375 \r\nQ 34.1875 6.109375 38.703125 11.40625 \r\nQ 43.21875 16.703125 43.21875 25.484375 \r\nL 43.21875 27.484375 \r\nz\r\nM 52.203125 31.203125 \r\nL 52.203125 0 \r\nL 43.21875 0 \r\nL 43.21875 8.296875 \r\nQ 40.140625 3.328125 35.546875 0.953125 \r\nQ 30.953125 -1.421875 24.3125 -1.421875 \r\nQ 15.921875 -1.421875 10.953125 3.296875 \r\nQ 6 8.015625 6 15.921875 \r\nQ 6 25.140625 12.171875 29.828125 \r\nQ 18.359375 34.515625 30.609375 34.515625 \r\nL 43.21875 34.515625 \r\nL 43.21875 35.40625 \r\nQ 43.21875 41.609375 39.140625 45 \r\nQ 35.0625 48.390625 27.6875 48.390625 \r\nQ 23 48.390625 18.546875 47.265625 \r\nQ 14.109375 46.140625 10.015625 43.890625 \r\nL 10.015625 52.203125 \r\nQ 14.9375 54.109375 19.578125 55.046875 \r\nQ 24.21875 56 28.609375 56 \r\nQ 40.484375 56 46.34375 49.84375 \r\nQ 52.203125 43.703125 52.203125 31.203125 \r\nz\r\n\" id=\"DejaVuSans-97\"/>\r\n       <path d=\"M 50.984375 -16.609375 \r\nL 50.984375 -23.578125 \r\nL -0.984375 -23.578125 \r\nL -0.984375 -16.609375 \r\nz\r\n\" id=\"DejaVuSans-95\"/>\r\n      </defs>\r\n      <use xlink:href=\"#DejaVuSans-118\"/>\r\n      <use x=\"59.179688\" xlink:href=\"#DejaVuSans-97\"/>\r\n      <use x=\"120.458984\" xlink:href=\"#DejaVuSans-108\"/>\r\n      <use x=\"148.242188\" xlink:href=\"#DejaVuSans-95\"/>\r\n      <use x=\"198.242188\" xlink:href=\"#DejaVuSans-108\"/>\r\n      <use x=\"226.025391\" xlink:href=\"#DejaVuSans-111\"/>\r\n      <use x=\"287.207031\" xlink:href=\"#DejaVuSans-115\"/>\r\n      <use x=\"339.306641\" xlink:href=\"#DejaVuSans-115\"/>\r\n     </g>\r\n    </g>\r\n   </g>\r\n  </g>\r\n </g>\r\n <defs>\r\n  <clipPath id=\"paabdf52382\">\r\n   <rect height=\"217.44\" width=\"334.8\" x=\"36.465625\" y=\"7.2\"/>\r\n  </clipPath>\r\n </defs>\r\n</svg>\r\n",
      "image/png": "[encoded data removed]"
     },
     "metadata": {
      "needs_background": "light"
     }
    }
   ],
   "source": [
    "history.plot(kind='line', y=['loss', 'val_loss'])"
   ]
  },
  {
   "cell_type": "code",
   "execution_count": 8,
   "metadata": {},
   "outputs": [
    {
     "output_type": "execute_result",
     "data": {
      "text/plain": [
       "OrderedDict([('loss', 0.81155217), ('acc', 0.9505682)])"
      ]
     },
     "metadata": {},
     "execution_count": 8
    }
   ],
   "source": [
    "model.evaluate(X, y)"
   ]
  },
  {
   "cell_type": "code",
   "execution_count": 9,
   "metadata": {},
   "outputs": [
    {
     "output_type": "execute_result",
     "data": {
      "text/plain": [
       "array([[ 0.5312903 , -0.19827157, -0.18038115],\n",
       "       [ 0.42034125, -0.13267046, -0.141011  ],\n",
       "       [ 0.47793502, -0.17174369, -0.16838089],\n",
       "       [ 0.4104807 , -0.15519157, -0.157296  ],\n",
       "       [ 0.542342  , -0.2139661 , -0.19081193],\n",
       "       [ 0.49892765, -0.21785235, -0.17992714],\n",
       "       [ 0.45725918, -0.18956682, -0.17547163],\n",
       "       [ 0.48490882, -0.18503127, -0.17236999],\n",
       "       [ 0.38585642, -0.13646239, -0.14755562],\n",
       "       [ 0.446979  , -0.1533322 , -0.15618432],\n",
       "       [ 0.5609041 , -0.21399629, -0.18704021],\n",
       "       [ 0.45388559, -0.18832871, -0.17633379],\n",
       "       [ 0.442358  , -0.14509585, -0.1529508 ],\n",
       "       [ 0.48049957, -0.16614771, -0.17566487],\n",
       "       [ 0.67533594, -0.24785322, -0.21062824],\n",
       "       [ 0.63564664, -0.27717593, -0.21408856],\n",
       "       [ 0.5777615 , -0.22786292, -0.1868268 ],\n",
       "       [ 0.5042926 , -0.19010922, -0.1707373 ],\n",
       "       [ 0.51995206, -0.20350143, -0.17295754],\n",
       "       [ 0.5323499 , -0.22733751, -0.19164854],\n",
       "       [ 0.45806485, -0.16443405, -0.15402117],\n",
       "       [ 0.49061286, -0.20513424, -0.17481458],\n",
       "       [ 0.58082205, -0.21976486, -0.207558  ],\n",
       "       [ 0.3435731 , -0.13356823, -0.12742203],\n",
       "       [ 0.3878767 , -0.17486319, -0.16873026],\n",
       "       [ 0.38569954, -0.12295745, -0.1318163 ],\n",
       "       [ 0.40736145, -0.16394952, -0.15133819],\n",
       "       [ 0.5132598 , -0.19266364, -0.17528164],\n",
       "       [ 0.51156247, -0.18089151, -0.16937968],\n",
       "       [ 0.4118026 , -0.16284761, -0.16094267],\n",
       "       [ 0.39760387, -0.14494771, -0.14851877],\n",
       "       [ 0.4432184 , -0.15343562, -0.14194253],\n",
       "       [ 0.6296631 , -0.26078174, -0.23177761],\n",
       "       [ 0.66243654, -0.26968142, -0.2239559 ],\n",
       "       [ 0.4237939 , -0.14483783, -0.14744487],\n",
       "       [ 0.49880564, -0.16435397, -0.16388589],\n",
       "       [ 0.55076534, -0.1869483 , -0.17378521],\n",
       "       [ 0.5591945 , -0.21812233, -0.202066  ],\n",
       "       [ 0.42608723, -0.15325937, -0.15934941],\n",
       "       [ 0.48942977, -0.18165153, -0.16916266],\n",
       "       [ 0.51989484, -0.1954217 , -0.17497924],\n",
       "       [ 0.25546998, -0.03280026, -0.08073799],\n",
       "       [ 0.4590451 , -0.17978296, -0.17608204],\n",
       "       [ 0.3717165 , -0.15938336, -0.14024746],\n",
       "       [ 0.41913247, -0.20234102, -0.17699927],\n",
       "       [ 0.39508927, -0.12812206, -0.13469231],\n",
       "       [ 0.53866947, -0.22921094, -0.1999557 ],\n",
       "       [ 0.45087913, -0.17232707, -0.16907543],\n",
       "       [ 0.5566605 , -0.21725014, -0.18966293],\n",
       "       [ 0.48814166, -0.17373651, -0.165528  ],\n",
       "       [-0.53557193,  0.18104187,  0.15872502],\n",
       "       [-0.54575676,  0.15771544,  0.14307883],\n",
       "       [-0.6259473 ,  0.21591449,  0.1938527 ],\n",
       "       [-0.57756555,  0.22753957,  0.18346703],\n",
       "       [-0.62822366,  0.23268846,  0.206673  ],\n",
       "       [-0.59579915,  0.18542296,  0.15400332],\n",
       "       [-0.5990425 ,  0.1598551 ,  0.14971519],\n",
       "       [-0.3575822 ,  0.1226962 ,  0.07660434],\n",
       "       [-0.5575995 ,  0.20366958,  0.16881445],\n",
       "       [-0.5212982 ,  0.1553728 ,  0.125408  ],\n",
       "       [-0.4663838 ,  0.20395568,  0.1410887 ],\n",
       "       [-0.5333483 ,  0.15545252,  0.13796756],\n",
       "       [-0.49404454,  0.23301837,  0.17571962],\n",
       "       [-0.6307472 ,  0.20210564,  0.1749078 ],\n",
       "       [-0.37593293,  0.10975913,  0.08979426],\n",
       "       [-0.49800807,  0.16925654,  0.14760196],\n",
       "       [-0.6012426 ,  0.1693846 ,  0.14696854],\n",
       "       [-0.4455284 ,  0.15290451,  0.10627589],\n",
       "       [-0.7162454 ,  0.30932707,  0.28335744],\n",
       "       [-0.4689612 ,  0.17570084,  0.12658921],\n",
       "       [-0.6842994 ,  0.19224778,  0.18787408],\n",
       "       [-0.46374577,  0.16543889,  0.13407373],\n",
       "       [-0.7560381 ,  0.29003665,  0.27311096],\n",
       "       [-0.5982427 ,  0.20023187,  0.16631594],\n",
       "       [-0.50123245,  0.17703134,  0.14537764],\n",
       "       [-0.52157056,  0.18133539,  0.15647298],\n",
       "       [-0.63291645,  0.24534878,  0.21554932],\n",
       "       [-0.7230097 ,  0.2491073 ,  0.23925671],\n",
       "       [-0.6164473 ,  0.1942133 ,  0.17081574],\n",
       "       [-0.32410634,  0.12773988,  0.08852833],\n",
       "       [-0.46775538,  0.18223882,  0.13147956],\n",
       "       [-0.42027932,  0.16679704,  0.11355212],\n",
       "       [-0.44942835,  0.1571329 ,  0.11968898],\n",
       "       [-0.800844  ,  0.27066588,  0.26791063],\n",
       "       [-0.6024789 ,  0.16650312,  0.14019832],\n",
       "       [-0.53654575,  0.1267418 ,  0.11986735],\n",
       "       [-0.5919507 ,  0.19614811,  0.17616576],\n",
       "       [-0.626053  ,  0.27505717,  0.23597363],\n",
       "       [-0.47264668,  0.12492099,  0.09944098],\n",
       "       [-0.54564214,  0.19499919,  0.15522096],\n",
       "       [-0.5934512 ,  0.194315  ,  0.1596553 ],\n",
       "       [-0.59229356,  0.18008079,  0.15330899],\n",
       "       [-0.48926342,  0.17989287,  0.13778022],\n",
       "       [-0.37048316,  0.1418666 ,  0.09122503],\n",
       "       [-0.5534262 ,  0.17891198,  0.14234662],\n",
       "       [-0.4704054 ,  0.12499435,  0.09570685],\n",
       "       [-0.515596  ,  0.1491712 ,  0.11790789],\n",
       "       [-0.5119774 ,  0.17100903,  0.1391905 ],\n",
       "       [-0.2800691 ,  0.10704488,  0.0701907 ],\n",
       "       [-0.5098908 ,  0.15863013,  0.12595654],\n",
       "       [-1.0351207 ,  0.3387894 ,  0.36498928],\n",
       "       [-0.8644864 ,  0.29242837,  0.30182618],\n",
       "       [-0.99833274,  0.34728357,  0.37780473],\n",
       "       [-0.90140694,  0.29699948,  0.31361428],\n",
       "       [-1.0013376 ,  0.33649236,  0.37050837],\n",
       "       [-1.1289431 ,  0.4031416 ,  0.45210987],\n",
       "       [-0.74320287,  0.25010866,  0.23094511],\n",
       "       [-1.0228176 ,  0.3660113 ,  0.3962459 ],\n",
       "       [-1.0076963 ,  0.37980112,  0.3999365 ],\n",
       "       [-1.0052028 ,  0.30829623,  0.35820866],\n",
       "       [-0.78188604,  0.2421743 ,  0.25298798],\n",
       "       [-0.9006114 ,  0.31992966,  0.33080092],\n",
       "       [-0.91943175,  0.31574222,  0.33677036],\n",
       "       [-0.90449935,  0.32320702,  0.33326775],\n",
       "       [-0.94912547,  0.3253973 ,  0.34859905],\n",
       "       [-0.88703394,  0.27931684,  0.3073011 ],\n",
       "       [-0.86072105,  0.28071442,  0.29324833],\n",
       "       [-1.0186604 ,  0.3010696 ,  0.35156298],\n",
       "       [-1.3013926 ,  0.50102043,  0.5616116 ],\n",
       "       [-0.84291047,  0.3322257 ,  0.32169122],\n",
       "       [-0.96347994,  0.31804657,  0.3510917 ],\n",
       "       [-0.82751304,  0.27147862,  0.27589375],\n",
       "       [-1.1577489 ,  0.43369725,  0.48028874],\n",
       "       [-0.7916746 ,  0.2857933 ,  0.282192  ],\n",
       "       [-0.9029214 ,  0.27982664,  0.307118  ],\n",
       "       [-0.9106594 ,  0.29983318,  0.3210047 ],\n",
       "       [-0.75620896,  0.2617581 ,  0.2557664 ],\n",
       "       [-0.74150616,  0.23389068,  0.23052281],\n",
       "       [-0.9835762 ,  0.3411301 ,  0.36861986],\n",
       "       [-0.8558382 ,  0.301143  ,  0.30608678],\n",
       "       [-1.0162901 ,  0.38119677,  0.4066446 ],\n",
       "       [-0.91329634,  0.2699307 ,  0.30419362],\n",
       "       [-1.0036386 ,  0.35044298,  0.38075855],\n",
       "       [-0.75082475,  0.2554023 ,  0.24415451],\n",
       "       [-0.87243813,  0.29929584,  0.3072455 ],\n",
       "       [-1.0585988 ,  0.39532235,  0.43624663],\n",
       "       [-0.92837936,  0.28183934,  0.3079186 ],\n",
       "       [-0.8408719 ,  0.26345378,  0.27542764],\n",
       "       [-0.72235715,  0.22407517,  0.2205311 ],\n",
       "       [-0.8763852 ,  0.29805493,  0.3158561 ],\n",
       "       [-0.9855468 ,  0.3307999 ,  0.3666675 ],\n",
       "       [-0.85343605,  0.29740885,  0.3208866 ],\n",
       "       [-0.8644864 ,  0.29242837,  0.30182618],\n",
       "       [-1.0048909 ,  0.32713497,  0.3679562 ],\n",
       "       [-0.98769385,  0.3162673 ,  0.3581821 ],\n",
       "       [-0.8972686 ,  0.31366432,  0.33819562],\n",
       "       [-0.8692587 ,  0.33099008,  0.3356423 ],\n",
       "       [-0.840254  ,  0.2810415 ,  0.29089975],\n",
       "       [-0.8688748 ,  0.25612214,  0.27676105],\n",
       "       [-0.7828303 ,  0.24254504,  0.24318856]], dtype=float32)"
      ]
     },
     "metadata": {},
     "execution_count": 9
    }
   ],
   "source": [
    "model.predict(X)"
   ]
  },
  {
   "cell_type": "code",
   "execution_count": null,
   "metadata": {},
   "outputs": [],
   "source": []
  }
 ]
}