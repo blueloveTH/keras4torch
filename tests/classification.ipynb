{
 "metadata": {
  "language_info": {
   "codemirror_mode": {
    "name": "ipython",
    "version": 3
   },
   "file_extension": ".py",
   "mimetype": "text/x-python",
   "name": "python",
   "nbconvert_exporter": "python",
   "pygments_lexer": "ipython3",
   "version": "3.7.8-final"
  },
  "orig_nbformat": 2,
  "kernelspec": {
   "name": "Python 3.7.8 64-bit ('kesci_compete')",
   "display_name": "Python 3.7.8 64-bit ('kesci_compete')",
   "metadata": {
    "interpreter": {
     "hash": "8dc6728e8885f5cf3d484bdac908677760b39a28192ba674e6f789c8dc6420a9"
    }
   }
  }
 },
 "nbformat": 4,
 "nbformat_minor": 2,
 "cells": [
  {
   "cell_type": "code",
   "execution_count": 1,
   "metadata": {},
   "outputs": [],
   "source": [
    "import sys\n",
    "\n",
    "sys.path.append('../')\n",
    "\n",
    "import keras4torch as k4t\n",
    "import torch\n",
    "from torch import nn\n",
    "from sklearn.datasets import load_iris\n",
    "import numpy as np\n",
    "from keras4torch.metrics import *"
   ]
  },
  {
   "cell_type": "code",
   "execution_count": 2,
   "metadata": {},
   "outputs": [],
   "source": [
    "X, y = load_iris(return_X_y=True)\n",
    "X = X.astype(np.float32)\n",
    "y = y.astype(np.int64)"
   ]
  },
  {
   "cell_type": "code",
   "execution_count": 3,
   "metadata": {},
   "outputs": [
    {
     "output_type": "execute_result",
     "data": {
      "text/plain": [
       "('1.1.1', '1.19.1')"
      ]
     },
     "metadata": {},
     "execution_count": 3
    }
   ],
   "source": [
    "import pandas\n",
    "import numpy\n",
    "pandas.__version__, numpy.__version__"
   ]
  },
  {
   "cell_type": "code",
   "execution_count": 4,
   "metadata": {},
   "outputs": [],
   "source": [
    "model = nn.Sequential(\n",
    "    nn.Linear(4, 128), nn.ReLU(),\n",
    "    nn.Sequential(\n",
    "        nn.Linear(128, 64), nn.ReLU()\n",
    "    ),\n",
    "    nn.Linear(64, 3)\n",
    ")\n",
    "\n",
    "model = k4t.Model(model)"
   ]
  },
  {
   "cell_type": "code",
   "execution_count": 5,
   "metadata": {},
   "outputs": [],
   "source": [
    "def accuracy(y_pred, y_true):\n",
    "    right_cnt = (y_pred.argmax(-1) == y_true).sum()\n",
    "    return right_cnt * 1.0 / y_true.shape[0]\n",
    "\n",
    "model.compile(optimizer='adam', loss='ce_loss', metrics=['acc'])"
   ]
  },
  {
   "cell_type": "code",
   "execution_count": 6,
   "metadata": {},
   "outputs": [
    {
     "output_type": "stream",
     "name": "stdout",
     "text": [
      "==========================================================================================\nLayer (type:depth-idx)                   Output Shape              Param #\n==========================================================================================\n├─Linear: 1-1                            [-1, 128]                 640\n├─ReLU: 1-2                              [-1, 128]                 --\n├─Sequential: 1-3                        [-1, 64]                  --\n|    └─Linear: 2-1                       [-1, 64]                  8,256\n|    └─ReLU: 2-2                         [-1, 64]                  --\n├─Linear: 1-4                            [-1, 3]                   195\n==========================================================================================\nTotal params: 9,091\nTrainable params: 9,091\nNon-trainable params: 0\nTotal mult-adds (M): 0.02\n==========================================================================================\nInput size (MB): 0.00\nForward/backward pass size (MB): 0.00\nParams size (MB): 0.03\nEstimated Total Size (MB): 0.04\n==========================================================================================\n"
     ]
    }
   ],
   "source": [
    "model.summary(input_shape=[4])"
   ]
  },
  {
   "cell_type": "code",
   "execution_count": 7,
   "metadata": {},
   "outputs": [
    {
     "output_type": "stream",
     "name": "stdout",
     "text": [
      "Train on 120 samples, validate on 30 samples:\n",
      "Epoch 1/40 - 0.0s - loss: 1.1628 - acc: 0.4219 - val_loss: 1.0974 - val_acc: 0.4000 - lr: 1e-03\n",
      "[INFO] Model saved at 'best_model.pt'. The best score is 0.4000.\n",
      "Epoch 2/40 - 0.0s - loss: 1.0291 - acc: 0.6094 - val_loss: 0.9953 - val_acc: 0.5333 - lr: 1e-03\n",
      "[INFO] Model saved at 'best_model.pt'. The best score is 0.5333.\n",
      "Epoch 3/40 - 0.0s - loss: 0.9465 - acc: 0.6901 - val_loss: 0.9281 - val_acc: 0.5333 - lr: 1e-03\n",
      "Epoch 4/40 - 0.0s - loss: 0.8609 - acc: 0.7005 - val_loss: 0.8798 - val_acc: 0.5333 - lr: 1e-03\n",
      "Epoch 5/40 - 0.0s - loss: 0.7832 - acc: 0.6953 - val_loss: 0.8371 - val_acc: 0.5333 - lr: 1e-03\n",
      "Epoch 6/40 - 0.0s - loss: 0.7083 - acc: 0.6953 - val_loss: 0.7756 - val_acc: 0.5333 - lr: 1e-03\n",
      "Epoch 7/40 - 0.0s - loss: 0.6455 - acc: 0.6875 - val_loss: 0.7153 - val_acc: 0.5333 - lr: 1e-03\n",
      "Epoch 8/40 - 0.0s - loss: 0.5847 - acc: 0.6953 - val_loss: 0.6517 - val_acc: 0.5333 - lr: 1e-03\n",
      "Epoch 9/40 - 0.0s - loss: 0.5262 - acc: 0.7969 - val_loss: 0.5906 - val_acc: 0.8333 - lr: 1e-03\n",
      "[INFO] Model saved at 'best_model.pt'. The best score is 0.8333.\n",
      "Epoch 10/40 - 0.0s - loss: 0.4875 - acc: 0.8932 - val_loss: 0.5525 - val_acc: 0.8333 - lr: 1e-03\n",
      "Epoch 11/40 - 0.0s - loss: 0.4498 - acc: 0.8438 - val_loss: 0.5307 - val_acc: 0.7000 - lr: 1e-03\n",
      "Epoch 12/40 - 0.0s - loss: 0.4196 - acc: 0.8281 - val_loss: 0.5005 - val_acc: 0.8333 - lr: 1e-03\n",
      "Epoch 13/40 - 0.0s - loss: 0.3927 - acc: 0.8672 - val_loss: 0.4722 - val_acc: 0.8333 - lr: 1e-03\n",
      "Epoch 14/40 - 0.0s - loss: 0.3682 - acc: 0.8932 - val_loss: 0.4458 - val_acc: 0.9000 - lr: 1e-03\n",
      "[INFO] Model saved at 'best_model.pt'. The best score is 0.9000.\n",
      "Epoch 15/40 - 0.0s - loss: 0.3513 - acc: 0.9245 - val_loss: 0.4205 - val_acc: 0.9667 - lr: 1e-03\n",
      "[INFO] Model saved at 'best_model.pt'. The best score is 0.9667.\n",
      "Epoch 16/40 - 0.0s - loss: 0.3306 - acc: 0.9349 - val_loss: 0.3911 - val_acc: 0.9667 - lr: 1e-03\n",
      "Epoch 17/40 - 0.0s - loss: 0.3158 - acc: 0.9661 - val_loss: 0.3714 - val_acc: 0.9667 - lr: 1e-03\n",
      "Epoch 18/40 - 0.0s - loss: 0.2921 - acc: 0.9349 - val_loss: 0.3595 - val_acc: 0.9667 - lr: 1e-03\n",
      "Epoch 19/40 - 0.0s - loss: 0.2820 - acc: 0.9349 - val_loss: 0.3304 - val_acc: 0.9667 - lr: 1e-03\n",
      "Epoch 20/40 - 0.0s - loss: 0.2645 - acc: 0.9583 - val_loss: 0.3061 - val_acc: 0.9667 - lr: 1e-03\n",
      "Epoch 21/40 - 0.0s - loss: 0.2488 - acc: 0.9661 - val_loss: 0.2863 - val_acc: 0.9667 - lr: 1e-03\n",
      "Epoch 22/40 - 0.0s - loss: 0.2385 - acc: 0.9609 - val_loss: 0.2779 - val_acc: 0.9667 - lr: 1e-03\n",
      "Epoch 23/40 - 0.0s - loss: 0.2215 - acc: 0.9661 - val_loss: 0.2542 - val_acc: 0.9667 - lr: 1e-03\n",
      "Epoch 24/40 - 0.0s - loss: 0.2117 - acc: 0.9766 - val_loss: 0.2367 - val_acc: 0.9667 - lr: 1e-03\n",
      "Epoch 25/40 - 0.0s - loss: 0.2062 - acc: 0.9740 - val_loss: 0.2333 - val_acc: 0.9667 - lr: 1e-03\n",
      "Epoch 26/40 - 0.0s - loss: 0.1893 - acc: 0.9661 - val_loss: 0.2097 - val_acc: 0.9667 - lr: 1e-03\n",
      "Epoch 27/40 - 0.0s - loss: 0.1800 - acc: 0.9844 - val_loss: 0.1975 - val_acc: 0.9667 - lr: 1e-03\n",
      "Epoch 28/40 - 0.0s - loss: 0.1722 - acc: 0.9818 - val_loss: 0.1938 - val_acc: 0.9667 - lr: 1e-03\n",
      "Epoch 29/40 - 0.0s - loss: 0.1642 - acc: 0.9688 - val_loss: 0.1791 - val_acc: 0.9667 - lr: 1e-03\n",
      "Epoch 30/40 - 0.0s - loss: 0.1607 - acc: 0.9714 - val_loss: 0.1694 - val_acc: 0.9667 - lr: 1e-03\n",
      "Epoch 31/40 - 0.0s - loss: 0.1496 - acc: 0.9766 - val_loss: 0.1596 - val_acc: 0.9667 - lr: 1e-03\n",
      "Epoch 32/40 - 0.0s - loss: 0.1453 - acc: 0.9766 - val_loss: 0.1555 - val_acc: 0.9667 - lr: 1e-03\n",
      "Epoch 33/40 - 0.0s - loss: 0.1413 - acc: 0.9714 - val_loss: 0.1464 - val_acc: 0.9667 - lr: 1e-03\n",
      "Epoch 34/40 - 0.0s - loss: 0.1362 - acc: 0.9766 - val_loss: 0.1387 - val_acc: 0.9667 - lr: 1e-03\n",
      "Epoch 35/40 - 0.0s - loss: 0.1285 - acc: 0.9766 - val_loss: 0.1361 - val_acc: 0.9667 - lr: 1e-03\n",
      "Epoch 36/40 - 0.0s - loss: 0.1255 - acc: 0.9766 - val_loss: 0.1290 - val_acc: 0.9667 - lr: 1e-03\n",
      "Epoch 37/40 - 0.0s - loss: 0.1217 - acc: 0.9844 - val_loss: 0.1242 - val_acc: 0.9667 - lr: 1e-03\n",
      "Epoch 38/40 - 0.0s - loss: 0.1219 - acc: 0.9740 - val_loss: 0.1227 - val_acc: 0.9667 - lr: 1e-03\n",
      "Epoch 39/40 - 0.0s - loss: 0.1258 - acc: 0.9740 - val_loss: 0.1165 - val_acc: 1.0000 - lr: 1e-03\n",
      "[INFO] Model saved at 'best_model.pt'. The best score is 1.0000.\n",
      "Epoch 40/40 - 0.0s - loss: 0.1188 - acc: 0.9766 - val_loss: 0.1187 - val_acc: 0.9667 - lr: 1e-03\n"
     ]
    }
   ],
   "source": [
    "history = model.fit(X, y,\n",
    "            epochs=40,\n",
    "            validation_split=0.2,\n",
    "            callbacks=[k4t.callbacks.ModelCheckpoint('best_model.pt', monitor='val_acc')]\n",
    "            )"
   ]
  },
  {
   "cell_type": "code",
   "execution_count": 8,
   "metadata": {},
   "outputs": [
    {
     "output_type": "execute_result",
     "data": {
      "text/plain": [
       "<AxesSubplot:>"
      ]
     },
     "metadata": {},
     "execution_count": 8
    },
    {
     "output_type": "display_data",
     "data": {
      "text/plain": "<Figure size 432x288 with 1 Axes>",
      "image/svg+xml": "<?xml version=\"1.0\" encoding=\"utf-8\" standalone=\"no\"?>\r\n<!DOCTYPE svg PUBLIC \"-//W3C//DTD SVG 1.1//EN\"\r\n  \"http://www.w3.org/Graphics/SVG/1.1/DTD/svg11.dtd\">\r\n<!-- Created with matplotlib (https://matplotlib.org/) -->\r\n<svg height=\"249.464604pt\" version=\"1.1\" viewBox=\"0 0 372.103125 249.464604\" width=\"372.103125pt\" xmlns=\"http://www.w3.org/2000/svg\" xmlns:xlink=\"http://www.w3.org/1999/xlink\">\r\n <metadata>\r\n  <rdf:RDF xmlns:cc=\"http://creativecommons.org/ns#\" xmlns:dc=\"http://purl.org/dc/elements/1.1/\" xmlns:rdf=\"http://www.w3.org/1999/02/22-rdf-syntax-ns#\">\r\n   <cc:Work>\r\n    <dc:type rdf:resource=\"http://purl.org/dc/dcmitype/StillImage\"/>\r\n    <dc:date>2020-10-13T17:57:44.980910</dc:date>\r\n    <dc:format>image/svg+xml</dc:format>\r\n    <dc:creator>\r\n     <cc:Agent>\r\n      <dc:title>Matplotlib v3.3.1, https://matplotlib.org/</dc:title>\r\n     </cc:Agent>\r\n    </dc:creator>\r\n   </cc:Work>\r\n  </rdf:RDF>\r\n </metadata>\r\n <defs>\r\n  <style type=\"text/css\">*{stroke-linecap:butt;stroke-linejoin:round;}</style>\r\n </defs>\r\n <g id=\"figure_1\">\r\n  <g id=\"patch_1\">\r\n   <path d=\"M 0 249.464604 \r\nL 372.103125 249.464604 \r\nL 372.103125 0 \r\nL 0 0 \r\nz\r\n\" style=\"fill:none;\"/>\r\n  </g>\r\n  <g id=\"axes_1\">\r\n   <g id=\"patch_2\">\r\n    <path d=\"M 30.103125 225.586479 \r\nL 364.903125 225.586479 \r\nL 364.903125 8.146479 \r\nL 30.103125 8.146479 \r\nz\r\n\" style=\"fill:#ffffff;\"/>\r\n   </g>\r\n   <g id=\"matplotlib.axis_1\">\r\n    <g id=\"xtick_1\">\r\n     <g id=\"line2d_1\">\r\n      <defs>\r\n       <path d=\"M 0 0 \r\nL 0 3.5 \r\n\" id=\"m2b3aab0455\" style=\"stroke:#000000;stroke-width:0.8;\"/>\r\n      </defs>\r\n      <g>\r\n       <use style=\"stroke:#000000;stroke-width:0.8;\" x=\"37.517111\" xlink:href=\"#m2b3aab0455\" y=\"225.586479\"/>\r\n      </g>\r\n     </g>\r\n     <g id=\"text_1\">\r\n      <!-- 0 -->\r\n      <g transform=\"translate(34.335861 240.184916)scale(0.1 -0.1)\">\r\n       <defs>\r\n        <path d=\"M 31.78125 66.40625 \r\nQ 24.171875 66.40625 20.328125 58.90625 \r\nQ 16.5 51.421875 16.5 36.375 \r\nQ 16.5 21.390625 20.328125 13.890625 \r\nQ 24.171875 6.390625 31.78125 6.390625 \r\nQ 39.453125 6.390625 43.28125 13.890625 \r\nQ 47.125 21.390625 47.125 36.375 \r\nQ 47.125 51.421875 43.28125 58.90625 \r\nQ 39.453125 66.40625 31.78125 66.40625 \r\nz\r\nM 31.78125 74.21875 \r\nQ 44.046875 74.21875 50.515625 64.515625 \r\nQ 56.984375 54.828125 56.984375 36.375 \r\nQ 56.984375 17.96875 50.515625 8.265625 \r\nQ 44.046875 -1.421875 31.78125 -1.421875 \r\nQ 19.53125 -1.421875 13.0625 8.265625 \r\nQ 6.59375 17.96875 6.59375 36.375 \r\nQ 6.59375 54.828125 13.0625 64.515625 \r\nQ 19.53125 74.21875 31.78125 74.21875 \r\nz\r\n\" id=\"DejaVuSans-48\"/>\r\n       </defs>\r\n       <use xlink:href=\"#DejaVuSans-48\"/>\r\n      </g>\r\n     </g>\r\n    </g>\r\n    <g id=\"xtick_2\">\r\n     <g id=\"line2d_2\">\r\n      <g>\r\n       <use style=\"stroke:#000000;stroke-width:0.8;\" x=\"76.53809\" xlink:href=\"#m2b3aab0455\" y=\"225.586479\"/>\r\n      </g>\r\n     </g>\r\n     <g id=\"text_2\">\r\n      <!-- 5 -->\r\n      <g transform=\"translate(73.35684 240.184916)scale(0.1 -0.1)\">\r\n       <defs>\r\n        <path d=\"M 10.796875 72.90625 \r\nL 49.515625 72.90625 \r\nL 49.515625 64.59375 \r\nL 19.828125 64.59375 \r\nL 19.828125 46.734375 \r\nQ 21.96875 47.46875 24.109375 47.828125 \r\nQ 26.265625 48.1875 28.421875 48.1875 \r\nQ 40.625 48.1875 47.75 41.5 \r\nQ 54.890625 34.8125 54.890625 23.390625 \r\nQ 54.890625 11.625 47.5625 5.09375 \r\nQ 40.234375 -1.421875 26.90625 -1.421875 \r\nQ 22.3125 -1.421875 17.546875 -0.640625 \r\nQ 12.796875 0.140625 7.71875 1.703125 \r\nL 7.71875 11.625 \r\nQ 12.109375 9.234375 16.796875 8.0625 \r\nQ 21.484375 6.890625 26.703125 6.890625 \r\nQ 35.15625 6.890625 40.078125 11.328125 \r\nQ 45.015625 15.765625 45.015625 23.390625 \r\nQ 45.015625 31 40.078125 35.4375 \r\nQ 35.15625 39.890625 26.703125 39.890625 \r\nQ 22.75 39.890625 18.8125 39.015625 \r\nQ 14.890625 38.140625 10.796875 36.28125 \r\nz\r\n\" id=\"DejaVuSans-53\"/>\r\n       </defs>\r\n       <use xlink:href=\"#DejaVuSans-53\"/>\r\n      </g>\r\n     </g>\r\n    </g>\r\n    <g id=\"xtick_3\">\r\n     <g id=\"line2d_3\">\r\n      <g>\r\n       <use style=\"stroke:#000000;stroke-width:0.8;\" x=\"115.559069\" xlink:href=\"#m2b3aab0455\" y=\"225.586479\"/>\r\n      </g>\r\n     </g>\r\n     <g id=\"text_3\">\r\n      <!-- 10 -->\r\n      <g transform=\"translate(109.196569 240.184916)scale(0.1 -0.1)\">\r\n       <defs>\r\n        <path d=\"M 12.40625 8.296875 \r\nL 28.515625 8.296875 \r\nL 28.515625 63.921875 \r\nL 10.984375 60.40625 \r\nL 10.984375 69.390625 \r\nL 28.421875 72.90625 \r\nL 38.28125 72.90625 \r\nL 38.28125 8.296875 \r\nL 54.390625 8.296875 \r\nL 54.390625 0 \r\nL 12.40625 0 \r\nz\r\n\" id=\"DejaVuSans-49\"/>\r\n       </defs>\r\n       <use xlink:href=\"#DejaVuSans-49\"/>\r\n       <use x=\"63.623047\" xlink:href=\"#DejaVuSans-48\"/>\r\n      </g>\r\n     </g>\r\n    </g>\r\n    <g id=\"xtick_4\">\r\n     <g id=\"line2d_4\">\r\n      <g>\r\n       <use style=\"stroke:#000000;stroke-width:0.8;\" x=\"154.580048\" xlink:href=\"#m2b3aab0455\" y=\"225.586479\"/>\r\n      </g>\r\n     </g>\r\n     <g id=\"text_4\">\r\n      <!-- 15 -->\r\n      <g transform=\"translate(148.217548 240.184916)scale(0.1 -0.1)\">\r\n       <use xlink:href=\"#DejaVuSans-49\"/>\r\n       <use x=\"63.623047\" xlink:href=\"#DejaVuSans-53\"/>\r\n      </g>\r\n     </g>\r\n    </g>\r\n    <g id=\"xtick_5\">\r\n     <g id=\"line2d_5\">\r\n      <g>\r\n       <use style=\"stroke:#000000;stroke-width:0.8;\" x=\"193.601027\" xlink:href=\"#m2b3aab0455\" y=\"225.586479\"/>\r\n      </g>\r\n     </g>\r\n     <g id=\"text_5\">\r\n      <!-- 20 -->\r\n      <g transform=\"translate(187.238527 240.184916)scale(0.1 -0.1)\">\r\n       <defs>\r\n        <path d=\"M 19.1875 8.296875 \r\nL 53.609375 8.296875 \r\nL 53.609375 0 \r\nL 7.328125 0 \r\nL 7.328125 8.296875 \r\nQ 12.9375 14.109375 22.625 23.890625 \r\nQ 32.328125 33.6875 34.8125 36.53125 \r\nQ 39.546875 41.84375 41.421875 45.53125 \r\nQ 43.3125 49.21875 43.3125 52.78125 \r\nQ 43.3125 58.59375 39.234375 62.25 \r\nQ 35.15625 65.921875 28.609375 65.921875 \r\nQ 23.96875 65.921875 18.8125 64.3125 \r\nQ 13.671875 62.703125 7.8125 59.421875 \r\nL 7.8125 69.390625 \r\nQ 13.765625 71.78125 18.9375 73 \r\nQ 24.125 74.21875 28.421875 74.21875 \r\nQ 39.75 74.21875 46.484375 68.546875 \r\nQ 53.21875 62.890625 53.21875 53.421875 \r\nQ 53.21875 48.921875 51.53125 44.890625 \r\nQ 49.859375 40.875 45.40625 35.40625 \r\nQ 44.1875 33.984375 37.640625 27.21875 \r\nQ 31.109375 20.453125 19.1875 8.296875 \r\nz\r\n\" id=\"DejaVuSans-50\"/>\r\n       </defs>\r\n       <use xlink:href=\"#DejaVuSans-50\"/>\r\n       <use x=\"63.623047\" xlink:href=\"#DejaVuSans-48\"/>\r\n      </g>\r\n     </g>\r\n    </g>\r\n    <g id=\"xtick_6\">\r\n     <g id=\"line2d_6\">\r\n      <g>\r\n       <use style=\"stroke:#000000;stroke-width:0.8;\" x=\"232.622006\" xlink:href=\"#m2b3aab0455\" y=\"225.586479\"/>\r\n      </g>\r\n     </g>\r\n     <g id=\"text_6\">\r\n      <!-- 25 -->\r\n      <g transform=\"translate(226.259506 240.184916)scale(0.1 -0.1)\">\r\n       <use xlink:href=\"#DejaVuSans-50\"/>\r\n       <use x=\"63.623047\" xlink:href=\"#DejaVuSans-53\"/>\r\n      </g>\r\n     </g>\r\n    </g>\r\n    <g id=\"xtick_7\">\r\n     <g id=\"line2d_7\">\r\n      <g>\r\n       <use style=\"stroke:#000000;stroke-width:0.8;\" x=\"271.642985\" xlink:href=\"#m2b3aab0455\" y=\"225.586479\"/>\r\n      </g>\r\n     </g>\r\n     <g id=\"text_7\">\r\n      <!-- 30 -->\r\n      <g transform=\"translate(265.280485 240.184916)scale(0.1 -0.1)\">\r\n       <defs>\r\n        <path d=\"M 40.578125 39.3125 \r\nQ 47.65625 37.796875 51.625 33 \r\nQ 55.609375 28.21875 55.609375 21.1875 \r\nQ 55.609375 10.40625 48.1875 4.484375 \r\nQ 40.765625 -1.421875 27.09375 -1.421875 \r\nQ 22.515625 -1.421875 17.65625 -0.515625 \r\nQ 12.796875 0.390625 7.625 2.203125 \r\nL 7.625 11.71875 \r\nQ 11.71875 9.328125 16.59375 8.109375 \r\nQ 21.484375 6.890625 26.8125 6.890625 \r\nQ 36.078125 6.890625 40.9375 10.546875 \r\nQ 45.796875 14.203125 45.796875 21.1875 \r\nQ 45.796875 27.640625 41.28125 31.265625 \r\nQ 36.765625 34.90625 28.71875 34.90625 \r\nL 20.21875 34.90625 \r\nL 20.21875 43.015625 \r\nL 29.109375 43.015625 \r\nQ 36.375 43.015625 40.234375 45.921875 \r\nQ 44.09375 48.828125 44.09375 54.296875 \r\nQ 44.09375 59.90625 40.109375 62.90625 \r\nQ 36.140625 65.921875 28.71875 65.921875 \r\nQ 24.65625 65.921875 20.015625 65.03125 \r\nQ 15.375 64.15625 9.8125 62.3125 \r\nL 9.8125 71.09375 \r\nQ 15.4375 72.65625 20.34375 73.4375 \r\nQ 25.25 74.21875 29.59375 74.21875 \r\nQ 40.828125 74.21875 47.359375 69.109375 \r\nQ 53.90625 64.015625 53.90625 55.328125 \r\nQ 53.90625 49.265625 50.4375 45.09375 \r\nQ 46.96875 40.921875 40.578125 39.3125 \r\nz\r\n\" id=\"DejaVuSans-51\"/>\r\n       </defs>\r\n       <use xlink:href=\"#DejaVuSans-51\"/>\r\n       <use x=\"63.623047\" xlink:href=\"#DejaVuSans-48\"/>\r\n      </g>\r\n     </g>\r\n    </g>\r\n    <g id=\"xtick_8\">\r\n     <g id=\"line2d_8\">\r\n      <g>\r\n       <use style=\"stroke:#000000;stroke-width:0.8;\" x=\"310.663964\" xlink:href=\"#m2b3aab0455\" y=\"225.586479\"/>\r\n      </g>\r\n     </g>\r\n     <g id=\"text_8\">\r\n      <!-- 35 -->\r\n      <g transform=\"translate(304.301464 240.184916)scale(0.1 -0.1)\">\r\n       <use xlink:href=\"#DejaVuSans-51\"/>\r\n       <use x=\"63.623047\" xlink:href=\"#DejaVuSans-53\"/>\r\n      </g>\r\n     </g>\r\n    </g>\r\n    <g id=\"xtick_9\">\r\n     <g id=\"line2d_9\">\r\n      <g>\r\n       <use style=\"stroke:#000000;stroke-width:0.8;\" x=\"349.684943\" xlink:href=\"#m2b3aab0455\" y=\"225.586479\"/>\r\n      </g>\r\n     </g>\r\n     <g id=\"text_9\">\r\n      <!-- 40 -->\r\n      <g transform=\"translate(343.322443 240.184916)scale(0.1 -0.1)\">\r\n       <defs>\r\n        <path d=\"M 37.796875 64.3125 \r\nL 12.890625 25.390625 \r\nL 37.796875 25.390625 \r\nz\r\nM 35.203125 72.90625 \r\nL 47.609375 72.90625 \r\nL 47.609375 25.390625 \r\nL 58.015625 25.390625 \r\nL 58.015625 17.1875 \r\nL 47.609375 17.1875 \r\nL 47.609375 0 \r\nL 37.796875 0 \r\nL 37.796875 17.1875 \r\nL 4.890625 17.1875 \r\nL 4.890625 26.703125 \r\nz\r\n\" id=\"DejaVuSans-52\"/>\r\n       </defs>\r\n       <use xlink:href=\"#DejaVuSans-52\"/>\r\n       <use x=\"63.623047\" xlink:href=\"#DejaVuSans-48\"/>\r\n      </g>\r\n     </g>\r\n    </g>\r\n   </g>\r\n   <g id=\"matplotlib.axis_2\">\r\n    <g id=\"ytick_1\">\r\n     <g id=\"line2d_10\">\r\n      <defs>\r\n       <path d=\"M 0 0 \r\nL -3.5 0 \r\n\" id=\"mf5439614aa\" style=\"stroke:#000000;stroke-width:0.8;\"/>\r\n      </defs>\r\n      <g>\r\n       <use style=\"stroke:#000000;stroke-width:0.8;\" x=\"30.103125\" xlink:href=\"#mf5439614aa\" y=\"199.924085\"/>\r\n      </g>\r\n     </g>\r\n     <g id=\"text_10\">\r\n      <!-- 0.2 -->\r\n      <g transform=\"translate(7.2 203.723304)scale(0.1 -0.1)\">\r\n       <defs>\r\n        <path d=\"M 10.6875 12.40625 \r\nL 21 12.40625 \r\nL 21 0 \r\nL 10.6875 0 \r\nz\r\n\" id=\"DejaVuSans-46\"/>\r\n       </defs>\r\n       <use xlink:href=\"#DejaVuSans-48\"/>\r\n       <use x=\"63.623047\" xlink:href=\"#DejaVuSans-46\"/>\r\n       <use x=\"95.410156\" xlink:href=\"#DejaVuSans-50\"/>\r\n      </g>\r\n     </g>\r\n    </g>\r\n    <g id=\"ytick_2\">\r\n     <g id=\"line2d_11\">\r\n      <g>\r\n       <use style=\"stroke:#000000;stroke-width:0.8;\" x=\"30.103125\" xlink:href=\"#mf5439614aa\" y=\"162.139112\"/>\r\n      </g>\r\n     </g>\r\n     <g id=\"text_11\">\r\n      <!-- 0.4 -->\r\n      <g transform=\"translate(7.2 165.938331)scale(0.1 -0.1)\">\r\n       <use xlink:href=\"#DejaVuSans-48\"/>\r\n       <use x=\"63.623047\" xlink:href=\"#DejaVuSans-46\"/>\r\n       <use x=\"95.410156\" xlink:href=\"#DejaVuSans-52\"/>\r\n      </g>\r\n     </g>\r\n    </g>\r\n    <g id=\"ytick_3\">\r\n     <g id=\"line2d_12\">\r\n      <g>\r\n       <use style=\"stroke:#000000;stroke-width:0.8;\" x=\"30.103125\" xlink:href=\"#mf5439614aa\" y=\"124.354139\"/>\r\n      </g>\r\n     </g>\r\n     <g id=\"text_12\">\r\n      <!-- 0.6 -->\r\n      <g transform=\"translate(7.2 128.153357)scale(0.1 -0.1)\">\r\n       <defs>\r\n        <path d=\"M 33.015625 40.375 \r\nQ 26.375 40.375 22.484375 35.828125 \r\nQ 18.609375 31.296875 18.609375 23.390625 \r\nQ 18.609375 15.53125 22.484375 10.953125 \r\nQ 26.375 6.390625 33.015625 6.390625 \r\nQ 39.65625 6.390625 43.53125 10.953125 \r\nQ 47.40625 15.53125 47.40625 23.390625 \r\nQ 47.40625 31.296875 43.53125 35.828125 \r\nQ 39.65625 40.375 33.015625 40.375 \r\nz\r\nM 52.59375 71.296875 \r\nL 52.59375 62.3125 \r\nQ 48.875 64.0625 45.09375 64.984375 \r\nQ 41.3125 65.921875 37.59375 65.921875 \r\nQ 27.828125 65.921875 22.671875 59.328125 \r\nQ 17.53125 52.734375 16.796875 39.40625 \r\nQ 19.671875 43.65625 24.015625 45.921875 \r\nQ 28.375 48.1875 33.59375 48.1875 \r\nQ 44.578125 48.1875 50.953125 41.515625 \r\nQ 57.328125 34.859375 57.328125 23.390625 \r\nQ 57.328125 12.15625 50.6875 5.359375 \r\nQ 44.046875 -1.421875 33.015625 -1.421875 \r\nQ 20.359375 -1.421875 13.671875 8.265625 \r\nQ 6.984375 17.96875 6.984375 36.375 \r\nQ 6.984375 53.65625 15.1875 63.9375 \r\nQ 23.390625 74.21875 37.203125 74.21875 \r\nQ 40.921875 74.21875 44.703125 73.484375 \r\nQ 48.484375 72.75 52.59375 71.296875 \r\nz\r\n\" id=\"DejaVuSans-54\"/>\r\n       </defs>\r\n       <use xlink:href=\"#DejaVuSans-48\"/>\r\n       <use x=\"63.623047\" xlink:href=\"#DejaVuSans-46\"/>\r\n       <use x=\"95.410156\" xlink:href=\"#DejaVuSans-54\"/>\r\n      </g>\r\n     </g>\r\n    </g>\r\n    <g id=\"ytick_4\">\r\n     <g id=\"line2d_13\">\r\n      <g>\r\n       <use style=\"stroke:#000000;stroke-width:0.8;\" x=\"30.103125\" xlink:href=\"#mf5439614aa\" y=\"86.569165\"/>\r\n      </g>\r\n     </g>\r\n     <g id=\"text_13\">\r\n      <!-- 0.8 -->\r\n      <g transform=\"translate(7.2 90.368384)scale(0.1 -0.1)\">\r\n       <defs>\r\n        <path d=\"M 31.78125 34.625 \r\nQ 24.75 34.625 20.71875 30.859375 \r\nQ 16.703125 27.09375 16.703125 20.515625 \r\nQ 16.703125 13.921875 20.71875 10.15625 \r\nQ 24.75 6.390625 31.78125 6.390625 \r\nQ 38.8125 6.390625 42.859375 10.171875 \r\nQ 46.921875 13.96875 46.921875 20.515625 \r\nQ 46.921875 27.09375 42.890625 30.859375 \r\nQ 38.875 34.625 31.78125 34.625 \r\nz\r\nM 21.921875 38.8125 \r\nQ 15.578125 40.375 12.03125 44.71875 \r\nQ 8.5 49.078125 8.5 55.328125 \r\nQ 8.5 64.0625 14.71875 69.140625 \r\nQ 20.953125 74.21875 31.78125 74.21875 \r\nQ 42.671875 74.21875 48.875 69.140625 \r\nQ 55.078125 64.0625 55.078125 55.328125 \r\nQ 55.078125 49.078125 51.53125 44.71875 \r\nQ 48 40.375 41.703125 38.8125 \r\nQ 48.828125 37.15625 52.796875 32.3125 \r\nQ 56.78125 27.484375 56.78125 20.515625 \r\nQ 56.78125 9.90625 50.3125 4.234375 \r\nQ 43.84375 -1.421875 31.78125 -1.421875 \r\nQ 19.734375 -1.421875 13.25 4.234375 \r\nQ 6.78125 9.90625 6.78125 20.515625 \r\nQ 6.78125 27.484375 10.78125 32.3125 \r\nQ 14.796875 37.15625 21.921875 38.8125 \r\nz\r\nM 18.3125 54.390625 \r\nQ 18.3125 48.734375 21.84375 45.5625 \r\nQ 25.390625 42.390625 31.78125 42.390625 \r\nQ 38.140625 42.390625 41.71875 45.5625 \r\nQ 45.3125 48.734375 45.3125 54.390625 \r\nQ 45.3125 60.0625 41.71875 63.234375 \r\nQ 38.140625 66.40625 31.78125 66.40625 \r\nQ 25.390625 66.40625 21.84375 63.234375 \r\nQ 18.3125 60.0625 18.3125 54.390625 \r\nz\r\n\" id=\"DejaVuSans-56\"/>\r\n       </defs>\r\n       <use xlink:href=\"#DejaVuSans-48\"/>\r\n       <use x=\"63.623047\" xlink:href=\"#DejaVuSans-46\"/>\r\n       <use x=\"95.410156\" xlink:href=\"#DejaVuSans-56\"/>\r\n      </g>\r\n     </g>\r\n    </g>\r\n    <g id=\"ytick_5\">\r\n     <g id=\"line2d_14\">\r\n      <g>\r\n       <use style=\"stroke:#000000;stroke-width:0.8;\" x=\"30.103125\" xlink:href=\"#mf5439614aa\" y=\"48.784192\"/>\r\n      </g>\r\n     </g>\r\n     <g id=\"text_14\">\r\n      <!-- 1.0 -->\r\n      <g transform=\"translate(7.2 52.583411)scale(0.1 -0.1)\">\r\n       <use xlink:href=\"#DejaVuSans-49\"/>\r\n       <use x=\"63.623047\" xlink:href=\"#DejaVuSans-46\"/>\r\n       <use x=\"95.410156\" xlink:href=\"#DejaVuSans-48\"/>\r\n      </g>\r\n     </g>\r\n    </g>\r\n    <g id=\"ytick_6\">\r\n     <g id=\"line2d_15\">\r\n      <g>\r\n       <use style=\"stroke:#000000;stroke-width:0.8;\" x=\"30.103125\" xlink:href=\"#mf5439614aa\" y=\"10.999219\"/>\r\n      </g>\r\n     </g>\r\n     <g id=\"text_15\">\r\n      <!-- 1.2 -->\r\n      <g transform=\"translate(7.2 14.798437)scale(0.1 -0.1)\">\r\n       <use xlink:href=\"#DejaVuSans-49\"/>\r\n       <use x=\"63.623047\" xlink:href=\"#DejaVuSans-46\"/>\r\n       <use x=\"95.410156\" xlink:href=\"#DejaVuSans-50\"/>\r\n      </g>\r\n     </g>\r\n    </g>\r\n   </g>\r\n   <g id=\"line2d_16\">\r\n    <path clip-path=\"url(#pfa7260cd46)\" d=\"M 45.321307 18.030115 \r\nL 53.125503 43.280814 \r\nL 60.929698 58.89103 \r\nL 68.733894 75.055998 \r\nL 76.53809 89.750913 \r\nL 84.342286 103.902552 \r\nL 92.146482 115.758439 \r\nL 99.950677 127.235863 \r\nL 107.754873 138.300488 \r\nL 115.559069 145.604699 \r\nL 123.363265 152.733601 \r\nL 131.167461 158.43835 \r\nL 138.971656 163.52116 \r\nL 146.775852 168.155739 \r\nL 154.580048 171.342957 \r\nL 162.384244 175.253973 \r\nL 170.18844 178.046657 \r\nL 177.992635 182.527661 \r\nL 185.796831 184.4284 \r\nL 193.601027 187.740021 \r\nL 201.405223 190.712202 \r\nL 209.209419 192.653147 \r\nL 217.013615 195.861971 \r\nL 224.81781 197.706707 \r\nL 232.622006 198.747815 \r\nL 240.426202 201.939013 \r\nL 248.230398 203.710962 \r\nL 256.034594 205.167611 \r\nL 263.838789 206.693819 \r\nL 271.642985 207.35103 \r\nL 279.447181 209.437504 \r\nL 287.251377 210.254039 \r\nL 295.055573 211.008495 \r\nL 302.859768 211.981507 \r\nL 310.663964 213.431484 \r\nL 318.46816 213.99145 \r\nL 326.272356 214.72354 \r\nL 334.076552 214.681919 \r\nL 341.880747 213.949926 \r\nL 349.684943 215.262506 \r\n\" style=\"fill:none;stroke:#1f77b4;stroke-linecap:square;stroke-width:1.5;\"/>\r\n   </g>\r\n   <g id=\"line2d_17\">\r\n    <path clip-path=\"url(#pfa7260cd46)\" d=\"M 45.321307 30.390284 \r\nL 53.125503 49.681306 \r\nL 60.929698 62.372531 \r\nL 68.733894 71.486561 \r\nL 76.53809 79.560757 \r\nL 84.342286 91.184807 \r\nL 92.146482 102.563237 \r\nL 99.950677 114.584557 \r\nL 107.754873 126.123904 \r\nL 115.559069 133.322562 \r\nL 123.363265 137.448991 \r\nL 131.167461 143.144141 \r\nL 138.971656 148.491405 \r\nL 146.775852 153.480553 \r\nL 154.580048 158.269585 \r\nL 162.384244 163.81987 \r\nL 170.18844 167.546434 \r\nL 177.992635 169.783696 \r\nL 185.796831 175.288786 \r\nL 193.601027 179.872776 \r\nL 201.405223 183.618506 \r\nL 209.209419 185.211504 \r\nL 217.013615 189.685836 \r\nL 224.81781 192.983964 \r\nL 232.622006 193.630354 \r\nL 240.426202 198.085185 \r\nL 248.230398 200.392599 \r\nL 256.034594 201.096728 \r\nL 263.838789 203.8651 \r\nL 271.642985 205.696551 \r\nL 279.447181 207.555455 \r\nL 287.251377 208.335573 \r\nL 295.055573 210.041829 \r\nL 302.859768 211.500513 \r\nL 310.663964 212.005276 \r\nL 318.46816 213.33148 \r\nL 326.272356 214.242363 \r\nL 334.076552 214.518854 \r\nL 341.880747 215.702842 \r\nL 349.684943 215.290761 \r\n\" style=\"fill:none;stroke:#ff7f0e;stroke-linecap:square;stroke-width:1.5;\"/>\r\n   </g>\r\n   <g id=\"patch_3\">\r\n    <path d=\"M 30.103125 225.586479 \r\nL 30.103125 8.146479 \r\n\" style=\"fill:none;stroke:#000000;stroke-linecap:square;stroke-linejoin:miter;stroke-width:0.8;\"/>\r\n   </g>\r\n   <g id=\"patch_4\">\r\n    <path d=\"M 364.903125 225.586479 \r\nL 364.903125 8.146479 \r\n\" style=\"fill:none;stroke:#000000;stroke-linecap:square;stroke-linejoin:miter;stroke-width:0.8;\"/>\r\n   </g>\r\n   <g id=\"patch_5\">\r\n    <path d=\"M 30.103125 225.586479 \r\nL 364.903125 225.586479 \r\n\" style=\"fill:none;stroke:#000000;stroke-linecap:square;stroke-linejoin:miter;stroke-width:0.8;\"/>\r\n   </g>\r\n   <g id=\"patch_6\">\r\n    <path d=\"M 30.103125 8.146479 \r\nL 364.903125 8.146479 \r\n\" style=\"fill:none;stroke:#000000;stroke-linecap:square;stroke-linejoin:miter;stroke-width:0.8;\"/>\r\n   </g>\r\n   <g id=\"legend_1\">\r\n    <g id=\"patch_7\">\r\n     <path d=\"M 286.7625 45.780854 \r\nL 357.903125 45.780854 \r\nQ 359.903125 45.780854 359.903125 43.780854 \r\nL 359.903125 15.146479 \r\nQ 359.903125 13.146479 357.903125 13.146479 \r\nL 286.7625 13.146479 \r\nQ 284.7625 13.146479 284.7625 15.146479 \r\nL 284.7625 43.780854 \r\nQ 284.7625 45.780854 286.7625 45.780854 \r\nz\r\n\" style=\"fill:#ffffff;opacity:0.8;stroke:#cccccc;stroke-linejoin:miter;\"/>\r\n    </g>\r\n    <g id=\"line2d_18\">\r\n     <path d=\"M 288.7625 21.244916 \r\nL 308.7625 21.244916 \r\n\" style=\"fill:none;stroke:#1f77b4;stroke-linecap:square;stroke-width:1.5;\"/>\r\n    </g>\r\n    <g id=\"line2d_19\"/>\r\n    <g id=\"text_16\">\r\n     <!-- loss -->\r\n     <g transform=\"translate(316.7625 24.744916)scale(0.1 -0.1)\">\r\n      <defs>\r\n       <path d=\"M 9.421875 75.984375 \r\nL 18.40625 75.984375 \r\nL 18.40625 0 \r\nL 9.421875 0 \r\nz\r\n\" id=\"DejaVuSans-108\"/>\r\n       <path d=\"M 30.609375 48.390625 \r\nQ 23.390625 48.390625 19.1875 42.75 \r\nQ 14.984375 37.109375 14.984375 27.296875 \r\nQ 14.984375 17.484375 19.15625 11.84375 \r\nQ 23.34375 6.203125 30.609375 6.203125 \r\nQ 37.796875 6.203125 41.984375 11.859375 \r\nQ 46.1875 17.53125 46.1875 27.296875 \r\nQ 46.1875 37.015625 41.984375 42.703125 \r\nQ 37.796875 48.390625 30.609375 48.390625 \r\nz\r\nM 30.609375 56 \r\nQ 42.328125 56 49.015625 48.375 \r\nQ 55.71875 40.765625 55.71875 27.296875 \r\nQ 55.71875 13.875 49.015625 6.21875 \r\nQ 42.328125 -1.421875 30.609375 -1.421875 \r\nQ 18.84375 -1.421875 12.171875 6.21875 \r\nQ 5.515625 13.875 5.515625 27.296875 \r\nQ 5.515625 40.765625 12.171875 48.375 \r\nQ 18.84375 56 30.609375 56 \r\nz\r\n\" id=\"DejaVuSans-111\"/>\r\n       <path d=\"M 44.28125 53.078125 \r\nL 44.28125 44.578125 \r\nQ 40.484375 46.53125 36.375 47.5 \r\nQ 32.28125 48.484375 27.875 48.484375 \r\nQ 21.1875 48.484375 17.84375 46.4375 \r\nQ 14.5 44.390625 14.5 40.28125 \r\nQ 14.5 37.15625 16.890625 35.375 \r\nQ 19.28125 33.59375 26.515625 31.984375 \r\nL 29.59375 31.296875 \r\nQ 39.15625 29.25 43.1875 25.515625 \r\nQ 47.21875 21.78125 47.21875 15.09375 \r\nQ 47.21875 7.46875 41.1875 3.015625 \r\nQ 35.15625 -1.421875 24.609375 -1.421875 \r\nQ 20.21875 -1.421875 15.453125 -0.5625 \r\nQ 10.6875 0.296875 5.421875 2 \r\nL 5.421875 11.28125 \r\nQ 10.40625 8.6875 15.234375 7.390625 \r\nQ 20.0625 6.109375 24.8125 6.109375 \r\nQ 31.15625 6.109375 34.5625 8.28125 \r\nQ 37.984375 10.453125 37.984375 14.40625 \r\nQ 37.984375 18.0625 35.515625 20.015625 \r\nQ 33.0625 21.96875 24.703125 23.78125 \r\nL 21.578125 24.515625 \r\nQ 13.234375 26.265625 9.515625 29.90625 \r\nQ 5.8125 33.546875 5.8125 39.890625 \r\nQ 5.8125 47.609375 11.28125 51.796875 \r\nQ 16.75 56 26.8125 56 \r\nQ 31.78125 56 36.171875 55.265625 \r\nQ 40.578125 54.546875 44.28125 53.078125 \r\nz\r\n\" id=\"DejaVuSans-115\"/>\r\n      </defs>\r\n      <use xlink:href=\"#DejaVuSans-108\"/>\r\n      <use x=\"27.783203\" xlink:href=\"#DejaVuSans-111\"/>\r\n      <use x=\"88.964844\" xlink:href=\"#DejaVuSans-115\"/>\r\n      <use x=\"141.064453\" xlink:href=\"#DejaVuSans-115\"/>\r\n     </g>\r\n    </g>\r\n    <g id=\"line2d_20\">\r\n     <path d=\"M 288.7625 35.923041 \r\nL 308.7625 35.923041 \r\n\" style=\"fill:none;stroke:#ff7f0e;stroke-linecap:square;stroke-width:1.5;\"/>\r\n    </g>\r\n    <g id=\"line2d_21\"/>\r\n    <g id=\"text_17\">\r\n     <!-- val_loss -->\r\n     <g transform=\"translate(316.7625 39.423041)scale(0.1 -0.1)\">\r\n      <defs>\r\n       <path d=\"M 2.984375 54.6875 \r\nL 12.5 54.6875 \r\nL 29.59375 8.796875 \r\nL 46.6875 54.6875 \r\nL 56.203125 54.6875 \r\nL 35.6875 0 \r\nL 23.484375 0 \r\nz\r\n\" id=\"DejaVuSans-118\"/>\r\n       <path d=\"M 34.28125 27.484375 \r\nQ 23.390625 27.484375 19.1875 25 \r\nQ 14.984375 22.515625 14.984375 16.5 \r\nQ 14.984375 11.71875 18.140625 8.90625 \r\nQ 21.296875 6.109375 26.703125 6.109375 \r\nQ 34.1875 6.109375 38.703125 11.40625 \r\nQ 43.21875 16.703125 43.21875 25.484375 \r\nL 43.21875 27.484375 \r\nz\r\nM 52.203125 31.203125 \r\nL 52.203125 0 \r\nL 43.21875 0 \r\nL 43.21875 8.296875 \r\nQ 40.140625 3.328125 35.546875 0.953125 \r\nQ 30.953125 -1.421875 24.3125 -1.421875 \r\nQ 15.921875 -1.421875 10.953125 3.296875 \r\nQ 6 8.015625 6 15.921875 \r\nQ 6 25.140625 12.171875 29.828125 \r\nQ 18.359375 34.515625 30.609375 34.515625 \r\nL 43.21875 34.515625 \r\nL 43.21875 35.40625 \r\nQ 43.21875 41.609375 39.140625 45 \r\nQ 35.0625 48.390625 27.6875 48.390625 \r\nQ 23 48.390625 18.546875 47.265625 \r\nQ 14.109375 46.140625 10.015625 43.890625 \r\nL 10.015625 52.203125 \r\nQ 14.9375 54.109375 19.578125 55.046875 \r\nQ 24.21875 56 28.609375 56 \r\nQ 40.484375 56 46.34375 49.84375 \r\nQ 52.203125 43.703125 52.203125 31.203125 \r\nz\r\n\" id=\"DejaVuSans-97\"/>\r\n       <path d=\"M 50.984375 -16.609375 \r\nL 50.984375 -23.578125 \r\nL -0.984375 -23.578125 \r\nL -0.984375 -16.609375 \r\nz\r\n\" id=\"DejaVuSans-95\"/>\r\n      </defs>\r\n      <use xlink:href=\"#DejaVuSans-118\"/>\r\n      <use x=\"59.179688\" xlink:href=\"#DejaVuSans-97\"/>\r\n      <use x=\"120.458984\" xlink:href=\"#DejaVuSans-108\"/>\r\n      <use x=\"148.242188\" xlink:href=\"#DejaVuSans-95\"/>\r\n      <use x=\"198.242188\" xlink:href=\"#DejaVuSans-108\"/>\r\n      <use x=\"226.025391\" xlink:href=\"#DejaVuSans-111\"/>\r\n      <use x=\"287.207031\" xlink:href=\"#DejaVuSans-115\"/>\r\n      <use x=\"339.306641\" xlink:href=\"#DejaVuSans-115\"/>\r\n     </g>\r\n    </g>\r\n   </g>\r\n  </g>\r\n </g>\r\n <defs>\r\n  <clipPath id=\"pfa7260cd46\">\r\n   <rect height=\"217.44\" width=\"334.8\" x=\"30.103125\" y=\"8.146479\"/>\r\n  </clipPath>\r\n </defs>\r\n</svg>\r\n",
      "image/png": "[encoded data removed]"
     },
     "metadata": {
      "needs_background": "light"
     }
    }
   ],
   "source": [
    "history.plot(kind='line', y=['loss', 'val_loss'])"
   ]
  },
  {
   "cell_type": "code",
   "execution_count": 9,
   "metadata": {},
   "outputs": [
    {
     "output_type": "execute_result",
     "data": {
      "text/plain": [
       "OrderedDict([('loss', 0.11660334), ('acc', 0.975)])"
      ]
     },
     "metadata": {},
     "execution_count": 9
    }
   ],
   "source": [
    "model.evaluate(X, y)"
   ]
  },
  {
   "cell_type": "code",
   "execution_count": 10,
   "metadata": {},
   "outputs": [
    {
     "output_type": "execute_result",
     "data": {
      "text/plain": [
       "array([[  5.121365  ,  -0.16538604, -10.934365  ],\n",
       "       [  4.4850817 ,   0.039607  ,  -9.875449  ],\n",
       "       [  4.6940093 ,  -0.11239205, -10.05432   ],\n",
       "       [  4.207043  ,   0.08843867,  -9.310305  ],\n",
       "       [  5.137899  ,  -0.19685458, -10.904885  ],\n",
       "       [  5.1150928 ,  -0.07615484, -11.061034  ],\n",
       "       [  4.601173  ,  -0.10110144,  -9.828086  ],\n",
       "       [  4.820149  ,  -0.05327071, -10.429219  ],\n",
       "       [  4.02566   ,   0.09589384,  -8.907245  ],\n",
       "       [  4.496373  ,   0.06684829,  -9.9332075 ],\n",
       "       [  5.386237  ,  -0.17875876, -11.509091  ],\n",
       "       [  4.4929338 ,   0.03933303,  -9.862081  ],\n",
       "       [  4.478836  ,   0.03079598,  -9.835931  ],\n",
       "       [  4.523688  ,  -0.16151987,  -9.601762  ],\n",
       "       [  6.284482  ,  -0.4762559 , -13.1198435 ],\n",
       "       [  6.0640845 ,  -0.4103148 , -12.636587  ],\n",
       "       [  5.669435  ,  -0.35687888, -11.87177   ],\n",
       "       [  5.059234  ,  -0.15496688, -10.807292  ],\n",
       "       [  5.3301177 ,  -0.06001021, -11.584919  ],\n",
       "       [  5.191851  ,  -0.19648926, -11.001245  ],\n",
       "       [  4.757461  ,   0.10622244, -10.620561  ],\n",
       "       [  5.032088  ,  -0.14644565, -10.730639  ],\n",
       "       [  5.316601  ,  -0.42575347, -10.962785  ],\n",
       "       [  4.1565213 ,   0.20312394,  -9.511046  ],\n",
       "       [  3.8784604 ,   0.2930742 ,  -9.079181  ],\n",
       "       [  4.203236  ,   0.20531695,  -9.574927  ],\n",
       "       [  4.4721775 ,   0.06387456,  -9.893892  ],\n",
       "       [  5.0588365 ,  -0.09807928, -10.89821   ],\n",
       "       [  5.0947175 ,  -0.12870516, -10.952129  ],\n",
       "       [  4.2017107 ,   0.12654014,  -9.391197  ],\n",
       "       [  4.164258  ,   0.16651966,  -9.398095  ],\n",
       "       [  4.944535  ,  -0.02876909, -10.795892  ],\n",
       "       [  5.625475  ,  -0.3106675 , -11.795719  ],\n",
       "       [  5.9986644 ,  -0.41152978, -12.5063    ],\n",
       "       [  4.4290805 ,   0.08023293,  -9.804593  ],\n",
       "       [  5.0097766 ,  -0.17624833, -10.712861  ],\n",
       "       [  5.5061307 ,  -0.22996603, -11.757341  ],\n",
       "       [  5.123577  ,  -0.2010427 , -10.859775  ],\n",
       "       [  4.2988963 ,  -0.03134529,  -9.28662   ],\n",
       "       [  4.8894205 ,  -0.05591039, -10.590007  ],\n",
       "       [  5.1082187 ,  -0.21572424, -10.826565  ],\n",
       "       [  3.5158994 ,   0.29526925,  -8.206288  ],\n",
       "       [  4.479901  ,  -0.10254611,  -9.55882   ],\n",
       "       [  4.385525  ,   0.0568911 ,  -9.714102  ],\n",
       "       [  4.3453593 ,   0.14680843,  -9.85245   ],\n",
       "       [  4.340416  ,   0.0578021 ,  -9.573407  ],\n",
       "       [  5.117044  ,  -0.13624533, -10.931954  ],\n",
       "       [  4.4888706 ,  -0.03971301,  -9.695708  ],\n",
       "       [  5.3180394 ,  -0.17693852, -11.348507  ],\n",
       "       [  4.865381  ,  -0.08863233, -10.486205  ],\n",
       "       [ -2.6265347 ,   2.6871035 ,  -1.4647826 ],\n",
       "       [ -2.8896015 ,   2.4304862 ,  -0.45302764],\n",
       "       [ -3.5004835 ,   2.6147532 ,   0.12621178],\n",
       "       [ -3.2437222 ,   2.1066706 ,   0.8903079 ],\n",
       "       [ -3.4803545 ,   2.4462936 ,   0.4754788 ],\n",
       "       [ -3.7564676 ,   2.1818898 ,   1.5109347 ],\n",
       "       [ -3.5238278 ,   2.3390608 ,   0.7323879 ],\n",
       "       [ -1.5175421 ,   1.9370786 ,  -1.5814894 ],\n",
       "       [ -2.9935834 ,   2.5764396 ,  -0.55716485],\n",
       "       [ -3.008104  ,   1.9670731 ,   0.7784905 ],\n",
       "       [ -2.3971298 ,   2.0309844 ,  -0.23093043],\n",
       "       [ -2.8618476 ,   2.2266126 ,  -0.04088907],\n",
       "       [ -2.395803  ,   2.41914   ,  -1.0929677 ],\n",
       "       [ -3.8837976 ,   2.3070722 ,   1.4237343 ],\n",
       "       [ -1.3556232 ,   2.0009854 ,  -2.2218337 ],\n",
       "       [ -2.2513578 ,   2.5141234 ,  -1.7732834 ],\n",
       "       [ -3.9158807 ,   2.0695748 ,   1.967404  ],\n",
       "       [ -2.3361866 ,   2.368352  ,  -1.1057503 ],\n",
       "       [ -4.120669  ,   2.2817335 ,   1.8884875 ],\n",
       "       [ -2.4079635 ,   2.250926  ,  -0.7353977 ],\n",
       "       [ -4.5614142 ,   2.0678566 ,   2.9437897 ],\n",
       "       [ -2.0553882 ,   2.321049  ,  -1.6128366 ],\n",
       "       [ -4.6936994 ,   2.307622  ,   2.722451  ],\n",
       "       [ -3.7156475 ,   2.3811922 ,   1.0297738 ],\n",
       "       [ -2.429413  ,   2.491189  ,  -1.304736  ],\n",
       "       [ -2.5062149 ,   2.5326567 ,  -1.2968107 ],\n",
       "       [ -3.531985  ,   2.6011376 ,   0.2379917 ],\n",
       "       [ -4.3373065 ,   2.4318264 ,   1.8284794 ],\n",
       "       [ -3.623473  ,   2.2401857 ,   1.1411954 ],\n",
       "       [ -0.8782549 ,   2.0515804 ,  -3.1126716 ],\n",
       "       [ -2.3666968 ,   2.2084336 ,  -0.7046523 ],\n",
       "       [ -1.9559761 ,   2.2286751 ,  -1.4260014 ],\n",
       "       [ -2.0976064 ,   2.269393  ,  -1.3548785 ],\n",
       "       [ -5.4116054 ,   2.1234162 ,   4.224381  ],\n",
       "       [ -4.1166434 ,   1.9812975 ,   2.4765368 ],\n",
       "       [ -3.2093673 ,   2.2274666 ,   0.4749845 ],\n",
       "       [ -3.201905  ,   2.5437598 ,  -0.19477086],\n",
       "       [ -3.4056237 ,   2.423266  ,   0.46827415],\n",
       "       [ -2.632331  ,   2.18216   ,  -0.2811685 ],\n",
       "       [ -3.0362327 ,   2.1189916 ,   0.5209544 ],\n",
       "       [ -3.7866898 ,   2.1303105 ,   1.6955366 ],\n",
       "       [ -3.525008  ,   2.3216581 ,   0.8166193 ],\n",
       "       [ -2.4872792 ,   2.2973304 ,  -0.72785395],\n",
       "       [ -1.5337504 ,   1.9798881 ,  -1.6372379 ],\n",
       "       [ -3.216955  ,   2.1577334 ,   0.712386  ],\n",
       "       [ -2.6407576 ,   2.2581353 ,  -0.42145655],\n",
       "       [ -2.8983347 ,   2.2137594 ,   0.07370338],\n",
       "       [ -2.6460984 ,   2.425811  ,  -0.7840698 ],\n",
       "       [ -0.44418707,   1.7257129 ,  -3.1871574 ],\n",
       "       [ -2.7577832 ,   2.2164578 ,  -0.14929539],\n",
       "       [ -7.4209714 ,   1.8771471 ,   7.6906357 ],\n",
       "       [ -6.01136   ,   1.9029571 ,   5.5910406 ],\n",
       "       [ -6.6905684 ,   2.363171  ,   5.6572976 ],\n",
       "       [ -6.3750014 ,   2.1324162 ,   5.684853  ],\n",
       "       [ -7.0544114 ,   2.0348232 ,   6.896838  ],\n",
       "       [ -7.7446685 ,   2.4902267 ,   7.0421987 ],\n",
       "       [ -5.276834  ,   1.6179991 ,   5.0566573 ],\n",
       "       [ -7.0174527 ,   2.5015297 ,   5.9138813 ],\n",
       "       [ -6.7370086 ,   2.2441297 ,   6.0398173 ],\n",
       "       [ -7.029718  ,   2.270297  ,   6.3051295 ],\n",
       "       [ -4.9854064 ,   2.2266989 ,   3.2475812 ],\n",
       "       [ -5.935576  ,   2.1658087 ,   4.926939  ],\n",
       "       [ -6.0398183 ,   2.2726274 ,   4.8212366 ],\n",
       "       [ -6.0994782 ,   1.7993358 ,   5.945454  ],\n",
       "       [ -6.418784  ,   1.7099367 ,   6.56959   ],\n",
       "       [ -5.99904   ,   2.044383  ,   5.2088447 ],\n",
       "       [ -5.9066205 ,   2.2561626 ,   4.682881  ],\n",
       "       [ -7.3897643 ,   2.5703504 ,   6.2571316 ],\n",
       "       [ -8.4537325 ,   2.3831456 ,   8.315654  ],\n",
       "       [ -5.414498  ,   2.1196728 ,   4.2760234 ],\n",
       "       [ -6.49455   ,   2.230003  ,   5.594691  ],\n",
       "       [ -5.77732   ,   1.8056849 ,   5.412314  ],\n",
       "       [ -7.829406  ,   2.5414197 ,   7.0900607 ],\n",
       "       [ -4.950027  ,   2.2058442 ,   3.2938297 ],\n",
       "       [ -6.3064876 ,   2.226759  ,   5.32276   ],\n",
       "       [ -6.2113714 ,   2.532302  ,   4.56265   ],\n",
       "       [ -4.6967463 ,   2.1764977 ,   2.948323  ],\n",
       "       [ -4.8285604 ,   2.1356044 ,   3.2338305 ],\n",
       "       [ -6.7485642 ,   2.0383031 ,   6.4315276 ],\n",
       "       [ -5.617969  ,   2.6139426 ,   3.4849515 ],\n",
       "       [ -6.718216  ,   2.5307827 ,   5.3789496 ],\n",
       "       [ -6.1710715 ,   2.7679563 ,   3.9270499 ],\n",
       "       [ -6.8552403 ,   1.9962257 ,   6.6789474 ],\n",
       "       [ -4.901958  ,   2.31146   ,   3.0243652 ],\n",
       "       [ -6.140526  ,   2.160369  ,   5.318854  ],\n",
       "       [ -6.8716025 ,   2.5352855 ,   5.55253   ],\n",
       "       [ -6.701998  ,   1.9346572 ,   6.512871  ],\n",
       "       [ -5.9086766 ,   2.2191863 ,   4.759043  ],\n",
       "       [ -4.679271  ,   2.100108  ,   3.0733392 ],\n",
       "       [ -5.580647  ,   2.331352  ,   3.9595554 ],\n",
       "       [ -6.6827264 ,   2.1002185 ,   6.160067  ],\n",
       "       [ -5.1089034 ,   2.2772145 ,   3.3004014 ],\n",
       "       [ -6.01136   ,   1.9029571 ,   5.5910406 ],\n",
       "       [ -7.0519266 ,   2.154669  ,   6.6239333 ],\n",
       "       [ -6.8426633 ,   2.0599673 ,   6.469874  ],\n",
       "       [ -5.6684566 ,   2.1743512 ,   4.4166493 ],\n",
       "       [ -5.523157  ,   2.142288  ,   4.341524  ],\n",
       "       [ -5.4533157 ,   2.2061694 ,   4.0467544 ],\n",
       "       [ -6.212893  ,   1.9565597 ,   5.7205987 ],\n",
       "       [ -5.5201545 ,   2.0266418 ,   4.5626426 ]], dtype=float32)"
      ]
     },
     "metadata": {},
     "execution_count": 10
    }
   ],
   "source": [
    "model.predict(X)"
   ]
  },
  {
   "cell_type": "code",
   "execution_count": null,
   "metadata": {},
   "outputs": [],
   "source": []
  }
 ]
}