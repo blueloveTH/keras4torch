{
 "metadata": {
  "language_info": {
   "codemirror_mode": {
    "name": "ipython",
    "version": 3
   },
   "file_extension": ".py",
   "mimetype": "text/x-python",
   "name": "python",
   "nbconvert_exporter": "python",
   "pygments_lexer": "ipython3",
   "version": "3.7.8-final"
  },
  "orig_nbformat": 2,
  "kernelspec": {
   "name": "Python 3.7.8 64-bit ('kesci_compete')",
   "display_name": "Python 3.7.8 64-bit ('kesci_compete')",
   "metadata": {
    "interpreter": {
     "hash": "8dc6728e8885f5cf3d484bdac908677760b39a28192ba674e6f789c8dc6420a9"
    }
   }
  }
 },
 "nbformat": 4,
 "nbformat_minor": 2,
 "cells": [
  {
   "cell_type": "code",
   "execution_count": 1,
   "metadata": {},
   "outputs": [],
   "source": [
    "import sys\n",
    "\n",
    "sys.path.append('../')\n",
    "\n",
    "import keras4torch as k4t\n",
    "import torch\n",
    "from torch import nn\n",
    "from sklearn.datasets import load_iris\n",
    "import numpy as np\n",
    "from keras4torch.metrics import *"
   ]
  },
  {
   "cell_type": "code",
   "execution_count": 2,
   "metadata": {},
   "outputs": [],
   "source": [
    "X, y = load_iris(return_X_y=True)\n",
    "X = X.astype(np.float32)\n",
    "y = y.astype(np.int64)"
   ]
  },
  {
   "cell_type": "code",
   "execution_count": 3,
   "metadata": {},
   "outputs": [
    {
     "output_type": "execute_result",
     "data": {
      "text/plain": [
       "('1.1.1', '1.19.1')"
      ]
     },
     "metadata": {},
     "execution_count": 3
    }
   ],
   "source": [
    "import pandas\n",
    "import numpy\n",
    "pandas.__version__, numpy.__version__"
   ]
  },
  {
   "cell_type": "code",
   "execution_count": 4,
   "metadata": {},
   "outputs": [],
   "source": [
    "model = nn.Sequential(\n",
    "    nn.Linear(4, 128), nn.ReLU(),\n",
    "    nn.Sequential(\n",
    "        nn.Linear(128, 64), nn.ReLU()\n",
    "    ),\n",
    "    nn.Linear(64, 3)\n",
    ")\n",
    "\n",
    "model = k4t.Model(model)"
   ]
  },
  {
   "cell_type": "code",
   "execution_count": 5,
   "metadata": {},
   "outputs": [],
   "source": [
    "def accuracy(y_pred, y_true):\n",
    "    right_cnt = (y_pred.argmax(-1) == y_true).sum()\n",
    "    return right_cnt * 1.0 / y_true.shape[0]\n",
    "\n",
    "model.compile(optimizer='adam', loss='ce_loss', metrics=['acc'])"
   ]
  },
  {
   "cell_type": "code",
   "execution_count": 6,
   "metadata": {},
   "outputs": [
    {
     "output_type": "stream",
     "name": "stdout",
     "text": [
      "==========================================================================================\nLayer (type:depth-idx)                   Output Shape              Param #\n==========================================================================================\n├─Linear: 1-1                            [-1, 128]                 640\n├─ReLU: 1-2                              [-1, 128]                 --\n├─Sequential: 1-3                        [-1, 64]                  --\n|    └─Linear: 2-1                       [-1, 64]                  8,256\n|    └─ReLU: 2-2                         [-1, 64]                  --\n├─Linear: 1-4                            [-1, 3]                   195\n==========================================================================================\nTotal params: 9,091\nTrainable params: 9,091\nNon-trainable params: 0\nTotal mult-adds (M): 0.02\n==========================================================================================\nInput size (MB): 0.00\nForward/backward pass size (MB): 0.00\nParams size (MB): 0.03\nEstimated Total Size (MB): 0.04\n==========================================================================================\n"
     ]
    }
   ],
   "source": [
    "model.summary(input_shape=[4])"
   ]
  },
  {
   "cell_type": "code",
   "execution_count": 7,
   "metadata": {},
   "outputs": [
    {
     "output_type": "stream",
     "name": "stdout",
     "text": [
      "Train on 120 samples, validate on 30 samples:\n",
      "Epoch 1/15 - 0.1s - loss: 1.0406 - acc: 0.4740 - val_loss: 0.9171 - val_acc: 0.7000 - lr: 1e-03\n",
      "Epoch 2/15 - 0.0s - loss: 0.8825 - acc: 0.6979 - val_loss: 0.8868 - val_acc: 0.7333 - lr: 1e-03\n",
      "Epoch 3/15 - 0.0s - loss: 0.8266 - acc: 0.6927 - val_loss: 0.7940 - val_acc: 0.7000 - lr: 1e-03\n",
      "Epoch 4/15 - 0.0s - loss: 0.7497 - acc: 0.6615 - val_loss: 0.6905 - val_acc: 0.7333 - lr: 1e-03\n",
      "Epoch 5/15 - 0.0s - loss: 0.6810 - acc: 0.6641 - val_loss: 0.6108 - val_acc: 0.8667 - lr: 1e-03\n",
      "Epoch 6/15 - 0.0s - loss: 0.6252 - acc: 0.8177 - val_loss: 0.5495 - val_acc: 0.9000 - lr: 1e-03\n",
      "Epoch 7/15 - 0.0s - loss: 0.5773 - acc: 0.7500 - val_loss: 0.5015 - val_acc: 0.8000 - lr: 1e-03\n",
      "Epoch 8/15 - 0.0s - loss: 0.5293 - acc: 0.7422 - val_loss: 0.4535 - val_acc: 0.9000 - lr: 1e-03\n",
      "Epoch 9/15 - 0.0s - loss: 0.4859 - acc: 0.9115 - val_loss: 0.4163 - val_acc: 0.9333 - lr: 1e-03\n",
      "Epoch 10/15 - 0.0s - loss: 0.4565 - acc: 0.9089 - val_loss: 0.3837 - val_acc: 0.9333 - lr: 1e-03\n",
      "Epoch 11/15 - 0.0s - loss: 0.4264 - acc: 0.9453 - val_loss: 0.3548 - val_acc: 0.9333 - lr: 1e-03\n",
      "Epoch 12/15 - 0.0s - loss: 0.4039 - acc: 0.9583 - val_loss: 0.3301 - val_acc: 0.9333 - lr: 1e-03\n",
      "Epoch 13/15 - 0.0s - loss: 0.3847 - acc: 0.9193 - val_loss: 0.3086 - val_acc: 0.9333 - lr: 1e-03\n",
      "Epoch 14/15 - 0.0s - loss: 0.3537 - acc: 0.9401 - val_loss: 0.2878 - val_acc: 0.9333 - lr: 1e-03\n",
      "Epoch 15/15 - 0.0s - loss: 0.3389 - acc: 0.9766 - val_loss: 0.2715 - val_acc: 0.9667 - lr: 1e-03\n"
     ]
    }
   ],
   "source": [
    "history = model.fit(X, y,\n",
    "            epochs=15,\n",
    "            validation_split=0.2,\n",
    "            )"
   ]
  },
  {
   "cell_type": "code",
   "execution_count": 8,
   "metadata": {},
   "outputs": [
    {
     "output_type": "execute_result",
     "data": {
      "text/plain": [
       "<AxesSubplot:>"
      ]
     },
     "metadata": {},
     "execution_count": 8
    },
    {
     "output_type": "display_data",
     "data": {
      "text/plain": "<Figure size 432x288 with 1 Axes>",
      "image/svg+xml": "<?xml version=\"1.0\" encoding=\"utf-8\" standalone=\"no\"?>\r\n<!DOCTYPE svg PUBLIC \"-//W3C//DTD SVG 1.1//EN\"\r\n  \"http://www.w3.org/Graphics/SVG/1.1/DTD/svg11.dtd\">\r\n<!-- Created with matplotlib (https://matplotlib.org/) -->\r\n<svg height=\"248.518125pt\" version=\"1.1\" viewBox=\"0 0 372.103125 248.518125\" width=\"372.103125pt\" xmlns=\"http://www.w3.org/2000/svg\" xmlns:xlink=\"http://www.w3.org/1999/xlink\">\r\n <metadata>\r\n  <rdf:RDF xmlns:cc=\"http://creativecommons.org/ns#\" xmlns:dc=\"http://purl.org/dc/elements/1.1/\" xmlns:rdf=\"http://www.w3.org/1999/02/22-rdf-syntax-ns#\">\r\n   <cc:Work>\r\n    <dc:type rdf:resource=\"http://purl.org/dc/dcmitype/StillImage\"/>\r\n    <dc:date>2020-10-13T16:41:06.312221</dc:date>\r\n    <dc:format>image/svg+xml</dc:format>\r\n    <dc:creator>\r\n     <cc:Agent>\r\n      <dc:title>Matplotlib v3.3.1, https://matplotlib.org/</dc:title>\r\n     </cc:Agent>\r\n    </dc:creator>\r\n   </cc:Work>\r\n  </rdf:RDF>\r\n </metadata>\r\n <defs>\r\n  <style type=\"text/css\">*{stroke-linecap:butt;stroke-linejoin:round;}</style>\r\n </defs>\r\n <g id=\"figure_1\">\r\n  <g id=\"patch_1\">\r\n   <path d=\"M 0 248.518125 \r\nL 372.103125 248.518125 \r\nL 372.103125 0 \r\nL 0 0 \r\nz\r\n\" style=\"fill:none;\"/>\r\n  </g>\r\n  <g id=\"axes_1\">\r\n   <g id=\"patch_2\">\r\n    <path d=\"M 30.103125 224.64 \r\nL 364.903125 224.64 \r\nL 364.903125 7.2 \r\nL 30.103125 7.2 \r\nz\r\n\" style=\"fill:#ffffff;\"/>\r\n   </g>\r\n   <g id=\"matplotlib.axis_1\">\r\n    <g id=\"xtick_1\">\r\n     <g id=\"line2d_1\">\r\n      <defs>\r\n       <path d=\"M 0 0 \r\nL 0 3.5 \r\n\" id=\"m57a332487a\" style=\"stroke:#000000;stroke-width:0.8;\"/>\r\n      </defs>\r\n      <g>\r\n       <use style=\"stroke:#000000;stroke-width:0.8;\" x=\"67.061567\" xlink:href=\"#m57a332487a\" y=\"224.64\"/>\r\n      </g>\r\n     </g>\r\n     <g id=\"text_1\">\r\n      <!-- 2 -->\r\n      <g transform=\"translate(63.880317 239.238437)scale(0.1 -0.1)\">\r\n       <defs>\r\n        <path d=\"M 19.1875 8.296875 \r\nL 53.609375 8.296875 \r\nL 53.609375 0 \r\nL 7.328125 0 \r\nL 7.328125 8.296875 \r\nQ 12.9375 14.109375 22.625 23.890625 \r\nQ 32.328125 33.6875 34.8125 36.53125 \r\nQ 39.546875 41.84375 41.421875 45.53125 \r\nQ 43.3125 49.21875 43.3125 52.78125 \r\nQ 43.3125 58.59375 39.234375 62.25 \r\nQ 35.15625 65.921875 28.609375 65.921875 \r\nQ 23.96875 65.921875 18.8125 64.3125 \r\nQ 13.671875 62.703125 7.8125 59.421875 \r\nL 7.8125 69.390625 \r\nQ 13.765625 71.78125 18.9375 73 \r\nQ 24.125 74.21875 28.421875 74.21875 \r\nQ 39.75 74.21875 46.484375 68.546875 \r\nQ 53.21875 62.890625 53.21875 53.421875 \r\nQ 53.21875 48.921875 51.53125 44.890625 \r\nQ 49.859375 40.875 45.40625 35.40625 \r\nQ 44.1875 33.984375 37.640625 27.21875 \r\nQ 31.109375 20.453125 19.1875 8.296875 \r\nz\r\n\" id=\"DejaVuSans-50\"/>\r\n       </defs>\r\n       <use xlink:href=\"#DejaVuSans-50\"/>\r\n      </g>\r\n     </g>\r\n    </g>\r\n    <g id=\"xtick_2\">\r\n     <g id=\"line2d_2\">\r\n      <g>\r\n       <use style=\"stroke:#000000;stroke-width:0.8;\" x=\"110.542086\" xlink:href=\"#m57a332487a\" y=\"224.64\"/>\r\n      </g>\r\n     </g>\r\n     <g id=\"text_2\">\r\n      <!-- 4 -->\r\n      <g transform=\"translate(107.360836 239.238437)scale(0.1 -0.1)\">\r\n       <defs>\r\n        <path d=\"M 37.796875 64.3125 \r\nL 12.890625 25.390625 \r\nL 37.796875 25.390625 \r\nz\r\nM 35.203125 72.90625 \r\nL 47.609375 72.90625 \r\nL 47.609375 25.390625 \r\nL 58.015625 25.390625 \r\nL 58.015625 17.1875 \r\nL 47.609375 17.1875 \r\nL 47.609375 0 \r\nL 37.796875 0 \r\nL 37.796875 17.1875 \r\nL 4.890625 17.1875 \r\nL 4.890625 26.703125 \r\nz\r\n\" id=\"DejaVuSans-52\"/>\r\n       </defs>\r\n       <use xlink:href=\"#DejaVuSans-52\"/>\r\n      </g>\r\n     </g>\r\n    </g>\r\n    <g id=\"xtick_3\">\r\n     <g id=\"line2d_3\">\r\n      <g>\r\n       <use style=\"stroke:#000000;stroke-width:0.8;\" x=\"154.022606\" xlink:href=\"#m57a332487a\" y=\"224.64\"/>\r\n      </g>\r\n     </g>\r\n     <g id=\"text_3\">\r\n      <!-- 6 -->\r\n      <g transform=\"translate(150.841356 239.238437)scale(0.1 -0.1)\">\r\n       <defs>\r\n        <path d=\"M 33.015625 40.375 \r\nQ 26.375 40.375 22.484375 35.828125 \r\nQ 18.609375 31.296875 18.609375 23.390625 \r\nQ 18.609375 15.53125 22.484375 10.953125 \r\nQ 26.375 6.390625 33.015625 6.390625 \r\nQ 39.65625 6.390625 43.53125 10.953125 \r\nQ 47.40625 15.53125 47.40625 23.390625 \r\nQ 47.40625 31.296875 43.53125 35.828125 \r\nQ 39.65625 40.375 33.015625 40.375 \r\nz\r\nM 52.59375 71.296875 \r\nL 52.59375 62.3125 \r\nQ 48.875 64.0625 45.09375 64.984375 \r\nQ 41.3125 65.921875 37.59375 65.921875 \r\nQ 27.828125 65.921875 22.671875 59.328125 \r\nQ 17.53125 52.734375 16.796875 39.40625 \r\nQ 19.671875 43.65625 24.015625 45.921875 \r\nQ 28.375 48.1875 33.59375 48.1875 \r\nQ 44.578125 48.1875 50.953125 41.515625 \r\nQ 57.328125 34.859375 57.328125 23.390625 \r\nQ 57.328125 12.15625 50.6875 5.359375 \r\nQ 44.046875 -1.421875 33.015625 -1.421875 \r\nQ 20.359375 -1.421875 13.671875 8.265625 \r\nQ 6.984375 17.96875 6.984375 36.375 \r\nQ 6.984375 53.65625 15.1875 63.9375 \r\nQ 23.390625 74.21875 37.203125 74.21875 \r\nQ 40.921875 74.21875 44.703125 73.484375 \r\nQ 48.484375 72.75 52.59375 71.296875 \r\nz\r\n\" id=\"DejaVuSans-54\"/>\r\n       </defs>\r\n       <use xlink:href=\"#DejaVuSans-54\"/>\r\n      </g>\r\n     </g>\r\n    </g>\r\n    <g id=\"xtick_4\">\r\n     <g id=\"line2d_4\">\r\n      <g>\r\n       <use style=\"stroke:#000000;stroke-width:0.8;\" x=\"197.503125\" xlink:href=\"#m57a332487a\" y=\"224.64\"/>\r\n      </g>\r\n     </g>\r\n     <g id=\"text_4\">\r\n      <!-- 8 -->\r\n      <g transform=\"translate(194.321875 239.238437)scale(0.1 -0.1)\">\r\n       <defs>\r\n        <path d=\"M 31.78125 34.625 \r\nQ 24.75 34.625 20.71875 30.859375 \r\nQ 16.703125 27.09375 16.703125 20.515625 \r\nQ 16.703125 13.921875 20.71875 10.15625 \r\nQ 24.75 6.390625 31.78125 6.390625 \r\nQ 38.8125 6.390625 42.859375 10.171875 \r\nQ 46.921875 13.96875 46.921875 20.515625 \r\nQ 46.921875 27.09375 42.890625 30.859375 \r\nQ 38.875 34.625 31.78125 34.625 \r\nz\r\nM 21.921875 38.8125 \r\nQ 15.578125 40.375 12.03125 44.71875 \r\nQ 8.5 49.078125 8.5 55.328125 \r\nQ 8.5 64.0625 14.71875 69.140625 \r\nQ 20.953125 74.21875 31.78125 74.21875 \r\nQ 42.671875 74.21875 48.875 69.140625 \r\nQ 55.078125 64.0625 55.078125 55.328125 \r\nQ 55.078125 49.078125 51.53125 44.71875 \r\nQ 48 40.375 41.703125 38.8125 \r\nQ 48.828125 37.15625 52.796875 32.3125 \r\nQ 56.78125 27.484375 56.78125 20.515625 \r\nQ 56.78125 9.90625 50.3125 4.234375 \r\nQ 43.84375 -1.421875 31.78125 -1.421875 \r\nQ 19.734375 -1.421875 13.25 4.234375 \r\nQ 6.78125 9.90625 6.78125 20.515625 \r\nQ 6.78125 27.484375 10.78125 32.3125 \r\nQ 14.796875 37.15625 21.921875 38.8125 \r\nz\r\nM 18.3125 54.390625 \r\nQ 18.3125 48.734375 21.84375 45.5625 \r\nQ 25.390625 42.390625 31.78125 42.390625 \r\nQ 38.140625 42.390625 41.71875 45.5625 \r\nQ 45.3125 48.734375 45.3125 54.390625 \r\nQ 45.3125 60.0625 41.71875 63.234375 \r\nQ 38.140625 66.40625 31.78125 66.40625 \r\nQ 25.390625 66.40625 21.84375 63.234375 \r\nQ 18.3125 60.0625 18.3125 54.390625 \r\nz\r\n\" id=\"DejaVuSans-56\"/>\r\n       </defs>\r\n       <use xlink:href=\"#DejaVuSans-56\"/>\r\n      </g>\r\n     </g>\r\n    </g>\r\n    <g id=\"xtick_5\">\r\n     <g id=\"line2d_5\">\r\n      <g>\r\n       <use style=\"stroke:#000000;stroke-width:0.8;\" x=\"240.983644\" xlink:href=\"#m57a332487a\" y=\"224.64\"/>\r\n      </g>\r\n     </g>\r\n     <g id=\"text_5\">\r\n      <!-- 10 -->\r\n      <g transform=\"translate(234.621144 239.238437)scale(0.1 -0.1)\">\r\n       <defs>\r\n        <path d=\"M 12.40625 8.296875 \r\nL 28.515625 8.296875 \r\nL 28.515625 63.921875 \r\nL 10.984375 60.40625 \r\nL 10.984375 69.390625 \r\nL 28.421875 72.90625 \r\nL 38.28125 72.90625 \r\nL 38.28125 8.296875 \r\nL 54.390625 8.296875 \r\nL 54.390625 0 \r\nL 12.40625 0 \r\nz\r\n\" id=\"DejaVuSans-49\"/>\r\n        <path d=\"M 31.78125 66.40625 \r\nQ 24.171875 66.40625 20.328125 58.90625 \r\nQ 16.5 51.421875 16.5 36.375 \r\nQ 16.5 21.390625 20.328125 13.890625 \r\nQ 24.171875 6.390625 31.78125 6.390625 \r\nQ 39.453125 6.390625 43.28125 13.890625 \r\nQ 47.125 21.390625 47.125 36.375 \r\nQ 47.125 51.421875 43.28125 58.90625 \r\nQ 39.453125 66.40625 31.78125 66.40625 \r\nz\r\nM 31.78125 74.21875 \r\nQ 44.046875 74.21875 50.515625 64.515625 \r\nQ 56.984375 54.828125 56.984375 36.375 \r\nQ 56.984375 17.96875 50.515625 8.265625 \r\nQ 44.046875 -1.421875 31.78125 -1.421875 \r\nQ 19.53125 -1.421875 13.0625 8.265625 \r\nQ 6.59375 17.96875 6.59375 36.375 \r\nQ 6.59375 54.828125 13.0625 64.515625 \r\nQ 19.53125 74.21875 31.78125 74.21875 \r\nz\r\n\" id=\"DejaVuSans-48\"/>\r\n       </defs>\r\n       <use xlink:href=\"#DejaVuSans-49\"/>\r\n       <use x=\"63.623047\" xlink:href=\"#DejaVuSans-48\"/>\r\n      </g>\r\n     </g>\r\n    </g>\r\n    <g id=\"xtick_6\">\r\n     <g id=\"line2d_6\">\r\n      <g>\r\n       <use style=\"stroke:#000000;stroke-width:0.8;\" x=\"284.464164\" xlink:href=\"#m57a332487a\" y=\"224.64\"/>\r\n      </g>\r\n     </g>\r\n     <g id=\"text_6\">\r\n      <!-- 12 -->\r\n      <g transform=\"translate(278.101664 239.238437)scale(0.1 -0.1)\">\r\n       <use xlink:href=\"#DejaVuSans-49\"/>\r\n       <use x=\"63.623047\" xlink:href=\"#DejaVuSans-50\"/>\r\n      </g>\r\n     </g>\r\n    </g>\r\n    <g id=\"xtick_7\">\r\n     <g id=\"line2d_7\">\r\n      <g>\r\n       <use style=\"stroke:#000000;stroke-width:0.8;\" x=\"327.944683\" xlink:href=\"#m57a332487a\" y=\"224.64\"/>\r\n      </g>\r\n     </g>\r\n     <g id=\"text_7\">\r\n      <!-- 14 -->\r\n      <g transform=\"translate(321.582183 239.238437)scale(0.1 -0.1)\">\r\n       <use xlink:href=\"#DejaVuSans-49\"/>\r\n       <use x=\"63.623047\" xlink:href=\"#DejaVuSans-52\"/>\r\n      </g>\r\n     </g>\r\n    </g>\r\n   </g>\r\n   <g id=\"matplotlib.axis_2\">\r\n    <g id=\"ytick_1\">\r\n     <g id=\"line2d_8\">\r\n      <defs>\r\n       <path d=\"M 0 0 \r\nL -3.5 0 \r\n\" id=\"m17f08ff6b3\" style=\"stroke:#000000;stroke-width:0.8;\"/>\r\n      </defs>\r\n      <g>\r\n       <use style=\"stroke:#000000;stroke-width:0.8;\" x=\"30.103125\" xlink:href=\"#m17f08ff6b3\" y=\"207.434586\"/>\r\n      </g>\r\n     </g>\r\n     <g id=\"text_8\">\r\n      <!-- 0.3 -->\r\n      <g transform=\"translate(7.2 211.233804)scale(0.1 -0.1)\">\r\n       <defs>\r\n        <path d=\"M 10.6875 12.40625 \r\nL 21 12.40625 \r\nL 21 0 \r\nL 10.6875 0 \r\nz\r\n\" id=\"DejaVuSans-46\"/>\r\n        <path d=\"M 40.578125 39.3125 \r\nQ 47.65625 37.796875 51.625 33 \r\nQ 55.609375 28.21875 55.609375 21.1875 \r\nQ 55.609375 10.40625 48.1875 4.484375 \r\nQ 40.765625 -1.421875 27.09375 -1.421875 \r\nQ 22.515625 -1.421875 17.65625 -0.515625 \r\nQ 12.796875 0.390625 7.625 2.203125 \r\nL 7.625 11.71875 \r\nQ 11.71875 9.328125 16.59375 8.109375 \r\nQ 21.484375 6.890625 26.8125 6.890625 \r\nQ 36.078125 6.890625 40.9375 10.546875 \r\nQ 45.796875 14.203125 45.796875 21.1875 \r\nQ 45.796875 27.640625 41.28125 31.265625 \r\nQ 36.765625 34.90625 28.71875 34.90625 \r\nL 20.21875 34.90625 \r\nL 20.21875 43.015625 \r\nL 29.109375 43.015625 \r\nQ 36.375 43.015625 40.234375 45.921875 \r\nQ 44.09375 48.828125 44.09375 54.296875 \r\nQ 44.09375 59.90625 40.109375 62.90625 \r\nQ 36.140625 65.921875 28.71875 65.921875 \r\nQ 24.65625 65.921875 20.015625 65.03125 \r\nQ 15.375 64.15625 9.8125 62.3125 \r\nL 9.8125 71.09375 \r\nQ 15.4375 72.65625 20.34375 73.4375 \r\nQ 25.25 74.21875 29.59375 74.21875 \r\nQ 40.828125 74.21875 47.359375 69.109375 \r\nQ 53.90625 64.015625 53.90625 55.328125 \r\nQ 53.90625 49.265625 50.4375 45.09375 \r\nQ 46.96875 40.921875 40.578125 39.3125 \r\nz\r\n\" id=\"DejaVuSans-51\"/>\r\n       </defs>\r\n       <use xlink:href=\"#DejaVuSans-48\"/>\r\n       <use x=\"63.623047\" xlink:href=\"#DejaVuSans-46\"/>\r\n       <use x=\"95.410156\" xlink:href=\"#DejaVuSans-51\"/>\r\n      </g>\r\n     </g>\r\n    </g>\r\n    <g id=\"ytick_2\">\r\n     <g id=\"line2d_9\">\r\n      <g>\r\n       <use style=\"stroke:#000000;stroke-width:0.8;\" x=\"30.103125\" xlink:href=\"#m17f08ff6b3\" y=\"181.733716\"/>\r\n      </g>\r\n     </g>\r\n     <g id=\"text_9\">\r\n      <!-- 0.4 -->\r\n      <g transform=\"translate(7.2 185.532935)scale(0.1 -0.1)\">\r\n       <use xlink:href=\"#DejaVuSans-48\"/>\r\n       <use x=\"63.623047\" xlink:href=\"#DejaVuSans-46\"/>\r\n       <use x=\"95.410156\" xlink:href=\"#DejaVuSans-52\"/>\r\n      </g>\r\n     </g>\r\n    </g>\r\n    <g id=\"ytick_3\">\r\n     <g id=\"line2d_10\">\r\n      <g>\r\n       <use style=\"stroke:#000000;stroke-width:0.8;\" x=\"30.103125\" xlink:href=\"#m17f08ff6b3\" y=\"156.032847\"/>\r\n      </g>\r\n     </g>\r\n     <g id=\"text_10\">\r\n      <!-- 0.5 -->\r\n      <g transform=\"translate(7.2 159.832065)scale(0.1 -0.1)\">\r\n       <defs>\r\n        <path d=\"M 10.796875 72.90625 \r\nL 49.515625 72.90625 \r\nL 49.515625 64.59375 \r\nL 19.828125 64.59375 \r\nL 19.828125 46.734375 \r\nQ 21.96875 47.46875 24.109375 47.828125 \r\nQ 26.265625 48.1875 28.421875 48.1875 \r\nQ 40.625 48.1875 47.75 41.5 \r\nQ 54.890625 34.8125 54.890625 23.390625 \r\nQ 54.890625 11.625 47.5625 5.09375 \r\nQ 40.234375 -1.421875 26.90625 -1.421875 \r\nQ 22.3125 -1.421875 17.546875 -0.640625 \r\nQ 12.796875 0.140625 7.71875 1.703125 \r\nL 7.71875 11.625 \r\nQ 12.109375 9.234375 16.796875 8.0625 \r\nQ 21.484375 6.890625 26.703125 6.890625 \r\nQ 35.15625 6.890625 40.078125 11.328125 \r\nQ 45.015625 15.765625 45.015625 23.390625 \r\nQ 45.015625 31 40.078125 35.4375 \r\nQ 35.15625 39.890625 26.703125 39.890625 \r\nQ 22.75 39.890625 18.8125 39.015625 \r\nQ 14.890625 38.140625 10.796875 36.28125 \r\nz\r\n\" id=\"DejaVuSans-53\"/>\r\n       </defs>\r\n       <use xlink:href=\"#DejaVuSans-48\"/>\r\n       <use x=\"63.623047\" xlink:href=\"#DejaVuSans-46\"/>\r\n       <use x=\"95.410156\" xlink:href=\"#DejaVuSans-53\"/>\r\n      </g>\r\n     </g>\r\n    </g>\r\n    <g id=\"ytick_4\">\r\n     <g id=\"line2d_11\">\r\n      <g>\r\n       <use style=\"stroke:#000000;stroke-width:0.8;\" x=\"30.103125\" xlink:href=\"#m17f08ff6b3\" y=\"130.331977\"/>\r\n      </g>\r\n     </g>\r\n     <g id=\"text_11\">\r\n      <!-- 0.6 -->\r\n      <g transform=\"translate(7.2 134.131196)scale(0.1 -0.1)\">\r\n       <use xlink:href=\"#DejaVuSans-48\"/>\r\n       <use x=\"63.623047\" xlink:href=\"#DejaVuSans-46\"/>\r\n       <use x=\"95.410156\" xlink:href=\"#DejaVuSans-54\"/>\r\n      </g>\r\n     </g>\r\n    </g>\r\n    <g id=\"ytick_5\">\r\n     <g id=\"line2d_12\">\r\n      <g>\r\n       <use style=\"stroke:#000000;stroke-width:0.8;\" x=\"30.103125\" xlink:href=\"#m17f08ff6b3\" y=\"104.631108\"/>\r\n      </g>\r\n     </g>\r\n     <g id=\"text_12\">\r\n      <!-- 0.7 -->\r\n      <g transform=\"translate(7.2 108.430327)scale(0.1 -0.1)\">\r\n       <defs>\r\n        <path d=\"M 8.203125 72.90625 \r\nL 55.078125 72.90625 \r\nL 55.078125 68.703125 \r\nL 28.609375 0 \r\nL 18.3125 0 \r\nL 43.21875 64.59375 \r\nL 8.203125 64.59375 \r\nz\r\n\" id=\"DejaVuSans-55\"/>\r\n       </defs>\r\n       <use xlink:href=\"#DejaVuSans-48\"/>\r\n       <use x=\"63.623047\" xlink:href=\"#DejaVuSans-46\"/>\r\n       <use x=\"95.410156\" xlink:href=\"#DejaVuSans-55\"/>\r\n      </g>\r\n     </g>\r\n    </g>\r\n    <g id=\"ytick_6\">\r\n     <g id=\"line2d_13\">\r\n      <g>\r\n       <use style=\"stroke:#000000;stroke-width:0.8;\" x=\"30.103125\" xlink:href=\"#m17f08ff6b3\" y=\"78.930238\"/>\r\n      </g>\r\n     </g>\r\n     <g id=\"text_13\">\r\n      <!-- 0.8 -->\r\n      <g transform=\"translate(7.2 82.729457)scale(0.1 -0.1)\">\r\n       <use xlink:href=\"#DejaVuSans-48\"/>\r\n       <use x=\"63.623047\" xlink:href=\"#DejaVuSans-46\"/>\r\n       <use x=\"95.410156\" xlink:href=\"#DejaVuSans-56\"/>\r\n      </g>\r\n     </g>\r\n    </g>\r\n    <g id=\"ytick_7\">\r\n     <g id=\"line2d_14\">\r\n      <g>\r\n       <use style=\"stroke:#000000;stroke-width:0.8;\" x=\"30.103125\" xlink:href=\"#m17f08ff6b3\" y=\"53.229369\"/>\r\n      </g>\r\n     </g>\r\n     <g id=\"text_14\">\r\n      <!-- 0.9 -->\r\n      <g transform=\"translate(7.2 57.028588)scale(0.1 -0.1)\">\r\n       <defs>\r\n        <path d=\"M 10.984375 1.515625 \r\nL 10.984375 10.5 \r\nQ 14.703125 8.734375 18.5 7.8125 \r\nQ 22.3125 6.890625 25.984375 6.890625 \r\nQ 35.75 6.890625 40.890625 13.453125 \r\nQ 46.046875 20.015625 46.78125 33.40625 \r\nQ 43.953125 29.203125 39.59375 26.953125 \r\nQ 35.25 24.703125 29.984375 24.703125 \r\nQ 19.046875 24.703125 12.671875 31.3125 \r\nQ 6.296875 37.9375 6.296875 49.421875 \r\nQ 6.296875 60.640625 12.9375 67.421875 \r\nQ 19.578125 74.21875 30.609375 74.21875 \r\nQ 43.265625 74.21875 49.921875 64.515625 \r\nQ 56.59375 54.828125 56.59375 36.375 \r\nQ 56.59375 19.140625 48.40625 8.859375 \r\nQ 40.234375 -1.421875 26.421875 -1.421875 \r\nQ 22.703125 -1.421875 18.890625 -0.6875 \r\nQ 15.09375 0.046875 10.984375 1.515625 \r\nz\r\nM 30.609375 32.421875 \r\nQ 37.25 32.421875 41.125 36.953125 \r\nQ 45.015625 41.5 45.015625 49.421875 \r\nQ 45.015625 57.28125 41.125 61.84375 \r\nQ 37.25 66.40625 30.609375 66.40625 \r\nQ 23.96875 66.40625 20.09375 61.84375 \r\nQ 16.21875 57.28125 16.21875 49.421875 \r\nQ 16.21875 41.5 20.09375 36.953125 \r\nQ 23.96875 32.421875 30.609375 32.421875 \r\nz\r\n\" id=\"DejaVuSans-57\"/>\r\n       </defs>\r\n       <use xlink:href=\"#DejaVuSans-48\"/>\r\n       <use x=\"63.623047\" xlink:href=\"#DejaVuSans-46\"/>\r\n       <use x=\"95.410156\" xlink:href=\"#DejaVuSans-57\"/>\r\n      </g>\r\n     </g>\r\n    </g>\r\n    <g id=\"ytick_8\">\r\n     <g id=\"line2d_15\">\r\n      <g>\r\n       <use style=\"stroke:#000000;stroke-width:0.8;\" x=\"30.103125\" xlink:href=\"#m17f08ff6b3\" y=\"27.528499\"/>\r\n      </g>\r\n     </g>\r\n     <g id=\"text_15\">\r\n      <!-- 1.0 -->\r\n      <g transform=\"translate(7.2 31.327718)scale(0.1 -0.1)\">\r\n       <use xlink:href=\"#DejaVuSans-49\"/>\r\n       <use x=\"63.623047\" xlink:href=\"#DejaVuSans-46\"/>\r\n       <use x=\"95.410156\" xlink:href=\"#DejaVuSans-48\"/>\r\n      </g>\r\n     </g>\r\n    </g>\r\n   </g>\r\n   <g id=\"line2d_16\">\r\n    <path clip-path=\"url(#pe1af897811)\" d=\"M 45.321307 17.083636 \r\nL 67.061567 57.723561 \r\nL 88.801826 72.102964 \r\nL 110.542086 91.850497 \r\nL 132.282346 109.515408 \r\nL 154.022606 123.848533 \r\nL 175.762865 136.153832 \r\nL 197.503125 148.493675 \r\nL 219.243385 159.652009 \r\nL 240.983644 167.217023 \r\nL 262.723904 174.943331 \r\nL 284.464164 180.741524 \r\nL 306.204424 185.657937 \r\nL 327.944683 193.635873 \r\nL 349.684943 197.445112 \r\n\" style=\"fill:none;stroke:#1f77b4;stroke-linecap:square;stroke-width:1.5;\"/>\r\n   </g>\r\n   <g id=\"line2d_17\">\r\n    <path clip-path=\"url(#pe1af897811)\" d=\"M 45.321307 48.828665 \r\nL 67.061567 56.616555 \r\nL 88.801826 80.480249 \r\nL 110.542086 107.063984 \r\nL 132.282346 127.563369 \r\nL 154.022606 143.298128 \r\nL 175.762865 155.648311 \r\nL 197.503125 167.995331 \r\nL 219.243385 177.546887 \r\nL 240.983644 185.933647 \r\nL 262.723904 193.338487 \r\nL 284.464164 199.699688 \r\nL 306.204424 205.216044 \r\nL 327.944683 210.582075 \r\nL 349.684943 214.756364 \r\n\" style=\"fill:none;stroke:#ff7f0e;stroke-linecap:square;stroke-width:1.5;\"/>\r\n   </g>\r\n   <g id=\"patch_3\">\r\n    <path d=\"M 30.103125 224.64 \r\nL 30.103125 7.2 \r\n\" style=\"fill:none;stroke:#000000;stroke-linecap:square;stroke-linejoin:miter;stroke-width:0.8;\"/>\r\n   </g>\r\n   <g id=\"patch_4\">\r\n    <path d=\"M 364.903125 224.64 \r\nL 364.903125 7.2 \r\n\" style=\"fill:none;stroke:#000000;stroke-linecap:square;stroke-linejoin:miter;stroke-width:0.8;\"/>\r\n   </g>\r\n   <g id=\"patch_5\">\r\n    <path d=\"M 30.103125 224.64 \r\nL 364.903125 224.64 \r\n\" style=\"fill:none;stroke:#000000;stroke-linecap:square;stroke-linejoin:miter;stroke-width:0.8;\"/>\r\n   </g>\r\n   <g id=\"patch_6\">\r\n    <path d=\"M 30.103125 7.2 \r\nL 364.903125 7.2 \r\n\" style=\"fill:none;stroke:#000000;stroke-linecap:square;stroke-linejoin:miter;stroke-width:0.8;\"/>\r\n   </g>\r\n   <g id=\"legend_1\">\r\n    <g id=\"patch_7\">\r\n     <path d=\"M 286.7625 44.834375 \r\nL 357.903125 44.834375 \r\nQ 359.903125 44.834375 359.903125 42.834375 \r\nL 359.903125 14.2 \r\nQ 359.903125 12.2 357.903125 12.2 \r\nL 286.7625 12.2 \r\nQ 284.7625 12.2 284.7625 14.2 \r\nL 284.7625 42.834375 \r\nQ 284.7625 44.834375 286.7625 44.834375 \r\nz\r\n\" style=\"fill:#ffffff;opacity:0.8;stroke:#cccccc;stroke-linejoin:miter;\"/>\r\n    </g>\r\n    <g id=\"line2d_18\">\r\n     <path d=\"M 288.7625 20.298437 \r\nL 308.7625 20.298437 \r\n\" style=\"fill:none;stroke:#1f77b4;stroke-linecap:square;stroke-width:1.5;\"/>\r\n    </g>\r\n    <g id=\"line2d_19\"/>\r\n    <g id=\"text_16\">\r\n     <!-- loss -->\r\n     <g transform=\"translate(316.7625 23.798437)scale(0.1 -0.1)\">\r\n      <defs>\r\n       <path d=\"M 9.421875 75.984375 \r\nL 18.40625 75.984375 \r\nL 18.40625 0 \r\nL 9.421875 0 \r\nz\r\n\" id=\"DejaVuSans-108\"/>\r\n       <path d=\"M 30.609375 48.390625 \r\nQ 23.390625 48.390625 19.1875 42.75 \r\nQ 14.984375 37.109375 14.984375 27.296875 \r\nQ 14.984375 17.484375 19.15625 11.84375 \r\nQ 23.34375 6.203125 30.609375 6.203125 \r\nQ 37.796875 6.203125 41.984375 11.859375 \r\nQ 46.1875 17.53125 46.1875 27.296875 \r\nQ 46.1875 37.015625 41.984375 42.703125 \r\nQ 37.796875 48.390625 30.609375 48.390625 \r\nz\r\nM 30.609375 56 \r\nQ 42.328125 56 49.015625 48.375 \r\nQ 55.71875 40.765625 55.71875 27.296875 \r\nQ 55.71875 13.875 49.015625 6.21875 \r\nQ 42.328125 -1.421875 30.609375 -1.421875 \r\nQ 18.84375 -1.421875 12.171875 6.21875 \r\nQ 5.515625 13.875 5.515625 27.296875 \r\nQ 5.515625 40.765625 12.171875 48.375 \r\nQ 18.84375 56 30.609375 56 \r\nz\r\n\" id=\"DejaVuSans-111\"/>\r\n       <path d=\"M 44.28125 53.078125 \r\nL 44.28125 44.578125 \r\nQ 40.484375 46.53125 36.375 47.5 \r\nQ 32.28125 48.484375 27.875 48.484375 \r\nQ 21.1875 48.484375 17.84375 46.4375 \r\nQ 14.5 44.390625 14.5 40.28125 \r\nQ 14.5 37.15625 16.890625 35.375 \r\nQ 19.28125 33.59375 26.515625 31.984375 \r\nL 29.59375 31.296875 \r\nQ 39.15625 29.25 43.1875 25.515625 \r\nQ 47.21875 21.78125 47.21875 15.09375 \r\nQ 47.21875 7.46875 41.1875 3.015625 \r\nQ 35.15625 -1.421875 24.609375 -1.421875 \r\nQ 20.21875 -1.421875 15.453125 -0.5625 \r\nQ 10.6875 0.296875 5.421875 2 \r\nL 5.421875 11.28125 \r\nQ 10.40625 8.6875 15.234375 7.390625 \r\nQ 20.0625 6.109375 24.8125 6.109375 \r\nQ 31.15625 6.109375 34.5625 8.28125 \r\nQ 37.984375 10.453125 37.984375 14.40625 \r\nQ 37.984375 18.0625 35.515625 20.015625 \r\nQ 33.0625 21.96875 24.703125 23.78125 \r\nL 21.578125 24.515625 \r\nQ 13.234375 26.265625 9.515625 29.90625 \r\nQ 5.8125 33.546875 5.8125 39.890625 \r\nQ 5.8125 47.609375 11.28125 51.796875 \r\nQ 16.75 56 26.8125 56 \r\nQ 31.78125 56 36.171875 55.265625 \r\nQ 40.578125 54.546875 44.28125 53.078125 \r\nz\r\n\" id=\"DejaVuSans-115\"/>\r\n      </defs>\r\n      <use xlink:href=\"#DejaVuSans-108\"/>\r\n      <use x=\"27.783203\" xlink:href=\"#DejaVuSans-111\"/>\r\n      <use x=\"88.964844\" xlink:href=\"#DejaVuSans-115\"/>\r\n      <use x=\"141.064453\" xlink:href=\"#DejaVuSans-115\"/>\r\n     </g>\r\n    </g>\r\n    <g id=\"line2d_20\">\r\n     <path d=\"M 288.7625 34.976562 \r\nL 308.7625 34.976562 \r\n\" style=\"fill:none;stroke:#ff7f0e;stroke-linecap:square;stroke-width:1.5;\"/>\r\n    </g>\r\n    <g id=\"line2d_21\"/>\r\n    <g id=\"text_17\">\r\n     <!-- val_loss -->\r\n     <g transform=\"translate(316.7625 38.476562)scale(0.1 -0.1)\">\r\n      <defs>\r\n       <path d=\"M 2.984375 54.6875 \r\nL 12.5 54.6875 \r\nL 29.59375 8.796875 \r\nL 46.6875 54.6875 \r\nL 56.203125 54.6875 \r\nL 35.6875 0 \r\nL 23.484375 0 \r\nz\r\n\" id=\"DejaVuSans-118\"/>\r\n       <path d=\"M 34.28125 27.484375 \r\nQ 23.390625 27.484375 19.1875 25 \r\nQ 14.984375 22.515625 14.984375 16.5 \r\nQ 14.984375 11.71875 18.140625 8.90625 \r\nQ 21.296875 6.109375 26.703125 6.109375 \r\nQ 34.1875 6.109375 38.703125 11.40625 \r\nQ 43.21875 16.703125 43.21875 25.484375 \r\nL 43.21875 27.484375 \r\nz\r\nM 52.203125 31.203125 \r\nL 52.203125 0 \r\nL 43.21875 0 \r\nL 43.21875 8.296875 \r\nQ 40.140625 3.328125 35.546875 0.953125 \r\nQ 30.953125 -1.421875 24.3125 -1.421875 \r\nQ 15.921875 -1.421875 10.953125 3.296875 \r\nQ 6 8.015625 6 15.921875 \r\nQ 6 25.140625 12.171875 29.828125 \r\nQ 18.359375 34.515625 30.609375 34.515625 \r\nL 43.21875 34.515625 \r\nL 43.21875 35.40625 \r\nQ 43.21875 41.609375 39.140625 45 \r\nQ 35.0625 48.390625 27.6875 48.390625 \r\nQ 23 48.390625 18.546875 47.265625 \r\nQ 14.109375 46.140625 10.015625 43.890625 \r\nL 10.015625 52.203125 \r\nQ 14.9375 54.109375 19.578125 55.046875 \r\nQ 24.21875 56 28.609375 56 \r\nQ 40.484375 56 46.34375 49.84375 \r\nQ 52.203125 43.703125 52.203125 31.203125 \r\nz\r\n\" id=\"DejaVuSans-97\"/>\r\n       <path d=\"M 50.984375 -16.609375 \r\nL 50.984375 -23.578125 \r\nL -0.984375 -23.578125 \r\nL -0.984375 -16.609375 \r\nz\r\n\" id=\"DejaVuSans-95\"/>\r\n      </defs>\r\n      <use xlink:href=\"#DejaVuSans-118\"/>\r\n      <use x=\"59.179688\" xlink:href=\"#DejaVuSans-97\"/>\r\n      <use x=\"120.458984\" xlink:href=\"#DejaVuSans-108\"/>\r\n      <use x=\"148.242188\" xlink:href=\"#DejaVuSans-95\"/>\r\n      <use x=\"198.242188\" xlink:href=\"#DejaVuSans-108\"/>\r\n      <use x=\"226.025391\" xlink:href=\"#DejaVuSans-111\"/>\r\n      <use x=\"287.207031\" xlink:href=\"#DejaVuSans-115\"/>\r\n      <use x=\"339.306641\" xlink:href=\"#DejaVuSans-115\"/>\r\n     </g>\r\n    </g>\r\n   </g>\r\n  </g>\r\n </g>\r\n <defs>\r\n  <clipPath id=\"pe1af897811\">\r\n   <rect height=\"217.44\" width=\"334.8\" x=\"30.103125\" y=\"7.2\"/>\r\n  </clipPath>\r\n </defs>\r\n</svg>\r\n",
      "image/png": "[encoded data removed]"
     },
     "metadata": {
      "needs_background": "light"
     }
    }
   ],
   "source": [
    "history.plot(kind='line', y=['loss', 'val_loss'])"
   ]
  },
  {
   "cell_type": "code",
   "execution_count": 9,
   "metadata": {},
   "outputs": [
    {
     "output_type": "execute_result",
     "data": {
      "text/plain": [
       "OrderedDict([('loss', 0.32095456), ('acc', 0.9784091)])"
      ]
     },
     "metadata": {},
     "execution_count": 9
    }
   ],
   "source": [
    "model.evaluate(X, y)"
   ]
  },
  {
   "cell_type": "code",
   "execution_count": 10,
   "metadata": {},
   "outputs": [
    {
     "output_type": "execute_result",
     "data": {
      "text/plain": [
       "array([[ 3.6031659 ,  0.12945846, -2.8445425 ],\n",
       "       [ 3.0881958 ,  0.24681666, -2.5191884 ],\n",
       "       [ 3.304629  ,  0.11464036, -2.6264944 ],\n",
       "       [ 2.9662519 ,  0.21738786, -2.4152184 ],\n",
       "       [ 3.6394908 ,  0.08945101, -2.848618  ],\n",
       "       [ 3.674839  ,  0.18944839, -2.9075942 ],\n",
       "       [ 3.2971473 ,  0.08662041, -2.604949  ],\n",
       "       [ 3.384935  ,  0.17970923, -2.7098718 ],\n",
       "       [ 2.8269465 ,  0.20215514, -2.3129444 ],\n",
       "       [ 3.1026783 ,  0.26000386, -2.5318074 ],\n",
       "       [ 3.7811444 ,  0.15508887, -2.9836762 ],\n",
       "       [ 3.1949615 ,  0.20140728, -2.5717397 ],\n",
       "       [ 3.089293  ,  0.22772148, -2.5151744 ],\n",
       "       [ 3.173334  ,  0.05819321, -2.4997525 ],\n",
       "       [ 4.3687115 ,  0.08731961, -3.3448415 ],\n",
       "       [ 4.347366  ,  0.04194509, -3.314373  ],\n",
       "       [ 4.025144  ,  0.06240199, -3.09659   ],\n",
       "       [ 3.5723953 ,  0.13110077, -2.8242953 ],\n",
       "       [ 3.730679  ,  0.2603067 , -2.979381  ],\n",
       "       [ 3.7115214 ,  0.08722831, -2.8972309 ],\n",
       "       [ 3.2916534 ,  0.34068236, -2.6878777 ],\n",
       "       [ 3.6025145 ,  0.11655339, -2.8343685 ],\n",
       "       [ 3.735116  , -0.02768286, -2.8451247 ],\n",
       "       [ 2.9730887 ,  0.34402123, -2.449626  ],\n",
       "       [ 2.8020399 ,  0.35465765, -2.316952  ],\n",
       "       [ 2.8933344 ,  0.36125964, -2.4079077 ],\n",
       "       [ 3.1925945 ,  0.2394287 , -2.5795672 ],\n",
       "       [ 3.5466876 ,  0.17772907, -2.8278022 ],\n",
       "       [ 3.5597563 ,  0.16998282, -2.8336875 ],\n",
       "       [ 2.975531  ,  0.25105843, -2.4282033 ],\n",
       "       [ 2.9195962 ,  0.2979022 , -2.4041605 ],\n",
       "       [ 3.4370565 ,  0.25701147, -2.7691207 ],\n",
       "       [ 3.9974718 ,  0.04157551, -3.073488  ],\n",
       "       [ 4.2452807 ,  0.04236423, -3.243093  ],\n",
       "       [ 3.0711532 ,  0.2624708 , -2.508504  ],\n",
       "       [ 3.486401  ,  0.137775  , -2.7577777 ],\n",
       "       [ 3.829543  ,  0.16636112, -3.0137672 ],\n",
       "       [ 3.6187108 ,  0.07858666, -2.828484  ],\n",
       "       [ 3.026903  ,  0.12406302, -2.434192  ],\n",
       "       [ 3.4203944 ,  0.19456151, -2.7414575 ],\n",
       "       [ 3.6152096 ,  0.08915622, -2.8280401 ],\n",
       "       [ 2.330013  ,  0.3786555 , -2.0065384 ],\n",
       "       [ 3.189735  ,  0.07126843, -2.524385  ],\n",
       "       [ 3.1795464 ,  0.23048127, -2.559614  ],\n",
       "       [ 3.2146597 ,  0.2838576 , -2.5919807 ],\n",
       "       [ 3.0145211 ,  0.23804656, -2.4599457 ],\n",
       "       [ 3.64118   ,  0.12680596, -2.8631992 ],\n",
       "       [ 3.1725297 ,  0.13604   , -2.542087  ],\n",
       "       [ 3.742558  ,  0.13972118, -2.9489927 ],\n",
       "       [ 3.4055672 ,  0.16427961, -2.7239351 ],\n",
       "       [-1.2731942 ,  1.9583368 ,  0.75621796],\n",
       "       [-1.2809985 ,  1.7874098 ,  0.81661457],\n",
       "       [-1.6907884 ,  1.9210346 ,  1.1880976 ],\n",
       "       [-1.5707408 ,  1.5087144 ,  1.1352103 ],\n",
       "       [-1.6713148 ,  1.7971203 ,  1.1856765 ],\n",
       "       [-1.7705241 ,  1.5759346 ,  1.3553119 ],\n",
       "       [-1.5495311 ,  1.7497091 ,  1.101163  ],\n",
       "       [-0.6597688 ,  1.3044475 ,  0.29124963],\n",
       "       [-1.4917583 ,  1.8460574 ,  0.9940721 ],\n",
       "       [-1.2959399 ,  1.4329286 ,  0.8961991 ],\n",
       "       [-1.2249271 ,  1.3816731 ,  0.8002527 ],\n",
       "       [-1.2281475 ,  1.637227  ,  0.7915744 ],\n",
       "       [-1.3391131 ,  1.6736064 ,  0.8501853 ],\n",
       "       [-1.8431325 ,  1.6865432 ,  1.4025916 ],\n",
       "       [-0.4438462 ,  1.4151995 ,  0.12312765],\n",
       "       [-1.0426544 ,  1.8411452 ,  0.5614362 ],\n",
       "       [-1.7340792 ,  1.54054   ,  1.3367273 ],\n",
       "       [-1.182306  ,  1.6338823 ,  0.73030496],\n",
       "       [-2.082232  ,  1.6812629 ,  1.6110559 ],\n",
       "       [-1.1852769 ,  1.5651482 ,  0.7357413 ],\n",
       "       [-1.9718016 ,  1.6082413 ,  1.5703162 ],\n",
       "       [-0.9405063 ,  1.6676931 ,  0.4852392 ],\n",
       "       [-2.3489134 ,  1.7146447 ,  1.8937663 ],\n",
       "       [-1.8428795 ,  1.6965995 ,  1.3970348 ],\n",
       "       [-1.1696286 ,  1.7872763 ,  0.67869127],\n",
       "       [-1.1805245 ,  1.8384671 ,  0.6811791 ],\n",
       "       [-1.782742  ,  1.8879461 ,  1.2758973 ],\n",
       "       [-2.0415375 ,  1.8392694 ,  1.5647808 ],\n",
       "       [-1.6605211 ,  1.6554213 ,  1.2201319 ],\n",
       "       [-0.42155617,  1.461309  ,  0.04946731],\n",
       "       [-1.1673709 ,  1.5337956 ,  0.719868  ],\n",
       "       [-0.9947796 ,  1.5296297 ,  0.5487821 ],\n",
       "       [-0.97981983,  1.6012964 ,  0.53197634],\n",
       "       [-2.6095474 ,  1.6205633 ,  2.2002888 ],\n",
       "       [-1.8060074 ,  1.4802066 ,  1.4289942 ],\n",
       "       [-1.306316  ,  1.6676358 ,  0.89895535],\n",
       "       [-1.5061897 ,  1.8673403 ,  1.0129548 ],\n",
       "       [-1.775445  ,  1.7339661 ,  1.2865394 ],\n",
       "       [-1.1295701 ,  1.5612414 ,  0.71695185],\n",
       "       [-1.4238402 ,  1.5177319 ,  0.993103  ],\n",
       "       [-1.8259696 ,  1.5175081 ,  1.4190996 ],\n",
       "       [-1.6415743 ,  1.694056  ,  1.1976991 ],\n",
       "       [-1.2011086 ,  1.6190579 ,  0.74152195],\n",
       "       [-0.71402895,  1.3451042 ,  0.31861526],\n",
       "       [-1.4964029 ,  1.5505896 ,  1.0717608 ],\n",
       "       [-1.1920732 ,  1.5985105 ,  0.7676442 ],\n",
       "       [-1.3127501 ,  1.5894549 ,  0.8827411 ],\n",
       "       [-1.2543073 ,  1.7356784 ,  0.7801119 ],\n",
       "       [-0.0346964 ,  1.1854655 , -0.22026996],\n",
       "       [-1.2580928 ,  1.5879498 ,  0.8199562 ],\n",
       "       [-3.4575317 ,  1.6147565 ,  3.0880804 ],\n",
       "       [-2.7924695 ,  1.5388405 ,  2.4079206 ],\n",
       "       [-3.1966267 ,  1.9024765 ,  2.7360764 ],\n",
       "       [-3.0550385 ,  1.6871302 ,  2.6536956 ],\n",
       "       [-3.3023734 ,  1.7088847 ,  2.8999221 ],\n",
       "       [-3.8199015 ,  2.0156665 ,  3.361587  ],\n",
       "       [-2.4142044 ,  1.2893738 ,  2.0794673 ],\n",
       "       [-3.5206447 ,  1.9606993 ,  3.0720634 ],\n",
       "       [-3.3482966 ,  1.7646639 ,  2.91392   ],\n",
       "       [-3.1235876 ,  1.9242675 ,  2.6842842 ],\n",
       "       [-2.2080336 ,  1.7637454 ,  1.7660933 ],\n",
       "       [-2.832684  ,  1.7126333 ,  2.3985229 ],\n",
       "       [-2.7952435 ,  1.8249774 ,  2.3420005 ],\n",
       "       [-2.8595207 ,  1.4855021 ,  2.4746022 ],\n",
       "       [-2.8854227 ,  1.4998665 ,  2.508029  ],\n",
       "       [-2.6121483 ,  1.7060452 ,  2.1960034 ],\n",
       "       [-2.7949443 ,  1.7572819 ,  2.3678212 ],\n",
       "       [-3.4380023 ,  2.0878768 ,  2.9841263 ],\n",
       "       [-4.1964006 ,  1.9674728 ,  3.7501218 ],\n",
       "       [-2.7433116 ,  1.6013491 ,  2.3259606 ],\n",
       "       [-2.9415102 ,  1.8432701 ,  2.4972694 ],\n",
       "       [-2.577671  ,  1.4830947 ,  2.2057173 ],\n",
       "       [-3.9208045 ,  2.022226  ,  3.4457088 ],\n",
       "       [-2.319281  ,  1.7020801 ,  1.8711787 ],\n",
       "       [-2.8678603 ,  1.8026485 ,  2.4434295 ],\n",
       "       [-3.0274148 ,  1.9600749 ,  2.5638466 ],\n",
       "       [-2.1543229 ,  1.6797447 ,  1.7130944 ],\n",
       "       [-2.173306  ,  1.6559148 ,  1.7524375 ],\n",
       "       [-3.1967287 ,  1.6865191 ,  2.787716  ],\n",
       "       [-2.8335629 ,  1.971247  ,  2.3542395 ],\n",
       "       [-3.3641775 ,  1.9886825 ,  2.889245  ],\n",
       "       [-2.9194865 ,  2.1696188 ,  2.4237804 ],\n",
       "       [-3.229807  ,  1.67624   ,  2.820093  ],\n",
       "       [-2.3923624 ,  1.7224317 ,  1.9534818 ],\n",
       "       [-3.0837946 ,  1.6250553 ,  2.6982865 ],\n",
       "       [-3.2898183 ,  2.0613394 ,  2.7870698 ],\n",
       "       [-2.923866  ,  1.6689241 ,  2.5411024 ],\n",
       "       [-2.7582462 ,  1.7319434 ,  2.3436804 ],\n",
       "       [-2.0819504 ,  1.6290715 ,  1.6655113 ],\n",
       "       [-2.5518696 ,  1.8623189 ,  2.0867357 ],\n",
       "       [-2.9954307 ,  1.7747809 ,  2.5653996 ],\n",
       "       [-2.225485  ,  1.855331  ,  1.7518132 ],\n",
       "       [-2.7924695 ,  1.5388405 ,  2.4079206 ],\n",
       "       [-3.234478  ,  1.8074149 ,  2.8118596 ],\n",
       "       [-3.0152674 ,  1.7735188 ,  2.5966516 ],\n",
       "       [-2.5073805 ,  1.7895249 ,  2.0544431 ],\n",
       "       [-2.6274004 ,  1.6833127 ,  2.1821756 ],\n",
       "       [-2.4843242 ,  1.7517285 ,  2.042915  ],\n",
       "       [-2.667551  ,  1.6523666 ,  2.282032  ],\n",
       "       [-2.5030255 ,  1.5902123 ,  2.1139398 ]], dtype=float32)"
      ]
     },
     "metadata": {},
     "execution_count": 10
    }
   ],
   "source": [
    "model.predict(X)"
   ]
  },
  {
   "cell_type": "code",
   "execution_count": null,
   "metadata": {},
   "outputs": [],
   "source": []
  }
 ]
}