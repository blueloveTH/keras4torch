{
 "metadata": {
  "language_info": {
   "codemirror_mode": {
    "name": "ipython",
    "version": 3
   },
   "file_extension": ".py",
   "mimetype": "text/x-python",
   "name": "python",
   "nbconvert_exporter": "python",
   "pygments_lexer": "ipython3",
   "version": "3.7.8-final"
  },
  "orig_nbformat": 2,
  "kernelspec": {
   "name": "Python 3.7.8 64-bit ('kesci_compete')",
   "display_name": "Python 3.7.8 64-bit ('kesci_compete')",
   "metadata": {
    "interpreter": {
     "hash": "8dc6728e8885f5cf3d484bdac908677760b39a28192ba674e6f789c8dc6420a9"
    }
   }
  }
 },
 "nbformat": 4,
 "nbformat_minor": 2,
 "cells": [
  {
   "cell_type": "code",
   "execution_count": 1,
   "metadata": {},
   "outputs": [],
   "source": [
    "import sys\n",
    "\n",
    "sys.path.append('../')\n",
    "\n",
    "import keras4torch as k4t\n",
    "import torch\n",
    "from torch import nn\n",
    "from sklearn.datasets import load_iris\n",
    "import numpy as np\n",
    "from keras4torch.metrics import *"
   ]
  },
  {
   "cell_type": "code",
   "execution_count": 2,
   "metadata": {},
   "outputs": [],
   "source": [
    "X, y = load_iris(return_X_y=True)\n",
    "X = X.astype(np.float32)\n",
    "y = y.astype(np.int64)"
   ]
  },
  {
   "cell_type": "code",
   "execution_count": 3,
   "metadata": {},
   "outputs": [
    {
     "output_type": "execute_result",
     "data": {
      "text/plain": [
       "('1.1.1', '1.19.1')"
      ]
     },
     "metadata": {},
     "execution_count": 3
    }
   ],
   "source": [
    "import pandas\n",
    "import numpy\n",
    "pandas.__version__, numpy.__version__"
   ]
  },
  {
   "cell_type": "code",
   "execution_count": 4,
   "metadata": {},
   "outputs": [],
   "source": [
    "model = nn.Sequential(\n",
    "    nn.Linear(4, 128), nn.ReLU(),\n",
    "    nn.Sequential(\n",
    "        nn.Linear(128, 64), nn.ReLU()\n",
    "    ),\n",
    "    nn.Linear(64, 3)\n",
    ")\n",
    "\n",
    "model = k4t.Model(model)"
   ]
  },
  {
   "cell_type": "code",
   "execution_count": 5,
   "metadata": {},
   "outputs": [],
   "source": [
    "def accuracy(y_pred, y_true):\n",
    "    right_cnt = (y_pred.argmax(-1) == y_true).sum()\n",
    "    return right_cnt * 1.0 / y_true.shape[0]\n",
    "\n",
    "model.compile(optimizer='adam', loss='ce_loss', metrics=['acc'])"
   ]
  },
  {
   "cell_type": "code",
   "execution_count": 6,
   "metadata": {},
   "outputs": [
    {
     "output_type": "stream",
     "name": "stdout",
     "text": [
      "==========================================================================================\nLayer (type:depth-idx)                   Output Shape              Param #\n==========================================================================================\n├─Linear: 1-1                            [-1, 128]                 640\n├─ReLU: 1-2                              [-1, 128]                 --\n├─Sequential: 1-3                        [-1, 64]                  --\n|    └─Linear: 2-1                       [-1, 64]                  8,256\n|    └─ReLU: 2-2                         [-1, 64]                  --\n├─Linear: 1-4                            [-1, 3]                   195\n==========================================================================================\nTotal params: 9,091\nTrainable params: 9,091\nNon-trainable params: 0\nTotal mult-adds (M): 0.02\n==========================================================================================\nInput size (MB): 0.00\nForward/backward pass size (MB): 0.00\nParams size (MB): 0.03\nEstimated Total Size (MB): 0.04\n==========================================================================================\n"
     ]
    }
   ],
   "source": [
    "model.summary(input_shape=[4])"
   ]
  },
  {
   "cell_type": "code",
   "execution_count": 7,
   "metadata": {},
   "outputs": [
    {
     "output_type": "stream",
     "name": "stdout",
     "text": [
      "Train on 120 samples, validate on 30 samples:\nEpoch 1/15 - 0.0s - loss: 0.9631 - acc: 0.6589 - val_loss: 0.8920 - val_acc: 0.8667 - lr: 1e-03\nEpoch 2/15 - 0.0s - loss: 0.8956 - acc: 0.6719 - val_loss: 0.8235 - val_acc: 0.8333 - lr: 1e-03\nEpoch 3/15 - 0.0s - loss: 0.8294 - acc: 0.8021 - val_loss: 0.7993 - val_acc: 0.7000 - lr: 1e-03\nEpoch 4/15 - 0.0s - loss: 0.7676 - acc: 0.7656 - val_loss: 0.7438 - val_acc: 0.7667 - lr: 1e-03\nEpoch 5/15 - 0.0s - loss: 0.7100 - acc: 0.9323 - val_loss: 0.6651 - val_acc: 0.8667 - lr: 1e-03\nEpoch 6/15 - 0.0s - loss: 0.6563 - acc: 0.8177 - val_loss: 0.6090 - val_acc: 0.8667 - lr: 1e-03\nEpoch 7/15 - 0.0s - loss: 0.6096 - acc: 0.8958 - val_loss: 0.5935 - val_acc: 0.8667 - lr: 1e-03\nEpoch 8/15 - 0.0s - loss: 0.5591 - acc: 0.9635 - val_loss: 0.5346 - val_acc: 0.9333 - lr: 1e-03\nEpoch 9/15 - 0.0s - loss: 0.5136 - acc: 0.9219 - val_loss: 0.4906 - val_acc: 0.8667 - lr: 1e-03\nEpoch 10/15 - 0.0s - loss: 0.4824 - acc: 0.9427 - val_loss: 0.4847 - val_acc: 0.9333 - lr: 1e-03\nEpoch 11/15 - 0.0s - loss: 0.4508 - acc: 0.9688 - val_loss: 0.4406 - val_acc: 0.9333 - lr: 1e-03\nEpoch 12/15 - 0.0s - loss: 0.4268 - acc: 0.9661 - val_loss: 0.4162 - val_acc: 0.9333 - lr: 1e-03\nEpoch 13/15 - 0.0s - loss: 0.3958 - acc: 0.9766 - val_loss: 0.4060 - val_acc: 0.9333 - lr: 1e-03\nEpoch 14/15 - 0.0s - loss: 0.3685 - acc: 0.9818 - val_loss: 0.4002 - val_acc: 0.9333 - lr: 1e-03\nEpoch 15/15 - 0.0s - loss: 0.3496 - acc: 0.9740 - val_loss: 0.3727 - val_acc: 0.9333 - lr: 1e-03\n"
     ]
    }
   ],
   "source": [
    "history = model.fit(X, y,\n",
    "            epochs=15,\n",
    "            validation_split=0.2,\n",
    "            )"
   ]
  },
  {
   "cell_type": "code",
   "execution_count": 8,
   "metadata": {},
   "outputs": [
    {
     "output_type": "execute_result",
     "data": {
      "text/plain": [
       "<AxesSubplot:>"
      ]
     },
     "metadata": {},
     "execution_count": 8
    },
    {
     "output_type": "display_data",
     "data": {
      "text/plain": "<Figure size 432x288 with 1 Axes>",
      "image/svg+xml": "<?xml version=\"1.0\" encoding=\"utf-8\" standalone=\"no\"?>\r\n<!DOCTYPE svg PUBLIC \"-//W3C//DTD SVG 1.1//EN\"\r\n  \"http://www.w3.org/Graphics/SVG/1.1/DTD/svg11.dtd\">\r\n<!-- Created with matplotlib (https://matplotlib.org/) -->\r\n<svg height=\"248.518125pt\" version=\"1.1\" viewBox=\"0 0 372.103125 248.518125\" width=\"372.103125pt\" xmlns=\"http://www.w3.org/2000/svg\" xmlns:xlink=\"http://www.w3.org/1999/xlink\">\r\n <metadata>\r\n  <rdf:RDF xmlns:cc=\"http://creativecommons.org/ns#\" xmlns:dc=\"http://purl.org/dc/elements/1.1/\" xmlns:rdf=\"http://www.w3.org/1999/02/22-rdf-syntax-ns#\">\r\n   <cc:Work>\r\n    <dc:type rdf:resource=\"http://purl.org/dc/dcmitype/StillImage\"/>\r\n    <dc:date>2020-10-12T23:04:11.340803</dc:date>\r\n    <dc:format>image/svg+xml</dc:format>\r\n    <dc:creator>\r\n     <cc:Agent>\r\n      <dc:title>Matplotlib v3.3.1, https://matplotlib.org/</dc:title>\r\n     </cc:Agent>\r\n    </dc:creator>\r\n   </cc:Work>\r\n  </rdf:RDF>\r\n </metadata>\r\n <defs>\r\n  <style type=\"text/css\">*{stroke-linecap:butt;stroke-linejoin:round;}</style>\r\n </defs>\r\n <g id=\"figure_1\">\r\n  <g id=\"patch_1\">\r\n   <path d=\"M 0 248.518125 \r\nL 372.103125 248.518125 \r\nL 372.103125 0 \r\nL 0 0 \r\nz\r\n\" style=\"fill:none;\"/>\r\n  </g>\r\n  <g id=\"axes_1\">\r\n   <g id=\"patch_2\">\r\n    <path d=\"M 30.103125 224.64 \r\nL 364.903125 224.64 \r\nL 364.903125 7.2 \r\nL 30.103125 7.2 \r\nz\r\n\" style=\"fill:#ffffff;\"/>\r\n   </g>\r\n   <g id=\"matplotlib.axis_1\">\r\n    <g id=\"xtick_1\">\r\n     <g id=\"line2d_1\">\r\n      <defs>\r\n       <path d=\"M 0 0 \r\nL 0 3.5 \r\n\" id=\"m08e628660d\" style=\"stroke:#000000;stroke-width:0.8;\"/>\r\n      </defs>\r\n      <g>\r\n       <use style=\"stroke:#000000;stroke-width:0.8;\" x=\"67.061567\" xlink:href=\"#m08e628660d\" y=\"224.64\"/>\r\n      </g>\r\n     </g>\r\n     <g id=\"text_1\">\r\n      <!-- 2 -->\r\n      <g transform=\"translate(63.880317 239.238438)scale(0.1 -0.1)\">\r\n       <defs>\r\n        <path d=\"M 19.1875 8.296875 \r\nL 53.609375 8.296875 \r\nL 53.609375 0 \r\nL 7.328125 0 \r\nL 7.328125 8.296875 \r\nQ 12.9375 14.109375 22.625 23.890625 \r\nQ 32.328125 33.6875 34.8125 36.53125 \r\nQ 39.546875 41.84375 41.421875 45.53125 \r\nQ 43.3125 49.21875 43.3125 52.78125 \r\nQ 43.3125 58.59375 39.234375 62.25 \r\nQ 35.15625 65.921875 28.609375 65.921875 \r\nQ 23.96875 65.921875 18.8125 64.3125 \r\nQ 13.671875 62.703125 7.8125 59.421875 \r\nL 7.8125 69.390625 \r\nQ 13.765625 71.78125 18.9375 73 \r\nQ 24.125 74.21875 28.421875 74.21875 \r\nQ 39.75 74.21875 46.484375 68.546875 \r\nQ 53.21875 62.890625 53.21875 53.421875 \r\nQ 53.21875 48.921875 51.53125 44.890625 \r\nQ 49.859375 40.875 45.40625 35.40625 \r\nQ 44.1875 33.984375 37.640625 27.21875 \r\nQ 31.109375 20.453125 19.1875 8.296875 \r\nz\r\n\" id=\"DejaVuSans-50\"/>\r\n       </defs>\r\n       <use xlink:href=\"#DejaVuSans-50\"/>\r\n      </g>\r\n     </g>\r\n    </g>\r\n    <g id=\"xtick_2\">\r\n     <g id=\"line2d_2\">\r\n      <g>\r\n       <use style=\"stroke:#000000;stroke-width:0.8;\" x=\"110.542086\" xlink:href=\"#m08e628660d\" y=\"224.64\"/>\r\n      </g>\r\n     </g>\r\n     <g id=\"text_2\">\r\n      <!-- 4 -->\r\n      <g transform=\"translate(107.360836 239.238438)scale(0.1 -0.1)\">\r\n       <defs>\r\n        <path d=\"M 37.796875 64.3125 \r\nL 12.890625 25.390625 \r\nL 37.796875 25.390625 \r\nz\r\nM 35.203125 72.90625 \r\nL 47.609375 72.90625 \r\nL 47.609375 25.390625 \r\nL 58.015625 25.390625 \r\nL 58.015625 17.1875 \r\nL 47.609375 17.1875 \r\nL 47.609375 0 \r\nL 37.796875 0 \r\nL 37.796875 17.1875 \r\nL 4.890625 17.1875 \r\nL 4.890625 26.703125 \r\nz\r\n\" id=\"DejaVuSans-52\"/>\r\n       </defs>\r\n       <use xlink:href=\"#DejaVuSans-52\"/>\r\n      </g>\r\n     </g>\r\n    </g>\r\n    <g id=\"xtick_3\">\r\n     <g id=\"line2d_3\">\r\n      <g>\r\n       <use style=\"stroke:#000000;stroke-width:0.8;\" x=\"154.022606\" xlink:href=\"#m08e628660d\" y=\"224.64\"/>\r\n      </g>\r\n     </g>\r\n     <g id=\"text_3\">\r\n      <!-- 6 -->\r\n      <g transform=\"translate(150.841356 239.238438)scale(0.1 -0.1)\">\r\n       <defs>\r\n        <path d=\"M 33.015625 40.375 \r\nQ 26.375 40.375 22.484375 35.828125 \r\nQ 18.609375 31.296875 18.609375 23.390625 \r\nQ 18.609375 15.53125 22.484375 10.953125 \r\nQ 26.375 6.390625 33.015625 6.390625 \r\nQ 39.65625 6.390625 43.53125 10.953125 \r\nQ 47.40625 15.53125 47.40625 23.390625 \r\nQ 47.40625 31.296875 43.53125 35.828125 \r\nQ 39.65625 40.375 33.015625 40.375 \r\nz\r\nM 52.59375 71.296875 \r\nL 52.59375 62.3125 \r\nQ 48.875 64.0625 45.09375 64.984375 \r\nQ 41.3125 65.921875 37.59375 65.921875 \r\nQ 27.828125 65.921875 22.671875 59.328125 \r\nQ 17.53125 52.734375 16.796875 39.40625 \r\nQ 19.671875 43.65625 24.015625 45.921875 \r\nQ 28.375 48.1875 33.59375 48.1875 \r\nQ 44.578125 48.1875 50.953125 41.515625 \r\nQ 57.328125 34.859375 57.328125 23.390625 \r\nQ 57.328125 12.15625 50.6875 5.359375 \r\nQ 44.046875 -1.421875 33.015625 -1.421875 \r\nQ 20.359375 -1.421875 13.671875 8.265625 \r\nQ 6.984375 17.96875 6.984375 36.375 \r\nQ 6.984375 53.65625 15.1875 63.9375 \r\nQ 23.390625 74.21875 37.203125 74.21875 \r\nQ 40.921875 74.21875 44.703125 73.484375 \r\nQ 48.484375 72.75 52.59375 71.296875 \r\nz\r\n\" id=\"DejaVuSans-54\"/>\r\n       </defs>\r\n       <use xlink:href=\"#DejaVuSans-54\"/>\r\n      </g>\r\n     </g>\r\n    </g>\r\n    <g id=\"xtick_4\">\r\n     <g id=\"line2d_4\">\r\n      <g>\r\n       <use style=\"stroke:#000000;stroke-width:0.8;\" x=\"197.503125\" xlink:href=\"#m08e628660d\" y=\"224.64\"/>\r\n      </g>\r\n     </g>\r\n     <g id=\"text_4\">\r\n      <!-- 8 -->\r\n      <g transform=\"translate(194.321875 239.238438)scale(0.1 -0.1)\">\r\n       <defs>\r\n        <path d=\"M 31.78125 34.625 \r\nQ 24.75 34.625 20.71875 30.859375 \r\nQ 16.703125 27.09375 16.703125 20.515625 \r\nQ 16.703125 13.921875 20.71875 10.15625 \r\nQ 24.75 6.390625 31.78125 6.390625 \r\nQ 38.8125 6.390625 42.859375 10.171875 \r\nQ 46.921875 13.96875 46.921875 20.515625 \r\nQ 46.921875 27.09375 42.890625 30.859375 \r\nQ 38.875 34.625 31.78125 34.625 \r\nz\r\nM 21.921875 38.8125 \r\nQ 15.578125 40.375 12.03125 44.71875 \r\nQ 8.5 49.078125 8.5 55.328125 \r\nQ 8.5 64.0625 14.71875 69.140625 \r\nQ 20.953125 74.21875 31.78125 74.21875 \r\nQ 42.671875 74.21875 48.875 69.140625 \r\nQ 55.078125 64.0625 55.078125 55.328125 \r\nQ 55.078125 49.078125 51.53125 44.71875 \r\nQ 48 40.375 41.703125 38.8125 \r\nQ 48.828125 37.15625 52.796875 32.3125 \r\nQ 56.78125 27.484375 56.78125 20.515625 \r\nQ 56.78125 9.90625 50.3125 4.234375 \r\nQ 43.84375 -1.421875 31.78125 -1.421875 \r\nQ 19.734375 -1.421875 13.25 4.234375 \r\nQ 6.78125 9.90625 6.78125 20.515625 \r\nQ 6.78125 27.484375 10.78125 32.3125 \r\nQ 14.796875 37.15625 21.921875 38.8125 \r\nz\r\nM 18.3125 54.390625 \r\nQ 18.3125 48.734375 21.84375 45.5625 \r\nQ 25.390625 42.390625 31.78125 42.390625 \r\nQ 38.140625 42.390625 41.71875 45.5625 \r\nQ 45.3125 48.734375 45.3125 54.390625 \r\nQ 45.3125 60.0625 41.71875 63.234375 \r\nQ 38.140625 66.40625 31.78125 66.40625 \r\nQ 25.390625 66.40625 21.84375 63.234375 \r\nQ 18.3125 60.0625 18.3125 54.390625 \r\nz\r\n\" id=\"DejaVuSans-56\"/>\r\n       </defs>\r\n       <use xlink:href=\"#DejaVuSans-56\"/>\r\n      </g>\r\n     </g>\r\n    </g>\r\n    <g id=\"xtick_5\">\r\n     <g id=\"line2d_5\">\r\n      <g>\r\n       <use style=\"stroke:#000000;stroke-width:0.8;\" x=\"240.983644\" xlink:href=\"#m08e628660d\" y=\"224.64\"/>\r\n      </g>\r\n     </g>\r\n     <g id=\"text_5\">\r\n      <!-- 10 -->\r\n      <g transform=\"translate(234.621144 239.238438)scale(0.1 -0.1)\">\r\n       <defs>\r\n        <path d=\"M 12.40625 8.296875 \r\nL 28.515625 8.296875 \r\nL 28.515625 63.921875 \r\nL 10.984375 60.40625 \r\nL 10.984375 69.390625 \r\nL 28.421875 72.90625 \r\nL 38.28125 72.90625 \r\nL 38.28125 8.296875 \r\nL 54.390625 8.296875 \r\nL 54.390625 0 \r\nL 12.40625 0 \r\nz\r\n\" id=\"DejaVuSans-49\"/>\r\n        <path d=\"M 31.78125 66.40625 \r\nQ 24.171875 66.40625 20.328125 58.90625 \r\nQ 16.5 51.421875 16.5 36.375 \r\nQ 16.5 21.390625 20.328125 13.890625 \r\nQ 24.171875 6.390625 31.78125 6.390625 \r\nQ 39.453125 6.390625 43.28125 13.890625 \r\nQ 47.125 21.390625 47.125 36.375 \r\nQ 47.125 51.421875 43.28125 58.90625 \r\nQ 39.453125 66.40625 31.78125 66.40625 \r\nz\r\nM 31.78125 74.21875 \r\nQ 44.046875 74.21875 50.515625 64.515625 \r\nQ 56.984375 54.828125 56.984375 36.375 \r\nQ 56.984375 17.96875 50.515625 8.265625 \r\nQ 44.046875 -1.421875 31.78125 -1.421875 \r\nQ 19.53125 -1.421875 13.0625 8.265625 \r\nQ 6.59375 17.96875 6.59375 36.375 \r\nQ 6.59375 54.828125 13.0625 64.515625 \r\nQ 19.53125 74.21875 31.78125 74.21875 \r\nz\r\n\" id=\"DejaVuSans-48\"/>\r\n       </defs>\r\n       <use xlink:href=\"#DejaVuSans-49\"/>\r\n       <use x=\"63.623047\" xlink:href=\"#DejaVuSans-48\"/>\r\n      </g>\r\n     </g>\r\n    </g>\r\n    <g id=\"xtick_6\">\r\n     <g id=\"line2d_6\">\r\n      <g>\r\n       <use style=\"stroke:#000000;stroke-width:0.8;\" x=\"284.464164\" xlink:href=\"#m08e628660d\" y=\"224.64\"/>\r\n      </g>\r\n     </g>\r\n     <g id=\"text_6\">\r\n      <!-- 12 -->\r\n      <g transform=\"translate(278.101664 239.238438)scale(0.1 -0.1)\">\r\n       <use xlink:href=\"#DejaVuSans-49\"/>\r\n       <use x=\"63.623047\" xlink:href=\"#DejaVuSans-50\"/>\r\n      </g>\r\n     </g>\r\n    </g>\r\n    <g id=\"xtick_7\">\r\n     <g id=\"line2d_7\">\r\n      <g>\r\n       <use style=\"stroke:#000000;stroke-width:0.8;\" x=\"327.944683\" xlink:href=\"#m08e628660d\" y=\"224.64\"/>\r\n      </g>\r\n     </g>\r\n     <g id=\"text_7\">\r\n      <!-- 14 -->\r\n      <g transform=\"translate(321.582183 239.238438)scale(0.1 -0.1)\">\r\n       <use xlink:href=\"#DejaVuSans-49\"/>\r\n       <use x=\"63.623047\" xlink:href=\"#DejaVuSans-52\"/>\r\n      </g>\r\n     </g>\r\n    </g>\r\n   </g>\r\n   <g id=\"matplotlib.axis_2\">\r\n    <g id=\"ytick_1\">\r\n     <g id=\"line2d_8\">\r\n      <defs>\r\n       <path d=\"M 0 0 \r\nL -3.5 0 \r\n\" id=\"mf12841ea64\" style=\"stroke:#000000;stroke-width:0.8;\"/>\r\n      </defs>\r\n      <g>\r\n       <use style=\"stroke:#000000;stroke-width:0.8;\" x=\"30.103125\" xlink:href=\"#mf12841ea64\" y=\"198.503174\"/>\r\n      </g>\r\n     </g>\r\n     <g id=\"text_8\">\r\n      <!-- 0.4 -->\r\n      <g transform=\"translate(7.2 202.302392)scale(0.1 -0.1)\">\r\n       <defs>\r\n        <path d=\"M 10.6875 12.40625 \r\nL 21 12.40625 \r\nL 21 0 \r\nL 10.6875 0 \r\nz\r\n\" id=\"DejaVuSans-46\"/>\r\n       </defs>\r\n       <use xlink:href=\"#DejaVuSans-48\"/>\r\n       <use x=\"63.623047\" xlink:href=\"#DejaVuSans-46\"/>\r\n       <use x=\"95.410156\" xlink:href=\"#DejaVuSans-52\"/>\r\n      </g>\r\n     </g>\r\n    </g>\r\n    <g id=\"ytick_2\">\r\n     <g id=\"line2d_9\">\r\n      <g>\r\n       <use style=\"stroke:#000000;stroke-width:0.8;\" x=\"30.103125\" xlink:href=\"#mf12841ea64\" y=\"166.283272\"/>\r\n      </g>\r\n     </g>\r\n     <g id=\"text_9\">\r\n      <!-- 0.5 -->\r\n      <g transform=\"translate(7.2 170.08249)scale(0.1 -0.1)\">\r\n       <defs>\r\n        <path d=\"M 10.796875 72.90625 \r\nL 49.515625 72.90625 \r\nL 49.515625 64.59375 \r\nL 19.828125 64.59375 \r\nL 19.828125 46.734375 \r\nQ 21.96875 47.46875 24.109375 47.828125 \r\nQ 26.265625 48.1875 28.421875 48.1875 \r\nQ 40.625 48.1875 47.75 41.5 \r\nQ 54.890625 34.8125 54.890625 23.390625 \r\nQ 54.890625 11.625 47.5625 5.09375 \r\nQ 40.234375 -1.421875 26.90625 -1.421875 \r\nQ 22.3125 -1.421875 17.546875 -0.640625 \r\nQ 12.796875 0.140625 7.71875 1.703125 \r\nL 7.71875 11.625 \r\nQ 12.109375 9.234375 16.796875 8.0625 \r\nQ 21.484375 6.890625 26.703125 6.890625 \r\nQ 35.15625 6.890625 40.078125 11.328125 \r\nQ 45.015625 15.765625 45.015625 23.390625 \r\nQ 45.015625 31 40.078125 35.4375 \r\nQ 35.15625 39.890625 26.703125 39.890625 \r\nQ 22.75 39.890625 18.8125 39.015625 \r\nQ 14.890625 38.140625 10.796875 36.28125 \r\nz\r\n\" id=\"DejaVuSans-53\"/>\r\n       </defs>\r\n       <use xlink:href=\"#DejaVuSans-48\"/>\r\n       <use x=\"63.623047\" xlink:href=\"#DejaVuSans-46\"/>\r\n       <use x=\"95.410156\" xlink:href=\"#DejaVuSans-53\"/>\r\n      </g>\r\n     </g>\r\n    </g>\r\n    <g id=\"ytick_3\">\r\n     <g id=\"line2d_10\">\r\n      <g>\r\n       <use style=\"stroke:#000000;stroke-width:0.8;\" x=\"30.103125\" xlink:href=\"#mf12841ea64\" y=\"134.06337\"/>\r\n      </g>\r\n     </g>\r\n     <g id=\"text_10\">\r\n      <!-- 0.6 -->\r\n      <g transform=\"translate(7.2 137.862589)scale(0.1 -0.1)\">\r\n       <use xlink:href=\"#DejaVuSans-48\"/>\r\n       <use x=\"63.623047\" xlink:href=\"#DejaVuSans-46\"/>\r\n       <use x=\"95.410156\" xlink:href=\"#DejaVuSans-54\"/>\r\n      </g>\r\n     </g>\r\n    </g>\r\n    <g id=\"ytick_4\">\r\n     <g id=\"line2d_11\">\r\n      <g>\r\n       <use style=\"stroke:#000000;stroke-width:0.8;\" x=\"30.103125\" xlink:href=\"#mf12841ea64\" y=\"101.843468\"/>\r\n      </g>\r\n     </g>\r\n     <g id=\"text_11\">\r\n      <!-- 0.7 -->\r\n      <g transform=\"translate(7.2 105.642687)scale(0.1 -0.1)\">\r\n       <defs>\r\n        <path d=\"M 8.203125 72.90625 \r\nL 55.078125 72.90625 \r\nL 55.078125 68.703125 \r\nL 28.609375 0 \r\nL 18.3125 0 \r\nL 43.21875 64.59375 \r\nL 8.203125 64.59375 \r\nz\r\n\" id=\"DejaVuSans-55\"/>\r\n       </defs>\r\n       <use xlink:href=\"#DejaVuSans-48\"/>\r\n       <use x=\"63.623047\" xlink:href=\"#DejaVuSans-46\"/>\r\n       <use x=\"95.410156\" xlink:href=\"#DejaVuSans-55\"/>\r\n      </g>\r\n     </g>\r\n    </g>\r\n    <g id=\"ytick_5\">\r\n     <g id=\"line2d_12\">\r\n      <g>\r\n       <use style=\"stroke:#000000;stroke-width:0.8;\" x=\"30.103125\" xlink:href=\"#mf12841ea64\" y=\"69.623566\"/>\r\n      </g>\r\n     </g>\r\n     <g id=\"text_12\">\r\n      <!-- 0.8 -->\r\n      <g transform=\"translate(7.2 73.422785)scale(0.1 -0.1)\">\r\n       <use xlink:href=\"#DejaVuSans-48\"/>\r\n       <use x=\"63.623047\" xlink:href=\"#DejaVuSans-46\"/>\r\n       <use x=\"95.410156\" xlink:href=\"#DejaVuSans-56\"/>\r\n      </g>\r\n     </g>\r\n    </g>\r\n    <g id=\"ytick_6\">\r\n     <g id=\"line2d_13\">\r\n      <g>\r\n       <use style=\"stroke:#000000;stroke-width:0.8;\" x=\"30.103125\" xlink:href=\"#mf12841ea64\" y=\"37.403664\"/>\r\n      </g>\r\n     </g>\r\n     <g id=\"text_13\">\r\n      <!-- 0.9 -->\r\n      <g transform=\"translate(7.2 41.202883)scale(0.1 -0.1)\">\r\n       <defs>\r\n        <path d=\"M 10.984375 1.515625 \r\nL 10.984375 10.5 \r\nQ 14.703125 8.734375 18.5 7.8125 \r\nQ 22.3125 6.890625 25.984375 6.890625 \r\nQ 35.75 6.890625 40.890625 13.453125 \r\nQ 46.046875 20.015625 46.78125 33.40625 \r\nQ 43.953125 29.203125 39.59375 26.953125 \r\nQ 35.25 24.703125 29.984375 24.703125 \r\nQ 19.046875 24.703125 12.671875 31.3125 \r\nQ 6.296875 37.9375 6.296875 49.421875 \r\nQ 6.296875 60.640625 12.9375 67.421875 \r\nQ 19.578125 74.21875 30.609375 74.21875 \r\nQ 43.265625 74.21875 49.921875 64.515625 \r\nQ 56.59375 54.828125 56.59375 36.375 \r\nQ 56.59375 19.140625 48.40625 8.859375 \r\nQ 40.234375 -1.421875 26.421875 -1.421875 \r\nQ 22.703125 -1.421875 18.890625 -0.6875 \r\nQ 15.09375 0.046875 10.984375 1.515625 \r\nz\r\nM 30.609375 32.421875 \r\nQ 37.25 32.421875 41.125 36.953125 \r\nQ 45.015625 41.5 45.015625 49.421875 \r\nQ 45.015625 57.28125 41.125 61.84375 \r\nQ 37.25 66.40625 30.609375 66.40625 \r\nQ 23.96875 66.40625 20.09375 61.84375 \r\nQ 16.21875 57.28125 16.21875 49.421875 \r\nQ 16.21875 41.5 20.09375 36.953125 \r\nQ 23.96875 32.421875 30.609375 32.421875 \r\nz\r\n\" id=\"DejaVuSans-57\"/>\r\n       </defs>\r\n       <use xlink:href=\"#DejaVuSans-48\"/>\r\n       <use x=\"63.623047\" xlink:href=\"#DejaVuSans-46\"/>\r\n       <use x=\"95.410156\" xlink:href=\"#DejaVuSans-57\"/>\r\n      </g>\r\n     </g>\r\n    </g>\r\n   </g>\r\n   <g id=\"line2d_14\">\r\n    <path clip-path=\"url(#p8cad788ca6)\" d=\"M 45.321307 17.083636 \r\nL 67.061567 38.813094 \r\nL 88.801826 60.158788 \r\nL 110.542086 80.069632 \r\nL 132.282346 98.616223 \r\nL 154.022606 115.935604 \r\nL 175.762865 130.983738 \r\nL 197.503125 147.252208 \r\nL 219.243385 161.896106 \r\nL 240.983644 171.947454 \r\nL 262.723904 182.12902 \r\nL 284.464164 189.859824 \r\nL 306.204424 199.861856 \r\nL 327.944683 208.646616 \r\nL 349.684943 214.756364 \r\n\" style=\"fill:none;stroke:#1f77b4;stroke-linecap:square;stroke-width:1.5;\"/>\r\n   </g>\r\n   <g id=\"line2d_15\">\r\n    <path clip-path=\"url(#p8cad788ca6)\" d=\"M 45.321307 39.993579 \r\nL 67.061567 62.04312 \r\nL 88.801826 69.842014 \r\nL 110.542086 87.738415 \r\nL 132.282346 113.092388 \r\nL 154.022606 131.164722 \r\nL 175.762865 136.151493 \r\nL 197.503125 155.138099 \r\nL 219.243385 169.321558 \r\nL 240.983644 171.200272 \r\nL 262.723904 185.424589 \r\nL 284.464164 193.27307 \r\nL 306.204424 196.570262 \r\nL 327.944683 198.439864 \r\nL 349.684943 207.293722 \r\n\" style=\"fill:none;stroke:#ff7f0e;stroke-linecap:square;stroke-width:1.5;\"/>\r\n   </g>\r\n   <g id=\"patch_3\">\r\n    <path d=\"M 30.103125 224.64 \r\nL 30.103125 7.2 \r\n\" style=\"fill:none;stroke:#000000;stroke-linecap:square;stroke-linejoin:miter;stroke-width:0.8;\"/>\r\n   </g>\r\n   <g id=\"patch_4\">\r\n    <path d=\"M 364.903125 224.64 \r\nL 364.903125 7.2 \r\n\" style=\"fill:none;stroke:#000000;stroke-linecap:square;stroke-linejoin:miter;stroke-width:0.8;\"/>\r\n   </g>\r\n   <g id=\"patch_5\">\r\n    <path d=\"M 30.103125 224.64 \r\nL 364.903125 224.64 \r\n\" style=\"fill:none;stroke:#000000;stroke-linecap:square;stroke-linejoin:miter;stroke-width:0.8;\"/>\r\n   </g>\r\n   <g id=\"patch_6\">\r\n    <path d=\"M 30.103125 7.2 \r\nL 364.903125 7.2 \r\n\" style=\"fill:none;stroke:#000000;stroke-linecap:square;stroke-linejoin:miter;stroke-width:0.8;\"/>\r\n   </g>\r\n   <g id=\"legend_1\">\r\n    <g id=\"patch_7\">\r\n     <path d=\"M 286.7625 44.834375 \r\nL 357.903125 44.834375 \r\nQ 359.903125 44.834375 359.903125 42.834375 \r\nL 359.903125 14.2 \r\nQ 359.903125 12.2 357.903125 12.2 \r\nL 286.7625 12.2 \r\nQ 284.7625 12.2 284.7625 14.2 \r\nL 284.7625 42.834375 \r\nQ 284.7625 44.834375 286.7625 44.834375 \r\nz\r\n\" style=\"fill:#ffffff;opacity:0.8;stroke:#cccccc;stroke-linejoin:miter;\"/>\r\n    </g>\r\n    <g id=\"line2d_16\">\r\n     <path d=\"M 288.7625 20.298437 \r\nL 308.7625 20.298437 \r\n\" style=\"fill:none;stroke:#1f77b4;stroke-linecap:square;stroke-width:1.5;\"/>\r\n    </g>\r\n    <g id=\"line2d_17\"/>\r\n    <g id=\"text_14\">\r\n     <!-- loss -->\r\n     <g transform=\"translate(316.7625 23.798437)scale(0.1 -0.1)\">\r\n      <defs>\r\n       <path d=\"M 9.421875 75.984375 \r\nL 18.40625 75.984375 \r\nL 18.40625 0 \r\nL 9.421875 0 \r\nz\r\n\" id=\"DejaVuSans-108\"/>\r\n       <path d=\"M 30.609375 48.390625 \r\nQ 23.390625 48.390625 19.1875 42.75 \r\nQ 14.984375 37.109375 14.984375 27.296875 \r\nQ 14.984375 17.484375 19.15625 11.84375 \r\nQ 23.34375 6.203125 30.609375 6.203125 \r\nQ 37.796875 6.203125 41.984375 11.859375 \r\nQ 46.1875 17.53125 46.1875 27.296875 \r\nQ 46.1875 37.015625 41.984375 42.703125 \r\nQ 37.796875 48.390625 30.609375 48.390625 \r\nz\r\nM 30.609375 56 \r\nQ 42.328125 56 49.015625 48.375 \r\nQ 55.71875 40.765625 55.71875 27.296875 \r\nQ 55.71875 13.875 49.015625 6.21875 \r\nQ 42.328125 -1.421875 30.609375 -1.421875 \r\nQ 18.84375 -1.421875 12.171875 6.21875 \r\nQ 5.515625 13.875 5.515625 27.296875 \r\nQ 5.515625 40.765625 12.171875 48.375 \r\nQ 18.84375 56 30.609375 56 \r\nz\r\n\" id=\"DejaVuSans-111\"/>\r\n       <path d=\"M 44.28125 53.078125 \r\nL 44.28125 44.578125 \r\nQ 40.484375 46.53125 36.375 47.5 \r\nQ 32.28125 48.484375 27.875 48.484375 \r\nQ 21.1875 48.484375 17.84375 46.4375 \r\nQ 14.5 44.390625 14.5 40.28125 \r\nQ 14.5 37.15625 16.890625 35.375 \r\nQ 19.28125 33.59375 26.515625 31.984375 \r\nL 29.59375 31.296875 \r\nQ 39.15625 29.25 43.1875 25.515625 \r\nQ 47.21875 21.78125 47.21875 15.09375 \r\nQ 47.21875 7.46875 41.1875 3.015625 \r\nQ 35.15625 -1.421875 24.609375 -1.421875 \r\nQ 20.21875 -1.421875 15.453125 -0.5625 \r\nQ 10.6875 0.296875 5.421875 2 \r\nL 5.421875 11.28125 \r\nQ 10.40625 8.6875 15.234375 7.390625 \r\nQ 20.0625 6.109375 24.8125 6.109375 \r\nQ 31.15625 6.109375 34.5625 8.28125 \r\nQ 37.984375 10.453125 37.984375 14.40625 \r\nQ 37.984375 18.0625 35.515625 20.015625 \r\nQ 33.0625 21.96875 24.703125 23.78125 \r\nL 21.578125 24.515625 \r\nQ 13.234375 26.265625 9.515625 29.90625 \r\nQ 5.8125 33.546875 5.8125 39.890625 \r\nQ 5.8125 47.609375 11.28125 51.796875 \r\nQ 16.75 56 26.8125 56 \r\nQ 31.78125 56 36.171875 55.265625 \r\nQ 40.578125 54.546875 44.28125 53.078125 \r\nz\r\n\" id=\"DejaVuSans-115\"/>\r\n      </defs>\r\n      <use xlink:href=\"#DejaVuSans-108\"/>\r\n      <use x=\"27.783203\" xlink:href=\"#DejaVuSans-111\"/>\r\n      <use x=\"88.964844\" xlink:href=\"#DejaVuSans-115\"/>\r\n      <use x=\"141.064453\" xlink:href=\"#DejaVuSans-115\"/>\r\n     </g>\r\n    </g>\r\n    <g id=\"line2d_18\">\r\n     <path d=\"M 288.7625 34.976562 \r\nL 308.7625 34.976562 \r\n\" style=\"fill:none;stroke:#ff7f0e;stroke-linecap:square;stroke-width:1.5;\"/>\r\n    </g>\r\n    <g id=\"line2d_19\"/>\r\n    <g id=\"text_15\">\r\n     <!-- val_loss -->\r\n     <g transform=\"translate(316.7625 38.476562)scale(0.1 -0.1)\">\r\n      <defs>\r\n       <path d=\"M 2.984375 54.6875 \r\nL 12.5 54.6875 \r\nL 29.59375 8.796875 \r\nL 46.6875 54.6875 \r\nL 56.203125 54.6875 \r\nL 35.6875 0 \r\nL 23.484375 0 \r\nz\r\n\" id=\"DejaVuSans-118\"/>\r\n       <path d=\"M 34.28125 27.484375 \r\nQ 23.390625 27.484375 19.1875 25 \r\nQ 14.984375 22.515625 14.984375 16.5 \r\nQ 14.984375 11.71875 18.140625 8.90625 \r\nQ 21.296875 6.109375 26.703125 6.109375 \r\nQ 34.1875 6.109375 38.703125 11.40625 \r\nQ 43.21875 16.703125 43.21875 25.484375 \r\nL 43.21875 27.484375 \r\nz\r\nM 52.203125 31.203125 \r\nL 52.203125 0 \r\nL 43.21875 0 \r\nL 43.21875 8.296875 \r\nQ 40.140625 3.328125 35.546875 0.953125 \r\nQ 30.953125 -1.421875 24.3125 -1.421875 \r\nQ 15.921875 -1.421875 10.953125 3.296875 \r\nQ 6 8.015625 6 15.921875 \r\nQ 6 25.140625 12.171875 29.828125 \r\nQ 18.359375 34.515625 30.609375 34.515625 \r\nL 43.21875 34.515625 \r\nL 43.21875 35.40625 \r\nQ 43.21875 41.609375 39.140625 45 \r\nQ 35.0625 48.390625 27.6875 48.390625 \r\nQ 23 48.390625 18.546875 47.265625 \r\nQ 14.109375 46.140625 10.015625 43.890625 \r\nL 10.015625 52.203125 \r\nQ 14.9375 54.109375 19.578125 55.046875 \r\nQ 24.21875 56 28.609375 56 \r\nQ 40.484375 56 46.34375 49.84375 \r\nQ 52.203125 43.703125 52.203125 31.203125 \r\nz\r\n\" id=\"DejaVuSans-97\"/>\r\n       <path d=\"M 50.984375 -16.609375 \r\nL 50.984375 -23.578125 \r\nL -0.984375 -23.578125 \r\nL -0.984375 -16.609375 \r\nz\r\n\" id=\"DejaVuSans-95\"/>\r\n      </defs>\r\n      <use xlink:href=\"#DejaVuSans-118\"/>\r\n      <use x=\"59.179688\" xlink:href=\"#DejaVuSans-97\"/>\r\n      <use x=\"120.458984\" xlink:href=\"#DejaVuSans-108\"/>\r\n      <use x=\"148.242188\" xlink:href=\"#DejaVuSans-95\"/>\r\n      <use x=\"198.242188\" xlink:href=\"#DejaVuSans-108\"/>\r\n      <use x=\"226.025391\" xlink:href=\"#DejaVuSans-111\"/>\r\n      <use x=\"287.207031\" xlink:href=\"#DejaVuSans-115\"/>\r\n      <use x=\"339.306641\" xlink:href=\"#DejaVuSans-115\"/>\r\n     </g>\r\n    </g>\r\n   </g>\r\n  </g>\r\n </g>\r\n <defs>\r\n  <clipPath id=\"p8cad788ca6\">\r\n   <rect height=\"217.44\" width=\"334.8\" x=\"30.103125\" y=\"7.2\"/>\r\n  </clipPath>\r\n </defs>\r\n</svg>\r\n",
      "image/png": "[encoded data removed]"
     },
     "metadata": {
      "needs_background": "light"
     }
    }
   ],
   "source": [
    "history.plot(kind='line', y=['loss', 'val_loss'])"
   ]
  },
  {
   "cell_type": "code",
   "execution_count": 9,
   "metadata": {},
   "outputs": [
    {
     "output_type": "execute_result",
     "data": {
      "text/plain": [
       "OrderedDict([('loss', 0.3530633), ('acc', 0.9630682)])"
      ]
     },
     "metadata": {},
     "execution_count": 9
    }
   ],
   "source": [
    "model.evaluate(X, y)"
   ]
  },
  {
   "cell_type": "code",
   "execution_count": 10,
   "metadata": {},
   "outputs": [
    {
     "output_type": "execute_result",
     "data": {
      "text/plain": [
       "array([[ 2.3512583 , -0.8797069 , -3.0372972 ],\n",
       "       [ 1.9256064 , -0.6659991 , -2.7155902 ],\n",
       "       [ 2.1684372 , -0.7960448 , -2.8000114 ],\n",
       "       [ 1.847085  , -0.6641699 , -2.611236  ],\n",
       "       [ 2.388035  , -0.91278654, -3.044151  ],\n",
       "       [ 2.3099506 , -0.9148535 , -3.1191313 ],\n",
       "       [ 2.1679227 , -0.82860535, -2.7745395 ],\n",
       "       [ 2.160916  , -0.789864  , -2.9020736 ],\n",
       "       [ 1.7727486 , -0.62287015, -2.4943013 ],\n",
       "       [ 1.9363244 , -0.66856676, -2.750854  ],\n",
       "       [ 2.4481308 , -0.9203717 , -3.1898472 ],\n",
       "       [ 2.0044682 , -0.74567795, -2.7762003 ],\n",
       "       [ 1.955647  , -0.6666004 , -2.7137468 ],\n",
       "       [ 2.1168554 , -0.7800071 , -2.677785  ],\n",
       "       [ 2.8397033 , -1.1180177 , -3.5702782 ],\n",
       "       [ 2.842236  , -1.1796819 , -3.5470066 ],\n",
       "       [ 2.6342773 , -1.0608351 , -3.301711  ],\n",
       "       [ 2.319109  , -0.87894696, -3.008596  ],\n",
       "       [ 2.3164284 , -0.8757555 , -3.2129865 ],\n",
       "       [ 2.4355638 , -0.9578803 , -3.096387  ],\n",
       "       [ 1.9777824 , -0.71088225, -2.9429293 ],\n",
       "       [ 2.3348746 , -0.9149551 , -3.0187993 ],\n",
       "       [ 2.5014393 , -0.9986163 , -3.0660987 ],\n",
       "       [ 1.6792685 , -0.6667335 , -2.6564074 ],\n",
       "       [ 1.585043  , -0.62841773, -2.5822837 ],\n",
       "       [ 1.6985769 , -0.5857058 , -2.6492429 ],\n",
       "       [ 1.9487324 , -0.74740046, -2.784912  ],\n",
       "       [ 2.2714384 , -0.83387285, -3.0234046 ],\n",
       "       [ 2.2896047 , -0.8343553 , -3.0177402 ],\n",
       "       [ 1.821838  , -0.6640749 , -2.6433933 ],\n",
       "       [ 1.7547568 , -0.6250672 , -2.6315846 ],\n",
       "       [ 2.1258152 , -0.79216725, -2.9737256 ],\n",
       "       [ 2.640702  , -1.0575353 , -3.3175173 ],\n",
       "       [ 2.7869453 , -1.1281406 , -3.4856708 ],\n",
       "       [ 1.8962744 , -0.6678019 , -2.7212038 ],\n",
       "       [ 2.2757523 , -0.83057827, -2.9333484 ],\n",
       "       [ 2.4688761 , -0.91319364, -3.1991086 ],\n",
       "       [ 2.384165  , -0.9081841 , -3.0347872 ],\n",
       "       [ 1.9724568 , -0.7059402 , -2.591817  ],\n",
       "       [ 2.1768115 , -0.7912654 , -2.939005  ],\n",
       "       [ 2.372297  , -0.91107744, -3.0139868 ],\n",
       "       [ 1.3331131 , -0.41144603, -2.2197528 ],\n",
       "       [ 2.1120603 , -0.7909953 , -2.6877992 ],\n",
       "       [ 1.9258605 , -0.791402  , -2.7536974 ],\n",
       "       [ 1.8897713 , -0.7959283 , -2.8270028 ],\n",
       "       [ 1.8732902 , -0.6675849 , -2.6541915 ],\n",
       "       [ 2.3753126 , -0.9146816 , -3.0732656 ],\n",
       "       [ 2.0493493 , -0.7467702 , -2.7095695 ],\n",
       "       [ 2.4344082 , -0.9209958 , -3.155235  ],\n",
       "       [ 2.1930351 , -0.7927699 , -2.904564  ],\n",
       "       [-2.916652  ,  0.28553033, -0.6207924 ],\n",
       "       [-2.859968  ,  0.18697104, -0.40916994],\n",
       "       [-3.349974  ,  0.3242854 , -0.26347092],\n",
       "       [-2.9007292 ,  0.34446517, -0.06517461],\n",
       "       [-3.2613127 ,  0.33917356, -0.16463783],\n",
       "       [-3.149474  ,  0.2810524 ,  0.01293626],\n",
       "       [-3.1558855 ,  0.16443005, -0.15191296],\n",
       "       [-1.7786447 ,  0.17962745, -0.65280664],\n",
       "       [-3.0177882 ,  0.34442502, -0.41775098],\n",
       "       [-2.6074169 ,  0.15476939, -0.13562033],\n",
       "       [-2.3577697 ,  0.35733005, -0.30105835],\n",
       "       [-2.7052102 ,  0.15400091, -0.31733993],\n",
       "       [-2.6490557 ,  0.4453003 , -0.46045017],\n",
       "       [-3.3299716 ,  0.29908797,  0.00692108],\n",
       "       [-1.8480473 ,  0.075446  , -0.804636  ],\n",
       "       [-2.6505218 ,  0.24275252, -0.6828791 ],\n",
       "       [-3.165962  ,  0.18013594,  0.10487935],\n",
       "       [-2.4620202 ,  0.30426958, -0.5590787 ],\n",
       "       [-3.5710073 ,  0.47119048,  0.18125257],\n",
       "       [-2.465114  ,  0.3071297 , -0.45353186],\n",
       "       [-3.5602274 ,  0.14076114,  0.3297949 ],\n",
       "       [-2.3868294 ,  0.23338926, -0.6486254 ],\n",
       "       [-3.8711994 ,  0.44895667,  0.33988777],\n",
       "       [-3.260192  ,  0.36058307, -0.08711639],\n",
       "       [-2.6691852 ,  0.2823641 , -0.5787418 ],\n",
       "       [-2.7540452 ,  0.26738694, -0.57463884],\n",
       "       [-3.3823392 ,  0.4096519 , -0.21940544],\n",
       "       [-3.7282102 ,  0.32030177,  0.1230897 ],\n",
       "       [-3.1661556 ,  0.24699363, -0.04296872],\n",
       "       [-1.7124257 ,  0.18896842, -0.9526315 ],\n",
       "       [-2.426195  ,  0.3137773 , -0.4392589 ],\n",
       "       [-2.2142444 ,  0.3045468 , -0.5897298 ],\n",
       "       [-2.3281503 ,  0.24090803, -0.59813565],\n",
       "       [-4.124444  ,  0.37529016,  0.64584196],\n",
       "       [-3.1960006 ,  0.16282412,  0.20071027],\n",
       "       [-2.867779  ,  0.07160117, -0.2332668 ],\n",
       "       [-3.1332102 ,  0.27705884, -0.33532998],\n",
       "       [-3.2380242 ,  0.4706644 , -0.13363722],\n",
       "       [-2.5001707 ,  0.1474185 , -0.3922504 ],\n",
       "       [-2.7629654 ,  0.28200054, -0.1657609 ],\n",
       "       [-3.1282516 ,  0.32559517,  0.05583856],\n",
       "       [-3.1357129 ,  0.25476336, -0.1296384 ],\n",
       "       [-2.5520365 ,  0.29293483, -0.44844005],\n",
       "       [-1.8325733 ,  0.21557608, -0.6425145 ],\n",
       "       [-2.8651316 ,  0.26029184, -0.14068386],\n",
       "       [-2.5411894 ,  0.18812677, -0.42844942],\n",
       "       [-2.697658  ,  0.20574838, -0.2969909 ],\n",
       "       [-2.7155669 ,  0.26476124, -0.47254708],\n",
       "       [-1.2782997 ,  0.05129669, -0.97497797],\n",
       "       [-2.63307   ,  0.2205829 , -0.33690968],\n",
       "       [-5.3625393 ,  0.17370999,  1.5499699 ],\n",
       "       [-4.360921  ,  0.30234435,  0.95326865],\n",
       "       [-5.028288  ,  0.40879402,  0.96301687],\n",
       "       [-4.6856027 ,  0.3780391 ,  0.9604429 ],\n",
       "       [-5.098914  ,  0.3131677 ,  1.2495347 ],\n",
       "       [-5.746805  ,  0.5162757 ,  1.273952  ],\n",
       "       [-3.7703266 ,  0.22717172,  0.836589  ],\n",
       "       [-5.29994   ,  0.5277521 ,  1.0119221 ],\n",
       "       [-5.0453997 ,  0.513588  ,  1.071996  ],\n",
       "       [-5.148809  ,  0.20610899,  1.0873678 ],\n",
       "       [-3.9617155 ,  0.2054964 ,  0.42765495],\n",
       "       [-4.483106  ,  0.3857106 ,  0.8146697 ],\n",
       "       [-4.591944  ,  0.32875773,  0.7772218 ],\n",
       "       [-4.4438825 ,  0.308523  ,  1.0671841 ],\n",
       "       [-4.5737934 ,  0.16528028,  1.2148912 ],\n",
       "       [-4.422765  ,  0.16909456,  0.8577955 ],\n",
       "       [-4.4673233 ,  0.35371348,  0.7314886 ],\n",
       "       [-5.4680824 ,  0.32517648,  1.0356344 ],\n",
       "       [-6.373653  ,  0.5681456 ,  1.675366  ],\n",
       "       [-4.2036767 ,  0.4955247 ,  0.6986278 ],\n",
       "       [-4.8268433 ,  0.27338734,  0.94358957],\n",
       "       [-4.151257  ,  0.21491545,  0.91135204],\n",
       "       [-5.866274  ,  0.58653724,  1.300435  ],\n",
       "       [-3.9398417 ,  0.3407034 ,  0.45472035],\n",
       "       [-4.683078  ,  0.26146227,  0.8682455 ],\n",
       "       [-4.8230205 ,  0.42655402,  0.70349586],\n",
       "       [-3.775521  ,  0.28991836,  0.3767238 ],\n",
       "       [-3.789728  ,  0.23392051,  0.41814968],\n",
       "       [-4.926585  ,  0.35440457,  1.1548011 ],\n",
       "       [-4.5542836 ,  0.48453316,  0.4774829 ],\n",
       "       [-5.166977  ,  0.53007895,  0.9081361 ],\n",
       "       [-4.919906  ,  0.33289656,  0.53444386],\n",
       "       [-4.989858  ,  0.3338242 ,  1.2188698 ],\n",
       "       [-3.932117  ,  0.38787317,  0.37225875],\n",
       "       [-4.586754  ,  0.4781554 ,  0.8818538 ],\n",
       "       [-5.2732763 ,  0.454111  ,  0.95272887],\n",
       "       [-4.760416  ,  0.13475859,  1.1447861 ],\n",
       "       [-4.4108763 ,  0.31495687,  0.72689176],\n",
       "       [-3.6833155 ,  0.2107814 ,  0.38307437],\n",
       "       [-4.384301  ,  0.29608336,  0.5933541 ],\n",
       "       [-4.8668027 ,  0.2523848 ,  1.0751649 ],\n",
       "       [-4.1019163 ,  0.20392862,  0.4536381 ],\n",
       "       [-4.360921  ,  0.30234435,  0.95326865],\n",
       "       [-5.100023  ,  0.29124177,  1.1692798 ],\n",
       "       [-4.9317484 ,  0.19055086,  1.1384593 ],\n",
       "       [-4.3420715 ,  0.23357743,  0.69620204],\n",
       "       [-4.24845   ,  0.39312464,  0.6978563 ],\n",
       "       [-4.218274  ,  0.27937895,  0.60979295],\n",
       "       [-4.4601355 ,  0.11097192,  0.95187175],\n",
       "       [-4.0694656 ,  0.24427289,  0.68527305]], dtype=float32)"
      ]
     },
     "metadata": {},
     "execution_count": 10
    }
   ],
   "source": [
    "model.predict(X)"
   ]
  },
  {
   "cell_type": "code",
   "execution_count": null,
   "metadata": {},
   "outputs": [],
   "source": []
  }
 ]
}