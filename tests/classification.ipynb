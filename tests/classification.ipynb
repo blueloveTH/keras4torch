{
 "metadata": {
  "language_info": {
   "codemirror_mode": {
    "name": "ipython",
    "version": 3
   },
   "file_extension": ".py",
   "mimetype": "text/x-python",
   "name": "python",
   "nbconvert_exporter": "python",
   "pygments_lexer": "ipython3",
   "version": "3.7.8-final"
  },
  "orig_nbformat": 2,
  "kernelspec": {
   "name": "Python 3.7.8 64-bit ('kesci_compete')",
   "display_name": "Python 3.7.8 64-bit ('kesci_compete')",
   "metadata": {
    "interpreter": {
     "hash": "8dc6728e8885f5cf3d484bdac908677760b39a28192ba674e6f789c8dc6420a9"
    }
   }
  }
 },
 "nbformat": 4,
 "nbformat_minor": 2,
 "cells": [
  {
   "cell_type": "code",
   "execution_count": 1,
   "metadata": {},
   "outputs": [],
   "source": [
    "import sys\n",
    "\n",
    "sys.path.append('../')\n",
    "\n",
    "import keras4torch as k4t\n",
    "import torch\n",
    "from torch import nn\n",
    "from sklearn.datasets import load_iris\n",
    "import numpy as np\n",
    "from keras4torch.metrics import *"
   ]
  },
  {
   "cell_type": "code",
   "execution_count": 2,
   "metadata": {},
   "outputs": [],
   "source": [
    "X, y = load_iris(return_X_y=True)\n",
    "X = X.astype(np.float32)\n",
    "y = y.astype(np.int64)"
   ]
  },
  {
   "cell_type": "code",
   "execution_count": 3,
   "metadata": {},
   "outputs": [
    {
     "output_type": "execute_result",
     "data": {
      "text/plain": [
       "('1.1.1', '1.19.1')"
      ]
     },
     "metadata": {},
     "execution_count": 3
    }
   ],
   "source": [
    "import pandas\n",
    "import numpy\n",
    "pandas.__version__, numpy.__version__"
   ]
  },
  {
   "cell_type": "code",
   "execution_count": 4,
   "metadata": {},
   "outputs": [],
   "source": [
    "model = nn.Sequential(\n",
    "    nn.Linear(4, 128), nn.ReLU(),\n",
    "    nn.Sequential(\n",
    "        nn.Linear(128, 64), nn.ReLU()\n",
    "    ),\n",
    "    nn.Linear(64, 3)\n",
    ")\n",
    "\n",
    "model = k4t.Model(model)"
   ]
  },
  {
   "cell_type": "code",
   "execution_count": 5,
   "metadata": {},
   "outputs": [],
   "source": [
    "def accuracy(y_pred, y_true):\n",
    "    right_cnt = (y_pred.argmax(-1) == y_true).sum()\n",
    "    return right_cnt * 1.0 / y_true.shape[0]\n",
    "\n",
    "model.compile(optimizer='adam', loss='ce_loss', metrics=['acc'])"
   ]
  },
  {
   "cell_type": "code",
   "execution_count": 6,
   "metadata": {},
   "outputs": [
    {
     "output_type": "stream",
     "name": "stdout",
     "text": [
      "==========================================================================================\nLayer (type:depth-idx)                   Output Shape              Param #\n==========================================================================================\n├─Linear: 1-1                            [-1, 128]                 640\n├─ReLU: 1-2                              [-1, 128]                 --\n├─Sequential: 1-3                        [-1, 64]                  --\n|    └─Linear: 2-1                       [-1, 64]                  8,256\n|    └─ReLU: 2-2                         [-1, 64]                  --\n├─Linear: 1-4                            [-1, 3]                   195\n==========================================================================================\nTotal params: 9,091\nTrainable params: 9,091\nNon-trainable params: 0\nTotal mult-adds (M): 0.02\n==========================================================================================\nInput size (MB): 0.00\nForward/backward pass size (MB): 0.00\nParams size (MB): 0.03\nEstimated Total Size (MB): 0.04\n==========================================================================================\n"
     ]
    }
   ],
   "source": [
    "model.summary(input_shape=[4])"
   ]
  },
  {
   "cell_type": "code",
   "execution_count": 7,
   "metadata": {},
   "outputs": [
    {
     "output_type": "stream",
     "name": "stdout",
     "text": [
      "Train on 120 samples, validate on 30 samples:\nEpoch 1/15 - 0.0s - loss: 1.0691 - acc: 0.4219 - val_loss: 1.0273 - val_acc: 0.2667 - lr: 1e-03\nEpoch 2/15 - 0.0s - loss: 0.9626 - acc: 0.3464 - val_loss: 0.9359 - val_acc: 0.3333 - lr: 1e-03\nEpoch 3/15 - 0.0s - loss: 0.8875 - acc: 0.5625 - val_loss: 0.8338 - val_acc: 0.9667 - lr: 1e-03\nEpoch 4/15 - 0.0s - loss: 0.8054 - acc: 0.8620 - val_loss: 0.7422 - val_acc: 0.7000 - lr: 1e-03\nEpoch 5/15 - 0.0s - loss: 0.7417 - acc: 0.6562 - val_loss: 0.6606 - val_acc: 0.7000 - lr: 1e-03\nEpoch 6/15 - 0.0s - loss: 0.6671 - acc: 0.6875 - val_loss: 0.5832 - val_acc: 0.8000 - lr: 1e-03\nEpoch 7/15 - 0.0s - loss: 0.6059 - acc: 0.8385 - val_loss: 0.5159 - val_acc: 0.9333 - lr: 1e-03\nEpoch 8/15 - 0.0s - loss: 0.5512 - acc: 0.9141 - val_loss: 0.4579 - val_acc: 0.9333 - lr: 1e-03\nEpoch 9/15 - 0.0s - loss: 0.4996 - acc: 0.8958 - val_loss: 0.4136 - val_acc: 0.9000 - lr: 1e-03\nEpoch 10/15 - 0.0s - loss: 0.4626 - acc: 0.9089 - val_loss: 0.3697 - val_acc: 0.9667 - lr: 1e-03\nEpoch 11/15 - 0.0s - loss: 0.4212 - acc: 0.9167 - val_loss: 0.3363 - val_acc: 0.9667 - lr: 1e-03\nEpoch 12/15 - 0.0s - loss: 0.3935 - acc: 0.9531 - val_loss: 0.3040 - val_acc: 0.9667 - lr: 1e-03\nEpoch 13/15 - 0.0s - loss: 0.3676 - acc: 0.9427 - val_loss: 0.2843 - val_acc: 0.9667 - lr: 1e-03\nEpoch 14/15 - 0.0s - loss: 0.3432 - acc: 0.9479 - val_loss: 0.2585 - val_acc: 0.9667 - lr: 1e-03\nEpoch 15/15 - 0.0s - loss: 0.3226 - acc: 0.9688 - val_loss: 0.2381 - val_acc: 0.9667 - lr: 1e-03\n"
     ]
    }
   ],
   "source": [
    "history = model.fit(X, y,\n",
    "            epochs=15,\n",
    "            validation_split=0.2,\n",
    "            )"
   ]
  },
  {
   "cell_type": "code",
   "execution_count": 8,
   "metadata": {},
   "outputs": [
    {
     "output_type": "execute_result",
     "data": {
      "text/plain": [
       "<AxesSubplot:>"
      ]
     },
     "metadata": {},
     "execution_count": 8
    },
    {
     "output_type": "display_data",
     "data": {
      "text/plain": "<Figure size 432x288 with 1 Axes>",
      "image/svg+xml": "<?xml version=\"1.0\" encoding=\"utf-8\" standalone=\"no\"?>\r\n<!DOCTYPE svg PUBLIC \"-//W3C//DTD SVG 1.1//EN\"\r\n  \"http://www.w3.org/Graphics/SVG/1.1/DTD/svg11.dtd\">\r\n<!-- Created with matplotlib (https://matplotlib.org/) -->\r\n<svg height=\"248.518125pt\" version=\"1.1\" viewBox=\"0 0 372.103125 248.518125\" width=\"372.103125pt\" xmlns=\"http://www.w3.org/2000/svg\" xmlns:xlink=\"http://www.w3.org/1999/xlink\">\r\n <metadata>\r\n  <rdf:RDF xmlns:cc=\"http://creativecommons.org/ns#\" xmlns:dc=\"http://purl.org/dc/elements/1.1/\" xmlns:rdf=\"http://www.w3.org/1999/02/22-rdf-syntax-ns#\">\r\n   <cc:Work>\r\n    <dc:type rdf:resource=\"http://purl.org/dc/dcmitype/StillImage\"/>\r\n    <dc:date>2020-10-12T22:40:29.286301</dc:date>\r\n    <dc:format>image/svg+xml</dc:format>\r\n    <dc:creator>\r\n     <cc:Agent>\r\n      <dc:title>Matplotlib v3.3.1, https://matplotlib.org/</dc:title>\r\n     </cc:Agent>\r\n    </dc:creator>\r\n   </cc:Work>\r\n  </rdf:RDF>\r\n </metadata>\r\n <defs>\r\n  <style type=\"text/css\">*{stroke-linecap:butt;stroke-linejoin:round;}</style>\r\n </defs>\r\n <g id=\"figure_1\">\r\n  <g id=\"patch_1\">\r\n   <path d=\"M 0 248.518125 \r\nL 372.103125 248.518125 \r\nL 372.103125 0 \r\nL 0 0 \r\nz\r\n\" style=\"fill:none;\"/>\r\n  </g>\r\n  <g id=\"axes_1\">\r\n   <g id=\"patch_2\">\r\n    <path d=\"M 30.103125 224.64 \r\nL 364.903125 224.64 \r\nL 364.903125 7.2 \r\nL 30.103125 7.2 \r\nz\r\n\" style=\"fill:#ffffff;\"/>\r\n   </g>\r\n   <g id=\"matplotlib.axis_1\">\r\n    <g id=\"xtick_1\">\r\n     <g id=\"line2d_1\">\r\n      <defs>\r\n       <path d=\"M 0 0 \r\nL 0 3.5 \r\n\" id=\"m5240481278\" style=\"stroke:#000000;stroke-width:0.8;\"/>\r\n      </defs>\r\n      <g>\r\n       <use style=\"stroke:#000000;stroke-width:0.8;\" x=\"67.061567\" xlink:href=\"#m5240481278\" y=\"224.64\"/>\r\n      </g>\r\n     </g>\r\n     <g id=\"text_1\">\r\n      <!-- 2 -->\r\n      <g transform=\"translate(63.880317 239.238438)scale(0.1 -0.1)\">\r\n       <defs>\r\n        <path d=\"M 19.1875 8.296875 \r\nL 53.609375 8.296875 \r\nL 53.609375 0 \r\nL 7.328125 0 \r\nL 7.328125 8.296875 \r\nQ 12.9375 14.109375 22.625 23.890625 \r\nQ 32.328125 33.6875 34.8125 36.53125 \r\nQ 39.546875 41.84375 41.421875 45.53125 \r\nQ 43.3125 49.21875 43.3125 52.78125 \r\nQ 43.3125 58.59375 39.234375 62.25 \r\nQ 35.15625 65.921875 28.609375 65.921875 \r\nQ 23.96875 65.921875 18.8125 64.3125 \r\nQ 13.671875 62.703125 7.8125 59.421875 \r\nL 7.8125 69.390625 \r\nQ 13.765625 71.78125 18.9375 73 \r\nQ 24.125 74.21875 28.421875 74.21875 \r\nQ 39.75 74.21875 46.484375 68.546875 \r\nQ 53.21875 62.890625 53.21875 53.421875 \r\nQ 53.21875 48.921875 51.53125 44.890625 \r\nQ 49.859375 40.875 45.40625 35.40625 \r\nQ 44.1875 33.984375 37.640625 27.21875 \r\nQ 31.109375 20.453125 19.1875 8.296875 \r\nz\r\n\" id=\"DejaVuSans-50\"/>\r\n       </defs>\r\n       <use xlink:href=\"#DejaVuSans-50\"/>\r\n      </g>\r\n     </g>\r\n    </g>\r\n    <g id=\"xtick_2\">\r\n     <g id=\"line2d_2\">\r\n      <g>\r\n       <use style=\"stroke:#000000;stroke-width:0.8;\" x=\"110.542086\" xlink:href=\"#m5240481278\" y=\"224.64\"/>\r\n      </g>\r\n     </g>\r\n     <g id=\"text_2\">\r\n      <!-- 4 -->\r\n      <g transform=\"translate(107.360836 239.238438)scale(0.1 -0.1)\">\r\n       <defs>\r\n        <path d=\"M 37.796875 64.3125 \r\nL 12.890625 25.390625 \r\nL 37.796875 25.390625 \r\nz\r\nM 35.203125 72.90625 \r\nL 47.609375 72.90625 \r\nL 47.609375 25.390625 \r\nL 58.015625 25.390625 \r\nL 58.015625 17.1875 \r\nL 47.609375 17.1875 \r\nL 47.609375 0 \r\nL 37.796875 0 \r\nL 37.796875 17.1875 \r\nL 4.890625 17.1875 \r\nL 4.890625 26.703125 \r\nz\r\n\" id=\"DejaVuSans-52\"/>\r\n       </defs>\r\n       <use xlink:href=\"#DejaVuSans-52\"/>\r\n      </g>\r\n     </g>\r\n    </g>\r\n    <g id=\"xtick_3\">\r\n     <g id=\"line2d_3\">\r\n      <g>\r\n       <use style=\"stroke:#000000;stroke-width:0.8;\" x=\"154.022606\" xlink:href=\"#m5240481278\" y=\"224.64\"/>\r\n      </g>\r\n     </g>\r\n     <g id=\"text_3\">\r\n      <!-- 6 -->\r\n      <g transform=\"translate(150.841356 239.238438)scale(0.1 -0.1)\">\r\n       <defs>\r\n        <path d=\"M 33.015625 40.375 \r\nQ 26.375 40.375 22.484375 35.828125 \r\nQ 18.609375 31.296875 18.609375 23.390625 \r\nQ 18.609375 15.53125 22.484375 10.953125 \r\nQ 26.375 6.390625 33.015625 6.390625 \r\nQ 39.65625 6.390625 43.53125 10.953125 \r\nQ 47.40625 15.53125 47.40625 23.390625 \r\nQ 47.40625 31.296875 43.53125 35.828125 \r\nQ 39.65625 40.375 33.015625 40.375 \r\nz\r\nM 52.59375 71.296875 \r\nL 52.59375 62.3125 \r\nQ 48.875 64.0625 45.09375 64.984375 \r\nQ 41.3125 65.921875 37.59375 65.921875 \r\nQ 27.828125 65.921875 22.671875 59.328125 \r\nQ 17.53125 52.734375 16.796875 39.40625 \r\nQ 19.671875 43.65625 24.015625 45.921875 \r\nQ 28.375 48.1875 33.59375 48.1875 \r\nQ 44.578125 48.1875 50.953125 41.515625 \r\nQ 57.328125 34.859375 57.328125 23.390625 \r\nQ 57.328125 12.15625 50.6875 5.359375 \r\nQ 44.046875 -1.421875 33.015625 -1.421875 \r\nQ 20.359375 -1.421875 13.671875 8.265625 \r\nQ 6.984375 17.96875 6.984375 36.375 \r\nQ 6.984375 53.65625 15.1875 63.9375 \r\nQ 23.390625 74.21875 37.203125 74.21875 \r\nQ 40.921875 74.21875 44.703125 73.484375 \r\nQ 48.484375 72.75 52.59375 71.296875 \r\nz\r\n\" id=\"DejaVuSans-54\"/>\r\n       </defs>\r\n       <use xlink:href=\"#DejaVuSans-54\"/>\r\n      </g>\r\n     </g>\r\n    </g>\r\n    <g id=\"xtick_4\">\r\n     <g id=\"line2d_4\">\r\n      <g>\r\n       <use style=\"stroke:#000000;stroke-width:0.8;\" x=\"197.503125\" xlink:href=\"#m5240481278\" y=\"224.64\"/>\r\n      </g>\r\n     </g>\r\n     <g id=\"text_4\">\r\n      <!-- 8 -->\r\n      <g transform=\"translate(194.321875 239.238438)scale(0.1 -0.1)\">\r\n       <defs>\r\n        <path d=\"M 31.78125 34.625 \r\nQ 24.75 34.625 20.71875 30.859375 \r\nQ 16.703125 27.09375 16.703125 20.515625 \r\nQ 16.703125 13.921875 20.71875 10.15625 \r\nQ 24.75 6.390625 31.78125 6.390625 \r\nQ 38.8125 6.390625 42.859375 10.171875 \r\nQ 46.921875 13.96875 46.921875 20.515625 \r\nQ 46.921875 27.09375 42.890625 30.859375 \r\nQ 38.875 34.625 31.78125 34.625 \r\nz\r\nM 21.921875 38.8125 \r\nQ 15.578125 40.375 12.03125 44.71875 \r\nQ 8.5 49.078125 8.5 55.328125 \r\nQ 8.5 64.0625 14.71875 69.140625 \r\nQ 20.953125 74.21875 31.78125 74.21875 \r\nQ 42.671875 74.21875 48.875 69.140625 \r\nQ 55.078125 64.0625 55.078125 55.328125 \r\nQ 55.078125 49.078125 51.53125 44.71875 \r\nQ 48 40.375 41.703125 38.8125 \r\nQ 48.828125 37.15625 52.796875 32.3125 \r\nQ 56.78125 27.484375 56.78125 20.515625 \r\nQ 56.78125 9.90625 50.3125 4.234375 \r\nQ 43.84375 -1.421875 31.78125 -1.421875 \r\nQ 19.734375 -1.421875 13.25 4.234375 \r\nQ 6.78125 9.90625 6.78125 20.515625 \r\nQ 6.78125 27.484375 10.78125 32.3125 \r\nQ 14.796875 37.15625 21.921875 38.8125 \r\nz\r\nM 18.3125 54.390625 \r\nQ 18.3125 48.734375 21.84375 45.5625 \r\nQ 25.390625 42.390625 31.78125 42.390625 \r\nQ 38.140625 42.390625 41.71875 45.5625 \r\nQ 45.3125 48.734375 45.3125 54.390625 \r\nQ 45.3125 60.0625 41.71875 63.234375 \r\nQ 38.140625 66.40625 31.78125 66.40625 \r\nQ 25.390625 66.40625 21.84375 63.234375 \r\nQ 18.3125 60.0625 18.3125 54.390625 \r\nz\r\n\" id=\"DejaVuSans-56\"/>\r\n       </defs>\r\n       <use xlink:href=\"#DejaVuSans-56\"/>\r\n      </g>\r\n     </g>\r\n    </g>\r\n    <g id=\"xtick_5\">\r\n     <g id=\"line2d_5\">\r\n      <g>\r\n       <use style=\"stroke:#000000;stroke-width:0.8;\" x=\"240.983644\" xlink:href=\"#m5240481278\" y=\"224.64\"/>\r\n      </g>\r\n     </g>\r\n     <g id=\"text_5\">\r\n      <!-- 10 -->\r\n      <g transform=\"translate(234.621144 239.238438)scale(0.1 -0.1)\">\r\n       <defs>\r\n        <path d=\"M 12.40625 8.296875 \r\nL 28.515625 8.296875 \r\nL 28.515625 63.921875 \r\nL 10.984375 60.40625 \r\nL 10.984375 69.390625 \r\nL 28.421875 72.90625 \r\nL 38.28125 72.90625 \r\nL 38.28125 8.296875 \r\nL 54.390625 8.296875 \r\nL 54.390625 0 \r\nL 12.40625 0 \r\nz\r\n\" id=\"DejaVuSans-49\"/>\r\n        <path d=\"M 31.78125 66.40625 \r\nQ 24.171875 66.40625 20.328125 58.90625 \r\nQ 16.5 51.421875 16.5 36.375 \r\nQ 16.5 21.390625 20.328125 13.890625 \r\nQ 24.171875 6.390625 31.78125 6.390625 \r\nQ 39.453125 6.390625 43.28125 13.890625 \r\nQ 47.125 21.390625 47.125 36.375 \r\nQ 47.125 51.421875 43.28125 58.90625 \r\nQ 39.453125 66.40625 31.78125 66.40625 \r\nz\r\nM 31.78125 74.21875 \r\nQ 44.046875 74.21875 50.515625 64.515625 \r\nQ 56.984375 54.828125 56.984375 36.375 \r\nQ 56.984375 17.96875 50.515625 8.265625 \r\nQ 44.046875 -1.421875 31.78125 -1.421875 \r\nQ 19.53125 -1.421875 13.0625 8.265625 \r\nQ 6.59375 17.96875 6.59375 36.375 \r\nQ 6.59375 54.828125 13.0625 64.515625 \r\nQ 19.53125 74.21875 31.78125 74.21875 \r\nz\r\n\" id=\"DejaVuSans-48\"/>\r\n       </defs>\r\n       <use xlink:href=\"#DejaVuSans-49\"/>\r\n       <use x=\"63.623047\" xlink:href=\"#DejaVuSans-48\"/>\r\n      </g>\r\n     </g>\r\n    </g>\r\n    <g id=\"xtick_6\">\r\n     <g id=\"line2d_6\">\r\n      <g>\r\n       <use style=\"stroke:#000000;stroke-width:0.8;\" x=\"284.464164\" xlink:href=\"#m5240481278\" y=\"224.64\"/>\r\n      </g>\r\n     </g>\r\n     <g id=\"text_6\">\r\n      <!-- 12 -->\r\n      <g transform=\"translate(278.101664 239.238438)scale(0.1 -0.1)\">\r\n       <use xlink:href=\"#DejaVuSans-49\"/>\r\n       <use x=\"63.623047\" xlink:href=\"#DejaVuSans-50\"/>\r\n      </g>\r\n     </g>\r\n    </g>\r\n    <g id=\"xtick_7\">\r\n     <g id=\"line2d_7\">\r\n      <g>\r\n       <use style=\"stroke:#000000;stroke-width:0.8;\" x=\"327.944683\" xlink:href=\"#m5240481278\" y=\"224.64\"/>\r\n      </g>\r\n     </g>\r\n     <g id=\"text_7\">\r\n      <!-- 14 -->\r\n      <g transform=\"translate(321.582183 239.238438)scale(0.1 -0.1)\">\r\n       <use xlink:href=\"#DejaVuSans-49\"/>\r\n       <use x=\"63.623047\" xlink:href=\"#DejaVuSans-52\"/>\r\n      </g>\r\n     </g>\r\n    </g>\r\n   </g>\r\n   <g id=\"matplotlib.axis_2\">\r\n    <g id=\"ytick_1\">\r\n     <g id=\"line2d_8\">\r\n      <defs>\r\n       <path d=\"M 0 0 \r\nL -3.5 0 \r\n\" id=\"m1098843b74\" style=\"stroke:#000000;stroke-width:0.8;\"/>\r\n      </defs>\r\n      <g>\r\n       <use style=\"stroke:#000000;stroke-width:0.8;\" x=\"30.103125\" xlink:href=\"#m1098843b74\" y=\"223.830158\"/>\r\n      </g>\r\n     </g>\r\n     <g id=\"text_8\">\r\n      <!-- 0.2 -->\r\n      <g transform=\"translate(7.2 227.629377)scale(0.1 -0.1)\">\r\n       <defs>\r\n        <path d=\"M 10.6875 12.40625 \r\nL 21 12.40625 \r\nL 21 0 \r\nL 10.6875 0 \r\nz\r\n\" id=\"DejaVuSans-46\"/>\r\n       </defs>\r\n       <use xlink:href=\"#DejaVuSans-48\"/>\r\n       <use x=\"63.623047\" xlink:href=\"#DejaVuSans-46\"/>\r\n       <use x=\"95.410156\" xlink:href=\"#DejaVuSans-50\"/>\r\n      </g>\r\n     </g>\r\n    </g>\r\n    <g id=\"ytick_2\">\r\n     <g id=\"line2d_9\">\r\n      <g>\r\n       <use style=\"stroke:#000000;stroke-width:0.8;\" x=\"30.103125\" xlink:href=\"#m1098843b74\" y=\"176.255191\"/>\r\n      </g>\r\n     </g>\r\n     <g id=\"text_9\">\r\n      <!-- 0.4 -->\r\n      <g transform=\"translate(7.2 180.05441)scale(0.1 -0.1)\">\r\n       <use xlink:href=\"#DejaVuSans-48\"/>\r\n       <use x=\"63.623047\" xlink:href=\"#DejaVuSans-46\"/>\r\n       <use x=\"95.410156\" xlink:href=\"#DejaVuSans-52\"/>\r\n      </g>\r\n     </g>\r\n    </g>\r\n    <g id=\"ytick_3\">\r\n     <g id=\"line2d_10\">\r\n      <g>\r\n       <use style=\"stroke:#000000;stroke-width:0.8;\" x=\"30.103125\" xlink:href=\"#m1098843b74\" y=\"128.680225\"/>\r\n      </g>\r\n     </g>\r\n     <g id=\"text_10\">\r\n      <!-- 0.6 -->\r\n      <g transform=\"translate(7.2 132.479444)scale(0.1 -0.1)\">\r\n       <use xlink:href=\"#DejaVuSans-48\"/>\r\n       <use x=\"63.623047\" xlink:href=\"#DejaVuSans-46\"/>\r\n       <use x=\"95.410156\" xlink:href=\"#DejaVuSans-54\"/>\r\n      </g>\r\n     </g>\r\n    </g>\r\n    <g id=\"ytick_4\">\r\n     <g id=\"line2d_11\">\r\n      <g>\r\n       <use style=\"stroke:#000000;stroke-width:0.8;\" x=\"30.103125\" xlink:href=\"#m1098843b74\" y=\"81.105259\"/>\r\n      </g>\r\n     </g>\r\n     <g id=\"text_11\">\r\n      <!-- 0.8 -->\r\n      <g transform=\"translate(7.2 84.904477)scale(0.1 -0.1)\">\r\n       <use xlink:href=\"#DejaVuSans-48\"/>\r\n       <use x=\"63.623047\" xlink:href=\"#DejaVuSans-46\"/>\r\n       <use x=\"95.410156\" xlink:href=\"#DejaVuSans-56\"/>\r\n      </g>\r\n     </g>\r\n    </g>\r\n    <g id=\"ytick_5\">\r\n     <g id=\"line2d_12\">\r\n      <g>\r\n       <use style=\"stroke:#000000;stroke-width:0.8;\" x=\"30.103125\" xlink:href=\"#m1098843b74\" y=\"33.530292\"/>\r\n      </g>\r\n     </g>\r\n     <g id=\"text_12\">\r\n      <!-- 1.0 -->\r\n      <g transform=\"translate(7.2 37.329511)scale(0.1 -0.1)\">\r\n       <use xlink:href=\"#DejaVuSans-49\"/>\r\n       <use x=\"63.623047\" xlink:href=\"#DejaVuSans-46\"/>\r\n       <use x=\"95.410156\" xlink:href=\"#DejaVuSans-48\"/>\r\n      </g>\r\n     </g>\r\n    </g>\r\n   </g>\r\n   <g id=\"line2d_13\">\r\n    <path clip-path=\"url(#p49d027c5c4)\" d=\"M 45.321307 17.083636 \r\nL 67.061567 42.436893 \r\nL 88.801826 60.283784 \r\nL 110.542086 79.825197 \r\nL 132.282346 94.968117 \r\nL 154.022606 112.729738 \r\nL 175.762865 127.284281 \r\nL 197.503125 140.287772 \r\nL 219.243385 152.551 \r\nL 240.983644 161.375586 \r\nL 262.723904 171.209613 \r\nL 284.464164 177.798372 \r\nL 306.204424 183.951151 \r\nL 327.944683 189.762115 \r\nL 349.684943 194.667992 \r\n\" style=\"fill:none;stroke:#1f77b4;stroke-linecap:square;stroke-width:1.5;\"/>\r\n   </g>\r\n   <g id=\"line2d_14\">\r\n    <path clip-path=\"url(#p49d027c5c4)\" d=\"M 45.321307 27.041924 \r\nL 67.061567 48.774219 \r\nL 88.801826 73.07355 \r\nL 110.542086 94.84916 \r\nL 132.282346 114.276663 \r\nL 154.022606 132.680398 \r\nL 175.762865 148.682772 \r\nL 197.503125 162.486282 \r\nL 219.243385 173.015359 \r\nL 240.983644 183.464107 \r\nL 262.723904 191.405589 \r\nL 284.464164 199.08932 \r\nL 306.204424 203.771043 \r\nL 327.944683 209.911004 \r\nL 349.684943 214.756364 \r\n\" style=\"fill:none;stroke:#ff7f0e;stroke-linecap:square;stroke-width:1.5;\"/>\r\n   </g>\r\n   <g id=\"patch_3\">\r\n    <path d=\"M 30.103125 224.64 \r\nL 30.103125 7.2 \r\n\" style=\"fill:none;stroke:#000000;stroke-linecap:square;stroke-linejoin:miter;stroke-width:0.8;\"/>\r\n   </g>\r\n   <g id=\"patch_4\">\r\n    <path d=\"M 364.903125 224.64 \r\nL 364.903125 7.2 \r\n\" style=\"fill:none;stroke:#000000;stroke-linecap:square;stroke-linejoin:miter;stroke-width:0.8;\"/>\r\n   </g>\r\n   <g id=\"patch_5\">\r\n    <path d=\"M 30.103125 224.64 \r\nL 364.903125 224.64 \r\n\" style=\"fill:none;stroke:#000000;stroke-linecap:square;stroke-linejoin:miter;stroke-width:0.8;\"/>\r\n   </g>\r\n   <g id=\"patch_6\">\r\n    <path d=\"M 30.103125 7.2 \r\nL 364.903125 7.2 \r\n\" style=\"fill:none;stroke:#000000;stroke-linecap:square;stroke-linejoin:miter;stroke-width:0.8;\"/>\r\n   </g>\r\n   <g id=\"legend_1\">\r\n    <g id=\"patch_7\">\r\n     <path d=\"M 286.7625 44.834375 \r\nL 357.903125 44.834375 \r\nQ 359.903125 44.834375 359.903125 42.834375 \r\nL 359.903125 14.2 \r\nQ 359.903125 12.2 357.903125 12.2 \r\nL 286.7625 12.2 \r\nQ 284.7625 12.2 284.7625 14.2 \r\nL 284.7625 42.834375 \r\nQ 284.7625 44.834375 286.7625 44.834375 \r\nz\r\n\" style=\"fill:#ffffff;opacity:0.8;stroke:#cccccc;stroke-linejoin:miter;\"/>\r\n    </g>\r\n    <g id=\"line2d_15\">\r\n     <path d=\"M 288.7625 20.298437 \r\nL 308.7625 20.298437 \r\n\" style=\"fill:none;stroke:#1f77b4;stroke-linecap:square;stroke-width:1.5;\"/>\r\n    </g>\r\n    <g id=\"line2d_16\"/>\r\n    <g id=\"text_13\">\r\n     <!-- loss -->\r\n     <g transform=\"translate(316.7625 23.798437)scale(0.1 -0.1)\">\r\n      <defs>\r\n       <path d=\"M 9.421875 75.984375 \r\nL 18.40625 75.984375 \r\nL 18.40625 0 \r\nL 9.421875 0 \r\nz\r\n\" id=\"DejaVuSans-108\"/>\r\n       <path d=\"M 30.609375 48.390625 \r\nQ 23.390625 48.390625 19.1875 42.75 \r\nQ 14.984375 37.109375 14.984375 27.296875 \r\nQ 14.984375 17.484375 19.15625 11.84375 \r\nQ 23.34375 6.203125 30.609375 6.203125 \r\nQ 37.796875 6.203125 41.984375 11.859375 \r\nQ 46.1875 17.53125 46.1875 27.296875 \r\nQ 46.1875 37.015625 41.984375 42.703125 \r\nQ 37.796875 48.390625 30.609375 48.390625 \r\nz\r\nM 30.609375 56 \r\nQ 42.328125 56 49.015625 48.375 \r\nQ 55.71875 40.765625 55.71875 27.296875 \r\nQ 55.71875 13.875 49.015625 6.21875 \r\nQ 42.328125 -1.421875 30.609375 -1.421875 \r\nQ 18.84375 -1.421875 12.171875 6.21875 \r\nQ 5.515625 13.875 5.515625 27.296875 \r\nQ 5.515625 40.765625 12.171875 48.375 \r\nQ 18.84375 56 30.609375 56 \r\nz\r\n\" id=\"DejaVuSans-111\"/>\r\n       <path d=\"M 44.28125 53.078125 \r\nL 44.28125 44.578125 \r\nQ 40.484375 46.53125 36.375 47.5 \r\nQ 32.28125 48.484375 27.875 48.484375 \r\nQ 21.1875 48.484375 17.84375 46.4375 \r\nQ 14.5 44.390625 14.5 40.28125 \r\nQ 14.5 37.15625 16.890625 35.375 \r\nQ 19.28125 33.59375 26.515625 31.984375 \r\nL 29.59375 31.296875 \r\nQ 39.15625 29.25 43.1875 25.515625 \r\nQ 47.21875 21.78125 47.21875 15.09375 \r\nQ 47.21875 7.46875 41.1875 3.015625 \r\nQ 35.15625 -1.421875 24.609375 -1.421875 \r\nQ 20.21875 -1.421875 15.453125 -0.5625 \r\nQ 10.6875 0.296875 5.421875 2 \r\nL 5.421875 11.28125 \r\nQ 10.40625 8.6875 15.234375 7.390625 \r\nQ 20.0625 6.109375 24.8125 6.109375 \r\nQ 31.15625 6.109375 34.5625 8.28125 \r\nQ 37.984375 10.453125 37.984375 14.40625 \r\nQ 37.984375 18.0625 35.515625 20.015625 \r\nQ 33.0625 21.96875 24.703125 23.78125 \r\nL 21.578125 24.515625 \r\nQ 13.234375 26.265625 9.515625 29.90625 \r\nQ 5.8125 33.546875 5.8125 39.890625 \r\nQ 5.8125 47.609375 11.28125 51.796875 \r\nQ 16.75 56 26.8125 56 \r\nQ 31.78125 56 36.171875 55.265625 \r\nQ 40.578125 54.546875 44.28125 53.078125 \r\nz\r\n\" id=\"DejaVuSans-115\"/>\r\n      </defs>\r\n      <use xlink:href=\"#DejaVuSans-108\"/>\r\n      <use x=\"27.783203\" xlink:href=\"#DejaVuSans-111\"/>\r\n      <use x=\"88.964844\" xlink:href=\"#DejaVuSans-115\"/>\r\n      <use x=\"141.064453\" xlink:href=\"#DejaVuSans-115\"/>\r\n     </g>\r\n    </g>\r\n    <g id=\"line2d_17\">\r\n     <path d=\"M 288.7625 34.976562 \r\nL 308.7625 34.976562 \r\n\" style=\"fill:none;stroke:#ff7f0e;stroke-linecap:square;stroke-width:1.5;\"/>\r\n    </g>\r\n    <g id=\"line2d_18\"/>\r\n    <g id=\"text_14\">\r\n     <!-- val_loss -->\r\n     <g transform=\"translate(316.7625 38.476562)scale(0.1 -0.1)\">\r\n      <defs>\r\n       <path d=\"M 2.984375 54.6875 \r\nL 12.5 54.6875 \r\nL 29.59375 8.796875 \r\nL 46.6875 54.6875 \r\nL 56.203125 54.6875 \r\nL 35.6875 0 \r\nL 23.484375 0 \r\nz\r\n\" id=\"DejaVuSans-118\"/>\r\n       <path d=\"M 34.28125 27.484375 \r\nQ 23.390625 27.484375 19.1875 25 \r\nQ 14.984375 22.515625 14.984375 16.5 \r\nQ 14.984375 11.71875 18.140625 8.90625 \r\nQ 21.296875 6.109375 26.703125 6.109375 \r\nQ 34.1875 6.109375 38.703125 11.40625 \r\nQ 43.21875 16.703125 43.21875 25.484375 \r\nL 43.21875 27.484375 \r\nz\r\nM 52.203125 31.203125 \r\nL 52.203125 0 \r\nL 43.21875 0 \r\nL 43.21875 8.296875 \r\nQ 40.140625 3.328125 35.546875 0.953125 \r\nQ 30.953125 -1.421875 24.3125 -1.421875 \r\nQ 15.921875 -1.421875 10.953125 3.296875 \r\nQ 6 8.015625 6 15.921875 \r\nQ 6 25.140625 12.171875 29.828125 \r\nQ 18.359375 34.515625 30.609375 34.515625 \r\nL 43.21875 34.515625 \r\nL 43.21875 35.40625 \r\nQ 43.21875 41.609375 39.140625 45 \r\nQ 35.0625 48.390625 27.6875 48.390625 \r\nQ 23 48.390625 18.546875 47.265625 \r\nQ 14.109375 46.140625 10.015625 43.890625 \r\nL 10.015625 52.203125 \r\nQ 14.9375 54.109375 19.578125 55.046875 \r\nQ 24.21875 56 28.609375 56 \r\nQ 40.484375 56 46.34375 49.84375 \r\nQ 52.203125 43.703125 52.203125 31.203125 \r\nz\r\n\" id=\"DejaVuSans-97\"/>\r\n       <path d=\"M 50.984375 -16.609375 \r\nL 50.984375 -23.578125 \r\nL -0.984375 -23.578125 \r\nL -0.984375 -16.609375 \r\nz\r\n\" id=\"DejaVuSans-95\"/>\r\n      </defs>\r\n      <use xlink:href=\"#DejaVuSans-118\"/>\r\n      <use x=\"59.179688\" xlink:href=\"#DejaVuSans-97\"/>\r\n      <use x=\"120.458984\" xlink:href=\"#DejaVuSans-108\"/>\r\n      <use x=\"148.242188\" xlink:href=\"#DejaVuSans-95\"/>\r\n      <use x=\"198.242188\" xlink:href=\"#DejaVuSans-108\"/>\r\n      <use x=\"226.025391\" xlink:href=\"#DejaVuSans-111\"/>\r\n      <use x=\"287.207031\" xlink:href=\"#DejaVuSans-115\"/>\r\n      <use x=\"339.306641\" xlink:href=\"#DejaVuSans-115\"/>\r\n     </g>\r\n    </g>\r\n   </g>\r\n  </g>\r\n </g>\r\n <defs>\r\n  <clipPath id=\"p49d027c5c4\">\r\n   <rect height=\"217.44\" width=\"334.8\" x=\"30.103125\" y=\"7.2\"/>\r\n  </clipPath>\r\n </defs>\r\n</svg>\r\n",
      "image/png": "[encoded data removed]"
     },
     "metadata": {
      "needs_background": "light"
     }
    }
   ],
   "source": [
    "history.plot(kind='line', y=['loss', 'val_loss'])"
   ]
  },
  {
   "cell_type": "code",
   "execution_count": 9,
   "metadata": {},
   "outputs": [
    {
     "output_type": "execute_result",
     "data": {
      "text/plain": [
       "OrderedDict([('loss', 0.2974995), ('acc', 0.975)])"
      ]
     },
     "metadata": {},
     "execution_count": 9
    }
   ],
   "source": [
    "model.evaluate(X, y)"
   ]
  },
  {
   "cell_type": "code",
   "execution_count": 10,
   "metadata": {},
   "outputs": [
    {
     "output_type": "execute_result",
     "data": {
      "text/plain": [
       "array([[ 3.4327636 ,  0.414083  , -3.125235  ],\n",
       "       [ 2.9688685 ,  0.48668045, -2.7657316 ],\n",
       "       [ 3.151896  ,  0.39012975, -2.868496  ],\n",
       "       [ 2.8372688 ,  0.45616138, -2.6346157 ],\n",
       "       [ 3.4516    ,  0.38763434, -3.122476  ],\n",
       "       [ 3.4830093 ,  0.49109596, -3.1822472 ],\n",
       "       [ 3.1177921 ,  0.38167018, -2.8185751 ],\n",
       "       [ 3.2384772 ,  0.44837993, -2.9707484 ],\n",
       "       [ 2.707825  ,  0.439166  , -2.5154865 ],\n",
       "       [ 2.9945025 ,  0.48393327, -2.791665  ],\n",
       "       [ 3.6049018 ,  0.44427705, -3.2868547 ],\n",
       "       [ 3.0458698 ,  0.45355672, -2.8055801 ],\n",
       "       [ 2.979561  ,  0.46129447, -2.763496  ],\n",
       "       [ 3.0198064 ,  0.33216327, -2.7254376 ],\n",
       "       [ 4.127635  ,  0.4402938 , -3.6918712 ],\n",
       "       [ 4.0784655 ,  0.42500818, -3.6387894 ],\n",
       "       [ 3.7996626 ,  0.40927583, -3.4056048 ],\n",
       "       [ 3.4011295 ,  0.4261555 , -3.0923862 ],\n",
       "       [ 3.5775104 ,  0.53511494, -3.3024178 ],\n",
       "       [ 3.5052843 ,  0.40361995, -3.1633694 ],\n",
       "       [ 3.171152  ,  0.56482047, -2.982818  ],\n",
       "       [ 3.4063096 ,  0.43174475, -3.0858078 ],\n",
       "       [ 3.514521  ,  0.3260156 , -3.0911179 ],\n",
       "       [ 2.8444405 ,  0.5898385 , -2.6862135 ],\n",
       "       [ 2.704852  ,  0.557714  , -2.5586996 ],\n",
       "       [ 2.7974515 ,  0.5627516 , -2.6650932 ],\n",
       "       [ 3.040275  ,  0.50732255, -2.81679   ],\n",
       "       [ 3.3891177 ,  0.4562084 , -3.1037693 ],\n",
       "       [ 3.400634  ,  0.4473564 , -3.1101213 ],\n",
       "       [ 2.8450503 ,  0.4826755 , -2.652007  ],\n",
       "       [ 2.807249  ,  0.51635325, -2.6434426 ],\n",
       "       [ 3.299203  ,  0.5289559 , -3.0570807 ],\n",
       "       [ 3.7697744 ,  0.3863421 , -3.3685026 ],\n",
       "       [ 3.995944  ,  0.40997458, -3.5617955 ],\n",
       "       [ 2.956007  ,  0.4968676 , -2.7603319 ],\n",
       "       [ 3.3222525 ,  0.40751535, -3.0277174 ],\n",
       "       [ 3.640584  ,  0.4479009 , -3.319388  ],\n",
       "       [ 3.4324327 ,  0.37629408, -3.098384  ],\n",
       "       [ 2.8914986 ,  0.38825625, -2.640825  ],\n",
       "       [ 3.2781472 ,  0.46194082, -3.012178  ],\n",
       "       [ 3.4333022 ,  0.39000994, -3.1034667 ],\n",
       "       [ 2.267168  ,  0.55897504, -2.2167907 ],\n",
       "       [ 3.0264711 ,  0.3500927 , -2.7352898 ],\n",
       "       [ 3.0262475 ,  0.5170808 , -2.7876925 ],\n",
       "       [ 3.044414  ,  0.54556996, -2.8195062 ],\n",
       "       [ 2.8944302 ,  0.48610008, -2.6965327 ],\n",
       "       [ 3.460475  ,  0.41630435, -3.1378284 ],\n",
       "       [ 3.0230856 ,  0.40471548, -2.76156   ],\n",
       "       [ 3.5655284 ,  0.43056768, -3.2465415 ],\n",
       "       [ 3.2566519 ,  0.43973273, -2.981933  ],\n",
       "       [-1.1055694 ,  1.7205658 ,  0.2075491 ],\n",
       "       [-1.2525661 ,  1.5535997 ,  0.49420893],\n",
       "       [-1.6346917 ,  1.6945037 ,  0.7488587 ],\n",
       "       [-1.6656787 ,  1.3219771 ,  0.98441994],\n",
       "       [-1.6882219 ,  1.5825262 ,  0.86674404],\n",
       "       [-1.8513367 ,  1.3808976 ,  1.1584096 ],\n",
       "       [-1.599943  ,  1.5189124 ,  0.88366854],\n",
       "       [-0.6477608 ,  1.1656619 ,  0.08597711],\n",
       "       [-1.3819121 ,  1.6280301 ,  0.5104923 ],\n",
       "       [-1.428144  ,  1.2291771 ,  0.8705521 ],\n",
       "       [-1.2422278 ,  1.2080927 ,  0.5947504 ],\n",
       "       [-1.2782252 ,  1.4141116 ,  0.61440617],\n",
       "       [-1.2295212 ,  1.4823297 ,  0.38091722],\n",
       "       [-1.9042042 ,  1.4830409 ,  1.1509416 ],\n",
       "       [-0.46479818,  1.3076011 , -0.11631206],\n",
       "       [-0.920996  ,  1.6292424 ,  0.09635594],\n",
       "       [-1.8973271 ,  1.3349601 ,  1.2834401 ],\n",
       "       [-1.0444351 ,  1.4279907 ,  0.28253543],\n",
       "       [-2.237355  ,  1.5001305 ,  1.4230869 ],\n",
       "       [-1.1251304 ,  1.3663542 ,  0.40746894],\n",
       "       [-2.2306345 ,  1.3918282 ,  1.6222003 ],\n",
       "       [-0.8711415 ,  1.4775883 ,  0.12682351],\n",
       "       [-2.5087416 ,  1.5311749 ,  1.6876135 ],\n",
       "       [-1.8303422 ,  1.5014677 ,  1.0282229 ],\n",
       "       [-1.0555135 ,  1.5686109 ,  0.23848163],\n",
       "       [-1.0794259 ,  1.61572   ,  0.24612188],\n",
       "       [-1.7261304 ,  1.6757302 ,  0.8159433 ],\n",
       "       [-2.1473694 ,  1.6226162 ,  1.3281218 ],\n",
       "       [-1.748493  ,  1.4445689 ,  1.0429718 ],\n",
       "       [-0.26157644,  1.3388784 , -0.39002636],\n",
       "       [-1.1233394 ,  1.3381505 ,  0.4203018 ],\n",
       "       [-0.89342785,  1.3436708 ,  0.17939523],\n",
       "       [-0.9105549 ,  1.4079349 ,  0.19594687],\n",
       "       [-2.8871489 ,  1.4416107 ,  2.1587706 ],\n",
       "       [-2.015131  ,  1.280228  ,  1.4422109 ],\n",
       "       [-1.3949449 ,  1.434705  ,  0.75749975],\n",
       "       [-1.4575647 ,  1.6378068 ,  0.62037796],\n",
       "       [-1.7843256 ,  1.5448349 ,  0.92383933],\n",
       "       [-1.1468306 ,  1.3493131 ,  0.5091441 ],\n",
       "       [-1.4921324 ,  1.321688  ,  0.83027244],\n",
       "       [-1.9149038 ,  1.3346137 ,  1.227806  ],\n",
       "       [-1.6699657 ,  1.4819138 ,  0.9302422 ],\n",
       "       [-1.1483366 ,  1.4127829 ,  0.41514614],\n",
       "       [-0.679314  ,  1.1968918 ,  0.08273658],\n",
       "       [-1.5546151 ,  1.3507293 ,  0.8839909 ],\n",
       "       [-1.1550764 ,  1.3868027 ,  0.47348842],\n",
       "       [-1.3221669 ,  1.3778062 ,  0.650458  ],\n",
       "       [-1.1751239 ,  1.515619  ,  0.39715713],\n",
       "       [-0.02965136,  1.1527526 , -0.46467358],\n",
       "       [-1.2614748 ,  1.3769685 ,  0.58390623],\n",
       "       [-4.110918  ,  1.4461553 ,  3.523361  ],\n",
       "       [-3.2404172 ,  1.3590591 ,  2.6130376 ],\n",
       "       [-3.5600858 ,  1.7043233 ,  2.7026834 ],\n",
       "       [-3.4318333 ,  1.5098305 ,  2.6820762 ],\n",
       "       [-3.8301704 ,  1.5259365 ,  3.1189942 ],\n",
       "       [-4.261696  ,  1.8331511 ,  3.27139   ],\n",
       "       [-2.8901262 ,  1.1243379 ,  2.4139295 ],\n",
       "       [-3.8589396 ,  1.7855175 ,  2.8790526 ],\n",
       "       [-3.7880652 ,  1.6034328 ,  2.905514  ],\n",
       "       [-3.5980954 ,  1.693569  ,  2.8506842 ],\n",
       "       [-2.480044  ,  1.5411536 ,  1.7760594 ],\n",
       "       [-3.1874251 ,  1.5256163 ,  2.4281693 ],\n",
       "       [-3.147064  ,  1.6183292 ,  2.3664503 ],\n",
       "       [-3.3818974 ,  1.3150476 ,  2.7771924 ],\n",
       "       [-3.5324311 ,  1.3067839 ,  3.0161107 ],\n",
       "       [-3.075744  ,  1.4863082 ,  2.4445512 ],\n",
       "       [-3.0828173 ,  1.5636542 ,  2.304918  ],\n",
       "       [-3.7726648 ,  1.8661127 ,  2.8587976 ],\n",
       "       [-4.8382406 ,  1.8200574 ,  3.866564  ],\n",
       "       [-3.0760183 ,  1.446775  ,  2.2863073 ],\n",
       "       [-3.3701816 ,  1.6290882 ,  2.6199613 ],\n",
       "       [-3.062854  ,  1.2922978 ,  2.5128312 ],\n",
       "       [-4.394264  ,  1.8598552 ,  3.3433547 ],\n",
       "       [-2.5761476 ,  1.5034621 ,  1.8331548 ],\n",
       "       [-3.2405772 ,  1.5924934 ,  2.5018659 ],\n",
       "       [-3.234285  ,  1.7598388 ,  2.3132014 ],\n",
       "       [-2.4008117 ,  1.4749691 ,  1.6918414 ],\n",
       "       [-2.4336324 ,  1.4482962 ,  1.760705  ],\n",
       "       [-3.6876214 ,  1.505768  ,  2.965099  ],\n",
       "       [-2.9522665 ,  1.7764456 ,  1.980305  ],\n",
       "       [-3.6729665 ,  1.8024849 ,  2.6907096 ],\n",
       "       [-3.0518303 ,  1.9361806 ,  2.069357  ],\n",
       "       [-3.75987   ,  1.4937482 ,  3.0555925 ],\n",
       "       [-2.543353  ,  1.5327055 ,  1.743644  ],\n",
       "       [-3.461766  ,  1.4839987 ,  2.6456723 ],\n",
       "       [-3.6531181 ,  1.8499668 ,  2.7057073 ],\n",
       "       [-3.4725373 ,  1.4552888 ,  2.8821144 ],\n",
       "       [-3.054946  ,  1.5361433 ,  2.3072298 ],\n",
       "       [-2.3450687 ,  1.4199477 ,  1.6964648 ],\n",
       "       [-2.8539238 ,  1.6445683 ,  2.0663652 ],\n",
       "       [-3.5076175 ,  1.5643626 ,  2.8120923 ],\n",
       "       [-2.5721622 ,  1.6233392 ,  1.83528   ],\n",
       "       [-3.2404172 ,  1.3590591 ,  2.6130376 ],\n",
       "       [-3.7240143 ,  1.6036866 ,  2.9865985 ],\n",
       "       [-3.5632858 ,  1.5527487 ,  2.9048598 ],\n",
       "       [-2.9242046 ,  1.569734  ,  2.2147508 ],\n",
       "       [-2.977477  ,  1.4955925 ,  2.2308245 ],\n",
       "       [-2.8010554 ,  1.542425  ,  2.0738325 ],\n",
       "       [-3.160438  ,  1.4336985 ,  2.5805373 ],\n",
       "       [-2.8463664 ,  1.3955284 ,  2.206727  ]], dtype=float32)"
      ]
     },
     "metadata": {},
     "execution_count": 10
    }
   ],
   "source": [
    "model.predict(X)"
   ]
  },
  {
   "cell_type": "code",
   "execution_count": null,
   "metadata": {},
   "outputs": [],
   "source": []
  }
 ]
}