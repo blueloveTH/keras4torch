{
 "metadata": {
  "language_info": {
   "codemirror_mode": {
    "name": "ipython",
    "version": 3
   },
   "file_extension": ".py",
   "mimetype": "text/x-python",
   "name": "python",
   "nbconvert_exporter": "python",
   "pygments_lexer": "ipython3",
   "version": "3.7.8-final"
  },
  "orig_nbformat": 2,
  "kernelspec": {
   "name": "Python 3.7.8 64-bit ('keras4torch_dev')",
   "display_name": "Python 3.7.8 64-bit ('keras4torch_dev')",
   "metadata": {
    "interpreter": {
     "hash": "78c7cc07f6ea5caa8475d04ecaf596aaa9f3dc46b106019c2a1ab6e9e0a3df9e"
    }
   }
  }
 },
 "nbformat": 4,
 "nbformat_minor": 2,
 "cells": [
  {
   "cell_type": "code",
   "execution_count": 1,
   "metadata": {},
   "outputs": [],
   "source": [
    "import sys\n",
    "\n",
    "sys.path.append('../')\n",
    "\n",
    "import keras4torch as k4t\n",
    "import torch\n",
    "from torch import nn\n",
    "from sklearn.datasets import load_iris\n",
    "import numpy as np\n",
    "from keras4torch.metrics import accuracy"
   ]
  },
  {
   "cell_type": "code",
   "execution_count": 2,
   "metadata": {},
   "outputs": [],
   "source": [
    "X, y = load_iris(return_X_y=True)\n",
    "X = X.astype(np.float32)\n",
    "y = y.astype(np.int64)"
   ]
  },
  {
   "cell_type": "code",
   "execution_count": 3,
   "metadata": {},
   "outputs": [],
   "source": [
    "model = nn.Sequential(\n",
    "    nn.Linear(4, 128), nn.ReLU(),\n",
    "    nn.Sequential(\n",
    "        nn.Linear(128, 64), nn.ReLU()\n",
    "    ),\n",
    "    nn.Linear(64, 3)\n",
    ")\n",
    "\n",
    "model = k4t.Model(model)"
   ]
  },
  {
   "cell_type": "code",
   "execution_count": 4,
   "metadata": {},
   "outputs": [],
   "source": [
    "model.compile(optimizer=torch.optim.Adam(model.parameters(), lr=3e-4),\n",
    "                loss=nn.CrossEntropyLoss(),\n",
    "                metrics={'acc': accuracy},\n",
    "                )"
   ]
  },
  {
   "cell_type": "code",
   "execution_count": 5,
   "metadata": {},
   "outputs": [
    {
     "output_type": "stream",
     "name": "stdout",
     "text": [
      "==========================================================================================\nLayer (type:depth-idx)                   Output Shape              Param #\n==========================================================================================\n├─Linear: 1-1                            [-1, 128]                 640\n├─ReLU: 1-2                              [-1, 128]                 --\n├─Sequential: 1-3                        [-1, 64]                  --\n|    └─Linear: 2-1                       [-1, 64]                  8,256\n|    └─ReLU: 2-2                         [-1, 64]                  --\n├─Linear: 1-4                            [-1, 3]                   195\n==========================================================================================\nTotal params: 9,091\nTrainable params: 9,091\nNon-trainable params: 0\nTotal mult-adds (M): 0.02\n==========================================================================================\nInput size (MB): 0.00\nForward/backward pass size (MB): 0.00\nParams size (MB): 0.03\nEstimated Total Size (MB): 0.04\n==========================================================================================\n"
     ]
    }
   ],
   "source": [
    "model.summary(input_shape=[4])"
   ]
  },
  {
   "cell_type": "code",
   "execution_count": 6,
   "metadata": {},
   "outputs": [
    {
     "output_type": "stream",
     "name": "stdout",
     "text": [
      "Train on 120 samples, validate on 30 samples:\n",
      "1\n",
      "Epoch 1/15 - 0.0s - loss: 1.2522 - acc: 0.3281 - val_loss: 1.1271 - val_acc: 0.3667 - lr: 3e-04\n",
      "2\n",
      "Epoch 2/15 - 0.0s - loss: 1.1242 - acc: 0.5156 - val_loss: 1.0564 - val_acc: 0.7000 - lr: 3e-04\n",
      "3\n",
      "Epoch 3/15 - 0.0s - loss: 1.0589 - acc: 0.6484 - val_loss: 1.0184 - val_acc: 0.6000 - lr: 3e-04\n",
      "4\n",
      "Epoch 4/15 - 0.0s - loss: 1.0137 - acc: 0.4271 - val_loss: 0.9948 - val_acc: 0.3667 - lr: 3e-04\n",
      "5\n",
      "Epoch 5/15 - 0.0s - loss: 0.9928 - acc: 0.2266 - val_loss: 0.9752 - val_acc: 0.3333 - lr: 3e-04\n",
      "6\n",
      "Epoch 6/15 - 0.0s - loss: 0.9683 - acc: 0.3464 - val_loss: 0.9560 - val_acc: 0.4000 - lr: 3e-04\n",
      "7\n",
      "Epoch 7/15 - 0.0s - loss: 0.9517 - acc: 0.3750 - val_loss: 0.9364 - val_acc: 0.4000 - lr: 3e-04\n",
      "8\n",
      "Epoch 8/15 - 0.0s - loss: 0.9331 - acc: 0.4714 - val_loss: 0.9150 - val_acc: 0.5667 - lr: 3e-04\n",
      "9\n",
      "Epoch 9/15 - 0.0s - loss: 0.9110 - acc: 0.6328 - val_loss: 0.8917 - val_acc: 0.6667 - lr: 3e-04\n",
      "10\n",
      "Epoch 10/15 - 0.0s - loss: 0.8926 - acc: 0.6641 - val_loss: 0.8690 - val_acc: 0.6667 - lr: 3e-04\n",
      "11\n",
      "Epoch 11/15 - 0.0s - loss: 0.8736 - acc: 0.6693 - val_loss: 0.8488 - val_acc: 0.6667 - lr: 3e-04\n",
      "12\n",
      "Epoch 12/15 - 0.0s - loss: 0.8558 - acc: 0.6693 - val_loss: 0.8283 - val_acc: 0.6667 - lr: 3e-04\n",
      "13\n",
      "Epoch 13/15 - 0.0s - loss: 0.8359 - acc: 0.6693 - val_loss: 0.8084 - val_acc: 0.6667 - lr: 3e-04\n",
      "14\n",
      "Epoch 14/15 - 0.0s - loss: 0.8151 - acc: 0.6771 - val_loss: 0.7880 - val_acc: 0.6667 - lr: 3e-04\n",
      "15\n",
      "Epoch 15/15 - 0.0s - loss: 0.8001 - acc: 0.6667 - val_loss: 0.7677 - val_acc: 0.6667 - lr: 3e-04\n"
     ]
    }
   ],
   "source": [
    "def f(trainer):\n",
    "    print(trainer.epoch)\n",
    "\n",
    "history = model.fit(X, y,\n",
    "            epochs=15,\n",
    "            validation_split=0.2,\n",
    "            callbacks=k4t.callbacks.LambdaCallback(on_epoch_begin=f)\n",
    "            )"
   ]
  },
  {
   "cell_type": "code",
   "execution_count": 7,
   "metadata": {},
   "outputs": [
    {
     "output_type": "execute_result",
     "data": {
      "text/plain": [
       "<AxesSubplot:>"
      ]
     },
     "metadata": {},
     "execution_count": 7
    },
    {
     "output_type": "display_data",
     "data": {
      "text/plain": "<Figure size 432x288 with 1 Axes>",
      "image/svg+xml": "<?xml version=\"1.0\" encoding=\"utf-8\" standalone=\"no\"?>\r\n<!DOCTYPE svg PUBLIC \"-//W3C//DTD SVG 1.1//EN\"\r\n  \"http://www.w3.org/Graphics/SVG/1.1/DTD/svg11.dtd\">\r\n<!-- Created with matplotlib (https://matplotlib.org/) -->\r\n<svg height=\"248.518125pt\" version=\"1.1\" viewBox=\"0 0 372.103125 248.518125\" width=\"372.103125pt\" xmlns=\"http://www.w3.org/2000/svg\" xmlns:xlink=\"http://www.w3.org/1999/xlink\">\r\n <metadata>\r\n  <rdf:RDF xmlns:cc=\"http://creativecommons.org/ns#\" xmlns:dc=\"http://purl.org/dc/elements/1.1/\" xmlns:rdf=\"http://www.w3.org/1999/02/22-rdf-syntax-ns#\">\r\n   <cc:Work>\r\n    <dc:type rdf:resource=\"http://purl.org/dc/dcmitype/StillImage\"/>\r\n    <dc:date>2020-10-12T18:34:27.545955</dc:date>\r\n    <dc:format>image/svg+xml</dc:format>\r\n    <dc:creator>\r\n     <cc:Agent>\r\n      <dc:title>Matplotlib v3.3.2, https://matplotlib.org/</dc:title>\r\n     </cc:Agent>\r\n    </dc:creator>\r\n   </cc:Work>\r\n  </rdf:RDF>\r\n </metadata>\r\n <defs>\r\n  <style type=\"text/css\">*{stroke-linecap:butt;stroke-linejoin:round;}</style>\r\n </defs>\r\n <g id=\"figure_1\">\r\n  <g id=\"patch_1\">\r\n   <path d=\"M 0 248.518125 \r\nL 372.103125 248.518125 \r\nL 372.103125 0 \r\nL 0 0 \r\nz\r\n\" style=\"fill:none;\"/>\r\n  </g>\r\n  <g id=\"axes_1\">\r\n   <g id=\"patch_2\">\r\n    <path d=\"M 30.103125 224.64 \r\nL 364.903125 224.64 \r\nL 364.903125 7.2 \r\nL 30.103125 7.2 \r\nz\r\n\" style=\"fill:#ffffff;\"/>\r\n   </g>\r\n   <g id=\"matplotlib.axis_1\">\r\n    <g id=\"xtick_1\">\r\n     <g id=\"line2d_1\">\r\n      <defs>\r\n       <path d=\"M 0 0 \r\nL 0 3.5 \r\n\" id=\"m04994e0e2c\" style=\"stroke:#000000;stroke-width:0.8;\"/>\r\n      </defs>\r\n      <g>\r\n       <use style=\"stroke:#000000;stroke-width:0.8;\" x=\"67.061567\" xlink:href=\"#m04994e0e2c\" y=\"224.64\"/>\r\n      </g>\r\n     </g>\r\n     <g id=\"text_1\">\r\n      <!-- 2 -->\r\n      <g transform=\"translate(63.880317 239.238437)scale(0.1 -0.1)\">\r\n       <defs>\r\n        <path d=\"M 19.1875 8.296875 \r\nL 53.609375 8.296875 \r\nL 53.609375 0 \r\nL 7.328125 0 \r\nL 7.328125 8.296875 \r\nQ 12.9375 14.109375 22.625 23.890625 \r\nQ 32.328125 33.6875 34.8125 36.53125 \r\nQ 39.546875 41.84375 41.421875 45.53125 \r\nQ 43.3125 49.21875 43.3125 52.78125 \r\nQ 43.3125 58.59375 39.234375 62.25 \r\nQ 35.15625 65.921875 28.609375 65.921875 \r\nQ 23.96875 65.921875 18.8125 64.3125 \r\nQ 13.671875 62.703125 7.8125 59.421875 \r\nL 7.8125 69.390625 \r\nQ 13.765625 71.78125 18.9375 73 \r\nQ 24.125 74.21875 28.421875 74.21875 \r\nQ 39.75 74.21875 46.484375 68.546875 \r\nQ 53.21875 62.890625 53.21875 53.421875 \r\nQ 53.21875 48.921875 51.53125 44.890625 \r\nQ 49.859375 40.875 45.40625 35.40625 \r\nQ 44.1875 33.984375 37.640625 27.21875 \r\nQ 31.109375 20.453125 19.1875 8.296875 \r\nz\r\n\" id=\"DejaVuSans-50\"/>\r\n       </defs>\r\n       <use xlink:href=\"#DejaVuSans-50\"/>\r\n      </g>\r\n     </g>\r\n    </g>\r\n    <g id=\"xtick_2\">\r\n     <g id=\"line2d_2\">\r\n      <g>\r\n       <use style=\"stroke:#000000;stroke-width:0.8;\" x=\"110.542086\" xlink:href=\"#m04994e0e2c\" y=\"224.64\"/>\r\n      </g>\r\n     </g>\r\n     <g id=\"text_2\">\r\n      <!-- 4 -->\r\n      <g transform=\"translate(107.360836 239.238437)scale(0.1 -0.1)\">\r\n       <defs>\r\n        <path d=\"M 37.796875 64.3125 \r\nL 12.890625 25.390625 \r\nL 37.796875 25.390625 \r\nz\r\nM 35.203125 72.90625 \r\nL 47.609375 72.90625 \r\nL 47.609375 25.390625 \r\nL 58.015625 25.390625 \r\nL 58.015625 17.1875 \r\nL 47.609375 17.1875 \r\nL 47.609375 0 \r\nL 37.796875 0 \r\nL 37.796875 17.1875 \r\nL 4.890625 17.1875 \r\nL 4.890625 26.703125 \r\nz\r\n\" id=\"DejaVuSans-52\"/>\r\n       </defs>\r\n       <use xlink:href=\"#DejaVuSans-52\"/>\r\n      </g>\r\n     </g>\r\n    </g>\r\n    <g id=\"xtick_3\">\r\n     <g id=\"line2d_3\">\r\n      <g>\r\n       <use style=\"stroke:#000000;stroke-width:0.8;\" x=\"154.022606\" xlink:href=\"#m04994e0e2c\" y=\"224.64\"/>\r\n      </g>\r\n     </g>\r\n     <g id=\"text_3\">\r\n      <!-- 6 -->\r\n      <g transform=\"translate(150.841356 239.238437)scale(0.1 -0.1)\">\r\n       <defs>\r\n        <path d=\"M 33.015625 40.375 \r\nQ 26.375 40.375 22.484375 35.828125 \r\nQ 18.609375 31.296875 18.609375 23.390625 \r\nQ 18.609375 15.53125 22.484375 10.953125 \r\nQ 26.375 6.390625 33.015625 6.390625 \r\nQ 39.65625 6.390625 43.53125 10.953125 \r\nQ 47.40625 15.53125 47.40625 23.390625 \r\nQ 47.40625 31.296875 43.53125 35.828125 \r\nQ 39.65625 40.375 33.015625 40.375 \r\nz\r\nM 52.59375 71.296875 \r\nL 52.59375 62.3125 \r\nQ 48.875 64.0625 45.09375 64.984375 \r\nQ 41.3125 65.921875 37.59375 65.921875 \r\nQ 27.828125 65.921875 22.671875 59.328125 \r\nQ 17.53125 52.734375 16.796875 39.40625 \r\nQ 19.671875 43.65625 24.015625 45.921875 \r\nQ 28.375 48.1875 33.59375 48.1875 \r\nQ 44.578125 48.1875 50.953125 41.515625 \r\nQ 57.328125 34.859375 57.328125 23.390625 \r\nQ 57.328125 12.15625 50.6875 5.359375 \r\nQ 44.046875 -1.421875 33.015625 -1.421875 \r\nQ 20.359375 -1.421875 13.671875 8.265625 \r\nQ 6.984375 17.96875 6.984375 36.375 \r\nQ 6.984375 53.65625 15.1875 63.9375 \r\nQ 23.390625 74.21875 37.203125 74.21875 \r\nQ 40.921875 74.21875 44.703125 73.484375 \r\nQ 48.484375 72.75 52.59375 71.296875 \r\nz\r\n\" id=\"DejaVuSans-54\"/>\r\n       </defs>\r\n       <use xlink:href=\"#DejaVuSans-54\"/>\r\n      </g>\r\n     </g>\r\n    </g>\r\n    <g id=\"xtick_4\">\r\n     <g id=\"line2d_4\">\r\n      <g>\r\n       <use style=\"stroke:#000000;stroke-width:0.8;\" x=\"197.503125\" xlink:href=\"#m04994e0e2c\" y=\"224.64\"/>\r\n      </g>\r\n     </g>\r\n     <g id=\"text_4\">\r\n      <!-- 8 -->\r\n      <g transform=\"translate(194.321875 239.238437)scale(0.1 -0.1)\">\r\n       <defs>\r\n        <path d=\"M 31.78125 34.625 \r\nQ 24.75 34.625 20.71875 30.859375 \r\nQ 16.703125 27.09375 16.703125 20.515625 \r\nQ 16.703125 13.921875 20.71875 10.15625 \r\nQ 24.75 6.390625 31.78125 6.390625 \r\nQ 38.8125 6.390625 42.859375 10.171875 \r\nQ 46.921875 13.96875 46.921875 20.515625 \r\nQ 46.921875 27.09375 42.890625 30.859375 \r\nQ 38.875 34.625 31.78125 34.625 \r\nz\r\nM 21.921875 38.8125 \r\nQ 15.578125 40.375 12.03125 44.71875 \r\nQ 8.5 49.078125 8.5 55.328125 \r\nQ 8.5 64.0625 14.71875 69.140625 \r\nQ 20.953125 74.21875 31.78125 74.21875 \r\nQ 42.671875 74.21875 48.875 69.140625 \r\nQ 55.078125 64.0625 55.078125 55.328125 \r\nQ 55.078125 49.078125 51.53125 44.71875 \r\nQ 48 40.375 41.703125 38.8125 \r\nQ 48.828125 37.15625 52.796875 32.3125 \r\nQ 56.78125 27.484375 56.78125 20.515625 \r\nQ 56.78125 9.90625 50.3125 4.234375 \r\nQ 43.84375 -1.421875 31.78125 -1.421875 \r\nQ 19.734375 -1.421875 13.25 4.234375 \r\nQ 6.78125 9.90625 6.78125 20.515625 \r\nQ 6.78125 27.484375 10.78125 32.3125 \r\nQ 14.796875 37.15625 21.921875 38.8125 \r\nz\r\nM 18.3125 54.390625 \r\nQ 18.3125 48.734375 21.84375 45.5625 \r\nQ 25.390625 42.390625 31.78125 42.390625 \r\nQ 38.140625 42.390625 41.71875 45.5625 \r\nQ 45.3125 48.734375 45.3125 54.390625 \r\nQ 45.3125 60.0625 41.71875 63.234375 \r\nQ 38.140625 66.40625 31.78125 66.40625 \r\nQ 25.390625 66.40625 21.84375 63.234375 \r\nQ 18.3125 60.0625 18.3125 54.390625 \r\nz\r\n\" id=\"DejaVuSans-56\"/>\r\n       </defs>\r\n       <use xlink:href=\"#DejaVuSans-56\"/>\r\n      </g>\r\n     </g>\r\n    </g>\r\n    <g id=\"xtick_5\">\r\n     <g id=\"line2d_5\">\r\n      <g>\r\n       <use style=\"stroke:#000000;stroke-width:0.8;\" x=\"240.983644\" xlink:href=\"#m04994e0e2c\" y=\"224.64\"/>\r\n      </g>\r\n     </g>\r\n     <g id=\"text_5\">\r\n      <!-- 10 -->\r\n      <g transform=\"translate(234.621144 239.238437)scale(0.1 -0.1)\">\r\n       <defs>\r\n        <path d=\"M 12.40625 8.296875 \r\nL 28.515625 8.296875 \r\nL 28.515625 63.921875 \r\nL 10.984375 60.40625 \r\nL 10.984375 69.390625 \r\nL 28.421875 72.90625 \r\nL 38.28125 72.90625 \r\nL 38.28125 8.296875 \r\nL 54.390625 8.296875 \r\nL 54.390625 0 \r\nL 12.40625 0 \r\nz\r\n\" id=\"DejaVuSans-49\"/>\r\n        <path d=\"M 31.78125 66.40625 \r\nQ 24.171875 66.40625 20.328125 58.90625 \r\nQ 16.5 51.421875 16.5 36.375 \r\nQ 16.5 21.390625 20.328125 13.890625 \r\nQ 24.171875 6.390625 31.78125 6.390625 \r\nQ 39.453125 6.390625 43.28125 13.890625 \r\nQ 47.125 21.390625 47.125 36.375 \r\nQ 47.125 51.421875 43.28125 58.90625 \r\nQ 39.453125 66.40625 31.78125 66.40625 \r\nz\r\nM 31.78125 74.21875 \r\nQ 44.046875 74.21875 50.515625 64.515625 \r\nQ 56.984375 54.828125 56.984375 36.375 \r\nQ 56.984375 17.96875 50.515625 8.265625 \r\nQ 44.046875 -1.421875 31.78125 -1.421875 \r\nQ 19.53125 -1.421875 13.0625 8.265625 \r\nQ 6.59375 17.96875 6.59375 36.375 \r\nQ 6.59375 54.828125 13.0625 64.515625 \r\nQ 19.53125 74.21875 31.78125 74.21875 \r\nz\r\n\" id=\"DejaVuSans-48\"/>\r\n       </defs>\r\n       <use xlink:href=\"#DejaVuSans-49\"/>\r\n       <use x=\"63.623047\" xlink:href=\"#DejaVuSans-48\"/>\r\n      </g>\r\n     </g>\r\n    </g>\r\n    <g id=\"xtick_6\">\r\n     <g id=\"line2d_6\">\r\n      <g>\r\n       <use style=\"stroke:#000000;stroke-width:0.8;\" x=\"284.464164\" xlink:href=\"#m04994e0e2c\" y=\"224.64\"/>\r\n      </g>\r\n     </g>\r\n     <g id=\"text_6\">\r\n      <!-- 12 -->\r\n      <g transform=\"translate(278.101664 239.238437)scale(0.1 -0.1)\">\r\n       <use xlink:href=\"#DejaVuSans-49\"/>\r\n       <use x=\"63.623047\" xlink:href=\"#DejaVuSans-50\"/>\r\n      </g>\r\n     </g>\r\n    </g>\r\n    <g id=\"xtick_7\">\r\n     <g id=\"line2d_7\">\r\n      <g>\r\n       <use style=\"stroke:#000000;stroke-width:0.8;\" x=\"327.944683\" xlink:href=\"#m04994e0e2c\" y=\"224.64\"/>\r\n      </g>\r\n     </g>\r\n     <g id=\"text_7\">\r\n      <!-- 14 -->\r\n      <g transform=\"translate(321.582183 239.238437)scale(0.1 -0.1)\">\r\n       <use xlink:href=\"#DejaVuSans-49\"/>\r\n       <use x=\"63.623047\" xlink:href=\"#DejaVuSans-52\"/>\r\n      </g>\r\n     </g>\r\n    </g>\r\n   </g>\r\n   <g id=\"matplotlib.axis_2\">\r\n    <g id=\"ytick_1\">\r\n     <g id=\"line2d_8\">\r\n      <defs>\r\n       <path d=\"M 0 0 \r\nL -3.5 0 \r\n\" id=\"m3f3be2638c\" style=\"stroke:#000000;stroke-width:0.8;\"/>\r\n      </defs>\r\n      <g>\r\n       <use style=\"stroke:#000000;stroke-width:0.8;\" x=\"30.103125\" xlink:href=\"#m3f3be2638c\" y=\"201.593472\"/>\r\n      </g>\r\n     </g>\r\n     <g id=\"text_8\">\r\n      <!-- 0.8 -->\r\n      <g transform=\"translate(7.2 205.392691)scale(0.1 -0.1)\">\r\n       <defs>\r\n        <path d=\"M 10.6875 12.40625 \r\nL 21 12.40625 \r\nL 21 0 \r\nL 10.6875 0 \r\nz\r\n\" id=\"DejaVuSans-46\"/>\r\n       </defs>\r\n       <use xlink:href=\"#DejaVuSans-48\"/>\r\n       <use x=\"63.623047\" xlink:href=\"#DejaVuSans-46\"/>\r\n       <use x=\"95.410156\" xlink:href=\"#DejaVuSans-56\"/>\r\n      </g>\r\n     </g>\r\n    </g>\r\n    <g id=\"ytick_2\">\r\n     <g id=\"line2d_9\">\r\n      <g>\r\n       <use style=\"stroke:#000000;stroke-width:0.8;\" x=\"30.103125\" xlink:href=\"#m3f3be2638c\" y=\"160.789207\"/>\r\n      </g>\r\n     </g>\r\n     <g id=\"text_9\">\r\n      <!-- 0.9 -->\r\n      <g transform=\"translate(7.2 164.588426)scale(0.1 -0.1)\">\r\n       <defs>\r\n        <path d=\"M 10.984375 1.515625 \r\nL 10.984375 10.5 \r\nQ 14.703125 8.734375 18.5 7.8125 \r\nQ 22.3125 6.890625 25.984375 6.890625 \r\nQ 35.75 6.890625 40.890625 13.453125 \r\nQ 46.046875 20.015625 46.78125 33.40625 \r\nQ 43.953125 29.203125 39.59375 26.953125 \r\nQ 35.25 24.703125 29.984375 24.703125 \r\nQ 19.046875 24.703125 12.671875 31.3125 \r\nQ 6.296875 37.9375 6.296875 49.421875 \r\nQ 6.296875 60.640625 12.9375 67.421875 \r\nQ 19.578125 74.21875 30.609375 74.21875 \r\nQ 43.265625 74.21875 49.921875 64.515625 \r\nQ 56.59375 54.828125 56.59375 36.375 \r\nQ 56.59375 19.140625 48.40625 8.859375 \r\nQ 40.234375 -1.421875 26.421875 -1.421875 \r\nQ 22.703125 -1.421875 18.890625 -0.6875 \r\nQ 15.09375 0.046875 10.984375 1.515625 \r\nz\r\nM 30.609375 32.421875 \r\nQ 37.25 32.421875 41.125 36.953125 \r\nQ 45.015625 41.5 45.015625 49.421875 \r\nQ 45.015625 57.28125 41.125 61.84375 \r\nQ 37.25 66.40625 30.609375 66.40625 \r\nQ 23.96875 66.40625 20.09375 61.84375 \r\nQ 16.21875 57.28125 16.21875 49.421875 \r\nQ 16.21875 41.5 20.09375 36.953125 \r\nQ 23.96875 32.421875 30.609375 32.421875 \r\nz\r\n\" id=\"DejaVuSans-57\"/>\r\n       </defs>\r\n       <use xlink:href=\"#DejaVuSans-48\"/>\r\n       <use x=\"63.623047\" xlink:href=\"#DejaVuSans-46\"/>\r\n       <use x=\"95.410156\" xlink:href=\"#DejaVuSans-57\"/>\r\n      </g>\r\n     </g>\r\n    </g>\r\n    <g id=\"ytick_3\">\r\n     <g id=\"line2d_10\">\r\n      <g>\r\n       <use style=\"stroke:#000000;stroke-width:0.8;\" x=\"30.103125\" xlink:href=\"#m3f3be2638c\" y=\"119.984942\"/>\r\n      </g>\r\n     </g>\r\n     <g id=\"text_10\">\r\n      <!-- 1.0 -->\r\n      <g transform=\"translate(7.2 123.784161)scale(0.1 -0.1)\">\r\n       <use xlink:href=\"#DejaVuSans-49\"/>\r\n       <use x=\"63.623047\" xlink:href=\"#DejaVuSans-46\"/>\r\n       <use x=\"95.410156\" xlink:href=\"#DejaVuSans-48\"/>\r\n      </g>\r\n     </g>\r\n    </g>\r\n    <g id=\"ytick_4\">\r\n     <g id=\"line2d_11\">\r\n      <g>\r\n       <use style=\"stroke:#000000;stroke-width:0.8;\" x=\"30.103125\" xlink:href=\"#m3f3be2638c\" y=\"79.180677\"/>\r\n      </g>\r\n     </g>\r\n     <g id=\"text_11\">\r\n      <!-- 1.1 -->\r\n      <g transform=\"translate(7.2 82.979896)scale(0.1 -0.1)\">\r\n       <use xlink:href=\"#DejaVuSans-49\"/>\r\n       <use x=\"63.623047\" xlink:href=\"#DejaVuSans-46\"/>\r\n       <use x=\"95.410156\" xlink:href=\"#DejaVuSans-49\"/>\r\n      </g>\r\n     </g>\r\n    </g>\r\n    <g id=\"ytick_5\">\r\n     <g id=\"line2d_12\">\r\n      <g>\r\n       <use style=\"stroke:#000000;stroke-width:0.8;\" x=\"30.103125\" xlink:href=\"#m3f3be2638c\" y=\"38.376412\"/>\r\n      </g>\r\n     </g>\r\n     <g id=\"text_12\">\r\n      <!-- 1.2 -->\r\n      <g transform=\"translate(7.2 42.175631)scale(0.1 -0.1)\">\r\n       <use xlink:href=\"#DejaVuSans-49\"/>\r\n       <use x=\"63.623047\" xlink:href=\"#DejaVuSans-46\"/>\r\n       <use x=\"95.410156\" xlink:href=\"#DejaVuSans-50\"/>\r\n      </g>\r\n     </g>\r\n    </g>\r\n   </g>\r\n   <g id=\"line2d_13\">\r\n    <path clip-path=\"url(#p0151c201b7)\" d=\"M 45.321307 17.083636 \r\nL 67.061567 69.291507 \r\nL 88.801826 95.951863 \r\nL 110.542086 114.390036 \r\nL 132.282346 122.908793 \r\nL 154.022606 132.939868 \r\nL 175.762865 139.68782 \r\nL 197.503125 147.272251 \r\nL 219.243385 156.302435 \r\nL 240.983644 163.802667 \r\nL 262.723904 171.548251 \r\nL 284.464164 178.83054 \r\nL 306.204424 186.932747 \r\nL 327.944683 195.446469 \r\nL 349.684943 201.556085 \r\n\" style=\"fill:none;stroke:#1f77b4;stroke-linecap:square;stroke-width:1.5;\"/>\r\n   </g>\r\n   <g id=\"line2d_14\">\r\n    <path clip-path=\"url(#p0151c201b7)\" d=\"M 45.321307 68.127833 \r\nL 67.061567 96.985175 \r\nL 88.801826 112.458054 \r\nL 110.542086 122.11057 \r\nL 132.282346 130.089054 \r\nL 154.022606 137.957388 \r\nL 175.762865 145.939083 \r\nL 197.503125 154.683127 \r\nL 219.243385 164.19166 \r\nL 240.983644 173.454647 \r\nL 262.723904 181.693223 \r\nL 284.464164 190.032002 \r\nL 306.204424 198.176649 \r\nL 327.944683 206.470434 \r\nL 349.684943 214.756364 \r\n\" style=\"fill:none;stroke:#ff7f0e;stroke-linecap:square;stroke-width:1.5;\"/>\r\n   </g>\r\n   <g id=\"patch_3\">\r\n    <path d=\"M 30.103125 224.64 \r\nL 30.103125 7.2 \r\n\" style=\"fill:none;stroke:#000000;stroke-linecap:square;stroke-linejoin:miter;stroke-width:0.8;\"/>\r\n   </g>\r\n   <g id=\"patch_4\">\r\n    <path d=\"M 364.903125 224.64 \r\nL 364.903125 7.2 \r\n\" style=\"fill:none;stroke:#000000;stroke-linecap:square;stroke-linejoin:miter;stroke-width:0.8;\"/>\r\n   </g>\r\n   <g id=\"patch_5\">\r\n    <path d=\"M 30.103125 224.64 \r\nL 364.903125 224.64 \r\n\" style=\"fill:none;stroke:#000000;stroke-linecap:square;stroke-linejoin:miter;stroke-width:0.8;\"/>\r\n   </g>\r\n   <g id=\"patch_6\">\r\n    <path d=\"M 30.103125 7.2 \r\nL 364.903125 7.2 \r\n\" style=\"fill:none;stroke:#000000;stroke-linecap:square;stroke-linejoin:miter;stroke-width:0.8;\"/>\r\n   </g>\r\n   <g id=\"legend_1\">\r\n    <g id=\"patch_7\">\r\n     <path d=\"M 286.7625 44.834375 \r\nL 357.903125 44.834375 \r\nQ 359.903125 44.834375 359.903125 42.834375 \r\nL 359.903125 14.2 \r\nQ 359.903125 12.2 357.903125 12.2 \r\nL 286.7625 12.2 \r\nQ 284.7625 12.2 284.7625 14.2 \r\nL 284.7625 42.834375 \r\nQ 284.7625 44.834375 286.7625 44.834375 \r\nz\r\n\" style=\"fill:#ffffff;opacity:0.8;stroke:#cccccc;stroke-linejoin:miter;\"/>\r\n    </g>\r\n    <g id=\"line2d_15\">\r\n     <path d=\"M 288.7625 20.298437 \r\nL 308.7625 20.298437 \r\n\" style=\"fill:none;stroke:#1f77b4;stroke-linecap:square;stroke-width:1.5;\"/>\r\n    </g>\r\n    <g id=\"line2d_16\"/>\r\n    <g id=\"text_13\">\r\n     <!-- loss -->\r\n     <g transform=\"translate(316.7625 23.798437)scale(0.1 -0.1)\">\r\n      <defs>\r\n       <path d=\"M 9.421875 75.984375 \r\nL 18.40625 75.984375 \r\nL 18.40625 0 \r\nL 9.421875 0 \r\nz\r\n\" id=\"DejaVuSans-108\"/>\r\n       <path d=\"M 30.609375 48.390625 \r\nQ 23.390625 48.390625 19.1875 42.75 \r\nQ 14.984375 37.109375 14.984375 27.296875 \r\nQ 14.984375 17.484375 19.15625 11.84375 \r\nQ 23.34375 6.203125 30.609375 6.203125 \r\nQ 37.796875 6.203125 41.984375 11.859375 \r\nQ 46.1875 17.53125 46.1875 27.296875 \r\nQ 46.1875 37.015625 41.984375 42.703125 \r\nQ 37.796875 48.390625 30.609375 48.390625 \r\nz\r\nM 30.609375 56 \r\nQ 42.328125 56 49.015625 48.375 \r\nQ 55.71875 40.765625 55.71875 27.296875 \r\nQ 55.71875 13.875 49.015625 6.21875 \r\nQ 42.328125 -1.421875 30.609375 -1.421875 \r\nQ 18.84375 -1.421875 12.171875 6.21875 \r\nQ 5.515625 13.875 5.515625 27.296875 \r\nQ 5.515625 40.765625 12.171875 48.375 \r\nQ 18.84375 56 30.609375 56 \r\nz\r\n\" id=\"DejaVuSans-111\"/>\r\n       <path d=\"M 44.28125 53.078125 \r\nL 44.28125 44.578125 \r\nQ 40.484375 46.53125 36.375 47.5 \r\nQ 32.28125 48.484375 27.875 48.484375 \r\nQ 21.1875 48.484375 17.84375 46.4375 \r\nQ 14.5 44.390625 14.5 40.28125 \r\nQ 14.5 37.15625 16.890625 35.375 \r\nQ 19.28125 33.59375 26.515625 31.984375 \r\nL 29.59375 31.296875 \r\nQ 39.15625 29.25 43.1875 25.515625 \r\nQ 47.21875 21.78125 47.21875 15.09375 \r\nQ 47.21875 7.46875 41.1875 3.015625 \r\nQ 35.15625 -1.421875 24.609375 -1.421875 \r\nQ 20.21875 -1.421875 15.453125 -0.5625 \r\nQ 10.6875 0.296875 5.421875 2 \r\nL 5.421875 11.28125 \r\nQ 10.40625 8.6875 15.234375 7.390625 \r\nQ 20.0625 6.109375 24.8125 6.109375 \r\nQ 31.15625 6.109375 34.5625 8.28125 \r\nQ 37.984375 10.453125 37.984375 14.40625 \r\nQ 37.984375 18.0625 35.515625 20.015625 \r\nQ 33.0625 21.96875 24.703125 23.78125 \r\nL 21.578125 24.515625 \r\nQ 13.234375 26.265625 9.515625 29.90625 \r\nQ 5.8125 33.546875 5.8125 39.890625 \r\nQ 5.8125 47.609375 11.28125 51.796875 \r\nQ 16.75 56 26.8125 56 \r\nQ 31.78125 56 36.171875 55.265625 \r\nQ 40.578125 54.546875 44.28125 53.078125 \r\nz\r\n\" id=\"DejaVuSans-115\"/>\r\n      </defs>\r\n      <use xlink:href=\"#DejaVuSans-108\"/>\r\n      <use x=\"27.783203\" xlink:href=\"#DejaVuSans-111\"/>\r\n      <use x=\"88.964844\" xlink:href=\"#DejaVuSans-115\"/>\r\n      <use x=\"141.064453\" xlink:href=\"#DejaVuSans-115\"/>\r\n     </g>\r\n    </g>\r\n    <g id=\"line2d_17\">\r\n     <path d=\"M 288.7625 34.976562 \r\nL 308.7625 34.976562 \r\n\" style=\"fill:none;stroke:#ff7f0e;stroke-linecap:square;stroke-width:1.5;\"/>\r\n    </g>\r\n    <g id=\"line2d_18\"/>\r\n    <g id=\"text_14\">\r\n     <!-- val_loss -->\r\n     <g transform=\"translate(316.7625 38.476562)scale(0.1 -0.1)\">\r\n      <defs>\r\n       <path d=\"M 2.984375 54.6875 \r\nL 12.5 54.6875 \r\nL 29.59375 8.796875 \r\nL 46.6875 54.6875 \r\nL 56.203125 54.6875 \r\nL 35.6875 0 \r\nL 23.484375 0 \r\nz\r\n\" id=\"DejaVuSans-118\"/>\r\n       <path d=\"M 34.28125 27.484375 \r\nQ 23.390625 27.484375 19.1875 25 \r\nQ 14.984375 22.515625 14.984375 16.5 \r\nQ 14.984375 11.71875 18.140625 8.90625 \r\nQ 21.296875 6.109375 26.703125 6.109375 \r\nQ 34.1875 6.109375 38.703125 11.40625 \r\nQ 43.21875 16.703125 43.21875 25.484375 \r\nL 43.21875 27.484375 \r\nz\r\nM 52.203125 31.203125 \r\nL 52.203125 0 \r\nL 43.21875 0 \r\nL 43.21875 8.296875 \r\nQ 40.140625 3.328125 35.546875 0.953125 \r\nQ 30.953125 -1.421875 24.3125 -1.421875 \r\nQ 15.921875 -1.421875 10.953125 3.296875 \r\nQ 6 8.015625 6 15.921875 \r\nQ 6 25.140625 12.171875 29.828125 \r\nQ 18.359375 34.515625 30.609375 34.515625 \r\nL 43.21875 34.515625 \r\nL 43.21875 35.40625 \r\nQ 43.21875 41.609375 39.140625 45 \r\nQ 35.0625 48.390625 27.6875 48.390625 \r\nQ 23 48.390625 18.546875 47.265625 \r\nQ 14.109375 46.140625 10.015625 43.890625 \r\nL 10.015625 52.203125 \r\nQ 14.9375 54.109375 19.578125 55.046875 \r\nQ 24.21875 56 28.609375 56 \r\nQ 40.484375 56 46.34375 49.84375 \r\nQ 52.203125 43.703125 52.203125 31.203125 \r\nz\r\n\" id=\"DejaVuSans-97\"/>\r\n       <path d=\"M 50.984375 -16.609375 \r\nL 50.984375 -23.578125 \r\nL -0.984375 -23.578125 \r\nL -0.984375 -16.609375 \r\nz\r\n\" id=\"DejaVuSans-95\"/>\r\n      </defs>\r\n      <use xlink:href=\"#DejaVuSans-118\"/>\r\n      <use x=\"59.179688\" xlink:href=\"#DejaVuSans-97\"/>\r\n      <use x=\"120.458984\" xlink:href=\"#DejaVuSans-108\"/>\r\n      <use x=\"148.242188\" xlink:href=\"#DejaVuSans-95\"/>\r\n      <use x=\"198.242188\" xlink:href=\"#DejaVuSans-108\"/>\r\n      <use x=\"226.025391\" xlink:href=\"#DejaVuSans-111\"/>\r\n      <use x=\"287.207031\" xlink:href=\"#DejaVuSans-115\"/>\r\n      <use x=\"339.306641\" xlink:href=\"#DejaVuSans-115\"/>\r\n     </g>\r\n    </g>\r\n   </g>\r\n  </g>\r\n </g>\r\n <defs>\r\n  <clipPath id=\"p0151c201b7\">\r\n   <rect height=\"217.44\" width=\"334.8\" x=\"30.103125\" y=\"7.2\"/>\r\n  </clipPath>\r\n </defs>\r\n</svg>\r\n",
      "image/png": "[encoded data removed]"
     },
     "metadata": {
      "needs_background": "light"
     }
    }
   ],
   "source": [
    "history.plot(kind='line', y=['loss', 'val_loss'])"
   ]
  },
  {
   "cell_type": "code",
   "execution_count": 8,
   "metadata": {},
   "outputs": [
    {
     "output_type": "execute_result",
     "data": {
      "text/plain": [
       "OrderedDict([('loss', 0.7829431), ('acc', 0.6875)])"
      ]
     },
     "metadata": {},
     "execution_count": 8
    }
   ],
   "source": [
    "model.evaluate(X, y)"
   ]
  },
  {
   "cell_type": "code",
   "execution_count": 9,
   "metadata": {},
   "outputs": [
    {
     "output_type": "execute_result",
     "data": {
      "text/plain": [
       "array([[ 0.510429  , -0.55121994, -0.26510713],\n",
       "       [ 0.38527328, -0.42981267, -0.18872021],\n",
       "       [ 0.4558186 , -0.4958642 , -0.2425621 ],\n",
       "       [ 0.37700015, -0.4221902 , -0.2004757 ],\n",
       "       [ 0.53155786, -0.57095087, -0.28442317],\n",
       "       [ 0.5234496 , -0.56865436, -0.26605338],\n",
       "       [ 0.47029573, -0.5107683 , -0.2581857 ],\n",
       "       [ 0.45788378, -0.5015447 , -0.23738164],\n",
       "       [ 0.3507296 , -0.3948361 , -0.18810746],\n",
       "       [ 0.38879365, -0.4346403 , -0.19722047],\n",
       "       [ 0.5387674 , -0.5808991 , -0.27428743],\n",
       "       [ 0.42747474, -0.47289586, -0.22939658],\n",
       "       [ 0.388795  , -0.43296266, -0.19821678],\n",
       "       [ 0.45535845, -0.4888398 , -0.25244677],\n",
       "       [ 0.67578137, -0.69326717, -0.34774053],\n",
       "       [ 0.6830103 , -0.7093674 , -0.36453894],\n",
       "       [ 0.6132542 , -0.6410565 , -0.32220662],\n",
       "       [ 0.50432235, -0.5445664 , -0.2589771 ],\n",
       "       [ 0.51103896, -0.557753  , -0.24624562],\n",
       "       [ 0.5501612 , -0.59085155, -0.2939503 ],\n",
       "       [ 0.41360903, -0.4628473 , -0.19590795],\n",
       "       [ 0.52073866, -0.5615022 , -0.27145708],\n",
       "       [ 0.60221565, -0.6136108 , -0.33849373],\n",
       "       [ 0.3664322 , -0.4160956 , -0.16999327],\n",
       "       [ 0.3492179 , -0.40136588, -0.18762407],\n",
       "       [ 0.33479467, -0.3841402 , -0.1568104 ],\n",
       "       [ 0.4204312 , -0.46659583, -0.21040332],\n",
       "       [ 0.4862237 , -0.5295462 , -0.24755824],\n",
       "       [ 0.48829287, -0.5301935 , -0.24536663],\n",
       "       [ 0.3769989 , -0.42386803, -0.19947939],\n",
       "       [ 0.35486278, -0.40284157, -0.17973891],\n",
       "       [ 0.45388657, -0.4974107 , -0.21238904],\n",
       "       [ 0.62436765, -0.6551521 , -0.34490067],\n",
       "       [ 0.67018735, -0.6916059 , -0.3602861 ],\n",
       "       [ 0.38320398, -0.42916527, -0.19091186],\n",
       "       [ 0.4860043 , -0.523983  , -0.24796775],\n",
       "       [ 0.53982514, -0.57760143, -0.26756927],\n",
       "       [ 0.5342943 , -0.57096136, -0.29219863],\n",
       "       [ 0.4012069 , -0.44218636, -0.21902096],\n",
       "       [ 0.4599517 , -0.5038697 , -0.23419362],\n",
       "       [ 0.5261243 , -0.5628236 , -0.27658567],\n",
       "       [ 0.22964603, -0.27547875, -0.08596586],\n",
       "       [ 0.44961482, -0.48888922, -0.2521261 ],\n",
       "       [ 0.43295813, -0.47786283, -0.21451053],\n",
       "       [ 0.4404953 , -0.49033028, -0.23034284],\n",
       "       [ 0.37761563, -0.4220125 , -0.18559946],\n",
       "       [ 0.5304944 , -0.57327676, -0.28604296],\n",
       "       [ 0.42747748, -0.4695406 , -0.2313892 ],\n",
       "       [ 0.5366995 , -0.57857406, -0.27747542],\n",
       "       [ 0.45995307, -0.502192  , -0.23518993],\n",
       "       [-0.4015634 ,  0.26073447,  0.40318552],\n",
       "       [-0.36823487,  0.23702213,  0.35309544],\n",
       "       [-0.47471428,  0.3137629 ,  0.4589646 ],\n",
       "       [-0.4539335 ,  0.3099693 ,  0.40963224],\n",
       "       [-0.4770684 ,  0.32070735,  0.45940456],\n",
       "       [-0.45026588,  0.29507297,  0.3830158 ],\n",
       "       [-0.3967467 ,  0.25265637,  0.36438644],\n",
       "       [-0.2611686 ,  0.1677028 ,  0.22894403],\n",
       "       [-0.44315904,  0.29487365,  0.4235521 ],\n",
       "       [-0.35027307,  0.22836173,  0.3032593 ],\n",
       "       [-0.39817852,  0.27552968,  0.34643987],\n",
       "       [-0.3498752 ,  0.22649923,  0.32701343],\n",
       "       [-0.4535011 ,  0.30866724,  0.42539462],\n",
       "       [-0.47656968,  0.3124271 ,  0.4232344 ],\n",
       "       [-0.22794035,  0.13240281,  0.2315343 ],\n",
       "       [-0.35909927,  0.23222357,  0.3653039 ],\n",
       "       [-0.4141546 ,  0.26811165,  0.34859768],\n",
       "       [-0.36742052,  0.24191791,  0.32481286],\n",
       "       [-0.592952  ,  0.40742135,  0.55481344],\n",
       "       [-0.37375513,  0.2512062 ,  0.3379919 ],\n",
       "       [-0.44869184,  0.29069638,  0.3906309 ],\n",
       "       [-0.335826  ,  0.22080964,  0.33155155],\n",
       "       [-0.60894233,  0.41117388,  0.55524415],\n",
       "       [-0.48614383,  0.31933293,  0.42465705],\n",
       "       [-0.37829024,  0.24932063,  0.36943313],\n",
       "       [-0.38212764,  0.25021282,  0.38205552],\n",
       "       [-0.5114924 ,  0.34343502,  0.4928778 ],\n",
       "       [-0.53166074,  0.35324442,  0.5042913 ],\n",
       "       [-0.4384629 ,  0.28781584,  0.398456  ],\n",
       "       [-0.25285622,  0.15591353,  0.25593153],\n",
       "       [-0.37423563,  0.25367796,  0.3398341 ],\n",
       "       [-0.3462996 ,  0.23451349,  0.31541717],\n",
       "       [-0.33292112,  0.2210387 ,  0.31412813],\n",
       "       [-0.6120823 ,  0.40844077,  0.5293015 ],\n",
       "       [-0.41275615,  0.26688713,  0.3342415 ],\n",
       "       [-0.331533  ,  0.2010422 ,  0.296414  ],\n",
       "       [-0.43208978,  0.28438312,  0.41950414],\n",
       "       [-0.5349279 ,  0.36512005,  0.505643  ],\n",
       "       [-0.32042715,  0.19980523,  0.2796195 ],\n",
       "       [-0.40815255,  0.27415246,  0.3669618 ],\n",
       "       [-0.46755698,  0.30899855,  0.39161366],\n",
       "       [-0.43260893,  0.28099957,  0.38711902],\n",
       "       [-0.37756568,  0.25338078,  0.35059103],\n",
       "       [-0.28231907,  0.18796888,  0.2544467 ],\n",
       "       [-0.40827388,  0.26890647,  0.358331  ],\n",
       "       [-0.33619198,  0.21178803,  0.28921524],\n",
       "       [-0.3632591 ,  0.23454031,  0.31984654],\n",
       "       [-0.38041514,  0.25061157,  0.3595058 ],\n",
       "       [-0.17396626,  0.09430218,  0.1869397 ],\n",
       "       [-0.36265725,  0.23731443,  0.3266352 ],\n",
       "       [-0.7048899 ,  0.4745785 ,  0.6226778 ],\n",
       "       [-0.62595516,  0.42045665,  0.5467036 ],\n",
       "       [-0.74277264,  0.49717006,  0.6871072 ],\n",
       "       [-0.6805069 ,  0.45530707,  0.58707595],\n",
       "       [-0.720606  ,  0.48383915,  0.64627004],\n",
       "       [-0.877678  ,  0.59056914,  0.80337435],\n",
       "       [-0.53100765,  0.35739338,  0.4360594 ],\n",
       "       [-0.8242321 ,  0.5540041 ,  0.74016654],\n",
       "       [-0.8066747 ,  0.54638094,  0.72519654],\n",
       "       [-0.67368317,  0.44414794,  0.6235502 ],\n",
       "       [-0.5261609 ,  0.3458377 ,  0.49098477],\n",
       "       [-0.67252505,  0.4517186 ,  0.611447  ],\n",
       "       [-0.6605572 ,  0.441499  ,  0.6171605 ],\n",
       "       [-0.65522206,  0.44431832,  0.5843196 ],\n",
       "       [-0.6318093 ,  0.42840716,  0.57673097],\n",
       "       [-0.58331126,  0.3867858 ,  0.5378772 ],\n",
       "       [-0.6411709 ,  0.4255326 ,  0.56614393],\n",
       "       [-0.7351907 ,  0.48102602,  0.65746164],\n",
       "       [-1.0249951 ,  0.6907109 ,  0.9381894 ],\n",
       "       [-0.69755346,  0.47306618,  0.61698115],\n",
       "       [-0.66862816,  0.44540396,  0.62352085],\n",
       "       [-0.56983936,  0.38162437,  0.4943497 ],\n",
       "       [-0.9328722 ,  0.6299776 ,  0.8511411 ],\n",
       "       [-0.5837997 ,  0.39287168,  0.54328024],\n",
       "       [-0.6334587 ,  0.4180925 ,  0.56707203],\n",
       "       [-0.70140797,  0.46410543,  0.6318128 ],\n",
       "       [-0.5417813 ,  0.36216176,  0.5030756 ],\n",
       "       [-0.5171493 ,  0.34124666,  0.4640446 ],\n",
       "       [-0.71748906,  0.48305297,  0.64906317],\n",
       "       [-0.69399667,  0.46061856,  0.63256645],\n",
       "       [-0.8151543 ,  0.54719096,  0.7533251 ],\n",
       "       [-0.66460633,  0.43119693,  0.6154221 ],\n",
       "       [-0.7236687 ,  0.48837733,  0.6597751 ],\n",
       "       [-0.58638847,  0.38918447,  0.5184468 ],\n",
       "       [-0.716136  ,  0.48421305,  0.60176957],\n",
       "       [-0.79750043,  0.5373453 ,  0.76720107],\n",
       "       [-0.6042341 ,  0.3982166 ,  0.53215903],\n",
       "       [-0.61831325,  0.40833956,  0.5365997 ],\n",
       "       [-0.49562544,  0.32637754,  0.44412354],\n",
       "       [-0.6187999 ,  0.41179758,  0.5896637 ],\n",
       "       [-0.6753732 ,  0.4522547 ,  0.62947893],\n",
       "       [-0.56318486,  0.37798238,  0.5650626 ],\n",
       "       [-0.62595516,  0.42045665,  0.5467036 ],\n",
       "       [-0.7074767 ,  0.47169444,  0.6415118 ],\n",
       "       [-0.65639025,  0.43681258,  0.60628283],\n",
       "       [-0.6099507 ,  0.4093207 ,  0.59180737],\n",
       "       [-0.65778434,  0.44615585,  0.6082939 ],\n",
       "       [-0.592496  ,  0.39444336,  0.54944503],\n",
       "       [-0.55650306,  0.36474878,  0.48994955],\n",
       "       [-0.556997  ,  0.36813444,  0.47484228]], dtype=float32)"
      ]
     },
     "metadata": {},
     "execution_count": 9
    }
   ],
   "source": [
    "model.predict(X)"
   ]
  },
  {
   "cell_type": "code",
   "execution_count": null,
   "metadata": {},
   "outputs": [],
   "source": []
  }
 ]
}