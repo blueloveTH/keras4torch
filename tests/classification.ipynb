{
 "metadata": {
  "language_info": {
   "codemirror_mode": {
    "name": "ipython",
    "version": 3
   },
   "file_extension": ".py",
   "mimetype": "text/x-python",
   "name": "python",
   "nbconvert_exporter": "python",
   "pygments_lexer": "ipython3",
   "version": "3.7.8-final"
  },
  "orig_nbformat": 2,
  "kernelspec": {
   "name": "Python 3.7.8 64-bit ('kesci_compete')",
   "display_name": "Python 3.7.8 64-bit ('kesci_compete')",
   "metadata": {
    "interpreter": {
     "hash": "8dc6728e8885f5cf3d484bdac908677760b39a28192ba674e6f789c8dc6420a9"
    }
   }
  }
 },
 "nbformat": 4,
 "nbformat_minor": 2,
 "cells": [
  {
   "cell_type": "code",
   "execution_count": 1,
   "metadata": {},
   "outputs": [],
   "source": [
    "import sys\n",
    "\n",
    "sys.path.append('../')\n",
    "\n",
    "import keras4torch as k4t\n",
    "import torch\n",
    "from torch import nn\n",
    "from sklearn.datasets import load_iris\n",
    "import numpy as np\n",
    "from keras4torch.metrics import accuracy"
   ]
  },
  {
   "cell_type": "code",
   "execution_count": 2,
   "metadata": {},
   "outputs": [],
   "source": [
    "X, y = load_iris(return_X_y=True)\n",
    "X = X.astype(np.float32)\n",
    "y = y.astype(np.int64)"
   ]
  },
  {
   "cell_type": "code",
   "execution_count": 3,
   "metadata": {},
   "outputs": [],
   "source": [
    "model = nn.Sequential(\n",
    "    nn.Linear(4, 128), nn.ReLU(),\n",
    "    nn.Sequential(\n",
    "        nn.Linear(128, 64), nn.ReLU()\n",
    "    ),\n",
    "    nn.Linear(64, 3)\n",
    ")\n",
    "\n",
    "model = k4t.Model(model)"
   ]
  },
  {
   "cell_type": "code",
   "execution_count": 4,
   "metadata": {},
   "outputs": [],
   "source": [
    "model.compile(optimizer=torch.optim.Adam(model.parameters(), lr=3e-4),\n",
    "                loss=nn.CrossEntropyLoss(),\n",
    "                metrics={'acc': accuracy},\n",
    "                )"
   ]
  },
  {
   "cell_type": "code",
   "execution_count": 5,
   "metadata": {},
   "outputs": [
    {
     "output_type": "stream",
     "name": "stdout",
     "text": [
      "==========================================================================================\nLayer (type:depth-idx)                   Output Shape              Param #\n==========================================================================================\n├─Linear: 1-1                            [-1, 128]                 640\n├─ReLU: 1-2                              [-1, 128]                 --\n├─Sequential: 1-3                        [-1, 64]                  --\n|    └─Linear: 2-1                       [-1, 64]                  8,256\n|    └─ReLU: 2-2                         [-1, 64]                  --\n├─Linear: 1-4                            [-1, 3]                   195\n==========================================================================================\nTotal params: 9,091\nTrainable params: 9,091\nNon-trainable params: 0\nTotal mult-adds (M): 0.02\n==========================================================================================\nInput size (MB): 0.00\nForward/backward pass size (MB): 0.00\nParams size (MB): 0.03\nEstimated Total Size (MB): 0.04\n==========================================================================================\n"
     ]
    }
   ],
   "source": [
    "model.summary(input_shape=[4])"
   ]
  },
  {
   "cell_type": "code",
   "execution_count": 6,
   "metadata": {},
   "outputs": [
    {
     "output_type": "stream",
     "name": "stdout",
     "text": [
      "Train on 120 samples, validate on 30 samples:\n",
      "1\n",
      "Epoch 1/15 - 0.0s - loss: 1.0646 - acc: 0.3568 - val_loss: 1.1786 - val_acc: 0.2333 - lr: 3e-04\n",
      "2\n",
      "Epoch 2/15 - 0.0s - loss: 1.0033 - acc: 0.3672 - val_loss: 1.0997 - val_acc: 0.2667 - lr: 3e-04\n",
      "3\n",
      "Epoch 3/15 - 0.0s - loss: 0.9711 - acc: 0.4609 - val_loss: 1.0418 - val_acc: 0.4333 - lr: 3e-04\n",
      "4\n",
      "Epoch 4/15 - 0.0s - loss: 0.9429 - acc: 0.6927 - val_loss: 1.0023 - val_acc: 0.5000 - lr: 3e-04\n",
      "5\n",
      "Epoch 5/15 - 0.0s - loss: 0.9199 - acc: 0.6953 - val_loss: 0.9797 - val_acc: 0.5000 - lr: 3e-04\n",
      "6\n",
      "Epoch 6/15 - 0.0s - loss: 0.8922 - acc: 0.7109 - val_loss: 0.9575 - val_acc: 0.5000 - lr: 3e-04\n",
      "7\n",
      "Epoch 7/15 - 0.0s - loss: 0.8726 - acc: 0.7057 - val_loss: 0.9414 - val_acc: 0.5000 - lr: 3e-04\n",
      "8\n",
      "Epoch 8/15 - 0.0s - loss: 0.8479 - acc: 0.7057 - val_loss: 0.9263 - val_acc: 0.5000 - lr: 3e-04\n",
      "9\n",
      "Epoch 9/15 - 0.0s - loss: 0.8283 - acc: 0.7057 - val_loss: 0.9086 - val_acc: 0.5000 - lr: 3e-04\n",
      "10\n",
      "Epoch 10/15 - 0.0s - loss: 0.8031 - acc: 0.7135 - val_loss: 0.8961 - val_acc: 0.5000 - lr: 3e-04\n",
      "11\n",
      "Epoch 11/15 - 0.0s - loss: 0.7845 - acc: 0.7083 - val_loss: 0.8843 - val_acc: 0.5000 - lr: 3e-04\n",
      "12\n",
      "Epoch 12/15 - 0.0s - loss: 0.7695 - acc: 0.7031 - val_loss: 0.8714 - val_acc: 0.5000 - lr: 3e-04\n",
      "13\n",
      "Epoch 13/15 - 0.0s - loss: 0.7423 - acc: 0.7109 - val_loss: 0.8503 - val_acc: 0.5000 - lr: 3e-04\n",
      "14\n",
      "Epoch 14/15 - 0.0s - loss: 0.7260 - acc: 0.7057 - val_loss: 0.8302 - val_acc: 0.5000 - lr: 3e-04\n",
      "15\n",
      "Epoch 15/15 - 0.0s - loss: 0.7075 - acc: 0.7031 - val_loss: 0.8154 - val_acc: 0.5000 - lr: 3e-04\n"
     ]
    }
   ],
   "source": [
    "def f(trainer):\n",
    "    print(trainer.epoch)\n",
    "\n",
    "history = model.fit(X, y,\n",
    "            epochs=15,\n",
    "            validation_split=0.2,\n",
    "            shuffle_val_split=True,\n",
    "            callbacks=k4t.callbacks.LambdaCallback(on_epoch_begin=f)\n",
    "            )"
   ]
  },
  {
   "cell_type": "code",
   "execution_count": 7,
   "metadata": {},
   "outputs": [
    {
     "output_type": "execute_result",
     "data": {
      "text/plain": [
       "<AxesSubplot:>"
      ]
     },
     "metadata": {},
     "execution_count": 7
    },
    {
     "output_type": "display_data",
     "data": {
      "text/plain": "<Figure size 432x288 with 1 Axes>",
      "image/svg+xml": "<?xml version=\"1.0\" encoding=\"utf-8\" standalone=\"no\"?>\r\n<!DOCTYPE svg PUBLIC \"-//W3C//DTD SVG 1.1//EN\"\r\n  \"http://www.w3.org/Graphics/SVG/1.1/DTD/svg11.dtd\">\r\n<!-- Created with matplotlib (https://matplotlib.org/) -->\r\n<svg height=\"251.409921pt\" version=\"1.1\" viewBox=\"0 0 372.103125 251.409921\" width=\"372.103125pt\" xmlns=\"http://www.w3.org/2000/svg\" xmlns:xlink=\"http://www.w3.org/1999/xlink\">\r\n <metadata>\r\n  <rdf:RDF xmlns:cc=\"http://creativecommons.org/ns#\" xmlns:dc=\"http://purl.org/dc/elements/1.1/\" xmlns:rdf=\"http://www.w3.org/1999/02/22-rdf-syntax-ns#\">\r\n   <cc:Work>\r\n    <dc:type rdf:resource=\"http://purl.org/dc/dcmitype/StillImage\"/>\r\n    <dc:date>2020-10-12T12:56:08.324448</dc:date>\r\n    <dc:format>image/svg+xml</dc:format>\r\n    <dc:creator>\r\n     <cc:Agent>\r\n      <dc:title>Matplotlib v3.3.1, https://matplotlib.org/</dc:title>\r\n     </cc:Agent>\r\n    </dc:creator>\r\n   </cc:Work>\r\n  </rdf:RDF>\r\n </metadata>\r\n <defs>\r\n  <style type=\"text/css\">*{stroke-linecap:butt;stroke-linejoin:round;}</style>\r\n </defs>\r\n <g id=\"figure_1\">\r\n  <g id=\"patch_1\">\r\n   <path d=\"M 0 251.409921 \r\nL 372.103125 251.409921 \r\nL 372.103125 0 \r\nL 0 0 \r\nz\r\n\" style=\"fill:none;\"/>\r\n  </g>\r\n  <g id=\"axes_1\">\r\n   <g id=\"patch_2\">\r\n    <path d=\"M 30.103125 227.531796 \r\nL 364.903125 227.531796 \r\nL 364.903125 10.091796 \r\nL 30.103125 10.091796 \r\nz\r\n\" style=\"fill:#ffffff;\"/>\r\n   </g>\r\n   <g id=\"matplotlib.axis_1\">\r\n    <g id=\"xtick_1\">\r\n     <g id=\"line2d_1\">\r\n      <defs>\r\n       <path d=\"M 0 0 \r\nL 0 3.5 \r\n\" id=\"m783f2b888e\" style=\"stroke:#000000;stroke-width:0.8;\"/>\r\n      </defs>\r\n      <g>\r\n       <use style=\"stroke:#000000;stroke-width:0.8;\" x=\"67.061567\" xlink:href=\"#m783f2b888e\" y=\"227.531796\"/>\r\n      </g>\r\n     </g>\r\n     <g id=\"text_1\">\r\n      <!-- 2 -->\r\n      <g transform=\"translate(63.880317 242.130234)scale(0.1 -0.1)\">\r\n       <defs>\r\n        <path d=\"M 19.1875 8.296875 \r\nL 53.609375 8.296875 \r\nL 53.609375 0 \r\nL 7.328125 0 \r\nL 7.328125 8.296875 \r\nQ 12.9375 14.109375 22.625 23.890625 \r\nQ 32.328125 33.6875 34.8125 36.53125 \r\nQ 39.546875 41.84375 41.421875 45.53125 \r\nQ 43.3125 49.21875 43.3125 52.78125 \r\nQ 43.3125 58.59375 39.234375 62.25 \r\nQ 35.15625 65.921875 28.609375 65.921875 \r\nQ 23.96875 65.921875 18.8125 64.3125 \r\nQ 13.671875 62.703125 7.8125 59.421875 \r\nL 7.8125 69.390625 \r\nQ 13.765625 71.78125 18.9375 73 \r\nQ 24.125 74.21875 28.421875 74.21875 \r\nQ 39.75 74.21875 46.484375 68.546875 \r\nQ 53.21875 62.890625 53.21875 53.421875 \r\nQ 53.21875 48.921875 51.53125 44.890625 \r\nQ 49.859375 40.875 45.40625 35.40625 \r\nQ 44.1875 33.984375 37.640625 27.21875 \r\nQ 31.109375 20.453125 19.1875 8.296875 \r\nz\r\n\" id=\"DejaVuSans-50\"/>\r\n       </defs>\r\n       <use xlink:href=\"#DejaVuSans-50\"/>\r\n      </g>\r\n     </g>\r\n    </g>\r\n    <g id=\"xtick_2\">\r\n     <g id=\"line2d_2\">\r\n      <g>\r\n       <use style=\"stroke:#000000;stroke-width:0.8;\" x=\"110.542086\" xlink:href=\"#m783f2b888e\" y=\"227.531796\"/>\r\n      </g>\r\n     </g>\r\n     <g id=\"text_2\">\r\n      <!-- 4 -->\r\n      <g transform=\"translate(107.360836 242.130234)scale(0.1 -0.1)\">\r\n       <defs>\r\n        <path d=\"M 37.796875 64.3125 \r\nL 12.890625 25.390625 \r\nL 37.796875 25.390625 \r\nz\r\nM 35.203125 72.90625 \r\nL 47.609375 72.90625 \r\nL 47.609375 25.390625 \r\nL 58.015625 25.390625 \r\nL 58.015625 17.1875 \r\nL 47.609375 17.1875 \r\nL 47.609375 0 \r\nL 37.796875 0 \r\nL 37.796875 17.1875 \r\nL 4.890625 17.1875 \r\nL 4.890625 26.703125 \r\nz\r\n\" id=\"DejaVuSans-52\"/>\r\n       </defs>\r\n       <use xlink:href=\"#DejaVuSans-52\"/>\r\n      </g>\r\n     </g>\r\n    </g>\r\n    <g id=\"xtick_3\">\r\n     <g id=\"line2d_3\">\r\n      <g>\r\n       <use style=\"stroke:#000000;stroke-width:0.8;\" x=\"154.022606\" xlink:href=\"#m783f2b888e\" y=\"227.531796\"/>\r\n      </g>\r\n     </g>\r\n     <g id=\"text_3\">\r\n      <!-- 6 -->\r\n      <g transform=\"translate(150.841356 242.130234)scale(0.1 -0.1)\">\r\n       <defs>\r\n        <path d=\"M 33.015625 40.375 \r\nQ 26.375 40.375 22.484375 35.828125 \r\nQ 18.609375 31.296875 18.609375 23.390625 \r\nQ 18.609375 15.53125 22.484375 10.953125 \r\nQ 26.375 6.390625 33.015625 6.390625 \r\nQ 39.65625 6.390625 43.53125 10.953125 \r\nQ 47.40625 15.53125 47.40625 23.390625 \r\nQ 47.40625 31.296875 43.53125 35.828125 \r\nQ 39.65625 40.375 33.015625 40.375 \r\nz\r\nM 52.59375 71.296875 \r\nL 52.59375 62.3125 \r\nQ 48.875 64.0625 45.09375 64.984375 \r\nQ 41.3125 65.921875 37.59375 65.921875 \r\nQ 27.828125 65.921875 22.671875 59.328125 \r\nQ 17.53125 52.734375 16.796875 39.40625 \r\nQ 19.671875 43.65625 24.015625 45.921875 \r\nQ 28.375 48.1875 33.59375 48.1875 \r\nQ 44.578125 48.1875 50.953125 41.515625 \r\nQ 57.328125 34.859375 57.328125 23.390625 \r\nQ 57.328125 12.15625 50.6875 5.359375 \r\nQ 44.046875 -1.421875 33.015625 -1.421875 \r\nQ 20.359375 -1.421875 13.671875 8.265625 \r\nQ 6.984375 17.96875 6.984375 36.375 \r\nQ 6.984375 53.65625 15.1875 63.9375 \r\nQ 23.390625 74.21875 37.203125 74.21875 \r\nQ 40.921875 74.21875 44.703125 73.484375 \r\nQ 48.484375 72.75 52.59375 71.296875 \r\nz\r\n\" id=\"DejaVuSans-54\"/>\r\n       </defs>\r\n       <use xlink:href=\"#DejaVuSans-54\"/>\r\n      </g>\r\n     </g>\r\n    </g>\r\n    <g id=\"xtick_4\">\r\n     <g id=\"line2d_4\">\r\n      <g>\r\n       <use style=\"stroke:#000000;stroke-width:0.8;\" x=\"197.503125\" xlink:href=\"#m783f2b888e\" y=\"227.531796\"/>\r\n      </g>\r\n     </g>\r\n     <g id=\"text_4\">\r\n      <!-- 8 -->\r\n      <g transform=\"translate(194.321875 242.130234)scale(0.1 -0.1)\">\r\n       <defs>\r\n        <path d=\"M 31.78125 34.625 \r\nQ 24.75 34.625 20.71875 30.859375 \r\nQ 16.703125 27.09375 16.703125 20.515625 \r\nQ 16.703125 13.921875 20.71875 10.15625 \r\nQ 24.75 6.390625 31.78125 6.390625 \r\nQ 38.8125 6.390625 42.859375 10.171875 \r\nQ 46.921875 13.96875 46.921875 20.515625 \r\nQ 46.921875 27.09375 42.890625 30.859375 \r\nQ 38.875 34.625 31.78125 34.625 \r\nz\r\nM 21.921875 38.8125 \r\nQ 15.578125 40.375 12.03125 44.71875 \r\nQ 8.5 49.078125 8.5 55.328125 \r\nQ 8.5 64.0625 14.71875 69.140625 \r\nQ 20.953125 74.21875 31.78125 74.21875 \r\nQ 42.671875 74.21875 48.875 69.140625 \r\nQ 55.078125 64.0625 55.078125 55.328125 \r\nQ 55.078125 49.078125 51.53125 44.71875 \r\nQ 48 40.375 41.703125 38.8125 \r\nQ 48.828125 37.15625 52.796875 32.3125 \r\nQ 56.78125 27.484375 56.78125 20.515625 \r\nQ 56.78125 9.90625 50.3125 4.234375 \r\nQ 43.84375 -1.421875 31.78125 -1.421875 \r\nQ 19.734375 -1.421875 13.25 4.234375 \r\nQ 6.78125 9.90625 6.78125 20.515625 \r\nQ 6.78125 27.484375 10.78125 32.3125 \r\nQ 14.796875 37.15625 21.921875 38.8125 \r\nz\r\nM 18.3125 54.390625 \r\nQ 18.3125 48.734375 21.84375 45.5625 \r\nQ 25.390625 42.390625 31.78125 42.390625 \r\nQ 38.140625 42.390625 41.71875 45.5625 \r\nQ 45.3125 48.734375 45.3125 54.390625 \r\nQ 45.3125 60.0625 41.71875 63.234375 \r\nQ 38.140625 66.40625 31.78125 66.40625 \r\nQ 25.390625 66.40625 21.84375 63.234375 \r\nQ 18.3125 60.0625 18.3125 54.390625 \r\nz\r\n\" id=\"DejaVuSans-56\"/>\r\n       </defs>\r\n       <use xlink:href=\"#DejaVuSans-56\"/>\r\n      </g>\r\n     </g>\r\n    </g>\r\n    <g id=\"xtick_5\">\r\n     <g id=\"line2d_5\">\r\n      <g>\r\n       <use style=\"stroke:#000000;stroke-width:0.8;\" x=\"240.983644\" xlink:href=\"#m783f2b888e\" y=\"227.531796\"/>\r\n      </g>\r\n     </g>\r\n     <g id=\"text_5\">\r\n      <!-- 10 -->\r\n      <g transform=\"translate(234.621144 242.130234)scale(0.1 -0.1)\">\r\n       <defs>\r\n        <path d=\"M 12.40625 8.296875 \r\nL 28.515625 8.296875 \r\nL 28.515625 63.921875 \r\nL 10.984375 60.40625 \r\nL 10.984375 69.390625 \r\nL 28.421875 72.90625 \r\nL 38.28125 72.90625 \r\nL 38.28125 8.296875 \r\nL 54.390625 8.296875 \r\nL 54.390625 0 \r\nL 12.40625 0 \r\nz\r\n\" id=\"DejaVuSans-49\"/>\r\n        <path d=\"M 31.78125 66.40625 \r\nQ 24.171875 66.40625 20.328125 58.90625 \r\nQ 16.5 51.421875 16.5 36.375 \r\nQ 16.5 21.390625 20.328125 13.890625 \r\nQ 24.171875 6.390625 31.78125 6.390625 \r\nQ 39.453125 6.390625 43.28125 13.890625 \r\nQ 47.125 21.390625 47.125 36.375 \r\nQ 47.125 51.421875 43.28125 58.90625 \r\nQ 39.453125 66.40625 31.78125 66.40625 \r\nz\r\nM 31.78125 74.21875 \r\nQ 44.046875 74.21875 50.515625 64.515625 \r\nQ 56.984375 54.828125 56.984375 36.375 \r\nQ 56.984375 17.96875 50.515625 8.265625 \r\nQ 44.046875 -1.421875 31.78125 -1.421875 \r\nQ 19.53125 -1.421875 13.0625 8.265625 \r\nQ 6.59375 17.96875 6.59375 36.375 \r\nQ 6.59375 54.828125 13.0625 64.515625 \r\nQ 19.53125 74.21875 31.78125 74.21875 \r\nz\r\n\" id=\"DejaVuSans-48\"/>\r\n       </defs>\r\n       <use xlink:href=\"#DejaVuSans-49\"/>\r\n       <use x=\"63.623047\" xlink:href=\"#DejaVuSans-48\"/>\r\n      </g>\r\n     </g>\r\n    </g>\r\n    <g id=\"xtick_6\">\r\n     <g id=\"line2d_6\">\r\n      <g>\r\n       <use style=\"stroke:#000000;stroke-width:0.8;\" x=\"284.464164\" xlink:href=\"#m783f2b888e\" y=\"227.531796\"/>\r\n      </g>\r\n     </g>\r\n     <g id=\"text_6\">\r\n      <!-- 12 -->\r\n      <g transform=\"translate(278.101664 242.130234)scale(0.1 -0.1)\">\r\n       <use xlink:href=\"#DejaVuSans-49\"/>\r\n       <use x=\"63.623047\" xlink:href=\"#DejaVuSans-50\"/>\r\n      </g>\r\n     </g>\r\n    </g>\r\n    <g id=\"xtick_7\">\r\n     <g id=\"line2d_7\">\r\n      <g>\r\n       <use style=\"stroke:#000000;stroke-width:0.8;\" x=\"327.944683\" xlink:href=\"#m783f2b888e\" y=\"227.531796\"/>\r\n      </g>\r\n     </g>\r\n     <g id=\"text_7\">\r\n      <!-- 14 -->\r\n      <g transform=\"translate(321.582183 242.130234)scale(0.1 -0.1)\">\r\n       <use xlink:href=\"#DejaVuSans-49\"/>\r\n       <use x=\"63.623047\" xlink:href=\"#DejaVuSans-52\"/>\r\n      </g>\r\n     </g>\r\n    </g>\r\n   </g>\r\n   <g id=\"matplotlib.axis_2\">\r\n    <g id=\"ytick_1\">\r\n     <g id=\"line2d_8\">\r\n      <defs>\r\n       <path d=\"M 0 0 \r\nL -3.5 0 \r\n\" id=\"m72f010d2b9\" style=\"stroke:#000000;stroke-width:0.8;\"/>\r\n      </defs>\r\n      <g>\r\n       <use style=\"stroke:#000000;stroke-width:0.8;\" x=\"30.103125\" xlink:href=\"#m72f010d2b9\" y=\"220.806364\"/>\r\n      </g>\r\n     </g>\r\n     <g id=\"text_8\">\r\n      <!-- 0.7 -->\r\n      <g transform=\"translate(7.2 224.605583)scale(0.1 -0.1)\">\r\n       <defs>\r\n        <path d=\"M 10.6875 12.40625 \r\nL 21 12.40625 \r\nL 21 0 \r\nL 10.6875 0 \r\nz\r\n\" id=\"DejaVuSans-46\"/>\r\n        <path d=\"M 8.203125 72.90625 \r\nL 55.078125 72.90625 \r\nL 55.078125 68.703125 \r\nL 28.609375 0 \r\nL 18.3125 0 \r\nL 43.21875 64.59375 \r\nL 8.203125 64.59375 \r\nz\r\n\" id=\"DejaVuSans-55\"/>\r\n       </defs>\r\n       <use xlink:href=\"#DejaVuSans-48\"/>\r\n       <use x=\"63.623047\" xlink:href=\"#DejaVuSans-46\"/>\r\n       <use x=\"95.410156\" xlink:href=\"#DejaVuSans-55\"/>\r\n      </g>\r\n     </g>\r\n    </g>\r\n    <g id=\"ytick_2\">\r\n     <g id=\"line2d_9\">\r\n      <g>\r\n       <use style=\"stroke:#000000;stroke-width:0.8;\" x=\"30.103125\" xlink:href=\"#m72f010d2b9\" y=\"178.844935\"/>\r\n      </g>\r\n     </g>\r\n     <g id=\"text_9\">\r\n      <!-- 0.8 -->\r\n      <g transform=\"translate(7.2 182.644154)scale(0.1 -0.1)\">\r\n       <use xlink:href=\"#DejaVuSans-48\"/>\r\n       <use x=\"63.623047\" xlink:href=\"#DejaVuSans-46\"/>\r\n       <use x=\"95.410156\" xlink:href=\"#DejaVuSans-56\"/>\r\n      </g>\r\n     </g>\r\n    </g>\r\n    <g id=\"ytick_3\">\r\n     <g id=\"line2d_10\">\r\n      <g>\r\n       <use style=\"stroke:#000000;stroke-width:0.8;\" x=\"30.103125\" xlink:href=\"#m72f010d2b9\" y=\"136.883506\"/>\r\n      </g>\r\n     </g>\r\n     <g id=\"text_10\">\r\n      <!-- 0.9 -->\r\n      <g transform=\"translate(7.2 140.682725)scale(0.1 -0.1)\">\r\n       <defs>\r\n        <path d=\"M 10.984375 1.515625 \r\nL 10.984375 10.5 \r\nQ 14.703125 8.734375 18.5 7.8125 \r\nQ 22.3125 6.890625 25.984375 6.890625 \r\nQ 35.75 6.890625 40.890625 13.453125 \r\nQ 46.046875 20.015625 46.78125 33.40625 \r\nQ 43.953125 29.203125 39.59375 26.953125 \r\nQ 35.25 24.703125 29.984375 24.703125 \r\nQ 19.046875 24.703125 12.671875 31.3125 \r\nQ 6.296875 37.9375 6.296875 49.421875 \r\nQ 6.296875 60.640625 12.9375 67.421875 \r\nQ 19.578125 74.21875 30.609375 74.21875 \r\nQ 43.265625 74.21875 49.921875 64.515625 \r\nQ 56.59375 54.828125 56.59375 36.375 \r\nQ 56.59375 19.140625 48.40625 8.859375 \r\nQ 40.234375 -1.421875 26.421875 -1.421875 \r\nQ 22.703125 -1.421875 18.890625 -0.6875 \r\nQ 15.09375 0.046875 10.984375 1.515625 \r\nz\r\nM 30.609375 32.421875 \r\nQ 37.25 32.421875 41.125 36.953125 \r\nQ 45.015625 41.5 45.015625 49.421875 \r\nQ 45.015625 57.28125 41.125 61.84375 \r\nQ 37.25 66.40625 30.609375 66.40625 \r\nQ 23.96875 66.40625 20.09375 61.84375 \r\nQ 16.21875 57.28125 16.21875 49.421875 \r\nQ 16.21875 41.5 20.09375 36.953125 \r\nQ 23.96875 32.421875 30.609375 32.421875 \r\nz\r\n\" id=\"DejaVuSans-57\"/>\r\n       </defs>\r\n       <use xlink:href=\"#DejaVuSans-48\"/>\r\n       <use x=\"63.623047\" xlink:href=\"#DejaVuSans-46\"/>\r\n       <use x=\"95.410156\" xlink:href=\"#DejaVuSans-57\"/>\r\n      </g>\r\n     </g>\r\n    </g>\r\n    <g id=\"ytick_4\">\r\n     <g id=\"line2d_11\">\r\n      <g>\r\n       <use style=\"stroke:#000000;stroke-width:0.8;\" x=\"30.103125\" xlink:href=\"#m72f010d2b9\" y=\"94.922077\"/>\r\n      </g>\r\n     </g>\r\n     <g id=\"text_11\">\r\n      <!-- 1.0 -->\r\n      <g transform=\"translate(7.2 98.721296)scale(0.1 -0.1)\">\r\n       <use xlink:href=\"#DejaVuSans-49\"/>\r\n       <use x=\"63.623047\" xlink:href=\"#DejaVuSans-46\"/>\r\n       <use x=\"95.410156\" xlink:href=\"#DejaVuSans-48\"/>\r\n      </g>\r\n     </g>\r\n    </g>\r\n    <g id=\"ytick_5\">\r\n     <g id=\"line2d_12\">\r\n      <g>\r\n       <use style=\"stroke:#000000;stroke-width:0.8;\" x=\"30.103125\" xlink:href=\"#m72f010d2b9\" y=\"52.960648\"/>\r\n      </g>\r\n     </g>\r\n     <g id=\"text_12\">\r\n      <!-- 1.1 -->\r\n      <g transform=\"translate(7.2 56.759867)scale(0.1 -0.1)\">\r\n       <use xlink:href=\"#DejaVuSans-49\"/>\r\n       <use x=\"63.623047\" xlink:href=\"#DejaVuSans-46\"/>\r\n       <use x=\"95.410156\" xlink:href=\"#DejaVuSans-49\"/>\r\n      </g>\r\n     </g>\r\n    </g>\r\n    <g id=\"ytick_6\">\r\n     <g id=\"line2d_13\">\r\n      <g>\r\n       <use style=\"stroke:#000000;stroke-width:0.8;\" x=\"30.103125\" xlink:href=\"#m72f010d2b9\" y=\"10.999219\"/>\r\n      </g>\r\n     </g>\r\n     <g id=\"text_13\">\r\n      <!-- 1.2 -->\r\n      <g transform=\"translate(7.2 14.798438)scale(0.1 -0.1)\">\r\n       <use xlink:href=\"#DejaVuSans-49\"/>\r\n       <use x=\"63.623047\" xlink:href=\"#DejaVuSans-46\"/>\r\n       <use x=\"95.410156\" xlink:href=\"#DejaVuSans-50\"/>\r\n      </g>\r\n     </g>\r\n    </g>\r\n   </g>\r\n   <g id=\"line2d_14\">\r\n    <path clip-path=\"url(#pd4eb55f460)\" d=\"M 45.321307 67.79774 \r\nL 67.061567 93.534919 \r\nL 88.801826 107.03566 \r\nL 110.542086 118.880201 \r\nL 132.282346 128.535107 \r\nL 154.022606 140.158201 \r\nL 175.762865 148.391159 \r\nL 197.503125 158.750424 \r\nL 219.243385 166.981581 \r\nL 240.983644 177.545035 \r\nL 262.723904 185.330047 \r\nL 284.464164 191.642863 \r\nL 306.204424 203.074248 \r\nL 327.944683 209.877329 \r\nL 349.684943 217.64816 \r\n\" style=\"fill:none;stroke:#1f77b4;stroke-linecap:square;stroke-width:1.5;\"/>\r\n   </g>\r\n   <g id=\"line2d_15\">\r\n    <path clip-path=\"url(#pd4eb55f460)\" d=\"M 45.321307 19.975432 \r\nL 67.061567 53.07949 \r\nL 88.801826 77.392295 \r\nL 110.542086 93.974111 \r\nL 132.282346 103.444587 \r\nL 154.022606 112.744437 \r\nL 175.762865 119.510777 \r\nL 197.503125 125.855108 \r\nL 219.243385 133.273334 \r\nL 240.983644 138.525335 \r\nL 262.723904 143.461724 \r\nL 284.464164 148.882199 \r\nL 306.204424 157.747034 \r\nL 327.944683 166.172901 \r\nL 349.684943 172.392402 \r\n\" style=\"fill:none;stroke:#ff7f0e;stroke-linecap:square;stroke-width:1.5;\"/>\r\n   </g>\r\n   <g id=\"patch_3\">\r\n    <path d=\"M 30.103125 227.531796 \r\nL 30.103125 10.091796 \r\n\" style=\"fill:none;stroke:#000000;stroke-linecap:square;stroke-linejoin:miter;stroke-width:0.8;\"/>\r\n   </g>\r\n   <g id=\"patch_4\">\r\n    <path d=\"M 364.903125 227.531796 \r\nL 364.903125 10.091796 \r\n\" style=\"fill:none;stroke:#000000;stroke-linecap:square;stroke-linejoin:miter;stroke-width:0.8;\"/>\r\n   </g>\r\n   <g id=\"patch_5\">\r\n    <path d=\"M 30.103125 227.531796 \r\nL 364.903125 227.531796 \r\n\" style=\"fill:none;stroke:#000000;stroke-linecap:square;stroke-linejoin:miter;stroke-width:0.8;\"/>\r\n   </g>\r\n   <g id=\"patch_6\">\r\n    <path d=\"M 30.103125 10.091796 \r\nL 364.903125 10.091796 \r\n\" style=\"fill:none;stroke:#000000;stroke-linecap:square;stroke-linejoin:miter;stroke-width:0.8;\"/>\r\n   </g>\r\n   <g id=\"legend_1\">\r\n    <g id=\"patch_7\">\r\n     <path d=\"M 286.7625 47.726171 \r\nL 357.903125 47.726171 \r\nQ 359.903125 47.726171 359.903125 45.726171 \r\nL 359.903125 17.091796 \r\nQ 359.903125 15.091796 357.903125 15.091796 \r\nL 286.7625 15.091796 \r\nQ 284.7625 15.091796 284.7625 17.091796 \r\nL 284.7625 45.726171 \r\nQ 284.7625 47.726171 286.7625 47.726171 \r\nz\r\n\" style=\"fill:#ffffff;opacity:0.8;stroke:#cccccc;stroke-linejoin:miter;\"/>\r\n    </g>\r\n    <g id=\"line2d_16\">\r\n     <path d=\"M 288.7625 23.190234 \r\nL 308.7625 23.190234 \r\n\" style=\"fill:none;stroke:#1f77b4;stroke-linecap:square;stroke-width:1.5;\"/>\r\n    </g>\r\n    <g id=\"line2d_17\"/>\r\n    <g id=\"text_14\">\r\n     <!-- loss -->\r\n     <g transform=\"translate(316.7625 26.690234)scale(0.1 -0.1)\">\r\n      <defs>\r\n       <path d=\"M 9.421875 75.984375 \r\nL 18.40625 75.984375 \r\nL 18.40625 0 \r\nL 9.421875 0 \r\nz\r\n\" id=\"DejaVuSans-108\"/>\r\n       <path d=\"M 30.609375 48.390625 \r\nQ 23.390625 48.390625 19.1875 42.75 \r\nQ 14.984375 37.109375 14.984375 27.296875 \r\nQ 14.984375 17.484375 19.15625 11.84375 \r\nQ 23.34375 6.203125 30.609375 6.203125 \r\nQ 37.796875 6.203125 41.984375 11.859375 \r\nQ 46.1875 17.53125 46.1875 27.296875 \r\nQ 46.1875 37.015625 41.984375 42.703125 \r\nQ 37.796875 48.390625 30.609375 48.390625 \r\nz\r\nM 30.609375 56 \r\nQ 42.328125 56 49.015625 48.375 \r\nQ 55.71875 40.765625 55.71875 27.296875 \r\nQ 55.71875 13.875 49.015625 6.21875 \r\nQ 42.328125 -1.421875 30.609375 -1.421875 \r\nQ 18.84375 -1.421875 12.171875 6.21875 \r\nQ 5.515625 13.875 5.515625 27.296875 \r\nQ 5.515625 40.765625 12.171875 48.375 \r\nQ 18.84375 56 30.609375 56 \r\nz\r\n\" id=\"DejaVuSans-111\"/>\r\n       <path d=\"M 44.28125 53.078125 \r\nL 44.28125 44.578125 \r\nQ 40.484375 46.53125 36.375 47.5 \r\nQ 32.28125 48.484375 27.875 48.484375 \r\nQ 21.1875 48.484375 17.84375 46.4375 \r\nQ 14.5 44.390625 14.5 40.28125 \r\nQ 14.5 37.15625 16.890625 35.375 \r\nQ 19.28125 33.59375 26.515625 31.984375 \r\nL 29.59375 31.296875 \r\nQ 39.15625 29.25 43.1875 25.515625 \r\nQ 47.21875 21.78125 47.21875 15.09375 \r\nQ 47.21875 7.46875 41.1875 3.015625 \r\nQ 35.15625 -1.421875 24.609375 -1.421875 \r\nQ 20.21875 -1.421875 15.453125 -0.5625 \r\nQ 10.6875 0.296875 5.421875 2 \r\nL 5.421875 11.28125 \r\nQ 10.40625 8.6875 15.234375 7.390625 \r\nQ 20.0625 6.109375 24.8125 6.109375 \r\nQ 31.15625 6.109375 34.5625 8.28125 \r\nQ 37.984375 10.453125 37.984375 14.40625 \r\nQ 37.984375 18.0625 35.515625 20.015625 \r\nQ 33.0625 21.96875 24.703125 23.78125 \r\nL 21.578125 24.515625 \r\nQ 13.234375 26.265625 9.515625 29.90625 \r\nQ 5.8125 33.546875 5.8125 39.890625 \r\nQ 5.8125 47.609375 11.28125 51.796875 \r\nQ 16.75 56 26.8125 56 \r\nQ 31.78125 56 36.171875 55.265625 \r\nQ 40.578125 54.546875 44.28125 53.078125 \r\nz\r\n\" id=\"DejaVuSans-115\"/>\r\n      </defs>\r\n      <use xlink:href=\"#DejaVuSans-108\"/>\r\n      <use x=\"27.783203\" xlink:href=\"#DejaVuSans-111\"/>\r\n      <use x=\"88.964844\" xlink:href=\"#DejaVuSans-115\"/>\r\n      <use x=\"141.064453\" xlink:href=\"#DejaVuSans-115\"/>\r\n     </g>\r\n    </g>\r\n    <g id=\"line2d_18\">\r\n     <path d=\"M 288.7625 37.868359 \r\nL 308.7625 37.868359 \r\n\" style=\"fill:none;stroke:#ff7f0e;stroke-linecap:square;stroke-width:1.5;\"/>\r\n    </g>\r\n    <g id=\"line2d_19\"/>\r\n    <g id=\"text_15\">\r\n     <!-- val_loss -->\r\n     <g transform=\"translate(316.7625 41.368359)scale(0.1 -0.1)\">\r\n      <defs>\r\n       <path d=\"M 2.984375 54.6875 \r\nL 12.5 54.6875 \r\nL 29.59375 8.796875 \r\nL 46.6875 54.6875 \r\nL 56.203125 54.6875 \r\nL 35.6875 0 \r\nL 23.484375 0 \r\nz\r\n\" id=\"DejaVuSans-118\"/>\r\n       <path d=\"M 34.28125 27.484375 \r\nQ 23.390625 27.484375 19.1875 25 \r\nQ 14.984375 22.515625 14.984375 16.5 \r\nQ 14.984375 11.71875 18.140625 8.90625 \r\nQ 21.296875 6.109375 26.703125 6.109375 \r\nQ 34.1875 6.109375 38.703125 11.40625 \r\nQ 43.21875 16.703125 43.21875 25.484375 \r\nL 43.21875 27.484375 \r\nz\r\nM 52.203125 31.203125 \r\nL 52.203125 0 \r\nL 43.21875 0 \r\nL 43.21875 8.296875 \r\nQ 40.140625 3.328125 35.546875 0.953125 \r\nQ 30.953125 -1.421875 24.3125 -1.421875 \r\nQ 15.921875 -1.421875 10.953125 3.296875 \r\nQ 6 8.015625 6 15.921875 \r\nQ 6 25.140625 12.171875 29.828125 \r\nQ 18.359375 34.515625 30.609375 34.515625 \r\nL 43.21875 34.515625 \r\nL 43.21875 35.40625 \r\nQ 43.21875 41.609375 39.140625 45 \r\nQ 35.0625 48.390625 27.6875 48.390625 \r\nQ 23 48.390625 18.546875 47.265625 \r\nQ 14.109375 46.140625 10.015625 43.890625 \r\nL 10.015625 52.203125 \r\nQ 14.9375 54.109375 19.578125 55.046875 \r\nQ 24.21875 56 28.609375 56 \r\nQ 40.484375 56 46.34375 49.84375 \r\nQ 52.203125 43.703125 52.203125 31.203125 \r\nz\r\n\" id=\"DejaVuSans-97\"/>\r\n       <path d=\"M 50.984375 -16.609375 \r\nL 50.984375 -23.578125 \r\nL -0.984375 -23.578125 \r\nL -0.984375 -16.609375 \r\nz\r\n\" id=\"DejaVuSans-95\"/>\r\n      </defs>\r\n      <use xlink:href=\"#DejaVuSans-118\"/>\r\n      <use x=\"59.179688\" xlink:href=\"#DejaVuSans-97\"/>\r\n      <use x=\"120.458984\" xlink:href=\"#DejaVuSans-108\"/>\r\n      <use x=\"148.242188\" xlink:href=\"#DejaVuSans-95\"/>\r\n      <use x=\"198.242188\" xlink:href=\"#DejaVuSans-108\"/>\r\n      <use x=\"226.025391\" xlink:href=\"#DejaVuSans-111\"/>\r\n      <use x=\"287.207031\" xlink:href=\"#DejaVuSans-115\"/>\r\n      <use x=\"339.306641\" xlink:href=\"#DejaVuSans-115\"/>\r\n     </g>\r\n    </g>\r\n   </g>\r\n  </g>\r\n </g>\r\n <defs>\r\n  <clipPath id=\"pd4eb55f460\">\r\n   <rect height=\"217.44\" width=\"334.8\" x=\"30.103125\" y=\"10.091796\"/>\r\n  </clipPath>\r\n </defs>\r\n</svg>\r\n",
      "image/png": "[encoded data removed]"
     },
     "metadata": {
      "needs_background": "light"
     }
    }
   ],
   "source": [
    "history.plot(kind='line', y=['loss', 'val_loss'])"
   ]
  },
  {
   "cell_type": "code",
   "execution_count": 8,
   "metadata": {},
   "outputs": [
    {
     "output_type": "execute_result",
     "data": {
      "text/plain": [
       "OrderedDict([('loss', 0.7042058), ('acc', 0.6875)])"
      ]
     },
     "metadata": {},
     "execution_count": 8
    }
   ],
   "source": [
    "model.evaluate(X, y)"
   ]
  },
  {
   "cell_type": "code",
   "execution_count": 9,
   "metadata": {},
   "outputs": [
    {
     "output_type": "execute_result",
     "data": {
      "text/plain": [
       "array([[ 0.7317953 , -0.29354423, -0.39391077],\n",
       "       [ 0.66087866, -0.24004681, -0.3411274 ],\n",
       "       [ 0.67640734, -0.2627573 , -0.36129498],\n",
       "       [ 0.5760663 , -0.21860515, -0.31441548],\n",
       "       [ 0.72186077, -0.2953551 , -0.39611104],\n",
       "       [ 0.6648742 , -0.29263955, -0.3672573 ],\n",
       "       [ 0.61685807, -0.25649998, -0.3405915 ],\n",
       "       [ 0.6775371 , -0.2612106 , -0.37153962],\n",
       "       [ 0.5653806 , -0.20658223, -0.30411866],\n",
       "       [ 0.6488799 , -0.23356907, -0.34592897],\n",
       "       [ 0.76356125, -0.30960017, -0.41275647],\n",
       "       [ 0.5919418 , -0.23894991, -0.3305472 ],\n",
       "       [ 0.6554377 , -0.23712115, -0.34138617],\n",
       "       [ 0.6614815 , -0.2585734 , -0.3424435 ],\n",
       "       [ 0.90251625, -0.38089398, -0.45350254],\n",
       "       [ 0.81384075, -0.36479938, -0.4479222 ],\n",
       "       [ 0.79762614, -0.34019825, -0.42476597],\n",
       "       [ 0.7200726 , -0.29097033, -0.3898377 ],\n",
       "       [ 0.74221516, -0.2975365 , -0.40622762],\n",
       "       [ 0.7023152 , -0.29796112, -0.39256382],\n",
       "       [ 0.67285216, -0.25129014, -0.36350018],\n",
       "       [ 0.6783303 , -0.289453  , -0.37229192],\n",
       "       [ 0.7443992 , -0.3126061 , -0.38681257],\n",
       "       [ 0.5505297 , -0.22941986, -0.28924918],\n",
       "       [ 0.45687816, -0.19918822, -0.25880924],\n",
       "       [ 0.60750866, -0.21400696, -0.3200984 ],\n",
       "       [ 0.5973439 , -0.24691652, -0.32253897],\n",
       "       [ 0.71741974, -0.2810932 , -0.3881723 ],\n",
       "       [ 0.7377931 , -0.29141957, -0.38757765],\n",
       "       [ 0.55915457, -0.21799906, -0.30790251],\n",
       "       [ 0.5730675 , -0.2138485 , -0.30954233],\n",
       "       [ 0.71803975, -0.2798096 , -0.37779185],\n",
       "       [ 0.7590914 , -0.32825464, -0.43067563],\n",
       "       [ 0.8265492 , -0.35746604, -0.45118135],\n",
       "       [ 0.6369413 , -0.23175755, -0.34018984],\n",
       "       [ 0.7416036 , -0.296215  , -0.37379217],\n",
       "       [ 0.81001794, -0.33146274, -0.40792787],\n",
       "       [ 0.71618664, -0.29192656, -0.39487106],\n",
       "       [ 0.6138704 , -0.22865279, -0.33171123],\n",
       "       [ 0.69391537, -0.26697427, -0.37583128],\n",
       "       [ 0.72973907, -0.29996702, -0.39105383],\n",
       "       [ 0.56091416, -0.17382404, -0.2674487 ],\n",
       "       [ 0.62584424, -0.2448562 , -0.3451644 ],\n",
       "       [ 0.5619801 , -0.25502574, -0.29478335],\n",
       "       [ 0.5026654 , -0.24494775, -0.2805807 ],\n",
       "       [ 0.6354017 , -0.23158138, -0.3338713 ],\n",
       "       [ 0.67640615, -0.28498173, -0.38304862],\n",
       "       [ 0.62684584, -0.24030669, -0.34464604],\n",
       "       [ 0.7481861 , -0.30335084, -0.40869746],\n",
       "       [ 0.7016381 , -0.27058345, -0.37232187],\n",
       "       [-0.5499548 ,  0.05354391,  0.39778116],\n",
       "       [-0.6021447 ,  0.05773117,  0.4356272 ],\n",
       "       [-0.6643951 ,  0.07957436,  0.49699503],\n",
       "       [-0.53796375,  0.08083153,  0.44619355],\n",
       "       [-0.6165055 ,  0.07846604,  0.48763856],\n",
       "       [-0.6885761 ,  0.08682595,  0.5297365 ],\n",
       "       [-0.7026931 ,  0.06598341,  0.5225824 ],\n",
       "       [-0.34453496,  0.04046469,  0.2518659 ],\n",
       "       [-0.5754961 ,  0.07431009,  0.4238085 ],\n",
       "       [-0.5629524 ,  0.06020212,  0.43799672],\n",
       "       [-0.40561816,  0.07441874,  0.33089593],\n",
       "       [-0.57456076,  0.05678909,  0.42881256],\n",
       "       [-0.418277  ,  0.07034823,  0.34363732],\n",
       "       [-0.7087959 ,  0.0879703 ,  0.54750943],\n",
       "       [-0.36359984,  0.00936043,  0.27515754],\n",
       "       [-0.4885789 ,  0.0407313 ,  0.3587946 ],\n",
       "       [-0.7244512 ,  0.07391395,  0.5606242 ],\n",
       "       [-0.49294063,  0.07177339,  0.33845648],\n",
       "       [-0.6206964 ,  0.09409025,  0.55681264],\n",
       "       [-0.46602234,  0.07067183,  0.34031054],\n",
       "       [-0.80890715,  0.06998485,  0.6425958 ],\n",
       "       [-0.43211922,  0.04239829,  0.32232323],\n",
       "       [-0.7532375 ,  0.10521053,  0.63577247],\n",
       "       [-0.6863575 ,  0.09202109,  0.51827556],\n",
       "       [-0.49578235,  0.05528277,  0.36161762],\n",
       "       [-0.5091342 ,  0.05044179,  0.37760898],\n",
       "       [-0.6258272 ,  0.08272803,  0.4908865 ],\n",
       "       [-0.7543473 ,  0.08937876,  0.6073752 ],\n",
       "       [-0.6639674 ,  0.07750218,  0.5169278 ],\n",
       "       [-0.26036876,  0.0177431 ,  0.20542946],\n",
       "       [-0.44409373,  0.0692229 ,  0.33246645],\n",
       "       [-0.39296678,  0.06170397,  0.28558895],\n",
       "       [-0.4403989 ,  0.05167679,  0.31865036],\n",
       "       [-0.8805233 ,  0.10878526,  0.73405993],\n",
       "       [-0.7506347 ,  0.07299474,  0.58266175],\n",
       "       [-0.6762301 ,  0.05024602,  0.49093089],\n",
       "       [-0.6247349 ,  0.07067662,  0.46182343],\n",
       "       [-0.55203974,  0.08362576,  0.47219324],\n",
       "       [-0.5635247 ,  0.0547256 ,  0.40278003],\n",
       "       [-0.5395888 ,  0.07422991,  0.42658585],\n",
       "       [-0.6721531 ,  0.09064622,  0.52675354],\n",
       "       [-0.6743101 ,  0.07940061,  0.50653493],\n",
       "       [-0.47998312,  0.06677426,  0.3545111 ],\n",
       "       [-0.32593316,  0.04401361,  0.24400792],\n",
       "       [-0.59694076,  0.07639049,  0.45783064],\n",
       "       [-0.5735643 ,  0.06232658,  0.40071818],\n",
       "       [-0.58366597,  0.06639978,  0.42721158],\n",
       "       [-0.53708184,  0.06397815,  0.3867378 ],\n",
       "       [-0.18500197, -0.00955267,  0.16725764],\n",
       "       [-0.54694724,  0.06529725,  0.40369233],\n",
       "       [-1.1999516 ,  0.09934671,  1.0161115 ],\n",
       "       [-0.9310801 ,  0.10167138,  0.7979555 ],\n",
       "       [-1.043943  ,  0.11847571,  0.8944805 ],\n",
       "       [-1.025075  ,  0.11598887,  0.8557919 ],\n",
       "       [-1.0987686 ,  0.11088899,  0.9418483 ],\n",
       "       [-1.2122343 ,  0.1413066 ,  1.0413022 ],\n",
       "       [-0.8288778 ,  0.08851466,  0.7046464 ],\n",
       "       [-1.1246524 ,  0.1383535 ,  0.949333  ],\n",
       "       [-1.0342529 ,  0.13425185,  0.90484685],\n",
       "       [-1.1295445 ,  0.09109181,  0.9419074 ],\n",
       "       [-0.8461561 ,  0.0803574 ,  0.6952369 ],\n",
       "       [-0.9183669 ,  0.11119729,  0.79434943],\n",
       "       [-0.94881284,  0.10399713,  0.8117972 ],\n",
       "       [-0.9175905 ,  0.10281484,  0.81270325],\n",
       "       [-0.96780264,  0.08183296,  0.85676765],\n",
       "       [-0.94972086,  0.07856384,  0.80498135],\n",
       "       [-0.9662546 ,  0.1096507 ,  0.7990244 ],\n",
       "       [-1.2400972 ,  0.11922662,  0.99679613],\n",
       "       [-1.306701  ,  0.15565091,  1.1764017 ],\n",
       "       [-0.8285625 ,  0.12063806,  0.72675335],\n",
       "       [-1.0190656 ,  0.09741023,  0.8688477 ],\n",
       "       [-0.89722836,  0.08499499,  0.76570326],\n",
       "       [-1.2191801 ,  0.15043615,  1.0581694 ],\n",
       "       [-0.78666675,  0.09817326,  0.67295367],\n",
       "       [-1.0308714 ,  0.0980483 ,  0.8506209 ],\n",
       "       [-1.0415611 ,  0.11990137,  0.8505448 ],\n",
       "       [-0.7685349 ,  0.08988188,  0.6482277 ],\n",
       "       [-0.81584644,  0.08549643,  0.66837454],\n",
       "       [-1.036127  ,  0.11437407,  0.8993246 ],\n",
       "       [-0.94764733,  0.11952321,  0.77081937],\n",
       "       [-1.0502065 ,  0.13335486,  0.9031743 ],\n",
       "       [-1.1000118 ,  0.11144401,  0.86434454],\n",
       "       [-1.0436842 ,  0.11123048,  0.9137348 ],\n",
       "       [-0.82802284,  0.10542253,  0.6736827 ],\n",
       "       [-1.011537  ,  0.13092026,  0.8397894 ],\n",
       "       [-1.0446091 ,  0.12172964,  0.91554475],\n",
       "       [-1.0653044 ,  0.07944517,  0.8874059 ],\n",
       "       [-0.9800172 ,  0.10623504,  0.7995758 ],\n",
       "       [-0.79539776,  0.08075348,  0.6500317 ],\n",
       "       [-0.9012158 ,  0.09596692,  0.76314634],\n",
       "       [-1.019197  ,  0.09351623,  0.88428617],\n",
       "       [-0.8151505 ,  0.07621571,  0.70663327],\n",
       "       [-0.9310801 ,  0.10167138,  0.7979555 ],\n",
       "       [-1.1005511 ,  0.10468709,  0.9358071 ],\n",
       "       [-1.0603074 ,  0.08549573,  0.90716195],\n",
       "       [-0.87528026,  0.08530104,  0.76543736],\n",
       "       [-0.82742476,  0.10715741,  0.73442245],\n",
       "       [-0.87942994,  0.09350292,  0.7423209 ],\n",
       "       [-1.0052457 ,  0.07341002,  0.8281594 ],\n",
       "       [-0.91047096,  0.09216617,  0.74501413]], dtype=float32)"
      ]
     },
     "metadata": {},
     "execution_count": 9
    }
   ],
   "source": [
    "model.predict(X)"
   ]
  },
  {
   "cell_type": "code",
   "execution_count": null,
   "metadata": {},
   "outputs": [],
   "source": []
  }
 ]
}