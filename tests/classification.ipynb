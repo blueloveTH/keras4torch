{
 "metadata": {
  "language_info": {
   "codemirror_mode": {
    "name": "ipython",
    "version": 3
   },
   "file_extension": ".py",
   "mimetype": "text/x-python",
   "name": "python",
   "nbconvert_exporter": "python",
   "pygments_lexer": "ipython3",
   "version": "3.7.8-final"
  },
  "orig_nbformat": 2,
  "kernelspec": {
   "name": "Python 3.7.8 64-bit ('kesci_compete')",
   "display_name": "Python 3.7.8 64-bit ('kesci_compete')",
   "metadata": {
    "interpreter": {
     "hash": "8dc6728e8885f5cf3d484bdac908677760b39a28192ba674e6f789c8dc6420a9"
    }
   }
  }
 },
 "nbformat": 4,
 "nbformat_minor": 2,
 "cells": [
  {
   "cell_type": "code",
   "execution_count": null,
   "metadata": {},
   "outputs": [],
   "source": [
    "import sys\n",
    "\n",
    "sys.path.append('../')\n",
    "\n",
    "import keras4torch as k4t\n",
    "import torch\n",
    "from torch import nn\n",
    "from sklearn.datasets import load_iris\n",
    "import numpy as np\n",
    "from keras4torch.metrics import accuracy"
   ]
  },
  {
   "cell_type": "code",
   "execution_count": null,
   "metadata": {},
   "outputs": [],
   "source": [
    "X, y = load_iris(return_X_y=True)\n",
    "X = X.astype(np.float32)\n",
    "y = y.astype(np.int64)"
   ]
  },
  {
   "cell_type": "code",
   "execution_count": null,
   "metadata": {},
   "outputs": [],
   "source": [
    "model = nn.Sequential(\n",
    "    nn.Linear(4, 128), nn.ReLU(),\n",
    "    nn.Sequential(\n",
    "        nn.Linear(128, 64), nn.ReLU()\n",
    "    ),\n",
    "    nn.Linear(64, 3)\n",
    ")\n",
    "\n",
    "model = k4t.Model(model)"
   ]
  },
  {
   "cell_type": "code",
   "execution_count": null,
   "metadata": {},
   "outputs": [],
   "source": [
    "model.compile(optimizer=torch.optim.Adam(model.parameters(), lr=3e-4),\n",
    "                loss=nn.CrossEntropyLoss(),\n",
    "                metrics={'acc': accuracy},\n",
    "                )"
   ]
  },
  {
   "cell_type": "code",
   "execution_count": null,
   "metadata": {},
   "outputs": [],
   "source": [
    "model.summary(input_shape=[4])"
   ]
  },
  {
   "cell_type": "code",
   "execution_count": null,
   "metadata": {},
   "outputs": [],
   "source": [
    "def f(trainer):\n",
    "    print(trainer.epoch)\n",
    "\n",
    "history = model.fit(X, y,\n",
    "            epochs=15,\n",
    "            validation_split=0.2,\n",
    "            shuffle_val_split=True,\n",
    "            callbacks={'on_epoch_start': f}\n",
    "            )"
   ]
  },
  {
   "cell_type": "code",
   "execution_count": null,
   "metadata": {},
   "outputs": [],
   "source": [
    "history.plot(kind='line', y=['loss', 'val_loss'])"
   ]
  },
  {
   "cell_type": "code",
   "execution_count": null,
   "metadata": {},
   "outputs": [],
   "source": [
    "model.evaluate(X, y)"
   ]
  },
  {
   "cell_type": "code",
   "execution_count": null,
   "metadata": {},
   "outputs": [],
   "source": [
    "model.predict(X)"
   ]
  },
  {
   "cell_type": "code",
   "execution_count": null,
   "metadata": {},
   "outputs": [],
   "source": []
  }
 ]
}